{
 "cells": [
  {
   "cell_type": "markdown",
   "metadata": {},
   "source": [
    "# Compute and visualize Sci-Hub coverage by category"
   ]
  },
  {
   "cell_type": "code",
   "execution_count": 1,
   "metadata": {
    "collapsed": true
   },
   "outputs": [],
   "source": [
    "# Load magrittr pipe\n",
    "`%>%` = dplyr::`%>%`"
   ]
  },
  {
   "cell_type": "markdown",
   "metadata": {},
   "source": [
    "## Read Sci-Hub coverage data"
   ]
  },
  {
   "cell_type": "code",
   "execution_count": 2,
   "metadata": {},
   "outputs": [
    {
     "data": {
      "text/html": [
       "<table>\n",
       "<thead><tr><th scope=col>scopus_id</th><th scope=col>title_name</th><th scope=col>active</th><th scope=col>open_access</th><th scope=col>scihub</th><th scope=col>crossref</th><th scope=col>coverage</th></tr></thead>\n",
       "<tbody>\n",
       "\t<tr><td>12001                                            </td><td>Journal of the Experimental Analysis of Behavior </td><td>1                                                </td><td>0                                                </td><td>2562                                             </td><td>4400                                             </td><td>0.58227                                          </td></tr>\n",
       "\t<tr><td>12002                                            </td><td>Journal of the History of the Behavioral Sciences</td><td>1                                                </td><td>0                                                </td><td>4277                                             </td><td>4623                                             </td><td>0.92516                                          </td></tr>\n",
       "</tbody>\n",
       "</table>\n"
      ],
      "text/latex": [
       "\\begin{tabular}{r|lllllll}\n",
       " scopus\\_id & title\\_name & active & open\\_access & scihub & crossref & coverage\\\\\n",
       "\\hline\n",
       "\t 12001                                             & Journal of the Experimental Analysis of Behavior  & 1                                                 & 0                                                 & 2562                                              & 4400                                              & 0.58227                                          \\\\\n",
       "\t 12002                                             & Journal of the History of the Behavioral Sciences & 1                                                 & 0                                                 & 4277                                              & 4623                                              & 0.92516                                          \\\\\n",
       "\\end{tabular}\n"
      ],
      "text/markdown": [
       "\n",
       "scopus_id | title_name | active | open_access | scihub | crossref | coverage | \n",
       "|---|---|\n",
       "| 12001                                             | Journal of the Experimental Analysis of Behavior  | 1                                                 | 0                                                 | 2562                                              | 4400                                              | 0.58227                                           | \n",
       "| 12002                                             | Journal of the History of the Behavioral Sciences | 1                                                 | 0                                                 | 4277                                              | 4623                                              | 0.92516                                           | \n",
       "\n",
       "\n"
      ],
      "text/plain": [
       "  scopus_id title_name                                        active\n",
       "1 12001     Journal of the Experimental Analysis of Behavior  1     \n",
       "2 12002     Journal of the History of the Behavioral Sciences 1     \n",
       "  open_access scihub crossref coverage\n",
       "1 0           2562   4400     0.58227 \n",
       "2 0           4277   4623     0.92516 "
      ]
     },
     "metadata": {},
     "output_type": "display_data"
    }
   ],
   "source": [
    "scopus_col_types = list(\n",
    "  scopus_id = readr::col_character()  # R fails with big integers like 2200147401\n",
    ")\n",
    "journal_df = file.path('data', 'journal-coverage.tsv') %>%\n",
    "  readr::read_tsv(col_types = scopus_col_types)\n",
    "\n",
    "head(journal_df, 2)"
   ]
  },
  {
   "cell_type": "markdown",
   "metadata": {},
   "source": [
    "## Sci-Hub journal coverage stats"
   ]
  },
  {
   "cell_type": "code",
   "execution_count": 3,
   "metadata": {},
   "outputs": [
    {
     "data": {
      "text/html": [
       "22193"
      ],
      "text/latex": [
       "22193"
      ],
      "text/markdown": [
       "22193"
      ],
      "text/plain": [
       "[1] 22193"
      ]
     },
     "metadata": {},
     "output_type": "display_data"
    }
   ],
   "source": [
    "# Number of journals\n",
    "nrow(journal_df)"
   ]
  },
  {
   "cell_type": "code",
   "execution_count": 4,
   "metadata": {},
   "outputs": [
    {
     "data": {
      "text/html": [
       "57074208"
      ],
      "text/latex": [
       "57074208"
      ],
      "text/markdown": [
       "57074208"
      ],
      "text/plain": [
       "[1] 57074208"
      ]
     },
     "metadata": {},
     "output_type": "display_data"
    }
   ],
   "source": [
    "# Total number of articles mapped to a journal\n",
    "sum(journal_df$crossref)"
   ]
  },
  {
   "cell_type": "code",
   "execution_count": 5,
   "metadata": {},
   "outputs": [
    {
     "data": {
      "text/html": [
       "'83.4%'"
      ],
      "text/latex": [
       "'83.4\\%'"
      ],
      "text/markdown": [
       "'83.4%'"
      ],
      "text/plain": [
       "[1] \"83.4%\""
      ]
     },
     "metadata": {},
     "output_type": "display_data"
    }
   ],
   "source": [
    "# Coverage across all journal-mapping articles\n",
    "pct = sum(journal_df$scihub) / sum(journal_df$crossref)\n",
    "scales::percent(pct)"
   ]
  },
  {
   "cell_type": "code",
   "execution_count": 6,
   "metadata": {},
   "outputs": [
    {
     "data": {
      "text/html": [
       "<table>\n",
       "<thead><tr><th scope=col>scopus_id</th><th scope=col>title_name</th><th scope=col>active</th><th scope=col>open_access</th><th scope=col>scihub</th><th scope=col>crossref</th><th scope=col>coverage</th></tr></thead>\n",
       "<tbody>\n",
       "\t<tr><td>23684                                                         </td><td>Informatics in Primary Care                                   </td><td>0                                                             </td><td>1                                                             </td><td>  0                                                           </td><td> 27                                                           </td><td>0                                                             </td></tr>\n",
       "\t<tr><td>21100206606                                                   </td><td>Investigaciones Europeas de Direccion y Economia de la Empresa</td><td>0                                                             </td><td>1                                                             </td><td>197                                                           </td><td>197                                                           </td><td>1                                                             </td></tr>\n",
       "</tbody>\n",
       "</table>\n"
      ],
      "text/latex": [
       "\\begin{tabular}{r|lllllll}\n",
       " scopus\\_id & title\\_name & active & open\\_access & scihub & crossref & coverage\\\\\n",
       "\\hline\n",
       "\t 23684                                                          & Informatics in Primary Care                                    & 0                                                              & 1                                                              &   0                                                            &  27                                                            & 0                                                             \\\\\n",
       "\t 21100206606                                                    & Investigaciones Europeas de Direccion y Economia de la Empresa & 0                                                              & 1                                                              & 197                                                            & 197                                                            & 1                                                             \\\\\n",
       "\\end{tabular}\n"
      ],
      "text/markdown": [
       "\n",
       "scopus_id | title_name | active | open_access | scihub | crossref | coverage | \n",
       "|---|---|\n",
       "| 23684                                                          | Informatics in Primary Care                                    | 0                                                              | 1                                                              |   0                                                            |  27                                                            | 0                                                              | \n",
       "| 21100206606                                                    | Investigaciones Europeas de Direccion y Economia de la Empresa | 0                                                              | 1                                                              | 197                                                            | 197                                                            | 1                                                              | \n",
       "\n",
       "\n"
      ],
      "text/plain": [
       "  scopus_id   title_name                                                    \n",
       "1 23684       Informatics in Primary Care                                   \n",
       "2 21100206606 Investigaciones Europeas de Direccion y Economia de la Empresa\n",
       "  active open_access scihub crossref coverage\n",
       "1 0      1             0     27      0       \n",
       "2 0      1           197    197      1       "
      ]
     },
     "metadata": {},
     "output_type": "display_data"
    }
   ],
   "source": [
    "journal_df %>%\n",
    "  dplyr::filter(active == 0) %>%\n",
    "  dplyr::filter(open_access == 1)"
   ]
  },
  {
   "cell_type": "code",
   "execution_count": 7,
   "metadata": {},
   "outputs": [
    {
     "data": {
      "text/html": [
       "<table>\n",
       "<thead><tr><th scope=col>active</th><th scope=col>n_journals</th></tr></thead>\n",
       "<tbody>\n",
       "\t<tr><td>0    </td><td> 4345</td></tr>\n",
       "\t<tr><td>1    </td><td>17848</td></tr>\n",
       "</tbody>\n",
       "</table>\n"
      ],
      "text/latex": [
       "\\begin{tabular}{r|ll}\n",
       " active & n\\_journals\\\\\n",
       "\\hline\n",
       "\t 0     &  4345\\\\\n",
       "\t 1     & 17848\\\\\n",
       "\\end{tabular}\n"
      ],
      "text/markdown": [
       "\n",
       "active | n_journals | \n",
       "|---|---|\n",
       "| 0     |  4345 | \n",
       "| 1     | 17848 | \n",
       "\n",
       "\n"
      ],
      "text/plain": [
       "  active n_journals\n",
       "1 0       4345     \n",
       "2 1      17848     "
      ]
     },
     "metadata": {},
     "output_type": "display_data"
    },
    {
     "data": {
      "text/html": [
       "<table>\n",
       "<thead><tr><th scope=col>open_access</th><th scope=col>n_journals</th></tr></thead>\n",
       "<tbody>\n",
       "\t<tr><td>0    </td><td>19543</td></tr>\n",
       "\t<tr><td>1    </td><td> 2650</td></tr>\n",
       "</tbody>\n",
       "</table>\n"
      ],
      "text/latex": [
       "\\begin{tabular}{r|ll}\n",
       " open\\_access & n\\_journals\\\\\n",
       "\\hline\n",
       "\t 0     & 19543\\\\\n",
       "\t 1     &  2650\\\\\n",
       "\\end{tabular}\n"
      ],
      "text/markdown": [
       "\n",
       "open_access | n_journals | \n",
       "|---|---|\n",
       "| 0     | 19543 | \n",
       "| 1     |  2650 | \n",
       "\n",
       "\n"
      ],
      "text/plain": [
       "  open_access n_journals\n",
       "1 0           19543     \n",
       "2 1            2650     "
      ]
     },
     "metadata": {},
     "output_type": "display_data"
    },
    {
     "data": {
      "text/html": [
       "<table>\n",
       "<thead><tr><th scope=col>active</th><th scope=col>open_access</th><th scope=col>n_journals</th></tr></thead>\n",
       "<tbody>\n",
       "\t<tr><td>0    </td><td>0    </td><td> 4343</td></tr>\n",
       "\t<tr><td>0    </td><td>1    </td><td>    2</td></tr>\n",
       "\t<tr><td>1    </td><td>0    </td><td>15200</td></tr>\n",
       "\t<tr><td>1    </td><td>1    </td><td> 2648</td></tr>\n",
       "</tbody>\n",
       "</table>\n"
      ],
      "text/latex": [
       "\\begin{tabular}{r|lll}\n",
       " active & open\\_access & n\\_journals\\\\\n",
       "\\hline\n",
       "\t 0     & 0     &  4343\\\\\n",
       "\t 0     & 1     &     2\\\\\n",
       "\t 1     & 0     & 15200\\\\\n",
       "\t 1     & 1     &  2648\\\\\n",
       "\\end{tabular}\n"
      ],
      "text/markdown": [
       "\n",
       "active | open_access | n_journals | \n",
       "|---|---|---|---|\n",
       "| 0     | 0     |  4343 | \n",
       "| 0     | 1     |     2 | \n",
       "| 1     | 0     | 15200 | \n",
       "| 1     | 1     |  2648 | \n",
       "\n",
       "\n"
      ],
      "text/plain": [
       "  active open_access n_journals\n",
       "1 0      0            4343     \n",
       "2 0      1               2     \n",
       "3 1      0           15200     \n",
       "4 1      1            2648     "
      ]
     },
     "metadata": {},
     "output_type": "display_data"
    }
   ],
   "source": [
    "# Active and OA status counts\n",
    "journal_df %>%\n",
    "  dplyr::group_by(active) %>%\n",
    "  dplyr::summarize(n_journals = n())\n",
    "\n",
    "journal_df %>%\n",
    "  dplyr::group_by(open_access) %>%\n",
    "  dplyr::summarize(n_journals = n())\n",
    "\n",
    "journal_df %>%\n",
    "  dplyr::group_by(active, open_access) %>%\n",
    "  dplyr::summarize(n_journals = n())"
   ]
  },
  {
   "cell_type": "code",
   "execution_count": 8,
   "metadata": {},
   "outputs": [
    {
     "data": {
      "text/html": [
       "2342"
      ],
      "text/latex": [
       "2342"
      ],
      "text/markdown": [
       "2342"
      ],
      "text/plain": [
       "[1] 2342"
      ]
     },
     "metadata": {},
     "output_type": "display_data"
    },
    {
     "data": {
      "text/html": [
       "<table>\n",
       "<thead><tr><th scope=col>active</th><th scope=col>n_journals</th></tr></thead>\n",
       "<tbody>\n",
       "\t<tr><td>0   </td><td> 523</td></tr>\n",
       "\t<tr><td>1   </td><td>1819</td></tr>\n",
       "</tbody>\n",
       "</table>\n"
      ],
      "text/latex": [
       "\\begin{tabular}{r|ll}\n",
       " active & n\\_journals\\\\\n",
       "\\hline\n",
       "\t 0    &  523\\\\\n",
       "\t 1    & 1819\\\\\n",
       "\\end{tabular}\n"
      ],
      "text/markdown": [
       "\n",
       "active | n_journals | \n",
       "|---|---|\n",
       "| 0    |  523 | \n",
       "| 1    | 1819 | \n",
       "\n",
       "\n"
      ],
      "text/plain": [
       "  active n_journals\n",
       "1 0       523      \n",
       "2 1      1819      "
      ]
     },
     "metadata": {},
     "output_type": "display_data"
    },
    {
     "data": {
      "text/html": [
       "<table>\n",
       "<thead><tr><th scope=col>open_access</th><th scope=col>n_journals</th></tr></thead>\n",
       "<tbody>\n",
       "\t<tr><td>0   </td><td>1705</td></tr>\n",
       "\t<tr><td>1   </td><td> 637</td></tr>\n",
       "</tbody>\n",
       "</table>\n"
      ],
      "text/latex": [
       "\\begin{tabular}{r|ll}\n",
       " open\\_access & n\\_journals\\\\\n",
       "\\hline\n",
       "\t 0    & 1705\\\\\n",
       "\t 1    &  637\\\\\n",
       "\\end{tabular}\n"
      ],
      "text/markdown": [
       "\n",
       "open_access | n_journals | \n",
       "|---|---|\n",
       "| 0    | 1705 | \n",
       "| 1    |  637 | \n",
       "\n",
       "\n"
      ],
      "text/plain": [
       "  open_access n_journals\n",
       "1 0           1705      \n",
       "2 1            637      "
      ]
     },
     "metadata": {},
     "output_type": "display_data"
    }
   ],
   "source": [
    "# Zero-coverage journals\n",
    "\n",
    "zero_df = journal_df %>%\n",
    "  dplyr::filter(scihub == 0)\n",
    "\n",
    "nrow(zero_df)\n",
    "\n",
    "zero_df %>%\n",
    "  dplyr::group_by(active) %>%\n",
    "  dplyr::summarize(n_journals = n())\n",
    "\n",
    "zero_df %>%\n",
    "  dplyr::group_by(open_access) %>%\n",
    "  dplyr::summarize(n_journals = n())"
   ]
  },
  {
   "cell_type": "code",
   "execution_count": 9,
   "metadata": {},
   "outputs": [
    {
     "data": {
      "text/html": [
       "2067"
      ],
      "text/latex": [
       "2067"
      ],
      "text/markdown": [
       "2067"
      ],
      "text/plain": [
       "[1] 2067"
      ]
     },
     "metadata": {},
     "output_type": "display_data"
    },
    {
     "data": {
      "text/html": [
       "<table>\n",
       "<thead><tr><th scope=col>active</th><th scope=col>n_journals</th></tr></thead>\n",
       "<tbody>\n",
       "\t<tr><td>0   </td><td>1660</td></tr>\n",
       "\t<tr><td>1   </td><td> 407</td></tr>\n",
       "</tbody>\n",
       "</table>\n"
      ],
      "text/latex": [
       "\\begin{tabular}{r|ll}\n",
       " active & n\\_journals\\\\\n",
       "\\hline\n",
       "\t 0    & 1660\\\\\n",
       "\t 1    &  407\\\\\n",
       "\\end{tabular}\n"
      ],
      "text/markdown": [
       "\n",
       "active | n_journals | \n",
       "|---|---|\n",
       "| 0    | 1660 | \n",
       "| 1    |  407 | \n",
       "\n",
       "\n"
      ],
      "text/plain": [
       "  active n_journals\n",
       "1 0      1660      \n",
       "2 1       407      "
      ]
     },
     "metadata": {},
     "output_type": "display_data"
    },
    {
     "data": {
      "text/html": [
       "<table>\n",
       "<thead><tr><th scope=col>open_access</th><th scope=col>n_journals</th></tr></thead>\n",
       "<tbody>\n",
       "\t<tr><td>0   </td><td>2028</td></tr>\n",
       "\t<tr><td>1   </td><td>  39</td></tr>\n",
       "</tbody>\n",
       "</table>\n"
      ],
      "text/latex": [
       "\\begin{tabular}{r|ll}\n",
       " open\\_access & n\\_journals\\\\\n",
       "\\hline\n",
       "\t 0    & 2028\\\\\n",
       "\t 1    &   39\\\\\n",
       "\\end{tabular}\n"
      ],
      "text/markdown": [
       "\n",
       "open_access | n_journals | \n",
       "|---|---|\n",
       "| 0    | 2028 | \n",
       "| 1    |   39 | \n",
       "\n",
       "\n"
      ],
      "text/plain": [
       "  open_access n_journals\n",
       "1 0           2028      \n",
       "2 1             39      "
      ]
     },
     "metadata": {},
     "output_type": "display_data"
    }
   ],
   "source": [
    "# Perfect-coverage journals\n",
    "\n",
    "complete_df = journal_df %>%\n",
    "  dplyr::filter(scihub == crossref)\n",
    "\n",
    "nrow(complete_df)\n",
    "\n",
    "complete_df %>%\n",
    "  dplyr::group_by(active) %>%\n",
    "  dplyr::summarize(n_journals = n())\n",
    "\n",
    "complete_df %>%\n",
    "  dplyr::group_by(open_access) %>%\n",
    "  dplyr::summarize(n_journals = n())"
   ]
  },
  {
   "cell_type": "markdown",
   "metadata": {},
   "source": [
    "## Read external Scopus data"
   ]
  },
  {
   "cell_type": "code",
   "execution_count": 10,
   "metadata": {},
   "outputs": [],
   "source": [
    "config = '00.configuration.json' %>% jsonlite::read_json()"
   ]
  },
  {
   "cell_type": "code",
   "execution_count": 11,
   "metadata": {},
   "outputs": [
    {
     "data": {
      "text/html": [
       "<table>\n",
       "<thead><tr><th scope=col>scopus_id</th><th scope=col>asjc_code</th><th scope=col>asjc_description</th></tr></thead>\n",
       "<tbody>\n",
       "\t<tr><td>12000           </td><td>1700            </td><td>Computer Science</td></tr>\n",
       "\t<tr><td>12000           </td><td>3300            </td><td>Social Sciences </td></tr>\n",
       "</tbody>\n",
       "</table>\n"
      ],
      "text/latex": [
       "\\begin{tabular}{r|lll}\n",
       " scopus\\_id & asjc\\_code & asjc\\_description\\\\\n",
       "\\hline\n",
       "\t 12000            & 1700             & Computer Science\\\\\n",
       "\t 12000            & 3300             & Social Sciences \\\\\n",
       "\\end{tabular}\n"
      ],
      "text/markdown": [
       "\n",
       "scopus_id | asjc_code | asjc_description | \n",
       "|---|---|\n",
       "| 12000            | 1700             | Computer Science | \n",
       "| 12000            | 3300             | Social Sciences  | \n",
       "\n",
       "\n"
      ],
      "text/plain": [
       "  scopus_id asjc_code asjc_description\n",
       "1 12000     1700      Computer Science\n",
       "2 12000     3300      Social Sciences "
      ]
     },
     "metadata": {},
     "output_type": "display_data"
    }
   ],
   "source": [
    "# Read scopus subject areas\n",
    "subject_df = paste0(config$scopus_url, 'data/subject-areas.tsv') %>%\n",
    "  readr::read_tsv(col_types = scopus_col_types)\n",
    "head(subject_df, 2)"
   ]
  },
  {
   "cell_type": "code",
   "execution_count": 12,
   "metadata": {
    "scrolled": true
   },
   "outputs": [
    {
     "data": {
      "text/html": [
       "<table>\n",
       "<thead><tr><th scope=col>scopus_id</th><th scope=col>top_level_subject</th></tr></thead>\n",
       "<tbody>\n",
       "\t<tr><td>12000            </td><td>Physical Sciences</td></tr>\n",
       "\t<tr><td>12000            </td><td>Social Sciences  </td></tr>\n",
       "</tbody>\n",
       "</table>\n"
      ],
      "text/latex": [
       "\\begin{tabular}{r|ll}\n",
       " scopus\\_id & top\\_level\\_subject\\\\\n",
       "\\hline\n",
       "\t 12000             & Physical Sciences\\\\\n",
       "\t 12000             & Social Sciences  \\\\\n",
       "\\end{tabular}\n"
      ],
      "text/markdown": [
       "\n",
       "scopus_id | top_level_subject | \n",
       "|---|---|\n",
       "| 12000             | Physical Sciences | \n",
       "| 12000             | Social Sciences   | \n",
       "\n",
       "\n"
      ],
      "text/plain": [
       "  scopus_id top_level_subject\n",
       "1 12000     Physical Sciences\n",
       "2 12000     Social Sciences  "
      ]
     },
     "metadata": {},
     "output_type": "display_data"
    }
   ],
   "source": [
    "# Read scopus top-level subjects\n",
    "top_df = paste0(config$scopus_url, 'data/title-top-levels.tsv') %>%\n",
    "  readr::read_tsv(col_types = scopus_col_types)\n",
    "head(top_df, 2)"
   ]
  },
  {
   "cell_type": "code",
   "execution_count": 13,
   "metadata": {},
   "outputs": [
    {
     "data": {
      "text/html": [
       "<table>\n",
       "<thead><tr><th scope=col>scopus_id</th><th scope=col>active</th><th scope=col>open_access</th><th scope=col>main_publisher</th><th scope=col>source_type</th><th scope=col>publisher_country</th></tr></thead>\n",
       "<tbody>\n",
       "\t<tr><td>12000                                                  </td><td>0                                                      </td><td>0                                                      </td><td>Columbus State University                              </td><td>Journal                                                </td><td>United States                                          </td></tr>\n",
       "\t<tr><td>12001                                                  </td><td>1                                                      </td><td>0                                                      </td><td>Society for the Experimental Analysis of Behavior, Inc.</td><td>Journal                                                </td><td>United States                                          </td></tr>\n",
       "</tbody>\n",
       "</table>\n"
      ],
      "text/latex": [
       "\\begin{tabular}{r|llllll}\n",
       " scopus\\_id & active & open\\_access & main\\_publisher & source\\_type & publisher\\_country\\\\\n",
       "\\hline\n",
       "\t 12000                                                   & 0                                                       & 0                                                       & Columbus State University                               & Journal                                                 & United States                                          \\\\\n",
       "\t 12001                                                   & 1                                                       & 0                                                       & Society for the Experimental Analysis of Behavior, Inc. & Journal                                                 & United States                                          \\\\\n",
       "\\end{tabular}\n"
      ],
      "text/markdown": [
       "\n",
       "scopus_id | active | open_access | main_publisher | source_type | publisher_country | \n",
       "|---|---|\n",
       "| 12000                                                   | 0                                                       | 0                                                       | Columbus State University                               | Journal                                                 | United States                                           | \n",
       "| 12001                                                   | 1                                                       | 0                                                       | Society for the Experimental Analysis of Behavior, Inc. | Journal                                                 | United States                                           | \n",
       "\n",
       "\n"
      ],
      "text/plain": [
       "  scopus_id active open_access\n",
       "1 12000     0      0          \n",
       "2 12001     1      0          \n",
       "  main_publisher                                          source_type\n",
       "1 Columbus State University                               Journal    \n",
       "2 Society for the Experimental Analysis of Behavior, Inc. Journal    \n",
       "  publisher_country\n",
       "1 United States    \n",
       "2 United States    "
      ]
     },
     "metadata": {},
     "output_type": "display_data"
    }
   ],
   "source": [
    "# Read scopus title attibutes\n",
    "attribute_df = paste0(config$scopus_url, 'data/title-attributes.tsv') %>%\n",
    "  readr::read_tsv(col_types = scopus_col_types)\n",
    "head(attribute_df, 2)"
   ]
  },
  {
   "cell_type": "markdown",
   "metadata": {},
   "source": [
    "## Compute coverage by category"
   ]
  },
  {
   "cell_type": "code",
   "execution_count": 14,
   "metadata": {},
   "outputs": [
    {
     "name": "stderr",
     "output_type": "stream",
     "text": [
      "Joining, by = \"scopus_id\"\n",
      "Joining, by = \"scopus_id\"\n",
      "Joining, by = \"scopus_id\"\n"
     ]
    },
    {
     "data": {
      "text/html": [
       "<table>\n",
       "<thead><tr><th scope=col>facet</th><th scope=col>category</th><th scope=col>journals</th><th scope=col>scihub</th><th scope=col>crossref_open_access</th><th scope=col>crossref_active</th><th scope=col>crossref</th><th scope=col>coverage</th></tr></thead>\n",
       "<tbody>\n",
       "\t<tr><td>Active                </td><td>Active                </td><td>17852                 </td><td>42456129              </td><td>2776144               </td><td>50364310              </td><td>50364310              </td><td>0.8429805             </td></tr>\n",
       "\t<tr><td>Active                </td><td>Inactive              </td><td> 4345                 </td><td> 5166597              </td><td>    224               </td><td>       0              </td><td> 6713826              </td><td>0.7695459             </td></tr>\n",
       "\t<tr><td>Country of Publication</td><td>Argentina             </td><td>   17                 </td><td>    2074              </td><td>   2513               </td><td>    3234              </td><td>    5688              </td><td>0.3646273             </td></tr>\n",
       "\t<tr><td>Country of Publication</td><td>Australia             </td><td>  218                 </td><td>  202094              </td><td>  15367               </td><td>  241380              </td><td>  295659              </td><td>0.6835375             </td></tr>\n",
       "\t<tr><td>Country of Publication</td><td>Austria               </td><td>   29                 </td><td>   49936              </td><td>   1568               </td><td>   53279              </td><td>   55137              </td><td>0.9056713             </td></tr>\n",
       "\t<tr><td>Country of Publication</td><td>Azerbaijan            </td><td>    1                 </td><td>       0              </td><td>      0               </td><td>     310              </td><td>     310              </td><td>0.0000000             </td></tr>\n",
       "</tbody>\n",
       "</table>\n"
      ],
      "text/latex": [
       "\\begin{tabular}{r|llllllll}\n",
       " facet & category & journals & scihub & crossref\\_open\\_access & crossref\\_active & crossref & coverage\\\\\n",
       "\\hline\n",
       "\t Active                 & Active                 & 17852                  & 42456129               & 2776144                & 50364310               & 50364310               & 0.8429805             \\\\\n",
       "\t Active                 & Inactive               &  4345                  &  5166597               &     224                &        0               &  6713826               & 0.7695459             \\\\\n",
       "\t Country of Publication & Argentina              &    17                  &     2074               &    2513                &     3234               &     5688               & 0.3646273             \\\\\n",
       "\t Country of Publication & Australia              &   218                  &   202094               &   15367                &   241380               &   295659               & 0.6835375             \\\\\n",
       "\t Country of Publication & Austria                &    29                  &    49936               &    1568                &    53279               &    55137               & 0.9056713             \\\\\n",
       "\t Country of Publication & Azerbaijan             &     1                  &        0               &       0                &      310               &      310               & 0.0000000             \\\\\n",
       "\\end{tabular}\n"
      ],
      "text/markdown": [
       "\n",
       "facet | category | journals | scihub | crossref_open_access | crossref_active | crossref | coverage | \n",
       "|---|---|---|---|---|---|\n",
       "| Active                 | Active                 | 17852                  | 42456129               | 2776144                | 50364310               | 50364310               | 0.8429805              | \n",
       "| Active                 | Inactive               |  4345                  |  5166597               |     224                |        0               |  6713826               | 0.7695459              | \n",
       "| Country of Publication | Argentina              |    17                  |     2074               |    2513                |     3234               |     5688               | 0.3646273              | \n",
       "| Country of Publication | Australia              |   218                  |   202094               |   15367                |   241380               |   295659               | 0.6835375              | \n",
       "| Country of Publication | Austria                |    29                  |    49936               |    1568                |    53279               |    55137               | 0.9056713              | \n",
       "| Country of Publication | Azerbaijan             |     1                  |        0               |       0                |      310               |      310               | 0.0000000              | \n",
       "\n",
       "\n"
      ],
      "text/plain": [
       "  facet                  category   journals scihub   crossref_open_access\n",
       "1 Active                 Active     17852    42456129 2776144             \n",
       "2 Active                 Inactive    4345     5166597     224             \n",
       "3 Country of Publication Argentina     17        2074    2513             \n",
       "4 Country of Publication Australia    218      202094   15367             \n",
       "5 Country of Publication Austria       29       49936    1568             \n",
       "6 Country of Publication Azerbaijan     1           0       0             \n",
       "  crossref_active crossref coverage \n",
       "1 50364310        50364310 0.8429805\n",
       "2        0         6713826 0.7695459\n",
       "3     3234            5688 0.3646273\n",
       "4   241380          295659 0.6835375\n",
       "5    53279           55137 0.9056713\n",
       "6      310             310 0.0000000"
      ]
     },
     "metadata": {},
     "output_type": "display_data"
    }
   ],
   "source": [
    "coverage_df = dplyr::bind_rows(\n",
    "  # Top-Level Subjects\n",
    "  journal_df %>%\n",
    "    dplyr::inner_join(top_df) %>%\n",
    "    dplyr::rename(category = top_level_subject) %>%\n",
    "    dplyr::mutate(facet = 'Top-Level'),\n",
    "  # Subject Areas\n",
    "  journal_df %>%\n",
    "    dplyr::inner_join(subject_df) %>%\n",
    "    dplyr::select(-asjc_code) %>%\n",
    "    dplyr::rename(category = asjc_description) %>%\n",
    "    dplyr::mutate(facet = 'Subject Area'),\n",
    "  # Journal Attributes\n",
    "  attribute_df %>%\n",
    "    dplyr::mutate(\n",
    "      open_access = dplyr::recode(open_access, `0`='Closed', `1`='Open'),\n",
    "      active = dplyr::recode(active, `0`='Inactive', `1`='Active')\n",
    "    ) %>%\n",
    "    tidyr::gather(key = 'facet', value = 'category', active:publisher_country) %>%\n",
    "    dplyr::mutate(facet = dplyr::recode(facet,\n",
    "      active='Active', open_access='Open', source_type='Type',\n",
    "      main_publisher='Publisher', publisher_country='Country of Publication')) %>%\n",
    "    dplyr::inner_join(journal_df)\n",
    "  ) %>%\n",
    "  # Summarize coverage across journals\n",
    "  dplyr::filter(!is.na(category)) %>%\n",
    "  dplyr::group_by(facet, category) %>%\n",
    "  dplyr::summarize(\n",
    "    journals = n(),\n",
    "    scihub = sum(scihub),\n",
    "    crossref_open_access = sum(crossref[open_access == 1]),\n",
    "    crossref_active = sum(crossref[active == 1]),\n",
    "    crossref = sum(crossref),\n",
    "    coverage = scihub / crossref\n",
    "  ) %>%\n",
    "  dplyr::ungroup()\n",
    "\n",
    "head(coverage_df)"
   ]
  },
  {
   "cell_type": "code",
   "execution_count": 15,
   "metadata": {
    "collapsed": true
   },
   "outputs": [],
   "source": [
    "coverage_df %>%\n",
    "  readr::write_tsv(file.path('data', 'coverage-by-category.tsv'))"
   ]
  },
  {
   "cell_type": "markdown",
   "metadata": {},
   "source": [
    "## Journal / Publisher coverage distributions"
   ]
  },
  {
   "cell_type": "code",
   "execution_count": 16,
   "metadata": {
    "collapsed": true
   },
   "outputs": [],
   "source": [
    "# Set figure dimensions\n",
    "width = 4\n",
    "height = 3\n",
    "options(repr.plot.width=width, repr.plot.height=height)\n",
    "\n",
    "gg = coverage_df %>%\n",
    "  dplyr::bind_rows(journal_df %>%\n",
    "    dplyr::transmute(facet='Journal', category=title_name, scihub, crossref, coverage)\n",
    "  ) %>%\n",
    "  dplyr::filter(facet %in% c('Journal', 'Publisher')) %>%\n",
    "  ggplot2::ggplot(ggplot2::aes(x = coverage)) +\n",
    "  ggplot2::facet_grid(facet ~ ., scales='free_y') +\n",
    "  ggplot2::geom_histogram(binwidth = 0.025, fill='#990000', color='white', size=0.4) +\n",
    "  ggplot2::scale_x_continuous(labels = scales::percent, name=NULL, expand = c(0.01, 0), breaks=seq(0, 1, 0.2)) +\n",
    "  ggplot2::scale_y_continuous(name=NULL, expand = c(0.015, 0)) +\n",
    "  ggplot2::theme_bw() +\n",
    "  ggplot2::theme(strip.background = ggplot2::element_rect(fill = '#FEF2E2'))\n",
    "\n",
    "file.path('figure', 'coverage-distributions.svg') %>%\n",
    "  ggplot2::ggsave(gg, width=width, height=height)"
   ]
  },
  {
   "cell_type": "markdown",
   "metadata": {},
   "source": [
    "## Facet-category plotting functions"
   ]
  },
  {
   "cell_type": "code",
   "execution_count": 17,
   "metadata": {
    "collapsed": true
   },
   "outputs": [],
   "source": [
    "abbreviate_number <- function(x) {\n",
    "  if (nchar(x) <= 3) {return(x)}\n",
    "  if (nchar(x) <= 5) {\n",
    "    return(paste0(signif(x / 1e3, digits = 2), 'K'))\n",
    "  }\n",
    "  if (nchar(x) <= 6) {\n",
    "    return(paste0(round(x / 1e3), 'K'))\n",
    "  }\n",
    "  return(paste0(signif(x / 1e6, digits = 2), 'M'))\n",
    "}\n",
    "\n",
    "abbreviate_number <- Vectorize(abbreviate_number)"
   ]
  },
  {
   "cell_type": "code",
   "execution_count": 18,
   "metadata": {
    "collapsed": true
   },
   "outputs": [],
   "source": [
    "plot_coverage <- function(coverage_df, breaks=seq(0, 1, 0.1), text_size=2) {\n",
    "  # Function to plot Sci-Hub coverage\n",
    "\n",
    "  plot_df = coverage_df %>%\n",
    "    dplyr::arrange(coverage) %>%\n",
    "    dplyr::mutate(category = factor(category, levels=unique(category)))\n",
    "    \n",
    "    if ('journals' %in% colnames(plot_df)) {\n",
    "      plot_df = plot_df %>%\n",
    "        dplyr::mutate(label =\n",
    "        sprintf('%s — %s journals, %s of %s articles (%s)',\n",
    "            category,\n",
    "            abbreviate_number(journals),\n",
    "            abbreviate_number(scihub),\n",
    "            abbreviate_number(crossref),\n",
    "            scales::percent(coverage)\n",
    "        ))\n",
    "    } else {\n",
    "      plot_df = plot_df %>%\n",
    "        dplyr::mutate(label =\n",
    "        sprintf('%s — %s of %s articles (%s)',\n",
    "            category,\n",
    "            abbreviate_number(scihub),\n",
    "            abbreviate_number(crossref),\n",
    "            scales::percent(coverage)\n",
    "        ))\n",
    "    }\n",
    "\n",
    "    gg = plot_df %>%\n",
    "      ggplot2::ggplot(ggplot2::aes(x = category, y = coverage)) +\n",
    "      ggplot2::geom_col(fill='#efdada') +\n",
    "      ggplot2::facet_grid(facet ~ ., scales='free', space='free_y', shrink = TRUE) +\n",
    "      ggplot2::theme_bw() +\n",
    "      ggplot2::coord_flip() +\n",
    "      ggplot2::expand_limits(y = 1) + \n",
    "      ggplot2::scale_x_discrete(name = NULL, labels=NULL) +\n",
    "      ggplot2::scale_y_continuous(\n",
    "        breaks=breaks, labels=scales::percent,\n",
    "        expand = c(0, 0), name = 'Sci-Hub’s Coverage') +\n",
    "      ggplot2::theme(strip.background = ggplot2::element_rect(fill = '#FEF2E2')) +\n",
    "      ggplot2::theme(\n",
    "        axis.ticks.y = ggplot2::element_blank(),\n",
    "        panel.grid.major.y = ggplot2::element_blank()) +\n",
    "      ggplot2::theme(plot.margin=grid::unit(c(2, 2, 2, 5), 'points')) +\n",
    "      ggplot2::geom_text(ggplot2::aes(label = label), y = 0.01, size=text_size, hjust='inward', color='#000000')\n",
    "\n",
    "    return(gg)\n",
    "}"
   ]
  },
  {
   "cell_type": "markdown",
   "metadata": {},
   "source": [
    "## Plot coverage by journal status and subject areas"
   ]
  },
  {
   "cell_type": "code",
   "execution_count": 19,
   "metadata": {
    "collapsed": true,
    "scrolled": false
   },
   "outputs": [],
   "source": [
    "# Set figure dimensions\n",
    "width = 5\n",
    "height = 6\n",
    "options(repr.plot.width=width, repr.plot.height=height)\n",
    "\n",
    "gg = coverage_df %>%\n",
    "  dplyr::filter(facet %in% c('Active', 'Open', 'Subject Area')) %>%\n",
    "  plot_coverage(text_size=2.4)\n",
    "\n",
    "file.path('figure', 'coverage.svg') %>%\n",
    "  ggplot2::ggsave(gg, width=width, height=height)"
   ]
  },
  {
   "cell_type": "markdown",
   "metadata": {},
   "source": [
    "## Plot coverage by country of publication"
   ]
  },
  {
   "cell_type": "code",
   "execution_count": 20,
   "metadata": {
    "collapsed": true
   },
   "outputs": [],
   "source": [
    "# Set figure dimensions\n",
    "width = 5\n",
    "height = 3.5\n",
    "options(repr.plot.width=width, repr.plot.height=height)\n",
    "\n",
    "gg = coverage_df %>%\n",
    "  dplyr::filter(facet %in% c('Country of Publication')) %>%\n",
    "  dplyr::filter(crossref > 100000) %>%\n",
    "  plot_coverage()\n",
    "\n",
    "file.path('figure', 'coverage-by-country.svg') %>%\n",
    "  ggplot2::ggsave(gg, width=width, height=height)"
   ]
  },
  {
   "cell_type": "markdown",
   "metadata": {},
   "source": [
    "## Plot coverage by publisher"
   ]
  },
  {
   "cell_type": "code",
   "execution_count": 21,
   "metadata": {
    "collapsed": true,
    "scrolled": false
   },
   "outputs": [],
   "source": [
    "# Set figure dimensions\n",
    "width = 5\n",
    "height = 4\n",
    "options(repr.plot.width=width, repr.plot.height=height)\n",
    "\n",
    "gg = coverage_df %>%\n",
    "  dplyr::filter(facet %in% c('Publisher')) %>%\n",
    "  dplyr::filter(crossref > 200000) %>%\n",
    "  plot_coverage()\n",
    "\n",
    "file.path('figure', 'coverage-by-publisher.svg') %>%\n",
    "  ggplot2::ggsave(gg, width=width, height=height)"
   ]
  },
  {
   "cell_type": "markdown",
   "metadata": {},
   "source": [
    "## Crossref metadata coverage"
   ]
  },
  {
   "cell_type": "markdown",
   "metadata": {},
   "source": [
    "### Coverage by Crossref work type"
   ]
  },
  {
   "cell_type": "code",
   "execution_count": 22,
   "metadata": {},
   "outputs": [
    {
     "name": "stderr",
     "output_type": "stream",
     "text": [
      "Parsed with column specification:\n",
      "cols(\n",
      "  type = col_character(),\n",
      "  scihub = col_integer(),\n",
      "  crossref = col_integer(),\n",
      "  coverage = col_double()\n",
      ")\n"
     ]
    },
    {
     "data": {
      "text/html": [
       "<table>\n",
       "<thead><tr><th scope=col>category</th><th scope=col>scihub</th><th scope=col>crossref</th><th scope=col>coverage</th><th scope=col>facet</th></tr></thead>\n",
       "<tbody>\n",
       "\t<tr><td>Book Chapter </td><td>1450999      </td><td>10250455     </td><td>0.1415500    </td><td>Crossref Type</td></tr>\n",
       "\t<tr><td>Book Part    </td><td>      3      </td><td>    1336     </td><td>0.0022455    </td><td>Crossref Type</td></tr>\n",
       "</tbody>\n",
       "</table>\n"
      ],
      "text/latex": [
       "\\begin{tabular}{r|lllll}\n",
       " category & scihub & crossref & coverage & facet\\\\\n",
       "\\hline\n",
       "\t Book Chapter  & 1450999       & 10250455      & 0.1415500     & Crossref Type\\\\\n",
       "\t Book Part     &       3       &     1336      & 0.0022455     & Crossref Type\\\\\n",
       "\\end{tabular}\n"
      ],
      "text/markdown": [
       "\n",
       "category | scihub | crossref | coverage | facet | \n",
       "|---|---|\n",
       "| Book Chapter  | 1450999       | 10250455      | 0.1415500     | Crossref Type | \n",
       "| Book Part     |       3       |     1336      | 0.0022455     | Crossref Type | \n",
       "\n",
       "\n"
      ],
      "text/plain": [
       "  category     scihub  crossref coverage  facet        \n",
       "1 Book Chapter 1450999 10250455 0.1415500 Crossref Type\n",
       "2 Book Part          3     1336 0.0022455 Crossref Type"
      ]
     },
     "metadata": {},
     "output_type": "display_data"
    }
   ],
   "source": [
    "type_df = file.path('data', 'type-coverage.tsv') %>%\n",
    "  readr::read_tsv() %>%\n",
    "  dplyr::mutate(type = tools::toTitleCase(gsub('-', ' ', type))) %>%\n",
    "  dplyr::rename(category = type) %>%\n",
    "  dplyr::mutate(facet = 'Crossref Type')\n",
    "\n",
    "head(type_df, 2)"
   ]
  },
  {
   "cell_type": "code",
   "execution_count": 23,
   "metadata": {
    "collapsed": true
   },
   "outputs": [],
   "source": [
    "# Set figure dimensions\n",
    "width = 3\n",
    "height = 2\n",
    "options(repr.plot.width=width, repr.plot.height=height)\n",
    "\n",
    "gg = type_df %>%\n",
    "  plot_coverage(breaks=seq(0, 1, 0.2), text_size=2.3)\n",
    "\n",
    "file.path('figure', 'coverage-by-type.svg') %>%\n",
    "  ggplot2::ggsave(gg, width=width, height=height)"
   ]
  },
  {
   "cell_type": "markdown",
   "metadata": {},
   "source": [
    "### Coverage by year issued"
   ]
  },
  {
   "cell_type": "code",
   "execution_count": 24,
   "metadata": {},
   "outputs": [
    {
     "name": "stderr",
     "output_type": "stream",
     "text": [
      "Parsed with column specification:\n",
      "cols(\n",
      "  year = col_integer(),\n",
      "  scihub = col_integer(),\n",
      "  crossref = col_integer(),\n",
      "  coverage = col_double()\n",
      ")\n"
     ]
    },
    {
     "data": {
      "text/html": [
       "<table>\n",
       "<thead><tr><th scope=col>year</th><th scope=col>scihub</th><th scope=col>crossref</th><th scope=col>coverage</th></tr></thead>\n",
       "<tbody>\n",
       "\t<tr><td>1678</td><td>0   </td><td>76  </td><td>0   </td></tr>\n",
       "\t<tr><td>1679</td><td>0   </td><td>26  </td><td>0   </td></tr>\n",
       "</tbody>\n",
       "</table>\n"
      ],
      "text/latex": [
       "\\begin{tabular}{r|llll}\n",
       " year & scihub & crossref & coverage\\\\\n",
       "\\hline\n",
       "\t 1678 & 0    & 76   & 0   \\\\\n",
       "\t 1679 & 0    & 26   & 0   \\\\\n",
       "\\end{tabular}\n"
      ],
      "text/markdown": [
       "\n",
       "year | scihub | crossref | coverage | \n",
       "|---|---|\n",
       "| 1678 | 0    | 76   | 0    | \n",
       "| 1679 | 0    | 26   | 0    | \n",
       "\n",
       "\n"
      ],
      "text/plain": [
       "  year scihub crossref coverage\n",
       "1 1678 0      76       0       \n",
       "2 1679 0      26       0       "
      ]
     },
     "metadata": {},
     "output_type": "display_data"
    }
   ],
   "source": [
    "year_df = file.path('data', 'year-coverage.tsv') %>%\n",
    "  readr::read_tsv()\n",
    "\n",
    "head(year_df, 2)"
   ]
  },
  {
   "cell_type": "code",
   "execution_count": 25,
   "metadata": {},
   "outputs": [
    {
     "data": {
      "text/html": [
       "77201782"
      ],
      "text/latex": [
       "77201782"
      ],
      "text/markdown": [
       "77201782"
      ],
      "text/plain": [
       "[1] 77201782"
      ]
     },
     "metadata": {},
     "output_type": "display_data"
    }
   ],
   "source": [
    "# Total number of articles with a valid year\n",
    "sum(year_df$crossref)"
   ]
  },
  {
   "cell_type": "code",
   "execution_count": 26,
   "metadata": {
    "collapsed": true
   },
   "outputs": [],
   "source": [
    "width = 6\n",
    "height = 2.5\n",
    "options(repr.plot.width=width, repr.plot.height=height)\n",
    "\n",
    "gg = year_df %>%\n",
    "  dplyr::filter(year >= 1850) %>%\n",
    "  ggplot2::ggplot(ggplot2::aes(x=year, y=coverage)) +\n",
    "  ggplot2::geom_col(fill='#efdada', color='white', size=0.2) +\n",
    "  ggplot2::expand_limits(y = 1) +\n",
    "  ggplot2::scale_x_continuous(breaks=seq(0, 3000, 20), name = NULL, expand = c(0, 0)) +\n",
    "  ggplot2::scale_y_continuous(\n",
    "    breaks=seq(0, 1, 0.2), labels=scales::percent,\n",
    "    expand = c(0, 0), name = 'Sci-Hub’s Coverage') +\n",
    "  ggplot2::theme_bw()\n",
    "\n",
    "file.path('figure', 'coverage-by-year.svg') %>%\n",
    "  ggplot2::ggsave(gg, width=width, height=height)"
   ]
  }
 ],
 "metadata": {
  "anaconda-cloud": {},
  "kernelspec": {
   "display_name": "R [conda env:scihub]",
   "language": "R",
   "name": "conda-env-scihub-r"
  },
  "language_info": {
   "codemirror_mode": "r",
   "file_extension": ".r",
   "mimetype": "text/x-r-source",
   "name": "R",
   "pygments_lexer": "r",
   "version": "3.3.2"
  }
 },
 "nbformat": 4,
 "nbformat_minor": 1
}
