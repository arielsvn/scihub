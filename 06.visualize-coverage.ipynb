{
 "cells": [
  {
   "cell_type": "markdown",
   "metadata": {},
   "source": [
    "# Compute and visualize Sci-Hub coverage by category"
   ]
  },
  {
   "cell_type": "code",
   "execution_count": 1,
   "metadata": {
    "collapsed": true
   },
   "outputs": [],
   "source": [
    "# Load magrittr pipe\n",
    "`%>%` = dplyr::`%>%`"
   ]
  },
  {
   "cell_type": "markdown",
   "metadata": {},
   "source": [
    "## Read Sci-Hub coverage data"
   ]
  },
  {
   "cell_type": "code",
   "execution_count": 2,
   "metadata": {},
   "outputs": [
    {
     "data": {
      "text/html": [
       "<table>\n",
       "<thead><tr><th scope=col>scopus_id</th><th scope=col>title_name</th><th scope=col>active</th><th scope=col>open_access</th><th scope=col>scihub</th><th scope=col>crossref</th><th scope=col>coverage</th></tr></thead>\n",
       "<tbody>\n",
       "\t<tr><td>12001                                            </td><td>Journal of the Experimental Analysis of Behavior </td><td>1                                                </td><td>0                                                </td><td>2562                                             </td><td>4400                                             </td><td>0.58227                                          </td></tr>\n",
       "\t<tr><td>12002                                            </td><td>Journal of the History of the Behavioral Sciences</td><td>1                                                </td><td>0                                                </td><td>4277                                             </td><td>4623                                             </td><td>0.92516                                          </td></tr>\n",
       "</tbody>\n",
       "</table>\n"
      ],
      "text/latex": [
       "\\begin{tabular}{r|lllllll}\n",
       " scopus\\_id & title\\_name & active & open\\_access & scihub & crossref & coverage\\\\\n",
       "\\hline\n",
       "\t 12001                                             & Journal of the Experimental Analysis of Behavior  & 1                                                 & 0                                                 & 2562                                              & 4400                                              & 0.58227                                          \\\\\n",
       "\t 12002                                             & Journal of the History of the Behavioral Sciences & 1                                                 & 0                                                 & 4277                                              & 4623                                              & 0.92516                                          \\\\\n",
       "\\end{tabular}\n"
      ],
      "text/markdown": [
       "\n",
       "scopus_id | title_name | active | open_access | scihub | crossref | coverage | \n",
       "|---|---|\n",
       "| 12001                                             | Journal of the Experimental Analysis of Behavior  | 1                                                 | 0                                                 | 2562                                              | 4400                                              | 0.58227                                           | \n",
       "| 12002                                             | Journal of the History of the Behavioral Sciences | 1                                                 | 0                                                 | 4277                                              | 4623                                              | 0.92516                                           | \n",
       "\n",
       "\n"
      ],
      "text/plain": [
       "  scopus_id title_name                                        active\n",
       "1 12001     Journal of the Experimental Analysis of Behavior  1     \n",
       "2 12002     Journal of the History of the Behavioral Sciences 1     \n",
       "  open_access scihub crossref coverage\n",
       "1 0           2562   4400     0.58227 \n",
       "2 0           4277   4623     0.92516 "
      ]
     },
     "metadata": {},
     "output_type": "display_data"
    }
   ],
   "source": [
    "scopus_col_types = list(\n",
    "  scopus_id = readr::col_character()  # R fails with big integers like 2200147401\n",
    ")\n",
    "journal_df = file.path('data', 'journal-coverage.tsv') %>%\n",
    "  readr::read_tsv(col_types = scopus_col_types)\n",
    "\n",
    "head(journal_df, 2)"
   ]
  },
  {
   "cell_type": "markdown",
   "metadata": {},
   "source": [
    "## Sci-Hub journal coverage stats"
   ]
  },
  {
   "cell_type": "code",
   "execution_count": 3,
   "metadata": {},
   "outputs": [
    {
     "data": {
      "text/html": [
       "23037"
      ],
      "text/latex": [
       "23037"
      ],
      "text/markdown": [
       "23037"
      ],
      "text/plain": [
       "[1] 23037"
      ]
     },
     "metadata": {},
     "output_type": "display_data"
    }
   ],
   "source": [
    "# Number of journals\n",
    "nrow(journal_df)"
   ]
  },
  {
   "cell_type": "code",
   "execution_count": 4,
   "metadata": {},
   "outputs": [
    {
     "data": {
      "text/html": [
       "57388930"
      ],
      "text/latex": [
       "57388930"
      ],
      "text/markdown": [
       "57388930"
      ],
      "text/plain": [
       "[1] 57388930"
      ]
     },
     "metadata": {},
     "output_type": "display_data"
    }
   ],
   "source": [
    "# Total number of articles mapped to a journal\n",
    "sum(journal_df$crossref)"
   ]
  },
  {
   "cell_type": "code",
   "execution_count": 5,
   "metadata": {},
   "outputs": [
    {
     "data": {
      "text/html": [
       "'83.3%'"
      ],
      "text/latex": [
       "'83.3\\%'"
      ],
      "text/markdown": [
       "'83.3%'"
      ],
      "text/plain": [
       "[1] \"83.3%\""
      ]
     },
     "metadata": {},
     "output_type": "display_data"
    }
   ],
   "source": [
    "# Coverage across all journal-mapping articles\n",
    "pct = sum(journal_df$scihub) / sum(journal_df$crossref)\n",
    "scales::percent(pct)"
   ]
  },
  {
   "cell_type": "code",
   "execution_count": 6,
   "metadata": {},
   "outputs": [
    {
     "data": {
      "text/html": [
       "<table>\n",
       "<thead><tr><th scope=col>scopus_id</th><th scope=col>title_name</th><th scope=col>active</th><th scope=col>open_access</th><th scope=col>scihub</th><th scope=col>crossref</th><th scope=col>coverage</th></tr></thead>\n",
       "<tbody>\n",
       "\t<tr><td>18607                                                    </td><td>Primary Care Respiratory Journal                         </td><td>0                                                        </td><td>1                                                        </td><td>469                                                      </td><td>1259                                                     </td><td>0.3725200                                                </td></tr>\n",
       "\t<tr><td>18889                                                    </td><td>Indian Journal of Human Genetics                         </td><td>0                                                        </td><td>1                                                        </td><td>347                                                      </td><td> 475                                                     </td><td>0.7305300                                                </td></tr>\n",
       "\t<tr><td>19523                                                    </td><td>Bulletin of the Veterinary Institute in Pulawy           </td><td>0                                                        </td><td>1                                                        </td><td>117                                                      </td><td> 232                                                     </td><td>0.5043100                                                </td></tr>\n",
       "\t<tr><td>19555                                                    </td><td>Veterinary Research                                      </td><td>0                                                        </td><td>1                                                        </td><td>757                                                      </td><td>1507                                                     </td><td>0.5023200                                                </td></tr>\n",
       "\t<tr><td>20353                                                    </td><td>South African Journal of Wildlife Research               </td><td>0                                                        </td><td>1                                                        </td><td>196                                                      </td><td> 198                                                     </td><td>0.9899000                                                </td></tr>\n",
       "\t<tr><td>21991                                                    </td><td>New South Wales public health bulletin                   </td><td>0                                                        </td><td>1                                                        </td><td> 36                                                      </td><td>1815                                                     </td><td>0.0198350                                                </td></tr>\n",
       "\t<tr><td>23684                                                    </td><td>Informatics in Primary Care                              </td><td>0                                                        </td><td>1                                                        </td><td>  0                                                      </td><td>  27                                                     </td><td>0.0000000                                                </td></tr>\n",
       "\t<tr><td>24557                                                    </td><td>Mathematical and Computational Applications              </td><td>0                                                        </td><td>1                                                        </td><td>  0                                                      </td><td> 843                                                     </td><td>0.0000000                                                </td></tr>\n",
       "\t<tr><td>26700                                                    </td><td>Revista Argentina de Endocrinologia y Metabolismo        </td><td>0                                                        </td><td>1                                                        </td><td> 30                                                      </td><td>  34                                                     </td><td>0.8823500                                                </td></tr>\n",
       "\t<tr><td>38536                                                    </td><td>Turk Serebrovaskuler Hastaliklar Dergisi                 </td><td>0                                                        </td><td>1                                                        </td><td>  0                                                      </td><td> 106                                                     </td><td>0.0000000                                                </td></tr>\n",
       "\t<tr><td>130093                                                   </td><td>Biogeosciences Discussions                               </td><td>0                                                        </td><td>1                                                        </td><td> 46                                                      </td><td>3989                                                     </td><td>0.0115320                                                </td></tr>\n",
       "\t<tr><td>5100152606                                               </td><td>Biosciences Biotechnology Research Asia                  </td><td>0                                                        </td><td>1                                                        </td><td>  8                                                      </td><td>1646                                                     </td><td>0.0048603                                                </td></tr>\n",
       "\t<tr><td>5400152617                                               </td><td>American Journal of Environmental Sciences               </td><td>0                                                        </td><td>1                                                        </td><td>  2                                                      </td><td> 756                                                     </td><td>0.0026455                                                </td></tr>\n",
       "\t<tr><td>5400152637                                               </td><td>American Journal of Infectious Diseases                  </td><td>0                                                        </td><td>1                                                        </td><td>  1                                                      </td><td> 344                                                     </td><td>0.0029070                                                </td></tr>\n",
       "\t<tr><td>5800179602                                               </td><td>Scoliosis                                                </td><td>0                                                        </td><td>1                                                        </td><td>769                                                      </td><td> 970                                                     </td><td>0.7927800                                                </td></tr>\n",
       "\t<tr><td>6400153122                                               </td><td>American Journal of Applied Sciences                     </td><td>0                                                        </td><td>1                                                        </td><td> 29                                                      </td><td>2719                                                     </td><td>0.0106660                                                </td></tr>\n",
       "\t<tr><td>6400153145                                               </td><td>Cough                                                    </td><td>0                                                        </td><td>1                                                        </td><td>119                                                      </td><td> 121                                                     </td><td>0.9834700                                                </td></tr>\n",
       "\t<tr><td>7400153105                                               </td><td>Journal of Mathematics and Statistics                    </td><td>0                                                        </td><td>1                                                        </td><td>  6                                                      </td><td> 616                                                     </td><td>0.0097403                                                </td></tr>\n",
       "\t<tr><td>8300153132                                               </td><td>American Journal of Agricultural and Biological Science  </td><td>0                                                        </td><td>1                                                        </td><td> 11                                                      </td><td> 530                                                     </td><td>0.0207550                                                </td></tr>\n",
       "\t<tr><td>10400153308                                              </td><td>American Journal of Immunology                           </td><td>0                                                        </td><td>1                                                        </td><td>  0                                                      </td><td> 196                                                     </td><td>0.0000000                                                </td></tr>\n",
       "\t<tr><td>11400153336                                              </td><td>Estonian Journal of Ecology                              </td><td>0                                                        </td><td>1                                                        </td><td>136                                                      </td><td> 152                                                     </td><td>0.8947400                                                </td></tr>\n",
       "\t<tr><td>12100155654                                              </td><td>Biomedical Imaging and Intervention Journal              </td><td>0                                                        </td><td>1                                                        </td><td> 54                                                      </td><td> 256                                                     </td><td>0.2109400                                                </td></tr>\n",
       "\t<tr><td>16200154706                                              </td><td>Romanticism on the Net                                   </td><td>0                                                        </td><td>1                                                        </td><td>  0                                                      </td><td> 511                                                     </td><td>0.0000000                                                </td></tr>\n",
       "\t<tr><td>17200154704                                              </td><td>International Journal of Soft Computing                  </td><td>0                                                        </td><td>1                                                        </td><td>  0                                                      </td><td> 106                                                     </td><td>0.0000000                                                </td></tr>\n",
       "\t<tr><td>17600155016                                              </td><td>BMC Medical Physics                                      </td><td>0                                                        </td><td>1                                                        </td><td> 26                                                      </td><td>  26                                                     </td><td>1.0000000                                                </td></tr>\n",
       "\t<tr><td>17600155057                                              </td><td>Living Reviews in Landscape Research                     </td><td>0                                                        </td><td>1                                                        </td><td>  5                                                      </td><td>  21                                                     </td><td>0.2381000                                                </td></tr>\n",
       "\t<tr><td>17900156726                                              </td><td>Formalized Mathematics                                   </td><td>0                                                        </td><td>1                                                        </td><td> 91                                                      </td><td> 350                                                     </td><td>0.2600000                                                </td></tr>\n",
       "\t<tr><td>19600157021                                              </td><td>Macedonian Journal of Medical Sciences                   </td><td>0                                                        </td><td>1                                                        </td><td> 54                                                      </td><td> 424                                                     </td><td>0.1273600                                                </td></tr>\n",
       "\t<tr><td>19700166520                                              </td><td>Cases Journal                                            </td><td>0                                                        </td><td>1                                                        </td><td>625                                                      </td><td>1741                                                     </td><td>0.3589900                                                </td></tr>\n",
       "\t<tr><td>19700174685                                              </td><td>Journal of Experimental Stroke and Translational Medicine</td><td>0                                                        </td><td>1                                                        </td><td>  0                                                      </td><td>  40                                                     </td><td>0.0000000                                                </td></tr>\n",
       "\t<tr><td>⋮</td><td>⋮</td><td>⋮</td><td>⋮</td><td>⋮</td><td>⋮</td><td>⋮</td></tr>\n",
       "\t<tr><td>21100197523                                                            </td><td>International Journal of Multimedia and Ubiquitous Engineering         </td><td>0                                                                      </td><td>1                                                                      </td><td>  6                                                                    </td><td>1484                                                                   </td><td>0.0040431                                                              </td></tr>\n",
       "\t<tr><td>21100198717                                                            </td><td>Open Catalysis Journal                                                 </td><td>0                                                                      </td><td>1                                                                      </td><td>  0                                                                    </td><td>  80                                                                   </td><td>0.0000000                                                              </td></tr>\n",
       "\t<tr><td>21100199112                                                            </td><td>International Journal of Security and its Applications                 </td><td>0                                                                      </td><td>1                                                                      </td><td>  5                                                                    </td><td>1141                                                                   </td><td>0.0043821                                                              </td></tr>\n",
       "\t<tr><td>21100199850                                                            </td><td>International Journal of Software Engineering and its Applications     </td><td>0                                                                      </td><td>1                                                                      </td><td>  2                                                                    </td><td> 608                                                                   </td><td>0.0032895                                                              </td></tr>\n",
       "\t<tr><td>21100200033                                                            </td><td>Frontiers in Neuroenergetics                                           </td><td>0                                                                      </td><td>1                                                                      </td><td>  2                                                                    </td><td>  71                                                                   </td><td>0.0281690                                                              </td></tr>\n",
       "\t<tr><td>21100200204                                                            </td><td>Journal of Dental Biomechanics                                         </td><td>0                                                                      </td><td>1                                                                      </td><td> 13                                                                    </td><td>  37                                                                   </td><td>0.3513500                                                              </td></tr>\n",
       "\t<tr><td>21100202936                                                            </td><td>Biology and Medicine                                                   </td><td>0                                                                      </td><td>1                                                                      </td><td>  1                                                                    </td><td> 229                                                                   </td><td>0.0043668                                                              </td></tr>\n",
       "\t<tr><td>21100205766                                                            </td><td>Perspectives in Medicine                                               </td><td>0                                                                      </td><td>1                                                                      </td><td>123                                                                    </td><td> 123                                                                   </td><td>1.0000000                                                              </td></tr>\n",
       "\t<tr><td>21100206606                                                            </td><td>Investigaciones Europeas de Direccion y Economia de la Empresa         </td><td>0                                                                      </td><td>1                                                                      </td><td>197                                                                    </td><td> 197                                                                   </td><td>1.0000000                                                              </td></tr>\n",
       "\t<tr><td>21100211347                                                            </td><td>Trials in Vaccinology                                                  </td><td>0                                                                      </td><td>1                                                                      </td><td> 80                                                                    </td><td>  81                                                                   </td><td>0.9876500                                                              </td></tr>\n",
       "\t<tr><td>21100220119                                                            </td><td>Korean Journal of Pediatric Infectious Diseases                        </td><td>0                                                                      </td><td>1                                                                      </td><td>  0                                                                    </td><td>  27                                                                   </td><td>0.0000000                                                              </td></tr>\n",
       "\t<tr><td>21100220137                                                            </td><td>Bioscience Education                                                   </td><td>0                                                                      </td><td>1                                                                      </td><td>216                                                                    </td><td> 263                                                                   </td><td>0.8212900                                                              </td></tr>\n",
       "\t<tr><td>21100223579                                                            </td><td>Advanced Materials Letters                                             </td><td>0                                                                      </td><td>1                                                                      </td><td> 52                                                                    </td><td> 907                                                                   </td><td>0.0573320                                                              </td></tr>\n",
       "\t<tr><td>21100258399                                                            </td><td>Optical Nanoscopy                                                      </td><td>0                                                                      </td><td>1                                                                      </td><td> 19                                                                    </td><td>  20                                                                   </td><td>0.9500000                                                              </td></tr>\n",
       "\t<tr><td>21100258967                                                            </td><td>ISRN Mechanical Engineering                                            </td><td>0                                                                      </td><td>1                                                                      </td><td>120                                                                    </td><td> 137                                                                   </td><td>0.8759100                                                              </td></tr>\n",
       "\t<tr><td>21100264566                                                            </td><td>South Asian Journal of Cancer                                          </td><td>0                                                                      </td><td>1                                                                      </td><td>  4                                                                    </td><td> 403                                                                   </td><td>0.0099256                                                              </td></tr>\n",
       "\t<tr><td>21100265048                                                            </td><td>Contemporary Engineering Sciences                                      </td><td>0                                                                      </td><td>1                                                                      </td><td>  9                                                                    </td><td> 616                                                                   </td><td>0.0146100                                                              </td></tr>\n",
       "\t<tr><td>21100266906                                                            </td><td>ISRN Communications and Networking                                     </td><td>0                                                                      </td><td>1                                                                      </td><td>  8                                                                    </td><td>  67                                                                   </td><td>0.1194000                                                              </td></tr>\n",
       "\t<tr><td>21100268208                                                            </td><td>Video Journal and Encyclopedia of GI Endoscopy                         </td><td>0                                                                      </td><td>1                                                                      </td><td>297                                                                    </td><td> 297                                                                   </td><td>1.0000000                                                              </td></tr>\n",
       "\t<tr><td>21100293201                                                            </td><td>International Journal of Research in Ayurveda and Pharmacy             </td><td>0                                                                      </td><td>1                                                                      </td><td>  2                                                                    </td><td> 863                                                                   </td><td>0.0023175                                                              </td></tr>\n",
       "\t<tr><td>21100386191                                                            </td><td>ISRN Signal Processing                                                 </td><td>0                                                                      </td><td>1                                                                      </td><td>  5                                                                    </td><td>  84                                                                   </td><td>0.0595240                                                              </td></tr>\n",
       "\t<tr><td>21100386192                                                            </td><td>ISRN Civil Engineering                                                 </td><td>0                                                                      </td><td>1                                                                      </td><td> 60                                                                    </td><td>  71                                                                   </td><td>0.8450700                                                              </td></tr>\n",
       "\t<tr><td>21100399105                                                            </td><td>Journal of Nonlinear Science and Applications                          </td><td>0                                                                      </td><td>1                                                                      </td><td>  0                                                                    </td><td> 111                                                                   </td><td>0.0000000                                                              </td></tr>\n",
       "\t<tr><td>21100422125                                                            </td><td>International Journal of Applied Linguistics and English Literature    </td><td>0                                                                      </td><td>1                                                                      </td><td>  0                                                                    </td><td>1010                                                                   </td><td>0.0000000                                                              </td></tr>\n",
       "\t<tr><td>21100432005                                                            </td><td>Journal of Signal Transduction                                         </td><td>0                                                                      </td><td>1                                                                      </td><td> 73                                                                    </td><td> 112                                                                   </td><td>0.6517900                                                              </td></tr>\n",
       "\t<tr><td>21100437958                                                            </td><td>American Journal of Engineering and Applied Sciences                   </td><td>0                                                                      </td><td>1                                                                      </td><td>  2                                                                    </td><td> 658                                                                   </td><td>0.0030395                                                              </td></tr>\n",
       "\t<tr><td>21100447121                                                            </td><td>International Journal of Future Generation Communication and Networking</td><td>0                                                                      </td><td>1                                                                      </td><td> 11                                                                    </td><td> 770                                                                   </td><td>0.0142860                                                              </td></tr>\n",
       "\t<tr><td>21100456184                                                            </td><td>Applied Petrochemical Research                                         </td><td>0                                                                      </td><td>1                                                                      </td><td>172                                                                    </td><td> 174                                                                   </td><td>0.9885100                                                              </td></tr>\n",
       "\t<tr><td>21100457107                                                            </td><td>SAGE Open Medicine                                                     </td><td>0                                                                      </td><td>1                                                                      </td><td>206                                                                    </td><td> 287                                                                   </td><td>0.7177700                                                              </td></tr>\n",
       "\t<tr><td>21100464757                                                            </td><td>ISRN Dermatology                                                       </td><td>0                                                                      </td><td>1                                                                      </td><td> 96                                                                    </td><td> 100                                                                   </td><td>0.9600000                                                              </td></tr>\n",
       "</tbody>\n",
       "</table>\n"
      ],
      "text/latex": [
       "\\begin{tabular}{r|lllllll}\n",
       " scopus\\_id & title\\_name & active & open\\_access & scihub & crossref & coverage\\\\\n",
       "\\hline\n",
       "\t 18607                                                     & Primary Care Respiratory Journal                          & 0                                                         & 1                                                         & 469                                                       & 1259                                                      & 0.3725200                                                \\\\\n",
       "\t 18889                                                     & Indian Journal of Human Genetics                          & 0                                                         & 1                                                         & 347                                                       &  475                                                      & 0.7305300                                                \\\\\n",
       "\t 19523                                                     & Bulletin of the Veterinary Institute in Pulawy            & 0                                                         & 1                                                         & 117                                                       &  232                                                      & 0.5043100                                                \\\\\n",
       "\t 19555                                                     & Veterinary Research                                       & 0                                                         & 1                                                         & 757                                                       & 1507                                                      & 0.5023200                                                \\\\\n",
       "\t 20353                                                     & South African Journal of Wildlife Research                & 0                                                         & 1                                                         & 196                                                       &  198                                                      & 0.9899000                                                \\\\\n",
       "\t 21991                                                     & New South Wales public health bulletin                    & 0                                                         & 1                                                         &  36                                                       & 1815                                                      & 0.0198350                                                \\\\\n",
       "\t 23684                                                     & Informatics in Primary Care                               & 0                                                         & 1                                                         &   0                                                       &   27                                                      & 0.0000000                                                \\\\\n",
       "\t 24557                                                     & Mathematical and Computational Applications               & 0                                                         & 1                                                         &   0                                                       &  843                                                      & 0.0000000                                                \\\\\n",
       "\t 26700                                                     & Revista Argentina de Endocrinologia y Metabolismo         & 0                                                         & 1                                                         &  30                                                       &   34                                                      & 0.8823500                                                \\\\\n",
       "\t 38536                                                     & Turk Serebrovaskuler Hastaliklar Dergisi                  & 0                                                         & 1                                                         &   0                                                       &  106                                                      & 0.0000000                                                \\\\\n",
       "\t 130093                                                    & Biogeosciences Discussions                                & 0                                                         & 1                                                         &  46                                                       & 3989                                                      & 0.0115320                                                \\\\\n",
       "\t 5100152606                                                & Biosciences Biotechnology Research Asia                   & 0                                                         & 1                                                         &   8                                                       & 1646                                                      & 0.0048603                                                \\\\\n",
       "\t 5400152617                                                & American Journal of Environmental Sciences                & 0                                                         & 1                                                         &   2                                                       &  756                                                      & 0.0026455                                                \\\\\n",
       "\t 5400152637                                                & American Journal of Infectious Diseases                   & 0                                                         & 1                                                         &   1                                                       &  344                                                      & 0.0029070                                                \\\\\n",
       "\t 5800179602                                                & Scoliosis                                                 & 0                                                         & 1                                                         & 769                                                       &  970                                                      & 0.7927800                                                \\\\\n",
       "\t 6400153122                                                & American Journal of Applied Sciences                      & 0                                                         & 1                                                         &  29                                                       & 2719                                                      & 0.0106660                                                \\\\\n",
       "\t 6400153145                                                & Cough                                                     & 0                                                         & 1                                                         & 119                                                       &  121                                                      & 0.9834700                                                \\\\\n",
       "\t 7400153105                                                & Journal of Mathematics and Statistics                     & 0                                                         & 1                                                         &   6                                                       &  616                                                      & 0.0097403                                                \\\\\n",
       "\t 8300153132                                                & American Journal of Agricultural and Biological Science   & 0                                                         & 1                                                         &  11                                                       &  530                                                      & 0.0207550                                                \\\\\n",
       "\t 10400153308                                               & American Journal of Immunology                            & 0                                                         & 1                                                         &   0                                                       &  196                                                      & 0.0000000                                                \\\\\n",
       "\t 11400153336                                               & Estonian Journal of Ecology                               & 0                                                         & 1                                                         & 136                                                       &  152                                                      & 0.8947400                                                \\\\\n",
       "\t 12100155654                                               & Biomedical Imaging and Intervention Journal               & 0                                                         & 1                                                         &  54                                                       &  256                                                      & 0.2109400                                                \\\\\n",
       "\t 16200154706                                               & Romanticism on the Net                                    & 0                                                         & 1                                                         &   0                                                       &  511                                                      & 0.0000000                                                \\\\\n",
       "\t 17200154704                                               & International Journal of Soft Computing                   & 0                                                         & 1                                                         &   0                                                       &  106                                                      & 0.0000000                                                \\\\\n",
       "\t 17600155016                                               & BMC Medical Physics                                       & 0                                                         & 1                                                         &  26                                                       &   26                                                      & 1.0000000                                                \\\\\n",
       "\t 17600155057                                               & Living Reviews in Landscape Research                      & 0                                                         & 1                                                         &   5                                                       &   21                                                      & 0.2381000                                                \\\\\n",
       "\t 17900156726                                               & Formalized Mathematics                                    & 0                                                         & 1                                                         &  91                                                       &  350                                                      & 0.2600000                                                \\\\\n",
       "\t 19600157021                                               & Macedonian Journal of Medical Sciences                    & 0                                                         & 1                                                         &  54                                                       &  424                                                      & 0.1273600                                                \\\\\n",
       "\t 19700166520                                               & Cases Journal                                             & 0                                                         & 1                                                         & 625                                                       & 1741                                                      & 0.3589900                                                \\\\\n",
       "\t 19700174685                                               & Journal of Experimental Stroke and Translational Medicine & 0                                                         & 1                                                         &   0                                                       &   40                                                      & 0.0000000                                                \\\\\n",
       "\t ⋮ & ⋮ & ⋮ & ⋮ & ⋮ & ⋮ & ⋮\\\\\n",
       "\t 21100197523                                                             & International Journal of Multimedia and Ubiquitous Engineering          & 0                                                                       & 1                                                                       &   6                                                                     & 1484                                                                    & 0.0040431                                                              \\\\\n",
       "\t 21100198717                                                             & Open Catalysis Journal                                                  & 0                                                                       & 1                                                                       &   0                                                                     &   80                                                                    & 0.0000000                                                              \\\\\n",
       "\t 21100199112                                                             & International Journal of Security and its Applications                  & 0                                                                       & 1                                                                       &   5                                                                     & 1141                                                                    & 0.0043821                                                              \\\\\n",
       "\t 21100199850                                                             & International Journal of Software Engineering and its Applications      & 0                                                                       & 1                                                                       &   2                                                                     &  608                                                                    & 0.0032895                                                              \\\\\n",
       "\t 21100200033                                                             & Frontiers in Neuroenergetics                                            & 0                                                                       & 1                                                                       &   2                                                                     &   71                                                                    & 0.0281690                                                              \\\\\n",
       "\t 21100200204                                                             & Journal of Dental Biomechanics                                          & 0                                                                       & 1                                                                       &  13                                                                     &   37                                                                    & 0.3513500                                                              \\\\\n",
       "\t 21100202936                                                             & Biology and Medicine                                                    & 0                                                                       & 1                                                                       &   1                                                                     &  229                                                                    & 0.0043668                                                              \\\\\n",
       "\t 21100205766                                                             & Perspectives in Medicine                                                & 0                                                                       & 1                                                                       & 123                                                                     &  123                                                                    & 1.0000000                                                              \\\\\n",
       "\t 21100206606                                                             & Investigaciones Europeas de Direccion y Economia de la Empresa          & 0                                                                       & 1                                                                       & 197                                                                     &  197                                                                    & 1.0000000                                                              \\\\\n",
       "\t 21100211347                                                             & Trials in Vaccinology                                                   & 0                                                                       & 1                                                                       &  80                                                                     &   81                                                                    & 0.9876500                                                              \\\\\n",
       "\t 21100220119                                                             & Korean Journal of Pediatric Infectious Diseases                         & 0                                                                       & 1                                                                       &   0                                                                     &   27                                                                    & 0.0000000                                                              \\\\\n",
       "\t 21100220137                                                             & Bioscience Education                                                    & 0                                                                       & 1                                                                       & 216                                                                     &  263                                                                    & 0.8212900                                                              \\\\\n",
       "\t 21100223579                                                             & Advanced Materials Letters                                              & 0                                                                       & 1                                                                       &  52                                                                     &  907                                                                    & 0.0573320                                                              \\\\\n",
       "\t 21100258399                                                             & Optical Nanoscopy                                                       & 0                                                                       & 1                                                                       &  19                                                                     &   20                                                                    & 0.9500000                                                              \\\\\n",
       "\t 21100258967                                                             & ISRN Mechanical Engineering                                             & 0                                                                       & 1                                                                       & 120                                                                     &  137                                                                    & 0.8759100                                                              \\\\\n",
       "\t 21100264566                                                             & South Asian Journal of Cancer                                           & 0                                                                       & 1                                                                       &   4                                                                     &  403                                                                    & 0.0099256                                                              \\\\\n",
       "\t 21100265048                                                             & Contemporary Engineering Sciences                                       & 0                                                                       & 1                                                                       &   9                                                                     &  616                                                                    & 0.0146100                                                              \\\\\n",
       "\t 21100266906                                                             & ISRN Communications and Networking                                      & 0                                                                       & 1                                                                       &   8                                                                     &   67                                                                    & 0.1194000                                                              \\\\\n",
       "\t 21100268208                                                             & Video Journal and Encyclopedia of GI Endoscopy                          & 0                                                                       & 1                                                                       & 297                                                                     &  297                                                                    & 1.0000000                                                              \\\\\n",
       "\t 21100293201                                                             & International Journal of Research in Ayurveda and Pharmacy              & 0                                                                       & 1                                                                       &   2                                                                     &  863                                                                    & 0.0023175                                                              \\\\\n",
       "\t 21100386191                                                             & ISRN Signal Processing                                                  & 0                                                                       & 1                                                                       &   5                                                                     &   84                                                                    & 0.0595240                                                              \\\\\n",
       "\t 21100386192                                                             & ISRN Civil Engineering                                                  & 0                                                                       & 1                                                                       &  60                                                                     &   71                                                                    & 0.8450700                                                              \\\\\n",
       "\t 21100399105                                                             & Journal of Nonlinear Science and Applications                           & 0                                                                       & 1                                                                       &   0                                                                     &  111                                                                    & 0.0000000                                                              \\\\\n",
       "\t 21100422125                                                             & International Journal of Applied Linguistics and English Literature     & 0                                                                       & 1                                                                       &   0                                                                     & 1010                                                                    & 0.0000000                                                              \\\\\n",
       "\t 21100432005                                                             & Journal of Signal Transduction                                          & 0                                                                       & 1                                                                       &  73                                                                     &  112                                                                    & 0.6517900                                                              \\\\\n",
       "\t 21100437958                                                             & American Journal of Engineering and Applied Sciences                    & 0                                                                       & 1                                                                       &   2                                                                     &  658                                                                    & 0.0030395                                                              \\\\\n",
       "\t 21100447121                                                             & International Journal of Future Generation Communication and Networking & 0                                                                       & 1                                                                       &  11                                                                     &  770                                                                    & 0.0142860                                                              \\\\\n",
       "\t 21100456184                                                             & Applied Petrochemical Research                                          & 0                                                                       & 1                                                                       & 172                                                                     &  174                                                                    & 0.9885100                                                              \\\\\n",
       "\t 21100457107                                                             & SAGE Open Medicine                                                      & 0                                                                       & 1                                                                       & 206                                                                     &  287                                                                    & 0.7177700                                                              \\\\\n",
       "\t 21100464757                                                             & ISRN Dermatology                                                        & 0                                                                       & 1                                                                       &  96                                                                     &  100                                                                    & 0.9600000                                                              \\\\\n",
       "\\end{tabular}\n"
      ],
      "text/markdown": [
       "\n",
       "scopus_id | title_name | active | open_access | scihub | crossref | coverage | \n",
       "|---|---|---|---|---|---|---|---|---|---|---|---|---|---|---|---|---|---|---|---|---|---|---|---|---|---|---|---|---|---|---|---|---|---|---|---|---|---|---|---|---|---|---|---|---|---|---|---|---|---|---|---|---|---|---|---|---|---|---|---|---|\n",
       "| 18607                                                     | Primary Care Respiratory Journal                          | 0                                                         | 1                                                         | 469                                                       | 1259                                                      | 0.3725200                                                 | \n",
       "| 18889                                                     | Indian Journal of Human Genetics                          | 0                                                         | 1                                                         | 347                                                       |  475                                                      | 0.7305300                                                 | \n",
       "| 19523                                                     | Bulletin of the Veterinary Institute in Pulawy            | 0                                                         | 1                                                         | 117                                                       |  232                                                      | 0.5043100                                                 | \n",
       "| 19555                                                     | Veterinary Research                                       | 0                                                         | 1                                                         | 757                                                       | 1507                                                      | 0.5023200                                                 | \n",
       "| 20353                                                     | South African Journal of Wildlife Research                | 0                                                         | 1                                                         | 196                                                       |  198                                                      | 0.9899000                                                 | \n",
       "| 21991                                                     | New South Wales public health bulletin                    | 0                                                         | 1                                                         |  36                                                       | 1815                                                      | 0.0198350                                                 | \n",
       "| 23684                                                     | Informatics in Primary Care                               | 0                                                         | 1                                                         |   0                                                       |   27                                                      | 0.0000000                                                 | \n",
       "| 24557                                                     | Mathematical and Computational Applications               | 0                                                         | 1                                                         |   0                                                       |  843                                                      | 0.0000000                                                 | \n",
       "| 26700                                                     | Revista Argentina de Endocrinologia y Metabolismo         | 0                                                         | 1                                                         |  30                                                       |   34                                                      | 0.8823500                                                 | \n",
       "| 38536                                                     | Turk Serebrovaskuler Hastaliklar Dergisi                  | 0                                                         | 1                                                         |   0                                                       |  106                                                      | 0.0000000                                                 | \n",
       "| 130093                                                    | Biogeosciences Discussions                                | 0                                                         | 1                                                         |  46                                                       | 3989                                                      | 0.0115320                                                 | \n",
       "| 5100152606                                                | Biosciences Biotechnology Research Asia                   | 0                                                         | 1                                                         |   8                                                       | 1646                                                      | 0.0048603                                                 | \n",
       "| 5400152617                                                | American Journal of Environmental Sciences                | 0                                                         | 1                                                         |   2                                                       |  756                                                      | 0.0026455                                                 | \n",
       "| 5400152637                                                | American Journal of Infectious Diseases                   | 0                                                         | 1                                                         |   1                                                       |  344                                                      | 0.0029070                                                 | \n",
       "| 5800179602                                                | Scoliosis                                                 | 0                                                         | 1                                                         | 769                                                       |  970                                                      | 0.7927800                                                 | \n",
       "| 6400153122                                                | American Journal of Applied Sciences                      | 0                                                         | 1                                                         |  29                                                       | 2719                                                      | 0.0106660                                                 | \n",
       "| 6400153145                                                | Cough                                                     | 0                                                         | 1                                                         | 119                                                       |  121                                                      | 0.9834700                                                 | \n",
       "| 7400153105                                                | Journal of Mathematics and Statistics                     | 0                                                         | 1                                                         |   6                                                       |  616                                                      | 0.0097403                                                 | \n",
       "| 8300153132                                                | American Journal of Agricultural and Biological Science   | 0                                                         | 1                                                         |  11                                                       |  530                                                      | 0.0207550                                                 | \n",
       "| 10400153308                                               | American Journal of Immunology                            | 0                                                         | 1                                                         |   0                                                       |  196                                                      | 0.0000000                                                 | \n",
       "| 11400153336                                               | Estonian Journal of Ecology                               | 0                                                         | 1                                                         | 136                                                       |  152                                                      | 0.8947400                                                 | \n",
       "| 12100155654                                               | Biomedical Imaging and Intervention Journal               | 0                                                         | 1                                                         |  54                                                       |  256                                                      | 0.2109400                                                 | \n",
       "| 16200154706                                               | Romanticism on the Net                                    | 0                                                         | 1                                                         |   0                                                       |  511                                                      | 0.0000000                                                 | \n",
       "| 17200154704                                               | International Journal of Soft Computing                   | 0                                                         | 1                                                         |   0                                                       |  106                                                      | 0.0000000                                                 | \n",
       "| 17600155016                                               | BMC Medical Physics                                       | 0                                                         | 1                                                         |  26                                                       |   26                                                      | 1.0000000                                                 | \n",
       "| 17600155057                                               | Living Reviews in Landscape Research                      | 0                                                         | 1                                                         |   5                                                       |   21                                                      | 0.2381000                                                 | \n",
       "| 17900156726                                               | Formalized Mathematics                                    | 0                                                         | 1                                                         |  91                                                       |  350                                                      | 0.2600000                                                 | \n",
       "| 19600157021                                               | Macedonian Journal of Medical Sciences                    | 0                                                         | 1                                                         |  54                                                       |  424                                                      | 0.1273600                                                 | \n",
       "| 19700166520                                               | Cases Journal                                             | 0                                                         | 1                                                         | 625                                                       | 1741                                                      | 0.3589900                                                 | \n",
       "| 19700174685                                               | Journal of Experimental Stroke and Translational Medicine | 0                                                         | 1                                                         |   0                                                       |   40                                                      | 0.0000000                                                 | \n",
       "| ⋮ | ⋮ | ⋮ | ⋮ | ⋮ | ⋮ | ⋮ | \n",
       "| 21100197523                                                             | International Journal of Multimedia and Ubiquitous Engineering          | 0                                                                       | 1                                                                       |   6                                                                     | 1484                                                                    | 0.0040431                                                               | \n",
       "| 21100198717                                                             | Open Catalysis Journal                                                  | 0                                                                       | 1                                                                       |   0                                                                     |   80                                                                    | 0.0000000                                                               | \n",
       "| 21100199112                                                             | International Journal of Security and its Applications                  | 0                                                                       | 1                                                                       |   5                                                                     | 1141                                                                    | 0.0043821                                                               | \n",
       "| 21100199850                                                             | International Journal of Software Engineering and its Applications      | 0                                                                       | 1                                                                       |   2                                                                     |  608                                                                    | 0.0032895                                                               | \n",
       "| 21100200033                                                             | Frontiers in Neuroenergetics                                            | 0                                                                       | 1                                                                       |   2                                                                     |   71                                                                    | 0.0281690                                                               | \n",
       "| 21100200204                                                             | Journal of Dental Biomechanics                                          | 0                                                                       | 1                                                                       |  13                                                                     |   37                                                                    | 0.3513500                                                               | \n",
       "| 21100202936                                                             | Biology and Medicine                                                    | 0                                                                       | 1                                                                       |   1                                                                     |  229                                                                    | 0.0043668                                                               | \n",
       "| 21100205766                                                             | Perspectives in Medicine                                                | 0                                                                       | 1                                                                       | 123                                                                     |  123                                                                    | 1.0000000                                                               | \n",
       "| 21100206606                                                             | Investigaciones Europeas de Direccion y Economia de la Empresa          | 0                                                                       | 1                                                                       | 197                                                                     |  197                                                                    | 1.0000000                                                               | \n",
       "| 21100211347                                                             | Trials in Vaccinology                                                   | 0                                                                       | 1                                                                       |  80                                                                     |   81                                                                    | 0.9876500                                                               | \n",
       "| 21100220119                                                             | Korean Journal of Pediatric Infectious Diseases                         | 0                                                                       | 1                                                                       |   0                                                                     |   27                                                                    | 0.0000000                                                               | \n",
       "| 21100220137                                                             | Bioscience Education                                                    | 0                                                                       | 1                                                                       | 216                                                                     |  263                                                                    | 0.8212900                                                               | \n",
       "| 21100223579                                                             | Advanced Materials Letters                                              | 0                                                                       | 1                                                                       |  52                                                                     |  907                                                                    | 0.0573320                                                               | \n",
       "| 21100258399                                                             | Optical Nanoscopy                                                       | 0                                                                       | 1                                                                       |  19                                                                     |   20                                                                    | 0.9500000                                                               | \n",
       "| 21100258967                                                             | ISRN Mechanical Engineering                                             | 0                                                                       | 1                                                                       | 120                                                                     |  137                                                                    | 0.8759100                                                               | \n",
       "| 21100264566                                                             | South Asian Journal of Cancer                                           | 0                                                                       | 1                                                                       |   4                                                                     |  403                                                                    | 0.0099256                                                               | \n",
       "| 21100265048                                                             | Contemporary Engineering Sciences                                       | 0                                                                       | 1                                                                       |   9                                                                     |  616                                                                    | 0.0146100                                                               | \n",
       "| 21100266906                                                             | ISRN Communications and Networking                                      | 0                                                                       | 1                                                                       |   8                                                                     |   67                                                                    | 0.1194000                                                               | \n",
       "| 21100268208                                                             | Video Journal and Encyclopedia of GI Endoscopy                          | 0                                                                       | 1                                                                       | 297                                                                     |  297                                                                    | 1.0000000                                                               | \n",
       "| 21100293201                                                             | International Journal of Research in Ayurveda and Pharmacy              | 0                                                                       | 1                                                                       |   2                                                                     |  863                                                                    | 0.0023175                                                               | \n",
       "| 21100386191                                                             | ISRN Signal Processing                                                  | 0                                                                       | 1                                                                       |   5                                                                     |   84                                                                    | 0.0595240                                                               | \n",
       "| 21100386192                                                             | ISRN Civil Engineering                                                  | 0                                                                       | 1                                                                       |  60                                                                     |   71                                                                    | 0.8450700                                                               | \n",
       "| 21100399105                                                             | Journal of Nonlinear Science and Applications                           | 0                                                                       | 1                                                                       |   0                                                                     |  111                                                                    | 0.0000000                                                               | \n",
       "| 21100422125                                                             | International Journal of Applied Linguistics and English Literature     | 0                                                                       | 1                                                                       |   0                                                                     | 1010                                                                    | 0.0000000                                                               | \n",
       "| 21100432005                                                             | Journal of Signal Transduction                                          | 0                                                                       | 1                                                                       |  73                                                                     |  112                                                                    | 0.6517900                                                               | \n",
       "| 21100437958                                                             | American Journal of Engineering and Applied Sciences                    | 0                                                                       | 1                                                                       |   2                                                                     |  658                                                                    | 0.0030395                                                               | \n",
       "| 21100447121                                                             | International Journal of Future Generation Communication and Networking | 0                                                                       | 1                                                                       |  11                                                                     |  770                                                                    | 0.0142860                                                               | \n",
       "| 21100456184                                                             | Applied Petrochemical Research                                          | 0                                                                       | 1                                                                       | 172                                                                     |  174                                                                    | 0.9885100                                                               | \n",
       "| 21100457107                                                             | SAGE Open Medicine                                                      | 0                                                                       | 1                                                                       | 206                                                                     |  287                                                                    | 0.7177700                                                               | \n",
       "| 21100464757                                                             | ISRN Dermatology                                                        | 0                                                                       | 1                                                                       |  96                                                                     |  100                                                                    | 0.9600000                                                               | \n",
       "\n",
       "\n"
      ],
      "text/plain": [
       "   scopus_id  \n",
       "1  18607      \n",
       "2  18889      \n",
       "3  19523      \n",
       "4  19555      \n",
       "5  20353      \n",
       "6  21991      \n",
       "7  23684      \n",
       "8  24557      \n",
       "9  26700      \n",
       "10 38536      \n",
       "11 130093     \n",
       "12 5100152606 \n",
       "13 5400152617 \n",
       "14 5400152637 \n",
       "15 5800179602 \n",
       "16 6400153122 \n",
       "17 6400153145 \n",
       "18 7400153105 \n",
       "19 8300153132 \n",
       "20 10400153308\n",
       "21 11400153336\n",
       "22 12100155654\n",
       "23 16200154706\n",
       "24 17200154704\n",
       "25 17600155016\n",
       "26 17600155057\n",
       "27 17900156726\n",
       "28 19600157021\n",
       "29 19700166520\n",
       "30 19700174685\n",
       "⋮  ⋮          \n",
       "41 21100197523\n",
       "42 21100198717\n",
       "43 21100199112\n",
       "44 21100199850\n",
       "45 21100200033\n",
       "46 21100200204\n",
       "47 21100202936\n",
       "48 21100205766\n",
       "49 21100206606\n",
       "50 21100211347\n",
       "51 21100220119\n",
       "52 21100220137\n",
       "53 21100223579\n",
       "54 21100258399\n",
       "55 21100258967\n",
       "56 21100264566\n",
       "57 21100265048\n",
       "58 21100266906\n",
       "59 21100268208\n",
       "60 21100293201\n",
       "61 21100386191\n",
       "62 21100386192\n",
       "63 21100399105\n",
       "64 21100422125\n",
       "65 21100432005\n",
       "66 21100437958\n",
       "67 21100447121\n",
       "68 21100456184\n",
       "69 21100457107\n",
       "70 21100464757\n",
       "   title_name                                                             \n",
       "1  Primary Care Respiratory Journal                                       \n",
       "2  Indian Journal of Human Genetics                                       \n",
       "3  Bulletin of the Veterinary Institute in Pulawy                         \n",
       "4  Veterinary Research                                                    \n",
       "5  South African Journal of Wildlife Research                             \n",
       "6  New South Wales public health bulletin                                 \n",
       "7  Informatics in Primary Care                                            \n",
       "8  Mathematical and Computational Applications                            \n",
       "9  Revista Argentina de Endocrinologia y Metabolismo                      \n",
       "10 Turk Serebrovaskuler Hastaliklar Dergisi                               \n",
       "11 Biogeosciences Discussions                                             \n",
       "12 Biosciences Biotechnology Research Asia                                \n",
       "13 American Journal of Environmental Sciences                             \n",
       "14 American Journal of Infectious Diseases                                \n",
       "15 Scoliosis                                                              \n",
       "16 American Journal of Applied Sciences                                   \n",
       "17 Cough                                                                  \n",
       "18 Journal of Mathematics and Statistics                                  \n",
       "19 American Journal of Agricultural and Biological Science                \n",
       "20 American Journal of Immunology                                         \n",
       "21 Estonian Journal of Ecology                                            \n",
       "22 Biomedical Imaging and Intervention Journal                            \n",
       "23 Romanticism on the Net                                                 \n",
       "24 International Journal of Soft Computing                                \n",
       "25 BMC Medical Physics                                                    \n",
       "26 Living Reviews in Landscape Research                                   \n",
       "27 Formalized Mathematics                                                 \n",
       "28 Macedonian Journal of Medical Sciences                                 \n",
       "29 Cases Journal                                                          \n",
       "30 Journal of Experimental Stroke and Translational Medicine              \n",
       "⋮  ⋮                                                                      \n",
       "41 International Journal of Multimedia and Ubiquitous Engineering         \n",
       "42 Open Catalysis Journal                                                 \n",
       "43 International Journal of Security and its Applications                 \n",
       "44 International Journal of Software Engineering and its Applications     \n",
       "45 Frontiers in Neuroenergetics                                           \n",
       "46 Journal of Dental Biomechanics                                         \n",
       "47 Biology and Medicine                                                   \n",
       "48 Perspectives in Medicine                                               \n",
       "49 Investigaciones Europeas de Direccion y Economia de la Empresa         \n",
       "50 Trials in Vaccinology                                                  \n",
       "51 Korean Journal of Pediatric Infectious Diseases                        \n",
       "52 Bioscience Education                                                   \n",
       "53 Advanced Materials Letters                                             \n",
       "54 Optical Nanoscopy                                                      \n",
       "55 ISRN Mechanical Engineering                                            \n",
       "56 South Asian Journal of Cancer                                          \n",
       "57 Contemporary Engineering Sciences                                      \n",
       "58 ISRN Communications and Networking                                     \n",
       "59 Video Journal and Encyclopedia of GI Endoscopy                         \n",
       "60 International Journal of Research in Ayurveda and Pharmacy             \n",
       "61 ISRN Signal Processing                                                 \n",
       "62 ISRN Civil Engineering                                                 \n",
       "63 Journal of Nonlinear Science and Applications                          \n",
       "64 International Journal of Applied Linguistics and English Literature    \n",
       "65 Journal of Signal Transduction                                         \n",
       "66 American Journal of Engineering and Applied Sciences                   \n",
       "67 International Journal of Future Generation Communication and Networking\n",
       "68 Applied Petrochemical Research                                         \n",
       "69 SAGE Open Medicine                                                     \n",
       "70 ISRN Dermatology                                                       \n",
       "   active open_access scihub crossref coverage \n",
       "1  0      1           469    1259     0.3725200\n",
       "2  0      1           347     475     0.7305300\n",
       "3  0      1           117     232     0.5043100\n",
       "4  0      1           757    1507     0.5023200\n",
       "5  0      1           196     198     0.9899000\n",
       "6  0      1            36    1815     0.0198350\n",
       "7  0      1             0      27     0.0000000\n",
       "8  0      1             0     843     0.0000000\n",
       "9  0      1            30      34     0.8823500\n",
       "10 0      1             0     106     0.0000000\n",
       "11 0      1            46    3989     0.0115320\n",
       "12 0      1             8    1646     0.0048603\n",
       "13 0      1             2     756     0.0026455\n",
       "14 0      1             1     344     0.0029070\n",
       "15 0      1           769     970     0.7927800\n",
       "16 0      1            29    2719     0.0106660\n",
       "17 0      1           119     121     0.9834700\n",
       "18 0      1             6     616     0.0097403\n",
       "19 0      1            11     530     0.0207550\n",
       "20 0      1             0     196     0.0000000\n",
       "21 0      1           136     152     0.8947400\n",
       "22 0      1            54     256     0.2109400\n",
       "23 0      1             0     511     0.0000000\n",
       "24 0      1             0     106     0.0000000\n",
       "25 0      1            26      26     1.0000000\n",
       "26 0      1             5      21     0.2381000\n",
       "27 0      1            91     350     0.2600000\n",
       "28 0      1            54     424     0.1273600\n",
       "29 0      1           625    1741     0.3589900\n",
       "30 0      1             0      40     0.0000000\n",
       "⋮  ⋮      ⋮           ⋮      ⋮        ⋮        \n",
       "41 0      1             6    1484     0.0040431\n",
       "42 0      1             0      80     0.0000000\n",
       "43 0      1             5    1141     0.0043821\n",
       "44 0      1             2     608     0.0032895\n",
       "45 0      1             2      71     0.0281690\n",
       "46 0      1            13      37     0.3513500\n",
       "47 0      1             1     229     0.0043668\n",
       "48 0      1           123     123     1.0000000\n",
       "49 0      1           197     197     1.0000000\n",
       "50 0      1            80      81     0.9876500\n",
       "51 0      1             0      27     0.0000000\n",
       "52 0      1           216     263     0.8212900\n",
       "53 0      1            52     907     0.0573320\n",
       "54 0      1            19      20     0.9500000\n",
       "55 0      1           120     137     0.8759100\n",
       "56 0      1             4     403     0.0099256\n",
       "57 0      1             9     616     0.0146100\n",
       "58 0      1             8      67     0.1194000\n",
       "59 0      1           297     297     1.0000000\n",
       "60 0      1             2     863     0.0023175\n",
       "61 0      1             5      84     0.0595240\n",
       "62 0      1            60      71     0.8450700\n",
       "63 0      1             0     111     0.0000000\n",
       "64 0      1             0    1010     0.0000000\n",
       "65 0      1            73     112     0.6517900\n",
       "66 0      1             2     658     0.0030395\n",
       "67 0      1            11     770     0.0142860\n",
       "68 0      1           172     174     0.9885100\n",
       "69 0      1           206     287     0.7177700\n",
       "70 0      1            96     100     0.9600000"
      ]
     },
     "metadata": {},
     "output_type": "display_data"
    }
   ],
   "source": [
    "journal_df %>%\n",
    "  dplyr::filter(active == 0) %>%\n",
    "  dplyr::filter(open_access == 1)"
   ]
  },
  {
   "cell_type": "code",
   "execution_count": 7,
   "metadata": {},
   "outputs": [
    {
     "data": {
      "text/html": [
       "<table>\n",
       "<thead><tr><th scope=col>active</th><th scope=col>n_journals</th></tr></thead>\n",
       "<tbody>\n",
       "\t<tr><td>0    </td><td> 4598</td></tr>\n",
       "\t<tr><td>1    </td><td>18439</td></tr>\n",
       "</tbody>\n",
       "</table>\n"
      ],
      "text/latex": [
       "\\begin{tabular}{r|ll}\n",
       " active & n\\_journals\\\\\n",
       "\\hline\n",
       "\t 0     &  4598\\\\\n",
       "\t 1     & 18439\\\\\n",
       "\\end{tabular}\n"
      ],
      "text/markdown": [
       "\n",
       "active | n_journals | \n",
       "|---|---|\n",
       "| 0     |  4598 | \n",
       "| 1     | 18439 | \n",
       "\n",
       "\n"
      ],
      "text/plain": [
       "  active n_journals\n",
       "1 0       4598     \n",
       "2 1      18439     "
      ]
     },
     "metadata": {},
     "output_type": "display_data"
    },
    {
     "data": {
      "text/html": [
       "<table>\n",
       "<thead><tr><th scope=col>open_access</th><th scope=col>n_journals</th></tr></thead>\n",
       "<tbody>\n",
       "\t<tr><td>0    </td><td>20104</td></tr>\n",
       "\t<tr><td>1    </td><td> 2933</td></tr>\n",
       "</tbody>\n",
       "</table>\n"
      ],
      "text/latex": [
       "\\begin{tabular}{r|ll}\n",
       " open\\_access & n\\_journals\\\\\n",
       "\\hline\n",
       "\t 0     & 20104\\\\\n",
       "\t 1     &  2933\\\\\n",
       "\\end{tabular}\n"
      ],
      "text/markdown": [
       "\n",
       "open_access | n_journals | \n",
       "|---|---|\n",
       "| 0     | 20104 | \n",
       "| 1     |  2933 | \n",
       "\n",
       "\n"
      ],
      "text/plain": [
       "  open_access n_journals\n",
       "1 0           20104     \n",
       "2 1            2933     "
      ]
     },
     "metadata": {},
     "output_type": "display_data"
    },
    {
     "data": {
      "text/html": [
       "<table>\n",
       "<thead><tr><th scope=col>active</th><th scope=col>open_access</th><th scope=col>n_journals</th></tr></thead>\n",
       "<tbody>\n",
       "\t<tr><td>0    </td><td>0    </td><td> 4528</td></tr>\n",
       "\t<tr><td>0    </td><td>1    </td><td>   70</td></tr>\n",
       "\t<tr><td>1    </td><td>0    </td><td>15576</td></tr>\n",
       "\t<tr><td>1    </td><td>1    </td><td> 2863</td></tr>\n",
       "</tbody>\n",
       "</table>\n"
      ],
      "text/latex": [
       "\\begin{tabular}{r|lll}\n",
       " active & open\\_access & n\\_journals\\\\\n",
       "\\hline\n",
       "\t 0     & 0     &  4528\\\\\n",
       "\t 0     & 1     &    70\\\\\n",
       "\t 1     & 0     & 15576\\\\\n",
       "\t 1     & 1     &  2863\\\\\n",
       "\\end{tabular}\n"
      ],
      "text/markdown": [
       "\n",
       "active | open_access | n_journals | \n",
       "|---|---|---|---|\n",
       "| 0     | 0     |  4528 | \n",
       "| 0     | 1     |    70 | \n",
       "| 1     | 0     | 15576 | \n",
       "| 1     | 1     |  2863 | \n",
       "\n",
       "\n"
      ],
      "text/plain": [
       "  active open_access n_journals\n",
       "1 0      0            4528     \n",
       "2 0      1              70     \n",
       "3 1      0           15576     \n",
       "4 1      1            2863     "
      ]
     },
     "metadata": {},
     "output_type": "display_data"
    }
   ],
   "source": [
    "# Active and OA status counts\n",
    "journal_df %>%\n",
    "  dplyr::group_by(active) %>%\n",
    "  dplyr::summarize(n_journals = n())\n",
    "\n",
    "journal_df %>%\n",
    "  dplyr::group_by(open_access) %>%\n",
    "  dplyr::summarize(n_journals = n())\n",
    "\n",
    "journal_df %>%\n",
    "  dplyr::group_by(active, open_access) %>%\n",
    "  dplyr::summarize(n_journals = n())"
   ]
  },
  {
   "cell_type": "code",
   "execution_count": 8,
   "metadata": {},
   "outputs": [
    {
     "data": {
      "text/html": [
       "2574"
      ],
      "text/latex": [
       "2574"
      ],
      "text/markdown": [
       "2574"
      ],
      "text/plain": [
       "[1] 2574"
      ]
     },
     "metadata": {},
     "output_type": "display_data"
    },
    {
     "data": {
      "text/html": [
       "<table>\n",
       "<thead><tr><th scope=col>active</th><th scope=col>n_journals</th></tr></thead>\n",
       "<tbody>\n",
       "\t<tr><td>0   </td><td> 572</td></tr>\n",
       "\t<tr><td>1   </td><td>2002</td></tr>\n",
       "</tbody>\n",
       "</table>\n"
      ],
      "text/latex": [
       "\\begin{tabular}{r|ll}\n",
       " active & n\\_journals\\\\\n",
       "\\hline\n",
       "\t 0    &  572\\\\\n",
       "\t 1    & 2002\\\\\n",
       "\\end{tabular}\n"
      ],
      "text/markdown": [
       "\n",
       "active | n_journals | \n",
       "|---|---|\n",
       "| 0    |  572 | \n",
       "| 1    | 2002 | \n",
       "\n",
       "\n"
      ],
      "text/plain": [
       "  active n_journals\n",
       "1 0       572      \n",
       "2 1      2002      "
      ]
     },
     "metadata": {},
     "output_type": "display_data"
    },
    {
     "data": {
      "text/html": [
       "<table>\n",
       "<thead><tr><th scope=col>open_access</th><th scope=col>n_journals</th></tr></thead>\n",
       "<tbody>\n",
       "\t<tr><td>0   </td><td>1857</td></tr>\n",
       "\t<tr><td>1   </td><td> 717</td></tr>\n",
       "</tbody>\n",
       "</table>\n"
      ],
      "text/latex": [
       "\\begin{tabular}{r|ll}\n",
       " open\\_access & n\\_journals\\\\\n",
       "\\hline\n",
       "\t 0    & 1857\\\\\n",
       "\t 1    &  717\\\\\n",
       "\\end{tabular}\n"
      ],
      "text/markdown": [
       "\n",
       "open_access | n_journals | \n",
       "|---|---|\n",
       "| 0    | 1857 | \n",
       "| 1    |  717 | \n",
       "\n",
       "\n"
      ],
      "text/plain": [
       "  open_access n_journals\n",
       "1 0           1857      \n",
       "2 1            717      "
      ]
     },
     "metadata": {},
     "output_type": "display_data"
    }
   ],
   "source": [
    "# Zero-coverage journals\n",
    "\n",
    "zero_df = journal_df %>%\n",
    "  dplyr::filter(scihub == 0)\n",
    "\n",
    "nrow(zero_df)\n",
    "\n",
    "zero_df %>%\n",
    "  dplyr::group_by(active) %>%\n",
    "  dplyr::summarize(n_journals = n())\n",
    "\n",
    "zero_df %>%\n",
    "  dplyr::group_by(open_access) %>%\n",
    "  dplyr::summarize(n_journals = n())"
   ]
  },
  {
   "cell_type": "code",
   "execution_count": 9,
   "metadata": {},
   "outputs": [
    {
     "data": {
      "text/html": [
       "2095"
      ],
      "text/latex": [
       "2095"
      ],
      "text/markdown": [
       "2095"
      ],
      "text/plain": [
       "[1] 2095"
      ]
     },
     "metadata": {},
     "output_type": "display_data"
    },
    {
     "data": {
      "text/html": [
       "<table>\n",
       "<thead><tr><th scope=col>active</th><th scope=col>n_journals</th></tr></thead>\n",
       "<tbody>\n",
       "\t<tr><td>0   </td><td>1709</td></tr>\n",
       "\t<tr><td>1   </td><td> 386</td></tr>\n",
       "</tbody>\n",
       "</table>\n"
      ],
      "text/latex": [
       "\\begin{tabular}{r|ll}\n",
       " active & n\\_journals\\\\\n",
       "\\hline\n",
       "\t 0    & 1709\\\\\n",
       "\t 1    &  386\\\\\n",
       "\\end{tabular}\n"
      ],
      "text/markdown": [
       "\n",
       "active | n_journals | \n",
       "|---|---|\n",
       "| 0    | 1709 | \n",
       "| 1    |  386 | \n",
       "\n",
       "\n"
      ],
      "text/plain": [
       "  active n_journals\n",
       "1 0      1709      \n",
       "2 1       386      "
      ]
     },
     "metadata": {},
     "output_type": "display_data"
    },
    {
     "data": {
      "text/html": [
       "<table>\n",
       "<thead><tr><th scope=col>open_access</th><th scope=col>n_journals</th></tr></thead>\n",
       "<tbody>\n",
       "\t<tr><td>0   </td><td>2054</td></tr>\n",
       "\t<tr><td>1   </td><td>  41</td></tr>\n",
       "</tbody>\n",
       "</table>\n"
      ],
      "text/latex": [
       "\\begin{tabular}{r|ll}\n",
       " open\\_access & n\\_journals\\\\\n",
       "\\hline\n",
       "\t 0    & 2054\\\\\n",
       "\t 1    &   41\\\\\n",
       "\\end{tabular}\n"
      ],
      "text/markdown": [
       "\n",
       "open_access | n_journals | \n",
       "|---|---|\n",
       "| 0    | 2054 | \n",
       "| 1    |   41 | \n",
       "\n",
       "\n"
      ],
      "text/plain": [
       "  open_access n_journals\n",
       "1 0           2054      \n",
       "2 1             41      "
      ]
     },
     "metadata": {},
     "output_type": "display_data"
    }
   ],
   "source": [
    "# Perfect-coverage journals\n",
    "\n",
    "complete_df = journal_df %>%\n",
    "  dplyr::filter(scihub == crossref)\n",
    "\n",
    "nrow(complete_df)\n",
    "\n",
    "complete_df %>%\n",
    "  dplyr::group_by(active) %>%\n",
    "  dplyr::summarize(n_journals = n())\n",
    "\n",
    "complete_df %>%\n",
    "  dplyr::group_by(open_access) %>%\n",
    "  dplyr::summarize(n_journals = n())"
   ]
  },
  {
   "cell_type": "markdown",
   "metadata": {},
   "source": [
    "## Read external Scopus data"
   ]
  },
  {
   "cell_type": "code",
   "execution_count": 10,
   "metadata": {
    "collapsed": true
   },
   "outputs": [],
   "source": [
    "config = '00.configuration.json' %>% jsonlite::read_json()"
   ]
  },
  {
   "cell_type": "code",
   "execution_count": 11,
   "metadata": {},
   "outputs": [
    {
     "data": {
      "text/html": [
       "<table>\n",
       "<thead><tr><th scope=col>scopus_id</th><th scope=col>asjc_code</th><th scope=col>asjc_description</th></tr></thead>\n",
       "<tbody>\n",
       "\t<tr><td>12000           </td><td>1700            </td><td>Computer Science</td></tr>\n",
       "\t<tr><td>12000           </td><td>3300            </td><td>Social Sciences </td></tr>\n",
       "</tbody>\n",
       "</table>\n"
      ],
      "text/latex": [
       "\\begin{tabular}{r|lll}\n",
       " scopus\\_id & asjc\\_code & asjc\\_description\\\\\n",
       "\\hline\n",
       "\t 12000            & 1700             & Computer Science\\\\\n",
       "\t 12000            & 3300             & Social Sciences \\\\\n",
       "\\end{tabular}\n"
      ],
      "text/markdown": [
       "\n",
       "scopus_id | asjc_code | asjc_description | \n",
       "|---|---|\n",
       "| 12000            | 1700             | Computer Science | \n",
       "| 12000            | 3300             | Social Sciences  | \n",
       "\n",
       "\n"
      ],
      "text/plain": [
       "  scopus_id asjc_code asjc_description\n",
       "1 12000     1700      Computer Science\n",
       "2 12000     3300      Social Sciences "
      ]
     },
     "metadata": {},
     "output_type": "display_data"
    }
   ],
   "source": [
    "# Read scopus subject areas\n",
    "subject_df = paste0(config$scopus_url, 'data/subject-areas.tsv') %>%\n",
    "  readr::read_tsv(col_types = scopus_col_types)\n",
    "head(subject_df, 2)"
   ]
  },
  {
   "cell_type": "code",
   "execution_count": 12,
   "metadata": {
    "scrolled": true
   },
   "outputs": [
    {
     "data": {
      "text/html": [
       "<table>\n",
       "<thead><tr><th scope=col>scopus_id</th><th scope=col>top_level_subject</th></tr></thead>\n",
       "<tbody>\n",
       "\t<tr><td>12000            </td><td>Physical Sciences</td></tr>\n",
       "\t<tr><td>12000            </td><td>Social Sciences  </td></tr>\n",
       "</tbody>\n",
       "</table>\n"
      ],
      "text/latex": [
       "\\begin{tabular}{r|ll}\n",
       " scopus\\_id & top\\_level\\_subject\\\\\n",
       "\\hline\n",
       "\t 12000             & Physical Sciences\\\\\n",
       "\t 12000             & Social Sciences  \\\\\n",
       "\\end{tabular}\n"
      ],
      "text/markdown": [
       "\n",
       "scopus_id | top_level_subject | \n",
       "|---|---|\n",
       "| 12000             | Physical Sciences | \n",
       "| 12000             | Social Sciences   | \n",
       "\n",
       "\n"
      ],
      "text/plain": [
       "  scopus_id top_level_subject\n",
       "1 12000     Physical Sciences\n",
       "2 12000     Social Sciences  "
      ]
     },
     "metadata": {},
     "output_type": "display_data"
    }
   ],
   "source": [
    "# Read scopus top-level subjects\n",
    "top_df = paste0(config$scopus_url, 'data/title-top-levels.tsv') %>%\n",
    "  readr::read_tsv(col_types = scopus_col_types)\n",
    "head(top_df, 2)"
   ]
  },
  {
   "cell_type": "code",
   "execution_count": 13,
   "metadata": {},
   "outputs": [
    {
     "data": {
      "text/html": [
       "<table>\n",
       "<thead><tr><th scope=col>scopus_id</th><th scope=col>active</th><th scope=col>open_access</th><th scope=col>main_publisher</th><th scope=col>source_type</th><th scope=col>publisher_country</th></tr></thead>\n",
       "<tbody>\n",
       "\t<tr><td>12000                    </td><td>0                        </td><td>0                        </td><td>Columbus State University</td><td>Journal                  </td><td>United States            </td></tr>\n",
       "\t<tr><td>12001                    </td><td>1                        </td><td>0                        </td><td>Wiley-Blackwell          </td><td>Journal                  </td><td>United States            </td></tr>\n",
       "</tbody>\n",
       "</table>\n"
      ],
      "text/latex": [
       "\\begin{tabular}{r|llllll}\n",
       " scopus\\_id & active & open\\_access & main\\_publisher & source\\_type & publisher\\_country\\\\\n",
       "\\hline\n",
       "\t 12000                     & 0                         & 0                         & Columbus State University & Journal                   & United States            \\\\\n",
       "\t 12001                     & 1                         & 0                         & Wiley-Blackwell           & Journal                   & United States            \\\\\n",
       "\\end{tabular}\n"
      ],
      "text/markdown": [
       "\n",
       "scopus_id | active | open_access | main_publisher | source_type | publisher_country | \n",
       "|---|---|\n",
       "| 12000                     | 0                         | 0                         | Columbus State University | Journal                   | United States             | \n",
       "| 12001                     | 1                         | 0                         | Wiley-Blackwell           | Journal                   | United States             | \n",
       "\n",
       "\n"
      ],
      "text/plain": [
       "  scopus_id active open_access main_publisher            source_type\n",
       "1 12000     0      0           Columbus State University Journal    \n",
       "2 12001     1      0           Wiley-Blackwell           Journal    \n",
       "  publisher_country\n",
       "1 United States    \n",
       "2 United States    "
      ]
     },
     "metadata": {},
     "output_type": "display_data"
    }
   ],
   "source": [
    "# Read scopus title attibutes\n",
    "attribute_df = paste0(config$scopus_url, 'data/title-attributes.tsv') %>%\n",
    "  readr::read_tsv(col_types = scopus_col_types)\n",
    "head(attribute_df, 2)"
   ]
  },
  {
   "cell_type": "markdown",
   "metadata": {},
   "source": [
    "## Compute coverage by category"
   ]
  },
  {
   "cell_type": "code",
   "execution_count": 14,
   "metadata": {},
   "outputs": [
    {
     "name": "stderr",
     "output_type": "stream",
     "text": [
      "Joining, by = \"scopus_id\"\n",
      "Joining, by = \"scopus_id\"\n",
      "Joining, by = \"scopus_id\"\n"
     ]
    },
    {
     "data": {
      "text/html": [
       "<table>\n",
       "<thead><tr><th scope=col>facet</th><th scope=col>category</th><th scope=col>journals</th><th scope=col>scihub</th><th scope=col>crossref_open_access</th><th scope=col>crossref_active</th><th scope=col>crossref</th><th scope=col>coverage</th></tr></thead>\n",
       "<tbody>\n",
       "\t<tr><td>Active                </td><td>Active                </td><td>18439                 </td><td>42436405              </td><td>2819534               </td><td>50448932              </td><td>50448932              </td><td>0.8411755             </td></tr>\n",
       "\t<tr><td>Active                </td><td>Inactive              </td><td> 4598                 </td><td> 5361319              </td><td>  35825               </td><td>       0              </td><td> 6939998              </td><td>0.7725246             </td></tr>\n",
       "\t<tr><td>Country of Publication</td><td>Argentina             </td><td>   17                 </td><td>    1943              </td><td>   2558               </td><td>    4680              </td><td>    5638              </td><td>0.3446258             </td></tr>\n",
       "\t<tr><td>Country of Publication</td><td>Australia             </td><td>  136                 </td><td>   78056              </td><td>  12786               </td><td>   99546              </td><td>  160141              </td><td>0.4874205             </td></tr>\n",
       "\t<tr><td>Country of Publication</td><td>Austria               </td><td>   26                 </td><td>   16344              </td><td>   1374               </td><td>   19017              </td><td>   20127              </td><td>0.8120435             </td></tr>\n",
       "\t<tr><td>Country of Publication</td><td>Azerbaijan            </td><td>    1                 </td><td>       0              </td><td>      0               </td><td>     310              </td><td>     310              </td><td>0.0000000             </td></tr>\n",
       "</tbody>\n",
       "</table>\n"
      ],
      "text/latex": [
       "\\begin{tabular}{r|llllllll}\n",
       " facet & category & journals & scihub & crossref\\_open\\_access & crossref\\_active & crossref & coverage\\\\\n",
       "\\hline\n",
       "\t Active                 & Active                 & 18439                  & 42436405               & 2819534                & 50448932               & 50448932               & 0.8411755             \\\\\n",
       "\t Active                 & Inactive               &  4598                  &  5361319               &   35825                &        0               &  6939998               & 0.7725246             \\\\\n",
       "\t Country of Publication & Argentina              &    17                  &     1943               &    2558                &     4680               &     5638               & 0.3446258             \\\\\n",
       "\t Country of Publication & Australia              &   136                  &    78056               &   12786                &    99546               &   160141               & 0.4874205             \\\\\n",
       "\t Country of Publication & Austria                &    26                  &    16344               &    1374                &    19017               &    20127               & 0.8120435             \\\\\n",
       "\t Country of Publication & Azerbaijan             &     1                  &        0               &       0                &      310               &      310               & 0.0000000             \\\\\n",
       "\\end{tabular}\n"
      ],
      "text/markdown": [
       "\n",
       "facet | category | journals | scihub | crossref_open_access | crossref_active | crossref | coverage | \n",
       "|---|---|---|---|---|---|\n",
       "| Active                 | Active                 | 18439                  | 42436405               | 2819534                | 50448932               | 50448932               | 0.8411755              | \n",
       "| Active                 | Inactive               |  4598                  |  5361319               |   35825                |        0               |  6939998               | 0.7725246              | \n",
       "| Country of Publication | Argentina              |    17                  |     1943               |    2558                |     4680               |     5638               | 0.3446258              | \n",
       "| Country of Publication | Australia              |   136                  |    78056               |   12786                |    99546               |   160141               | 0.4874205              | \n",
       "| Country of Publication | Austria                |    26                  |    16344               |    1374                |    19017               |    20127               | 0.8120435              | \n",
       "| Country of Publication | Azerbaijan             |     1                  |        0               |       0                |      310               |      310               | 0.0000000              | \n",
       "\n",
       "\n"
      ],
      "text/plain": [
       "  facet                  category   journals scihub   crossref_open_access\n",
       "1 Active                 Active     18439    42436405 2819534             \n",
       "2 Active                 Inactive    4598     5361319   35825             \n",
       "3 Country of Publication Argentina     17        1943    2558             \n",
       "4 Country of Publication Australia    136       78056   12786             \n",
       "5 Country of Publication Austria       26       16344    1374             \n",
       "6 Country of Publication Azerbaijan     1           0       0             \n",
       "  crossref_active crossref coverage \n",
       "1 50448932        50448932 0.8411755\n",
       "2        0         6939998 0.7725246\n",
       "3     4680            5638 0.3446258\n",
       "4    99546          160141 0.4874205\n",
       "5    19017           20127 0.8120435\n",
       "6      310             310 0.0000000"
      ]
     },
     "metadata": {},
     "output_type": "display_data"
    }
   ],
   "source": [
    "coverage_df = dplyr::bind_rows(\n",
    "  # Top-Level Subjects\n",
    "  journal_df %>%\n",
    "    dplyr::inner_join(top_df) %>%\n",
    "    dplyr::rename(category = top_level_subject) %>%\n",
    "    dplyr::mutate(facet = 'Top-Level'),\n",
    "  # Subject Areas\n",
    "  journal_df %>%\n",
    "    dplyr::inner_join(subject_df) %>%\n",
    "    dplyr::select(-asjc_code) %>%\n",
    "    dplyr::rename(category = asjc_description) %>%\n",
    "    dplyr::mutate(facet = 'Subject Area'),\n",
    "  # Journal Attributes\n",
    "  attribute_df %>%\n",
    "    dplyr::mutate(\n",
    "      open_access = dplyr::recode(open_access, `0`='Toll', `1`='Open'),\n",
    "      active = dplyr::recode(active, `0`='Inactive', `1`='Active')\n",
    "    ) %>%\n",
    "    tidyr::gather(key = 'facet', value = 'category', active:publisher_country) %>%\n",
    "    dplyr::mutate(facet = dplyr::recode(facet,\n",
    "      active='Active', open_access='Open', source_type='Type',\n",
    "      main_publisher='Publisher', publisher_country='Country of Publication')) %>%\n",
    "    dplyr::inner_join(journal_df)\n",
    "  ) %>%\n",
    "  # Summarize coverage across journals\n",
    "  dplyr::filter(!is.na(category)) %>%\n",
    "  dplyr::group_by(facet, category) %>%\n",
    "  dplyr::summarize(\n",
    "    journals = n(),\n",
    "    scihub = sum(scihub),\n",
    "    crossref_open_access = sum(crossref[open_access == 1]),\n",
    "    crossref_active = sum(crossref[active == 1]),\n",
    "    crossref = sum(crossref),\n",
    "    coverage = scihub / crossref\n",
    "  ) %>%\n",
    "  dplyr::ungroup()\n",
    "\n",
    "head(coverage_df)"
   ]
  },
  {
   "cell_type": "code",
   "execution_count": 15,
   "metadata": {
    "collapsed": true
   },
   "outputs": [],
   "source": [
    "coverage_df %>%\n",
    "  readr::write_tsv(file.path('data', 'coverage-by-category.tsv'))"
   ]
  },
  {
   "cell_type": "markdown",
   "metadata": {},
   "source": [
    "## Journal / Publisher coverage distributions"
   ]
  },
  {
   "cell_type": "code",
   "execution_count": 16,
   "metadata": {
    "collapsed": true
   },
   "outputs": [],
   "source": [
    "# Set figure dimensions\n",
    "width = 4\n",
    "height = 3\n",
    "options(repr.plot.width=width, repr.plot.height=height)\n",
    "\n",
    "gg = coverage_df %>%\n",
    "  dplyr::bind_rows(journal_df %>%\n",
    "    dplyr::transmute(facet='Journal', category=title_name, scihub, crossref, coverage)\n",
    "  ) %>%\n",
    "  dplyr::filter(facet %in% c('Journal', 'Publisher')) %>%\n",
    "  ggplot2::ggplot(ggplot2::aes(x = coverage)) +\n",
    "  ggplot2::facet_grid(facet ~ ., scales='free_y') +\n",
    "  ggplot2::geom_histogram(binwidth = 0.025, fill='#990000', color='white', size=0.4) +\n",
    "  ggplot2::scale_x_continuous(labels = scales::percent, name=NULL, expand = c(0.01, 0), breaks=seq(0, 1, 0.2)) +\n",
    "  ggplot2::scale_y_continuous(name=NULL, expand = c(0.015, 0)) +\n",
    "  ggplot2::theme_bw() +\n",
    "  ggplot2::theme(strip.background = ggplot2::element_rect(fill = '#FEF2E2'))\n",
    "\n",
    "file.path('figure', 'coverage-distributions.svg') %>%\n",
    "  ggplot2::ggsave(gg, width=width, height=height)"
   ]
  },
  {
   "cell_type": "markdown",
   "metadata": {},
   "source": [
    "## Facet-category plotting functions"
   ]
  },
  {
   "cell_type": "code",
   "execution_count": 17,
   "metadata": {
    "collapsed": true
   },
   "outputs": [],
   "source": [
    "abbreviate_number <- function(x) {\n",
    "  x = round(x)\n",
    "  if (nchar(x) <= 3) {return(x)}\n",
    "  if (nchar(x) <= 5) {\n",
    "    return(paste0(signif(x / 1e3, digits = 2), 'K'))\n",
    "  }\n",
    "  if (nchar(x) <= 6) {\n",
    "    return(paste0(round(x / 1e3), 'K'))\n",
    "  }\n",
    "  return(paste0(signif(x / 1e6, digits = 2), 'M'))\n",
    "}\n",
    "\n",
    "abbreviate_number <- Vectorize(abbreviate_number)"
   ]
  },
  {
   "cell_type": "code",
   "execution_count": 18,
   "metadata": {
    "collapsed": true
   },
   "outputs": [],
   "source": [
    "plot_coverage <- function(coverage_df, breaks=seq(0, 1, 0.1), text_size=2) {\n",
    "  # Function to plot Sci-Hub coverage\n",
    "\n",
    "  plot_df = coverage_df %>%\n",
    "    dplyr::arrange(coverage) %>%\n",
    "    dplyr::mutate(category = factor(category, levels=unique(category)))\n",
    "    \n",
    "    if ('journals' %in% colnames(plot_df)) {\n",
    "      plot_df = plot_df %>%\n",
    "        dplyr::mutate(label =\n",
    "        sprintf('%s — %s journals, %s of %s articles (%s)',\n",
    "            category,\n",
    "            abbreviate_number(journals),\n",
    "            abbreviate_number(scihub),\n",
    "            abbreviate_number(crossref),\n",
    "            scales::percent(coverage)\n",
    "        ))\n",
    "    } else {\n",
    "      plot_df = plot_df %>%\n",
    "        dplyr::mutate(label =\n",
    "        sprintf('%s — %s of %s articles (%s)',\n",
    "            category,\n",
    "            abbreviate_number(scihub),\n",
    "            abbreviate_number(crossref),\n",
    "            scales::percent(coverage)\n",
    "        ))\n",
    "    }\n",
    "\n",
    "    gg = plot_df %>%\n",
    "      ggplot2::ggplot(ggplot2::aes(x = category, y = coverage)) +\n",
    "      ggplot2::geom_col(fill='#efdada') +\n",
    "      ggplot2::facet_grid(facet ~ ., scales='free', space='free_y', shrink = TRUE) +\n",
    "      ggplot2::theme_bw() +\n",
    "      ggplot2::coord_flip() +\n",
    "      ggplot2::expand_limits(y = 1) + \n",
    "      ggplot2::scale_x_discrete(name = NULL, labels=NULL) +\n",
    "      ggplot2::scale_y_continuous(\n",
    "        breaks=breaks, labels=scales::percent,\n",
    "        expand = c(0, 0), name = 'Sci-Hub’s Coverage') +\n",
    "      ggplot2::theme(strip.background = ggplot2::element_rect(fill = '#FEF2E2')) +\n",
    "      ggplot2::theme(\n",
    "        axis.ticks.y = ggplot2::element_blank(),\n",
    "        panel.grid.major.y = ggplot2::element_blank()) +\n",
    "      ggplot2::theme(plot.margin=grid::unit(c(2, 2, 2, 5), 'points')) +\n",
    "      ggplot2::geom_text(ggplot2::aes(label = label), y = 0.01, size=text_size, hjust='inward', color='#000000')\n",
    "\n",
    "    return(gg)\n",
    "}"
   ]
  },
  {
   "cell_type": "markdown",
   "metadata": {},
   "source": [
    "## Plot coverage by journal status and subject areas"
   ]
  },
  {
   "cell_type": "code",
   "execution_count": 19,
   "metadata": {
    "collapsed": true,
    "scrolled": false
   },
   "outputs": [],
   "source": [
    "# Set figure dimensions\n",
    "width = 5\n",
    "height = 6\n",
    "options(repr.plot.width=width, repr.plot.height=height)\n",
    "\n",
    "gg = coverage_df %>%\n",
    "  dplyr::filter(facet %in% c('Active', 'Open', 'Subject Area')) %>%\n",
    "  plot_coverage(text_size=2.4)\n",
    "\n",
    "file.path('figure', 'coverage.svg') %>%\n",
    "  ggplot2::ggsave(gg, width=width, height=height)"
   ]
  },
  {
   "cell_type": "markdown",
   "metadata": {},
   "source": [
    "## Plot coverage by country of publication"
   ]
  },
  {
   "cell_type": "code",
   "execution_count": 20,
   "metadata": {
    "collapsed": true
   },
   "outputs": [],
   "source": [
    "# Set figure dimensions\n",
    "width = 5\n",
    "height = 3.5\n",
    "options(repr.plot.width=width, repr.plot.height=height)\n",
    "\n",
    "gg = coverage_df %>%\n",
    "  dplyr::filter(facet %in% c('Country of Publication')) %>%\n",
    "  dplyr::filter(crossref > 100000) %>%\n",
    "  plot_coverage()\n",
    "\n",
    "file.path('figure', 'coverage-by-country.svg') %>%\n",
    "  ggplot2::ggsave(gg, width=width, height=height)"
   ]
  },
  {
   "cell_type": "markdown",
   "metadata": {},
   "source": [
    "## Plot coverage by publisher"
   ]
  },
  {
   "cell_type": "code",
   "execution_count": 21,
   "metadata": {
    "collapsed": true,
    "scrolled": false
   },
   "outputs": [],
   "source": [
    "# Set figure dimensions\n",
    "width = 5\n",
    "height = 4\n",
    "options(repr.plot.width=width, repr.plot.height=height)\n",
    "\n",
    "gg = coverage_df %>%\n",
    "  dplyr::filter(facet %in% c('Publisher')) %>%\n",
    "  dplyr::filter(crossref > 200000) %>%\n",
    "  plot_coverage()\n",
    "\n",
    "file.path('figure', 'coverage-by-publisher.svg') %>%\n",
    "  ggplot2::ggsave(gg, width=width, height=height)"
   ]
  },
  {
   "cell_type": "markdown",
   "metadata": {},
   "source": [
    "## Crossref metadata coverage"
   ]
  },
  {
   "cell_type": "markdown",
   "metadata": {},
   "source": [
    "### Coverage by Crossref work type"
   ]
  },
  {
   "cell_type": "code",
   "execution_count": 22,
   "metadata": {},
   "outputs": [
    {
     "name": "stderr",
     "output_type": "stream",
     "text": [
      "Parsed with column specification:\n",
      "cols(\n",
      "  type = col_character(),\n",
      "  scihub = col_integer(),\n",
      "  crossref = col_integer(),\n",
      "  coverage = col_double()\n",
      ")\n"
     ]
    },
    {
     "data": {
      "text/html": [
       "<table>\n",
       "<thead><tr><th scope=col>category</th><th scope=col>scihub</th><th scope=col>crossref</th><th scope=col>coverage</th><th scope=col>facet</th></tr></thead>\n",
       "<tbody>\n",
       "\t<tr><td>Book Chapter </td><td>1450999      </td><td>10250455     </td><td>0.1415500    </td><td>Crossref Type</td></tr>\n",
       "\t<tr><td>Book Part    </td><td>      3      </td><td>    1336     </td><td>0.0022455    </td><td>Crossref Type</td></tr>\n",
       "</tbody>\n",
       "</table>\n"
      ],
      "text/latex": [
       "\\begin{tabular}{r|lllll}\n",
       " category & scihub & crossref & coverage & facet\\\\\n",
       "\\hline\n",
       "\t Book Chapter  & 1450999       & 10250455      & 0.1415500     & Crossref Type\\\\\n",
       "\t Book Part     &       3       &     1336      & 0.0022455     & Crossref Type\\\\\n",
       "\\end{tabular}\n"
      ],
      "text/markdown": [
       "\n",
       "category | scihub | crossref | coverage | facet | \n",
       "|---|---|\n",
       "| Book Chapter  | 1450999       | 10250455      | 0.1415500     | Crossref Type | \n",
       "| Book Part     |       3       |     1336      | 0.0022455     | Crossref Type | \n",
       "\n",
       "\n"
      ],
      "text/plain": [
       "  category     scihub  crossref coverage  facet        \n",
       "1 Book Chapter 1450999 10250455 0.1415500 Crossref Type\n",
       "2 Book Part          3     1336 0.0022455 Crossref Type"
      ]
     },
     "metadata": {},
     "output_type": "display_data"
    }
   ],
   "source": [
    "type_df = file.path('data', 'type-coverage.tsv') %>%\n",
    "  readr::read_tsv() %>%\n",
    "  dplyr::mutate(type = tools::toTitleCase(gsub('-', ' ', type))) %>%\n",
    "  dplyr::rename(category = type) %>%\n",
    "  dplyr::mutate(facet = 'Crossref Type')\n",
    "\n",
    "head(type_df, 2)"
   ]
  },
  {
   "cell_type": "code",
   "execution_count": 23,
   "metadata": {
    "collapsed": true
   },
   "outputs": [],
   "source": [
    "# Set figure dimensions\n",
    "width = 3\n",
    "height = 2\n",
    "options(repr.plot.width=width, repr.plot.height=height)\n",
    "\n",
    "gg = type_df %>%\n",
    "  plot_coverage(breaks=seq(0, 1, 0.2), text_size=2.3)\n",
    "\n",
    "file.path('figure', 'coverage-by-type.svg') %>%\n",
    "  ggplot2::ggsave(gg, width=width, height=height)"
   ]
  },
  {
   "cell_type": "markdown",
   "metadata": {},
   "source": [
    "### Coverage by year issued"
   ]
  },
  {
   "cell_type": "code",
   "execution_count": 24,
   "metadata": {},
   "outputs": [
    {
     "name": "stderr",
     "output_type": "stream",
     "text": [
      "Parsed with column specification:\n",
      "cols(\n",
      "  year = col_integer(),\n",
      "  scihub = col_integer(),\n",
      "  crossref = col_integer(),\n",
      "  coverage = col_double()\n",
      ")\n"
     ]
    },
    {
     "data": {
      "text/html": [
       "<table>\n",
       "<thead><tr><th scope=col>year</th><th scope=col>scihub</th><th scope=col>crossref</th><th scope=col>coverage</th></tr></thead>\n",
       "<tbody>\n",
       "\t<tr><td>1678</td><td>0   </td><td>76  </td><td>0   </td></tr>\n",
       "\t<tr><td>1679</td><td>0   </td><td>26  </td><td>0   </td></tr>\n",
       "</tbody>\n",
       "</table>\n"
      ],
      "text/latex": [
       "\\begin{tabular}{r|llll}\n",
       " year & scihub & crossref & coverage\\\\\n",
       "\\hline\n",
       "\t 1678 & 0    & 76   & 0   \\\\\n",
       "\t 1679 & 0    & 26   & 0   \\\\\n",
       "\\end{tabular}\n"
      ],
      "text/markdown": [
       "\n",
       "year | scihub | crossref | coverage | \n",
       "|---|---|\n",
       "| 1678 | 0    | 76   | 0    | \n",
       "| 1679 | 0    | 26   | 0    | \n",
       "\n",
       "\n"
      ],
      "text/plain": [
       "  year scihub crossref coverage\n",
       "1 1678 0      76       0       \n",
       "2 1679 0      26       0       "
      ]
     },
     "metadata": {},
     "output_type": "display_data"
    }
   ],
   "source": [
    "year_df = file.path('data', 'year-coverage.tsv') %>%\n",
    "  readr::read_tsv()\n",
    "\n",
    "head(year_df, 2)"
   ]
  },
  {
   "cell_type": "code",
   "execution_count": 25,
   "metadata": {},
   "outputs": [
    {
     "data": {
      "text/html": [
       "77201782"
      ],
      "text/latex": [
       "77201782"
      ],
      "text/markdown": [
       "77201782"
      ],
      "text/plain": [
       "[1] 77201782"
      ]
     },
     "metadata": {},
     "output_type": "display_data"
    }
   ],
   "source": [
    "# Total number of articles with a valid year\n",
    "sum(year_df$crossref)"
   ]
  },
  {
   "cell_type": "code",
   "execution_count": 26,
   "metadata": {
    "collapsed": true
   },
   "outputs": [],
   "source": [
    "width = 6\n",
    "height = 2.5\n",
    "options(repr.plot.width=width, repr.plot.height=height)\n",
    "\n",
    "gg = year_df %>%\n",
    "  dplyr::filter(year >= 1850) %>%\n",
    "  ggplot2::ggplot(ggplot2::aes(x=year, y=coverage)) +\n",
    "  ggplot2::geom_col(fill='#efdada', color='white', size=0.2) +\n",
    "  ggplot2::expand_limits(y = 1) +\n",
    "  ggplot2::scale_x_continuous(breaks=seq(0, 3000, 20), name = NULL, expand = c(0, 0)) +\n",
    "  ggplot2::scale_y_continuous(\n",
    "    breaks=seq(0, 1, 0.2), labels=scales::percent,\n",
    "    expand = c(0, 0), name = 'Sci-Hub’s Coverage') +\n",
    "  ggplot2::theme_bw()\n",
    "\n",
    "file.path('figure', 'coverage-by-year.svg') %>%\n",
    "  ggplot2::ggsave(gg, width=width, height=height)"
   ]
  },
  {
   "cell_type": "markdown",
   "metadata": {},
   "source": [
    "## Coverage by year and access status"
   ]
  },
  {
   "cell_type": "code",
   "execution_count": 27,
   "metadata": {},
   "outputs": [
    {
     "name": "stderr",
     "output_type": "stream",
     "text": [
      "Parsed with column specification:\n",
      "cols(\n",
      "  year = col_integer(),\n",
      "  open_access = col_integer(),\n",
      "  scihub = col_integer(),\n",
      "  crossref = col_integer(),\n",
      "  coverage = col_double(),\n",
      "  scihub_journals = col_integer(),\n",
      "  crossref_journals = col_integer()\n",
      ")\n"
     ]
    },
    {
     "data": {
      "text/html": [
       "<table>\n",
       "<thead><tr><th scope=col>year</th><th scope=col>open_access</th><th scope=col>scihub</th><th scope=col>crossref</th><th scope=col>coverage</th><th scope=col>scihub_journals</th><th scope=col>crossref_journals</th></tr></thead>\n",
       "<tbody>\n",
       "\t<tr><td>2017   </td><td>0      </td><td>378558 </td><td>611701 </td><td>0.61886</td><td>10122  </td><td>12793  </td></tr>\n",
       "\t<tr><td>2017   </td><td>1      </td><td> 19298 </td><td> 84386 </td><td>0.22869</td><td>  771  </td><td> 1999  </td></tr>\n",
       "</tbody>\n",
       "</table>\n"
      ],
      "text/latex": [
       "\\begin{tabular}{r|lllllll}\n",
       " year & open\\_access & scihub & crossref & coverage & scihub\\_journals & crossref\\_journals\\\\\n",
       "\\hline\n",
       "\t 2017    & 0       & 378558  & 611701  & 0.61886 & 10122   & 12793  \\\\\n",
       "\t 2017    & 1       &  19298  &  84386  & 0.22869 &   771   &  1999  \\\\\n",
       "\\end{tabular}\n"
      ],
      "text/markdown": [
       "\n",
       "year | open_access | scihub | crossref | coverage | scihub_journals | crossref_journals | \n",
       "|---|---|\n",
       "| 2017    | 0       | 378558  | 611701  | 0.61886 | 10122   | 12793   | \n",
       "| 2017    | 1       |  19298  |  84386  | 0.22869 |   771   |  1999   | \n",
       "\n",
       "\n"
      ],
      "text/plain": [
       "  year open_access scihub crossref coverage scihub_journals crossref_journals\n",
       "1 2017 0           378558 611701   0.61886  10122           12793            \n",
       "2 2017 1            19298  84386   0.22869    771            1999            "
      ]
     },
     "metadata": {},
     "output_type": "display_data"
    }
   ],
   "source": [
    "year_oa_df = file.path('data', 'year-coverage-by-access.tsv') %>%\n",
    "  readr::read_tsv()\n",
    "year_oa_df %>% tail(2)"
   ]
  },
  {
   "cell_type": "code",
   "execution_count": 28,
   "metadata": {
    "collapsed": true
   },
   "outputs": [],
   "source": [
    "width = 5\n",
    "height = 3\n",
    "options(repr.plot.width=width, repr.plot.height=height)\n",
    "\n",
    "gg = year_oa_df %>%\n",
    "  dplyr::mutate(open_access = dplyr::recode(open_access, `0`='Toll', `1`='Open')) %>%\n",
    "  dplyr::filter(year >= 1950) %>%\n",
    "  ggplot2::ggplot(ggplot2::aes(x=year, y=coverage)) +\n",
    "  ggplot2::facet_grid(open_access ~ .) +\n",
    "  ggplot2::geom_col(fill='#efdada', color='white', size=0.2) +\n",
    "  ggplot2::expand_limits(y = 1) +\n",
    "  ggplot2::scale_x_continuous(breaks=seq(0, 3000, 10), name = NULL, expand = c(0, 0)) +\n",
    "  ggplot2::scale_y_continuous(\n",
    "    breaks=seq(0.1, 1, 0.2), labels=scales::percent,\n",
    "    expand = c(0, 0), name = 'Sci-Hub’s Coverage') +\n",
    "  ggplot2::theme_bw() +\n",
    "  ggplot2::theme(\n",
    "    strip.background = ggplot2::element_rect(fill = '#FEF2E2'),\n",
    "    plot.margin=grid::unit(c(2, 2, 2, 5), 'points'))\n",
    "\n",
    "file.path('figure', 'coverage-by-year-and-access.svg') %>%\n",
    "  ggplot2::ggsave(gg, width=width, height=height)"
   ]
  }
 ],
 "metadata": {
  "anaconda-cloud": {},
  "kernelspec": {
   "display_name": "R [conda env:scihub]",
   "language": "R",
   "name": "conda-env-scihub-r"
  },
  "language_info": {
   "codemirror_mode": "r",
   "file_extension": ".r",
   "mimetype": "text/x-r-source",
   "name": "R",
   "pygments_lexer": "r",
   "version": "3.3.2"
  }
 },
 "nbformat": 4,
 "nbformat_minor": 1
}
