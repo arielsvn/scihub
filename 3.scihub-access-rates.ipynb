{
 "cells": [
  {
   "cell_type": "markdown",
   "metadata": {},
   "source": [
    "# Sci-Hub Request Logs access rates"
   ]
  },
  {
   "cell_type": "code",
   "execution_count": 1,
   "metadata": {
    "collapsed": true
   },
   "outputs": [],
   "source": [
    "import os\n",
    "import json\n",
    "\n",
    "import pandas"
   ]
  },
  {
   "cell_type": "markdown",
   "metadata": {},
   "source": [
    "## Read DOI and Sci-Hub Request Data"
   ]
  },
  {
   "cell_type": "code",
   "execution_count": 2,
   "metadata": {
    "collapsed": true
   },
   "outputs": [],
   "source": [
    "# Read catalog of Crossref DOIs\n",
    "path = os.path.join('data', 'doi.tsv.xz')\n",
    "doi_df = (\n",
    "    pandas.read_table(path, parse_dates=['issued'])\n",
    "    .dropna(subset=['issued'])\n",
    ")"
   ]
  },
  {
   "cell_type": "code",
   "execution_count": 3,
   "metadata": {
    "collapsed": true
   },
   "outputs": [],
   "source": [
    "# Read catalog of Sci-Hub requests\n",
    "path = os.path.join('download', 'scihub-logs', 'scihub-logs_2015-09_2016-02.tsv.xz')\n",
    "logs_df = pandas.read_table(path, parse_dates=['date'])"
   ]
  },
  {
   "cell_type": "markdown",
   "metadata": {},
   "source": [
    "## Filter logs for valid requests"
   ]
  },
  {
   "cell_type": "code",
   "execution_count": 4,
   "metadata": {},
   "outputs": [
    {
     "data": {
      "text/html": [
       "<div>\n",
       "<style>\n",
       "    .dataframe thead tr:only-child th {\n",
       "        text-align: right;\n",
       "    }\n",
       "\n",
       "    .dataframe thead th {\n",
       "        text-align: left;\n",
       "    }\n",
       "\n",
       "    .dataframe tbody tr th {\n",
       "        vertical-align: top;\n",
       "    }\n",
       "</style>\n",
       "<table border=\"1\" class=\"dataframe\">\n",
       "  <thead>\n",
       "    <tr style=\"text-align: right;\">\n",
       "      <th></th>\n",
       "      <th>doi</th>\n",
       "      <th>type</th>\n",
       "      <th>issued</th>\n",
       "      <th>in_scopus</th>\n",
       "      <th>in_scihub_dois</th>\n",
       "      <th>in_scihub_logs</th>\n",
       "      <th>in_libgen</th>\n",
       "      <th>date</th>\n",
       "      <th>IP_code</th>\n",
       "      <th>country</th>\n",
       "      <th>city</th>\n",
       "      <th>latitude</th>\n",
       "      <th>longitude</th>\n",
       "    </tr>\n",
       "  </thead>\n",
       "  <tbody>\n",
       "    <tr>\n",
       "      <th>0</th>\n",
       "      <td>10.1001/10-v4n2-hsf10003</td>\n",
       "      <td>journal-article</td>\n",
       "      <td>2011-03-01</td>\n",
       "      <td>1</td>\n",
       "      <td>1</td>\n",
       "      <td>1</td>\n",
       "      <td>1</td>\n",
       "      <td>2015-12-21 09:30:10</td>\n",
       "      <td>56ed2bf4914b1</td>\n",
       "      <td>Iran</td>\n",
       "      <td>Isfahan</td>\n",
       "      <td>32.654628</td>\n",
       "      <td>51.667983</td>\n",
       "    </tr>\n",
       "    <tr>\n",
       "      <th>1</th>\n",
       "      <td>10.1001/2012.jama.10159</td>\n",
       "      <td>journal-article</td>\n",
       "      <td>2012-08-22</td>\n",
       "      <td>1</td>\n",
       "      <td>1</td>\n",
       "      <td>1</td>\n",
       "      <td>1</td>\n",
       "      <td>2015-12-15 16:00:02</td>\n",
       "      <td>56ed2c30a1f1e</td>\n",
       "      <td>Iran</td>\n",
       "      <td>Tehran</td>\n",
       "      <td>35.689197</td>\n",
       "      <td>51.388974</td>\n",
       "    </tr>\n",
       "  </tbody>\n",
       "</table>\n",
       "</div>"
      ],
      "text/plain": [
       "                        doi             type     issued  in_scopus  \\\n",
       "0  10.1001/10-v4n2-hsf10003  journal-article 2011-03-01          1   \n",
       "1   10.1001/2012.jama.10159  journal-article 2012-08-22          1   \n",
       "\n",
       "   in_scihub_dois  in_scihub_logs  in_libgen                date  \\\n",
       "0               1               1          1 2015-12-21 09:30:10   \n",
       "1               1               1          1 2015-12-15 16:00:02   \n",
       "\n",
       "         IP_code country     city   latitude  longitude  \n",
       "0  56ed2bf4914b1    Iran  Isfahan  32.654628  51.667983  \n",
       "1  56ed2c30a1f1e    Iran   Tehran  35.689197  51.388974  "
      ]
     },
     "execution_count": 4,
     "metadata": {},
     "output_type": "execute_result"
    }
   ],
   "source": [
    "# Filters requests for DOIs that are not in Crossref\n",
    "logs_df = doi_df.merge(logs_df)\n",
    "\n",
    "# Issued date is before or on request date\n",
    "logs_df.query(\"issued <= date\")\n",
    "\n",
    "logs_df.head(2)"
   ]
  },
  {
   "cell_type": "code",
   "execution_count": 5,
   "metadata": {},
   "outputs": [
    {
     "data": {
      "text/plain": [
       "165"
      ]
     },
     "execution_count": 5,
     "metadata": {},
     "output_type": "execute_result"
    }
   ],
   "source": [
    "# Number of days with requests\n",
    "days_with_requests = logs_df.date.dt.date.unique()\n",
    "len(days_with_requests)"
   ]
  },
  {
   "cell_type": "code",
   "execution_count": 6,
   "metadata": {},
   "outputs": [
    {
     "data": {
      "text/plain": [
       "163544.5515151515"
      ]
     },
     "execution_count": 6,
     "metadata": {},
     "output_type": "execute_result"
    }
   ],
   "source": [
    "# Average requests per day\n",
    "len(logs_df) / len(days_with_requests)"
   ]
  },
  {
   "cell_type": "markdown",
   "metadata": {},
   "source": [
    "## Request hit rates"
   ]
  },
  {
   "cell_type": "code",
   "execution_count": 7,
   "metadata": {},
   "outputs": [
    {
     "data": {
      "text/plain": [
       "in_libgen         0.986497\n",
       "in_scihub_dois    0.992640\n",
       "dtype: float64"
      ]
     },
     "execution_count": 7,
     "metadata": {},
     "output_type": "execute_result"
    }
   ],
   "source": [
    "# Hit rate based on corpus\n",
    "logs_df[['in_libgen', 'in_scihub_dois']].mean()"
   ]
  },
  {
   "cell_type": "code",
   "execution_count": 8,
   "metadata": {},
   "outputs": [
    {
     "data": {
      "text/html": [
       "<div>\n",
       "<style>\n",
       "    .dataframe thead tr:only-child th {\n",
       "        text-align: right;\n",
       "    }\n",
       "\n",
       "    .dataframe thead th {\n",
       "        text-align: left;\n",
       "    }\n",
       "\n",
       "    .dataframe tbody tr th {\n",
       "        vertical-align: top;\n",
       "    }\n",
       "</style>\n",
       "<table border=\"1\" class=\"dataframe\">\n",
       "  <thead>\n",
       "    <tr style=\"text-align: right;\">\n",
       "      <th>in_scihub_dois</th>\n",
       "      <th>0</th>\n",
       "      <th>1</th>\n",
       "      <th>All</th>\n",
       "    </tr>\n",
       "    <tr>\n",
       "      <th>type</th>\n",
       "      <th></th>\n",
       "      <th></th>\n",
       "      <th></th>\n",
       "    </tr>\n",
       "  </thead>\n",
       "  <tbody>\n",
       "    <tr>\n",
       "      <th>book-chapter</th>\n",
       "      <td>196902</td>\n",
       "      <td>901299</td>\n",
       "      <td>1098201</td>\n",
       "    </tr>\n",
       "    <tr>\n",
       "      <th>journal-article</th>\n",
       "      <td>1089</td>\n",
       "      <td>24473825</td>\n",
       "      <td>24474914</td>\n",
       "    </tr>\n",
       "    <tr>\n",
       "      <th>proceedings-article</th>\n",
       "      <td>580</td>\n",
       "      <td>1342208</td>\n",
       "      <td>1342788</td>\n",
       "    </tr>\n",
       "    <tr>\n",
       "      <th>reference-entry</th>\n",
       "      <td>29</td>\n",
       "      <td>67827</td>\n",
       "      <td>67856</td>\n",
       "    </tr>\n",
       "    <tr>\n",
       "      <th>report</th>\n",
       "      <td>0</td>\n",
       "      <td>437</td>\n",
       "      <td>437</td>\n",
       "    </tr>\n",
       "    <tr>\n",
       "      <th>standard</th>\n",
       "      <td>0</td>\n",
       "      <td>655</td>\n",
       "      <td>655</td>\n",
       "    </tr>\n",
       "    <tr>\n",
       "      <th>All</th>\n",
       "      <td>198600</td>\n",
       "      <td>26786251</td>\n",
       "      <td>26984851</td>\n",
       "    </tr>\n",
       "  </tbody>\n",
       "</table>\n",
       "</div>"
      ],
      "text/plain": [
       "in_scihub_dois            0         1       All\n",
       "type                                           \n",
       "book-chapter         196902    901299   1098201\n",
       "journal-article        1089  24473825  24474914\n",
       "proceedings-article     580   1342208   1342788\n",
       "reference-entry          29     67827     67856\n",
       "report                    0       437       437\n",
       "standard                  0       655       655\n",
       "All                  198600  26786251  26984851"
      ]
     },
     "execution_count": 8,
     "metadata": {},
     "output_type": "execute_result"
    }
   ],
   "source": [
    "# Hit rate by article type\n",
    "pandas.crosstab(logs_df.type, logs_df.in_scihub_dois, margins=True)"
   ]
  },
  {
   "cell_type": "code",
   "execution_count": 9,
   "metadata": {},
   "outputs": [
    {
     "data": {
      "text/html": [
       "<div>\n",
       "<style>\n",
       "    .dataframe thead tr:only-child th {\n",
       "        text-align: right;\n",
       "    }\n",
       "\n",
       "    .dataframe thead th {\n",
       "        text-align: left;\n",
       "    }\n",
       "\n",
       "    .dataframe tbody tr th {\n",
       "        vertical-align: top;\n",
       "    }\n",
       "</style>\n",
       "<table border=\"1\" class=\"dataframe\">\n",
       "  <thead>\n",
       "    <tr style=\"text-align: right;\">\n",
       "      <th>in_scihub_dois</th>\n",
       "      <th>0</th>\n",
       "      <th>1</th>\n",
       "    </tr>\n",
       "    <tr>\n",
       "      <th>type</th>\n",
       "      <th></th>\n",
       "      <th></th>\n",
       "    </tr>\n",
       "  </thead>\n",
       "  <tbody>\n",
       "    <tr>\n",
       "      <th>book-chapter</th>\n",
       "      <td>17.929505</td>\n",
       "      <td>82.070495</td>\n",
       "    </tr>\n",
       "    <tr>\n",
       "      <th>journal-article</th>\n",
       "      <td>0.004449</td>\n",
       "      <td>99.995551</td>\n",
       "    </tr>\n",
       "    <tr>\n",
       "      <th>proceedings-article</th>\n",
       "      <td>0.043194</td>\n",
       "      <td>99.956806</td>\n",
       "    </tr>\n",
       "    <tr>\n",
       "      <th>reference-entry</th>\n",
       "      <td>0.042738</td>\n",
       "      <td>99.957262</td>\n",
       "    </tr>\n",
       "    <tr>\n",
       "      <th>report</th>\n",
       "      <td>0.000000</td>\n",
       "      <td>100.000000</td>\n",
       "    </tr>\n",
       "    <tr>\n",
       "      <th>standard</th>\n",
       "      <td>0.000000</td>\n",
       "      <td>100.000000</td>\n",
       "    </tr>\n",
       "  </tbody>\n",
       "</table>\n",
       "</div>"
      ],
      "text/plain": [
       "in_scihub_dois               0           1\n",
       "type                                      \n",
       "book-chapter         17.929505   82.070495\n",
       "journal-article       0.004449   99.995551\n",
       "proceedings-article   0.043194   99.956806\n",
       "reference-entry       0.042738   99.957262\n",
       "report                0.000000  100.000000\n",
       "standard              0.000000  100.000000"
      ]
     },
     "execution_count": 9,
     "metadata": {},
     "output_type": "execute_result"
    }
   ],
   "source": [
    "# Hit rate by article type (as percents)\n",
    "pandas.crosstab(logs_df.type, logs_df.in_scihub_dois, normalize='index') * 100"
   ]
  },
  {
   "cell_type": "markdown",
   "metadata": {},
   "source": [
    "## Article hit rates"
   ]
  },
  {
   "cell_type": "code",
   "execution_count": 10,
   "metadata": {},
   "outputs": [
    {
     "data": {
      "text/html": [
       "<div>\n",
       "<style>\n",
       "    .dataframe thead tr:only-child th {\n",
       "        text-align: right;\n",
       "    }\n",
       "\n",
       "    .dataframe thead th {\n",
       "        text-align: left;\n",
       "    }\n",
       "\n",
       "    .dataframe tbody tr th {\n",
       "        vertical-align: top;\n",
       "    }\n",
       "</style>\n",
       "<table border=\"1\" class=\"dataframe\">\n",
       "  <thead>\n",
       "    <tr style=\"text-align: right;\">\n",
       "      <th></th>\n",
       "      <th>doi</th>\n",
       "      <th>type</th>\n",
       "      <th>issued</th>\n",
       "      <th>in_scopus</th>\n",
       "      <th>in_scihub_dois</th>\n",
       "      <th>in_scihub_logs</th>\n",
       "      <th>in_libgen</th>\n",
       "    </tr>\n",
       "  </thead>\n",
       "  <tbody>\n",
       "    <tr>\n",
       "      <th>0</th>\n",
       "      <td>10.1001/10-v4n2-hsf10003</td>\n",
       "      <td>journal-article</td>\n",
       "      <td>2011-03-01</td>\n",
       "      <td>1</td>\n",
       "      <td>1</td>\n",
       "      <td>1</td>\n",
       "      <td>1</td>\n",
       "    </tr>\n",
       "    <tr>\n",
       "      <th>1</th>\n",
       "      <td>10.1001/2012.jama.10159</td>\n",
       "      <td>journal-article</td>\n",
       "      <td>2012-08-22</td>\n",
       "      <td>1</td>\n",
       "      <td>1</td>\n",
       "      <td>1</td>\n",
       "      <td>1</td>\n",
       "    </tr>\n",
       "  </tbody>\n",
       "</table>\n",
       "</div>"
      ],
      "text/plain": [
       "                        doi             type     issued  in_scopus  \\\n",
       "0  10.1001/10-v4n2-hsf10003  journal-article 2011-03-01          1   \n",
       "1   10.1001/2012.jama.10159  journal-article 2012-08-22          1   \n",
       "\n",
       "   in_scihub_dois  in_scihub_logs  in_libgen  \n",
       "0               1               1          1  \n",
       "1               1               1          1  "
      ]
     },
     "execution_count": 10,
     "metadata": {},
     "output_type": "execute_result"
    }
   ],
   "source": [
    "# Distinct article hit rate\n",
    "distinct_df = (\n",
    "    logs_df\n",
    "    .loc[:, 'doi':'in_libgen']\n",
    "    .drop_duplicates('doi')\n",
    ")\n",
    "\n",
    "distinct_df.head(2)"
   ]
  },
  {
   "cell_type": "code",
   "execution_count": 11,
   "metadata": {},
   "outputs": [
    {
     "data": {
      "text/html": [
       "<div>\n",
       "<style>\n",
       "    .dataframe thead tr:only-child th {\n",
       "        text-align: right;\n",
       "    }\n",
       "\n",
       "    .dataframe thead th {\n",
       "        text-align: left;\n",
       "    }\n",
       "\n",
       "    .dataframe tbody tr th {\n",
       "        vertical-align: top;\n",
       "    }\n",
       "</style>\n",
       "<table border=\"1\" class=\"dataframe\">\n",
       "  <thead>\n",
       "    <tr style=\"text-align: right;\">\n",
       "      <th>in_scihub_dois</th>\n",
       "      <th>0</th>\n",
       "      <th>1</th>\n",
       "      <th>All</th>\n",
       "    </tr>\n",
       "    <tr>\n",
       "      <th>type</th>\n",
       "      <th></th>\n",
       "      <th></th>\n",
       "      <th></th>\n",
       "    </tr>\n",
       "  </thead>\n",
       "  <tbody>\n",
       "    <tr>\n",
       "      <th>book-chapter</th>\n",
       "      <td>140837</td>\n",
       "      <td>369923</td>\n",
       "      <td>510760</td>\n",
       "    </tr>\n",
       "    <tr>\n",
       "      <th>journal-article</th>\n",
       "      <td>548</td>\n",
       "      <td>8984438</td>\n",
       "      <td>8984986</td>\n",
       "    </tr>\n",
       "    <tr>\n",
       "      <th>proceedings-article</th>\n",
       "      <td>57</td>\n",
       "      <td>604629</td>\n",
       "      <td>604686</td>\n",
       "    </tr>\n",
       "    <tr>\n",
       "      <th>reference-entry</th>\n",
       "      <td>24</td>\n",
       "      <td>16217</td>\n",
       "      <td>16241</td>\n",
       "    </tr>\n",
       "    <tr>\n",
       "      <th>report</th>\n",
       "      <td>0</td>\n",
       "      <td>62</td>\n",
       "      <td>62</td>\n",
       "    </tr>\n",
       "    <tr>\n",
       "      <th>standard</th>\n",
       "      <td>0</td>\n",
       "      <td>202</td>\n",
       "      <td>202</td>\n",
       "    </tr>\n",
       "    <tr>\n",
       "      <th>All</th>\n",
       "      <td>141466</td>\n",
       "      <td>9975471</td>\n",
       "      <td>10116937</td>\n",
       "    </tr>\n",
       "  </tbody>\n",
       "</table>\n",
       "</div>"
      ],
      "text/plain": [
       "in_scihub_dois            0        1       All\n",
       "type                                          \n",
       "book-chapter         140837   369923    510760\n",
       "journal-article         548  8984438   8984986\n",
       "proceedings-article      57   604629    604686\n",
       "reference-entry          24    16217     16241\n",
       "report                    0       62        62\n",
       "standard                  0      202       202\n",
       "All                  141466  9975471  10116937"
      ]
     },
     "execution_count": 11,
     "metadata": {},
     "output_type": "execute_result"
    }
   ],
   "source": [
    "# Hit rate by article type\n",
    "pandas.crosstab(distinct_df.type, distinct_df.in_scihub_dois, margins=True)"
   ]
  },
  {
   "cell_type": "code",
   "execution_count": 12,
   "metadata": {},
   "outputs": [
    {
     "data": {
      "text/html": [
       "<div>\n",
       "<style>\n",
       "    .dataframe thead tr:only-child th {\n",
       "        text-align: right;\n",
       "    }\n",
       "\n",
       "    .dataframe thead th {\n",
       "        text-align: left;\n",
       "    }\n",
       "\n",
       "    .dataframe tbody tr th {\n",
       "        vertical-align: top;\n",
       "    }\n",
       "</style>\n",
       "<table border=\"1\" class=\"dataframe\">\n",
       "  <thead>\n",
       "    <tr style=\"text-align: right;\">\n",
       "      <th>in_scihub_dois</th>\n",
       "      <th>0</th>\n",
       "      <th>1</th>\n",
       "    </tr>\n",
       "    <tr>\n",
       "      <th>type</th>\n",
       "      <th></th>\n",
       "      <th></th>\n",
       "    </tr>\n",
       "  </thead>\n",
       "  <tbody>\n",
       "    <tr>\n",
       "      <th>book-chapter</th>\n",
       "      <td>27.574007</td>\n",
       "      <td>72.425993</td>\n",
       "    </tr>\n",
       "    <tr>\n",
       "      <th>journal-article</th>\n",
       "      <td>0.006099</td>\n",
       "      <td>99.993901</td>\n",
       "    </tr>\n",
       "    <tr>\n",
       "      <th>proceedings-article</th>\n",
       "      <td>0.009426</td>\n",
       "      <td>99.990574</td>\n",
       "    </tr>\n",
       "    <tr>\n",
       "      <th>reference-entry</th>\n",
       "      <td>0.147774</td>\n",
       "      <td>99.852226</td>\n",
       "    </tr>\n",
       "    <tr>\n",
       "      <th>report</th>\n",
       "      <td>0.000000</td>\n",
       "      <td>100.000000</td>\n",
       "    </tr>\n",
       "    <tr>\n",
       "      <th>standard</th>\n",
       "      <td>0.000000</td>\n",
       "      <td>100.000000</td>\n",
       "    </tr>\n",
       "  </tbody>\n",
       "</table>\n",
       "</div>"
      ],
      "text/plain": [
       "in_scihub_dois               0           1\n",
       "type                                      \n",
       "book-chapter         27.574007   72.425993\n",
       "journal-article       0.006099   99.993901\n",
       "proceedings-article   0.009426   99.990574\n",
       "reference-entry       0.147774   99.852226\n",
       "report                0.000000  100.000000\n",
       "standard              0.000000  100.000000"
      ]
     },
     "execution_count": 12,
     "metadata": {},
     "output_type": "execute_result"
    }
   ],
   "source": [
    "# Hit rate by article type (as percents)\n",
    "pandas.crosstab(distinct_df.type, distinct_df.in_scihub_dois, normalize='index') * 100"
   ]
  },
  {
   "cell_type": "markdown",
   "metadata": {},
   "source": [
    "## Inaccessibility by Journal"
   ]
  },
  {
   "cell_type": "markdown",
   "metadata": {},
   "source": [
    "### Read Scopus journal information"
   ]
  },
  {
   "cell_type": "code",
   "execution_count": 13,
   "metadata": {},
   "outputs": [
    {
     "data": {
      "text/html": [
       "<div>\n",
       "<style>\n",
       "    .dataframe thead tr:only-child th {\n",
       "        text-align: right;\n",
       "    }\n",
       "\n",
       "    .dataframe thead th {\n",
       "        text-align: left;\n",
       "    }\n",
       "\n",
       "    .dataframe tbody tr th {\n",
       "        vertical-align: top;\n",
       "    }\n",
       "</style>\n",
       "<table border=\"1\" class=\"dataframe\">\n",
       "  <thead>\n",
       "    <tr style=\"text-align: right;\">\n",
       "      <th></th>\n",
       "      <th>scopus_id</th>\n",
       "      <th>doi</th>\n",
       "    </tr>\n",
       "  </thead>\n",
       "  <tbody>\n",
       "    <tr>\n",
       "      <th>0</th>\n",
       "      <td>12001</td>\n",
       "      <td>10.1002/jeab.1</td>\n",
       "    </tr>\n",
       "    <tr>\n",
       "      <th>1</th>\n",
       "      <td>12001</td>\n",
       "      <td>10.1002/jeab.10</td>\n",
       "    </tr>\n",
       "  </tbody>\n",
       "</table>\n",
       "</div>"
      ],
      "text/plain": [
       "   scopus_id              doi\n",
       "0      12001   10.1002/jeab.1\n",
       "1      12001  10.1002/jeab.10"
      ]
     },
     "execution_count": 13,
     "metadata": {},
     "output_type": "execute_result"
    }
   ],
   "source": [
    "path = os.path.join('data', 'scopus-title-to-doi-map.tsv.xz')\n",
    "title_map_df = pandas.read_table(path)\n",
    "title_map_df.head(2)"
   ]
  },
  {
   "cell_type": "code",
   "execution_count": 14,
   "metadata": {
    "scrolled": true
   },
   "outputs": [
    {
     "data": {
      "text/html": [
       "<div>\n",
       "<style>\n",
       "    .dataframe thead tr:only-child th {\n",
       "        text-align: right;\n",
       "    }\n",
       "\n",
       "    .dataframe thead th {\n",
       "        text-align: left;\n",
       "    }\n",
       "\n",
       "    .dataframe tbody tr th {\n",
       "        vertical-align: top;\n",
       "    }\n",
       "</style>\n",
       "<table border=\"1\" class=\"dataframe\">\n",
       "  <thead>\n",
       "    <tr style=\"text-align: right;\">\n",
       "      <th></th>\n",
       "      <th>scopus_id</th>\n",
       "      <th>title_name</th>\n",
       "    </tr>\n",
       "  </thead>\n",
       "  <tbody>\n",
       "    <tr>\n",
       "      <th>0</th>\n",
       "      <td>12000</td>\n",
       "      <td>Journal of Technology in Counseling</td>\n",
       "    </tr>\n",
       "    <tr>\n",
       "      <th>1</th>\n",
       "      <td>12001</td>\n",
       "      <td>Journal of the Experimental Analysis of Behavior</td>\n",
       "    </tr>\n",
       "  </tbody>\n",
       "</table>\n",
       "</div>"
      ],
      "text/plain": [
       "   scopus_id                                        title_name\n",
       "0      12000               Journal of Technology in Counseling\n",
       "1      12001  Journal of the Experimental Analysis of Behavior"
      ]
     },
     "execution_count": 14,
     "metadata": {},
     "output_type": "execute_result"
    }
   ],
   "source": [
    "# Read Scopus title names\n",
    "with open('0.configuration.json') as read_file:\n",
    "    config = json.load(read_file)\n",
    "url = config['scopus_url'] + 'data/titles.tsv'\n",
    "journal_df = pandas.read_table(url)\n",
    "journal_df.head(2)"
   ]
  },
  {
   "cell_type": "markdown",
   "metadata": {},
   "source": [
    "### Innaccessible article counts by journal and type"
   ]
  },
  {
   "cell_type": "code",
   "execution_count": 15,
   "metadata": {},
   "outputs": [
    {
     "data": {
      "text/html": [
       "<div>\n",
       "<style>\n",
       "    .dataframe thead tr:only-child th {\n",
       "        text-align: right;\n",
       "    }\n",
       "\n",
       "    .dataframe thead th {\n",
       "        text-align: left;\n",
       "    }\n",
       "\n",
       "    .dataframe tbody tr th {\n",
       "        vertical-align: top;\n",
       "    }\n",
       "</style>\n",
       "<table border=\"1\" class=\"dataframe\">\n",
       "  <thead>\n",
       "    <tr style=\"text-align: right;\">\n",
       "      <th></th>\n",
       "      <th>scopus_id</th>\n",
       "      <th>title_name</th>\n",
       "      <th>book-chapter</th>\n",
       "      <th>journal-article</th>\n",
       "    </tr>\n",
       "  </thead>\n",
       "  <tbody>\n",
       "    <tr>\n",
       "      <th>0</th>\n",
       "      <td>12091</td>\n",
       "      <td>Atmospheric Chemistry and Physics</td>\n",
       "      <td>0</td>\n",
       "      <td>1</td>\n",
       "    </tr>\n",
       "    <tr>\n",
       "      <th>1</th>\n",
       "      <td>12169</td>\n",
       "      <td>Marine Ecology - Progress Series</td>\n",
       "      <td>0</td>\n",
       "      <td>1</td>\n",
       "    </tr>\n",
       "    <tr>\n",
       "      <th>2</th>\n",
       "      <td>12196</td>\n",
       "      <td>Methods in molecular biology (Clifton, N.J.)</td>\n",
       "      <td>2189</td>\n",
       "      <td>0</td>\n",
       "    </tr>\n",
       "  </tbody>\n",
       "</table>\n",
       "</div>"
      ],
      "text/plain": [
       "   scopus_id                                    title_name  book-chapter  \\\n",
       "0      12091             Atmospheric Chemistry and Physics             0   \n",
       "1      12169              Marine Ecology - Progress Series             0   \n",
       "2      12196  Methods in molecular biology (Clifton, N.J.)          2189   \n",
       "\n",
       "   journal-article  \n",
       "0                1  \n",
       "1                1  \n",
       "2                0  "
      ]
     },
     "execution_count": 15,
     "metadata": {},
     "output_type": "execute_result"
    }
   ],
   "source": [
    "inaccessibile_df = journal_df.merge(\n",
    "    distinct_df\n",
    "    .query(\"in_scihub_dois == 0\")\n",
    "    .merge(title_map_df)\n",
    "    .groupby(['scopus_id', 'type'])\n",
    "    .doi.count()\n",
    "    .rename('count')\n",
    "    .reset_index()\n",
    "    .pivot_table('count', index='scopus_id', columns='type', fill_value=0)\n",
    "    .reset_index()\n",
    ")\n",
    "\n",
    "inaccessibile_df.head(3)"
   ]
  },
  {
   "cell_type": "code",
   "execution_count": 16,
   "metadata": {
    "collapsed": true
   },
   "outputs": [],
   "source": [
    "path = os.path.join('data', 'journal-inaccessibility-counts.tsv')\n",
    "inaccessibile_df.to_csv(path, index=False, sep='\\t')"
   ]
  }
 ],
 "metadata": {
  "kernelspec": {
   "display_name": "Python [conda env:scihub]",
   "language": "python",
   "name": "conda-env-scihub-py"
  },
  "language_info": {
   "codemirror_mode": {
    "name": "ipython",
    "version": 3
   },
   "file_extension": ".py",
   "mimetype": "text/x-python",
   "name": "python",
   "nbconvert_exporter": "python",
   "pygments_lexer": "ipython3",
   "version": "3.6.0"
  }
 },
 "nbformat": 4,
 "nbformat_minor": 2
}
