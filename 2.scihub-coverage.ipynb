{
 "cells": [
  {
   "cell_type": "markdown",
   "metadata": {},
   "source": [
    "# Compute Sci-Hub coverage of journals and publishers in Scopus\n",
    "\n",
    "See all Crossref API types at https://api.crossref.org/types."
   ]
  },
  {
   "cell_type": "code",
   "execution_count": 1,
   "metadata": {
    "collapsed": true
   },
   "outputs": [],
   "source": [
    "import collections\n",
    "import json\n",
    "import io\n",
    "import lzma\n",
    "import os\n",
    "\n",
    "import pandas\n",
    "import requests"
   ]
  },
  {
   "cell_type": "code",
   "execution_count": 2,
   "metadata": {},
   "outputs": [
    {
     "data": {
      "text/plain": [
       "{'crossref_url': 'https://github.com/greenelab/crossref/raw/59b7db69534d82452883092852382f6374247fa2/',\n",
       " 'scopus_url': 'https://github.com/dhimmel/journalmetrics/raw/39c0732afb57d10219b7c0d9f680f6792f5aa672/'}"
      ]
     },
     "execution_count": 2,
     "metadata": {},
     "output_type": "execute_result"
    }
   ],
   "source": [
    "with open('0.configuration.json') as read_file:\n",
    "    config = json.load(read_file)\n",
    "\n",
    "config"
   ]
  },
  {
   "cell_type": "markdown",
   "metadata": {},
   "source": [
    "## Read DOIs"
   ]
  },
  {
   "cell_type": "code",
   "execution_count": 3,
   "metadata": {
    "collapsed": true
   },
   "outputs": [],
   "source": [
    "# Read catalog of Crossref DOIs\n",
    "path = os.path.join('data', 'doi.tsv.xz')\n",
    "doi_df = pandas.read_table(path, parse_dates=['issued'])"
   ]
  },
  {
   "cell_type": "code",
   "execution_count": 4,
   "metadata": {
    "collapsed": true
   },
   "outputs": [],
   "source": [
    "def compute_coverage(df):\n",
    "    row = collections.OrderedDict()\n",
    "    row['scihub'] = sum(df.in_scihub_dois)\n",
    "    row['crossref'] = len(df)\n",
    "    row['coverage'] = df.in_scihub_dois.mean()\n",
    "    return row"
   ]
  },
  {
   "cell_type": "markdown",
   "metadata": {},
   "source": [
    "# Compute coverage by article type\n",
    "\n",
    "Compute type coverage before restricting to Scopus mapping DOIs."
   ]
  },
  {
   "cell_type": "code",
   "execution_count": 5,
   "metadata": {},
   "outputs": [
    {
     "data": {
      "text/html": [
       "<div>\n",
       "<table border=\"1\" class=\"dataframe\">\n",
       "  <thead>\n",
       "    <tr style=\"text-align: right;\">\n",
       "      <th></th>\n",
       "      <th>type</th>\n",
       "      <th>scihub</th>\n",
       "      <th>crossref</th>\n",
       "      <th>coverage</th>\n",
       "    </tr>\n",
       "  </thead>\n",
       "  <tbody>\n",
       "    <tr>\n",
       "      <th>0</th>\n",
       "      <td>book-chapter</td>\n",
       "      <td>1450999</td>\n",
       "      <td>10250455</td>\n",
       "      <td>0.141555</td>\n",
       "    </tr>\n",
       "    <tr>\n",
       "      <th>1</th>\n",
       "      <td>book-part</td>\n",
       "      <td>3</td>\n",
       "      <td>1336</td>\n",
       "      <td>0.002246</td>\n",
       "    </tr>\n",
       "    <tr>\n",
       "      <th>2</th>\n",
       "      <td>book-section</td>\n",
       "      <td>3</td>\n",
       "      <td>3909</td>\n",
       "      <td>0.000767</td>\n",
       "    </tr>\n",
       "    <tr>\n",
       "      <th>3</th>\n",
       "      <td>journal-article</td>\n",
       "      <td>50929028</td>\n",
       "      <td>65424681</td>\n",
       "      <td>0.778438</td>\n",
       "    </tr>\n",
       "    <tr>\n",
       "      <th>4</th>\n",
       "      <td>proceedings-article</td>\n",
       "      <td>3798189</td>\n",
       "      <td>4763593</td>\n",
       "      <td>0.797337</td>\n",
       "    </tr>\n",
       "    <tr>\n",
       "      <th>5</th>\n",
       "      <td>reference-entry</td>\n",
       "      <td>64271</td>\n",
       "      <td>560667</td>\n",
       "      <td>0.114633</td>\n",
       "    </tr>\n",
       "    <tr>\n",
       "      <th>6</th>\n",
       "      <td>report</td>\n",
       "      <td>167</td>\n",
       "      <td>361079</td>\n",
       "      <td>0.000463</td>\n",
       "    </tr>\n",
       "    <tr>\n",
       "      <th>7</th>\n",
       "      <td>standard</td>\n",
       "      <td>3560</td>\n",
       "      <td>243296</td>\n",
       "      <td>0.014632</td>\n",
       "    </tr>\n",
       "  </tbody>\n",
       "</table>\n",
       "</div>"
      ],
      "text/plain": [
       "                  type    scihub  crossref  coverage\n",
       "0         book-chapter   1450999  10250455  0.141555\n",
       "1            book-part         3      1336  0.002246\n",
       "2         book-section         3      3909  0.000767\n",
       "3      journal-article  50929028  65424681  0.778438\n",
       "4  proceedings-article   3798189   4763593  0.797337\n",
       "5      reference-entry     64271    560667  0.114633\n",
       "6               report       167    361079  0.000463\n",
       "7             standard      3560    243296  0.014632"
      ]
     },
     "execution_count": 5,
     "metadata": {},
     "output_type": "execute_result"
    }
   ],
   "source": [
    "results = doi_df.groupby(['type']).apply(compute_coverage)\n",
    "type_coverage_df = pandas.DataFrame(list(results), index=results.index).reset_index()\n",
    "type_coverage_df"
   ]
  },
  {
   "cell_type": "code",
   "execution_count": 6,
   "metadata": {
    "collapsed": true
   },
   "outputs": [],
   "source": [
    "path = os.path.join('data', 'type-coverage.tsv')\n",
    "type_coverage_df.to_csv(path, index=False, sep='\\t', float_format='%.5g')"
   ]
  },
  {
   "cell_type": "markdown",
   "metadata": {},
   "source": [
    "# Compute coverage by year\n",
    "\n",
    "Compute year coverage before restricting to Scopus mapping DOIs."
   ]
  },
  {
   "cell_type": "code",
   "execution_count": 7,
   "metadata": {},
   "outputs": [
    {
     "data": {
      "text/html": [
       "<div>\n",
       "<table border=\"1\" class=\"dataframe\">\n",
       "  <thead>\n",
       "    <tr style=\"text-align: right;\">\n",
       "      <th></th>\n",
       "      <th>year</th>\n",
       "      <th>scihub</th>\n",
       "      <th>crossref</th>\n",
       "      <th>coverage</th>\n",
       "    </tr>\n",
       "  </thead>\n",
       "  <tbody>\n",
       "    <tr>\n",
       "      <th>0</th>\n",
       "      <td>1678</td>\n",
       "      <td>0</td>\n",
       "      <td>76</td>\n",
       "      <td>0.0</td>\n",
       "    </tr>\n",
       "    <tr>\n",
       "      <th>1</th>\n",
       "      <td>1679</td>\n",
       "      <td>0</td>\n",
       "      <td>26</td>\n",
       "      <td>0.0</td>\n",
       "    </tr>\n",
       "    <tr>\n",
       "      <th>2</th>\n",
       "      <td>1680</td>\n",
       "      <td>0</td>\n",
       "      <td>21</td>\n",
       "      <td>0.0</td>\n",
       "    </tr>\n",
       "  </tbody>\n",
       "</table>\n",
       "</div>"
      ],
      "text/plain": [
       "   year  scihub  crossref  coverage\n",
       "0  1678       0        76       0.0\n",
       "1  1679       0        26       0.0\n",
       "2  1680       0        21       0.0"
      ]
     },
     "execution_count": 7,
     "metadata": {},
     "output_type": "execute_result"
    }
   ],
   "source": [
    "results = (\n",
    "    doi_df\n",
    "    .assign(year = doi_df.issued.dt.year)\n",
    "    .query(\"year <= 2017\")\n",
    "    .groupby(['year'])\n",
    "    .apply(compute_coverage)\n",
    ")\n",
    "year_coverage_df = pandas.DataFrame(list(results), index=results.index).reset_index()\n",
    "year_coverage_df.year = year_coverage_df.year.astype(int)\n",
    "year_coverage_df.head(3)"
   ]
  },
  {
   "cell_type": "code",
   "execution_count": 8,
   "metadata": {
    "collapsed": true
   },
   "outputs": [],
   "source": [
    "path = os.path.join('data', 'year-coverage.tsv')\n",
    "year_coverage_df.to_csv(path, index=False, sep='\\t', float_format='%.5g')"
   ]
  },
  {
   "cell_type": "markdown",
   "metadata": {},
   "source": [
    "## Compute journal coverage"
   ]
  },
  {
   "cell_type": "code",
   "execution_count": 9,
   "metadata": {},
   "outputs": [
    {
     "data": {
      "text/html": [
       "<div>\n",
       "<table border=\"1\" class=\"dataframe\">\n",
       "  <thead>\n",
       "    <tr style=\"text-align: right;\">\n",
       "      <th></th>\n",
       "      <th>scopus_id</th>\n",
       "      <th>title_name</th>\n",
       "      <th>active</th>\n",
       "      <th>open_access</th>\n",
       "    </tr>\n",
       "  </thead>\n",
       "  <tbody>\n",
       "    <tr>\n",
       "      <th>0</th>\n",
       "      <td>12000</td>\n",
       "      <td>Journal of Technology in Counseling</td>\n",
       "      <td>0</td>\n",
       "      <td>0</td>\n",
       "    </tr>\n",
       "    <tr>\n",
       "      <th>1</th>\n",
       "      <td>12001</td>\n",
       "      <td>Journal of the Experimental Analysis of Behavior</td>\n",
       "      <td>1</td>\n",
       "      <td>0</td>\n",
       "    </tr>\n",
       "  </tbody>\n",
       "</table>\n",
       "</div>"
      ],
      "text/plain": [
       "   scopus_id                                        title_name  active  \\\n",
       "0      12000               Journal of Technology in Counseling       0   \n",
       "1      12001  Journal of the Experimental Analysis of Behavior       1   \n",
       "\n",
       "   open_access  \n",
       "0            0  \n",
       "1            0  "
      ]
     },
     "execution_count": 9,
     "metadata": {},
     "output_type": "execute_result"
    }
   ],
   "source": [
    "# Read Scopus title names and attributes\n",
    "url = config['scopus_url'] + 'data/titles.tsv'\n",
    "journal_df = pandas.read_table(url)\n",
    "\n",
    "url = config['scopus_url'] + 'data/title-attributes.tsv'\n",
    "journal_df = (\n",
    "    journal_df\n",
    "    .merge(pandas.read_table(url))\n",
    "    [['scopus_id', 'title_name', 'active', 'open_access']]\n",
    ")\n",
    "journal_df.head(2)"
   ]
  },
  {
   "cell_type": "code",
   "execution_count": 10,
   "metadata": {},
   "outputs": [
    {
     "data": {
      "text/html": [
       "<div>\n",
       "<table border=\"1\" class=\"dataframe\">\n",
       "  <thead>\n",
       "    <tr style=\"text-align: right;\">\n",
       "      <th></th>\n",
       "      <th>scopus_id</th>\n",
       "      <th>doi</th>\n",
       "      <th>type</th>\n",
       "      <th>issued</th>\n",
       "      <th>in_scopus</th>\n",
       "      <th>in_scihub_dois</th>\n",
       "      <th>in_scihub_logs</th>\n",
       "      <th>in_libgen</th>\n",
       "    </tr>\n",
       "  </thead>\n",
       "  <tbody>\n",
       "    <tr>\n",
       "      <th>0</th>\n",
       "      <td>12001</td>\n",
       "      <td>10.1002/jeab.1</td>\n",
       "      <td>journal-article</td>\n",
       "      <td>2012-12-05</td>\n",
       "      <td>1</td>\n",
       "      <td>1</td>\n",
       "      <td>1</td>\n",
       "      <td>1</td>\n",
       "    </tr>\n",
       "    <tr>\n",
       "      <th>1</th>\n",
       "      <td>12001</td>\n",
       "      <td>10.1002/jeab.10</td>\n",
       "      <td>journal-article</td>\n",
       "      <td>2013-01-14</td>\n",
       "      <td>1</td>\n",
       "      <td>1</td>\n",
       "      <td>0</td>\n",
       "      <td>1</td>\n",
       "    </tr>\n",
       "    <tr>\n",
       "      <th>2</th>\n",
       "      <td>12001</td>\n",
       "      <td>10.1002/jeab.100</td>\n",
       "      <td>journal-article</td>\n",
       "      <td>2014-08-08</td>\n",
       "      <td>1</td>\n",
       "      <td>1</td>\n",
       "      <td>1</td>\n",
       "      <td>1</td>\n",
       "    </tr>\n",
       "  </tbody>\n",
       "</table>\n",
       "</div>"
      ],
      "text/plain": [
       "   scopus_id               doi             type     issued  in_scopus  \\\n",
       "0      12001    10.1002/jeab.1  journal-article 2012-12-05          1   \n",
       "1      12001   10.1002/jeab.10  journal-article 2013-01-14          1   \n",
       "2      12001  10.1002/jeab.100  journal-article 2014-08-08          1   \n",
       "\n",
       "   in_scihub_dois  in_scihub_logs  in_libgen  \n",
       "0               1               1          1  \n",
       "1               1               0          1  \n",
       "2               1               1          1  "
      ]
     },
     "execution_count": 10,
     "metadata": {},
     "output_type": "execute_result"
    }
   ],
   "source": [
    "# Map DOIs to scopus titles\n",
    "path = os.path.join('data', 'scopus-title-to-doi-map.tsv.xz')\n",
    "doi_df = (\n",
    "    pandas.read_table(path)\n",
    "    .merge(doi_df)\n",
    ")\n",
    "\n",
    "doi_df.head(3)"
   ]
  },
  {
   "cell_type": "code",
   "execution_count": 11,
   "metadata": {
    "collapsed": true
   },
   "outputs": [],
   "source": [
    "results = doi_df.groupby(['scopus_id']).apply(compute_coverage)\n",
    "journal_coverage_df = pandas.DataFrame(list(results), index=results.index).reset_index()\n",
    "journal_coverage_df = journal_df.merge(journal_coverage_df)"
   ]
  },
  {
   "cell_type": "code",
   "execution_count": 12,
   "metadata": {},
   "outputs": [
    {
     "data": {
      "text/html": [
       "<div>\n",
       "<table border=\"1\" class=\"dataframe\">\n",
       "  <thead>\n",
       "    <tr style=\"text-align: right;\">\n",
       "      <th></th>\n",
       "      <th>scopus_id</th>\n",
       "      <th>title_name</th>\n",
       "      <th>active</th>\n",
       "      <th>open_access</th>\n",
       "      <th>scihub</th>\n",
       "      <th>crossref</th>\n",
       "      <th>coverage</th>\n",
       "    </tr>\n",
       "  </thead>\n",
       "  <tbody>\n",
       "    <tr>\n",
       "      <th>2422</th>\n",
       "      <td>16590</td>\n",
       "      <td>The Lancet</td>\n",
       "      <td>1</td>\n",
       "      <td>0</td>\n",
       "      <td>457650</td>\n",
       "      <td>458580</td>\n",
       "      <td>0.997972</td>\n",
       "    </tr>\n",
       "    <tr>\n",
       "      <th>4892</th>\n",
       "      <td>21206</td>\n",
       "      <td>Nature</td>\n",
       "      <td>1</td>\n",
       "      <td>0</td>\n",
       "      <td>385619</td>\n",
       "      <td>399273</td>\n",
       "      <td>0.965803</td>\n",
       "    </tr>\n",
       "    <tr>\n",
       "      <th>11826</th>\n",
       "      <td>120017</td>\n",
       "      <td>BMJ (Clinical research ed.)</td>\n",
       "      <td>0</td>\n",
       "      <td>0</td>\n",
       "      <td>17141</td>\n",
       "      <td>392277</td>\n",
       "      <td>0.043696</td>\n",
       "    </tr>\n",
       "    <tr>\n",
       "      <th>7263</th>\n",
       "      <td>25674</td>\n",
       "      <td>Lecture Notes in Computer Science</td>\n",
       "      <td>1</td>\n",
       "      <td>0</td>\n",
       "      <td>103675</td>\n",
       "      <td>356323</td>\n",
       "      <td>0.290958</td>\n",
       "    </tr>\n",
       "  </tbody>\n",
       "</table>\n",
       "</div>"
      ],
      "text/plain": [
       "       scopus_id                         title_name  active  open_access  \\\n",
       "2422       16590                         The Lancet       1            0   \n",
       "4892       21206                             Nature       1            0   \n",
       "11826     120017        BMJ (Clinical research ed.)       0            0   \n",
       "7263       25674  Lecture Notes in Computer Science       1            0   \n",
       "\n",
       "       scihub  crossref  coverage  \n",
       "2422   457650    458580  0.997972  \n",
       "4892   385619    399273  0.965803  \n",
       "11826   17141    392277  0.043696  \n",
       "7263   103675    356323  0.290958  "
      ]
     },
     "execution_count": 12,
     "metadata": {},
     "output_type": "execute_result"
    }
   ],
   "source": [
    "journal_coverage_df.sort_values('crossref', ascending=False).head(4)"
   ]
  },
  {
   "cell_type": "markdown",
   "metadata": {},
   "source": [
    "## Export datasets"
   ]
  },
  {
   "cell_type": "code",
   "execution_count": 13,
   "metadata": {
    "collapsed": true
   },
   "outputs": [],
   "source": [
    "path = os.path.join('data', 'journal-coverage.tsv')\n",
    "journal_coverage_df.to_csv(path, index=False, sep='\\t', float_format='%.5g')"
   ]
  }
 ],
 "metadata": {
  "kernelspec": {
   "display_name": "Python [conda env:crossref]",
   "language": "python",
   "name": "conda-env-crossref-py"
  },
  "language_info": {
   "codemirror_mode": {
    "name": "ipython",
    "version": 3
   },
   "file_extension": ".py",
   "mimetype": "text/x-python",
   "name": "python",
   "nbconvert_exporter": "python",
   "pygments_lexer": "ipython3",
   "version": "3.6.0"
  }
 },
 "nbformat": 4,
 "nbformat_minor": 2
}
