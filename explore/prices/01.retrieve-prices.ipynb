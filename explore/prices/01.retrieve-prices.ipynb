{
 "cells": [
  {
   "cell_type": "markdown",
   "metadata": {},
   "source": [
    "# Retrieve subscription prices for Springer-Nature journals\n",
    "\n",
    "See https://www.springernature.com/us/librarians/licensing/journals-price-list"
   ]
  },
  {
   "cell_type": "code",
   "execution_count": 1,
   "metadata": {
    "collapsed": true
   },
   "outputs": [],
   "source": [
    "import urllib.request\n",
    "import pathlib\n",
    "import json\n",
    "\n",
    "import pandas"
   ]
  },
  {
   "cell_type": "code",
   "execution_count": 2,
   "metadata": {},
   "outputs": [
    {
     "data": {
      "text/plain": [
       "{'crossref_url': 'https://github.com/greenelab/crossref/raw/59b7db69534d82452883092852382f6374247fa2/',\n",
       " 'opencitations_url': 'https://github.com/greenelab/opencitations/raw/b69e814318dfd58e5f711f5373d4ff8683ac0ba2/',\n",
       " 'scopus_url': 'https://github.com/dhimmel/journalmetrics/raw/4ec58ad21b0b3a086a028270db042c194215e9ef/'}"
      ]
     },
     "execution_count": 2,
     "metadata": {},
     "output_type": "execute_result"
    }
   ],
   "source": [
    "with pathlib.Path('../../00.configuration.json').open() as read_file:\n",
    "    config = json.load(read_file)\n",
    "\n",
    "config"
   ]
  },
  {
   "cell_type": "code",
   "execution_count": 3,
   "metadata": {
    "collapsed": true
   },
   "outputs": [],
   "source": [
    "xlsx_path = '2018-Springer-Nature-Journals-Price-List.xlsx'"
   ]
  },
  {
   "cell_type": "code",
   "execution_count": 4,
   "metadata": {},
   "outputs": [
    {
     "data": {
      "text/plain": [
       "('2018-Springer-Nature-Journals-Price-List.xlsx',\n",
       " <http.client.HTTPMessage at 0x7fa573ee6518>)"
      ]
     },
     "execution_count": 4,
     "metadata": {},
     "output_type": "execute_result"
    }
   ],
   "source": [
    "url = 'http://resource-cms.springer.com/springer-cms/rest/v1/content/15036048/data/v1/2018+Springer+Nature+Journals+Price+List'\n",
    "urllib.request.urlretrieve(url, xlsx_path)"
   ]
  },
  {
   "cell_type": "code",
   "execution_count": 5,
   "metadata": {},
   "outputs": [
    {
     "data": {
      "text/html": [
       "<div>\n",
       "<style>\n",
       "    .dataframe thead tr:only-child th {\n",
       "        text-align: right;\n",
       "    }\n",
       "\n",
       "    .dataframe thead th {\n",
       "        text-align: left;\n",
       "    }\n",
       "\n",
       "    .dataframe tbody tr th {\n",
       "        vertical-align: top;\n",
       "    }\n",
       "</style>\n",
       "<table border=\"1\" class=\"dataframe\">\n",
       "  <thead>\n",
       "    <tr style=\"text-align: right;\">\n",
       "      <th></th>\n",
       "      <th>product_title_sort</th>\n",
       "      <th>Title</th>\n",
       "      <th>Format</th>\n",
       "      <th>product_id</th>\n",
       "      <th>ISSN print</th>\n",
       "      <th>ISSN electronic</th>\n",
       "      <th>Imprint</th>\n",
       "      <th>Primary Language</th>\n",
       "      <th>Vols Qty</th>\n",
       "      <th>Scheduled Vol Nos</th>\n",
       "      <th>...</th>\n",
       "      <th>Carriage Charges Germany</th>\n",
       "      <th>Carriage Charges Other Countries (EUR)</th>\n",
       "      <th>Institutional Rate print incl. Free Access (USD)</th>\n",
       "      <th>Institutional Rate print incl. Enhanced Access (USD)</th>\n",
       "      <th>Carriage Charges Americas</th>\n",
       "      <th>Institutional Rate print incl. Free Access (JPY)</th>\n",
       "      <th>Institutional Rate print incl. Enhanced Access (JPY)</th>\n",
       "      <th>Carriage Charges Japan</th>\n",
       "      <th>Open Access Option</th>\n",
       "      <th>Comment</th>\n",
       "    </tr>\n",
       "  </thead>\n",
       "  <tbody>\n",
       "    <tr>\n",
       "      <th>0</th>\n",
       "      <td>3 Biotech</td>\n",
       "      <td>3 Biotech</td>\n",
       "      <td>E C</td>\n",
       "      <td>13205</td>\n",
       "      <td>NaN</td>\n",
       "      <td>2190-5738</td>\n",
       "      <td>Springer</td>\n",
       "      <td>English</td>\n",
       "      <td>1.0</td>\n",
       "      <td>8</td>\n",
       "      <td>...</td>\n",
       "      <td>NaN</td>\n",
       "      <td>NaN</td>\n",
       "      <td>NaN</td>\n",
       "      <td>NaN</td>\n",
       "      <td>NaN</td>\n",
       "      <td>NaN</td>\n",
       "      <td>NaN</td>\n",
       "      <td>NaN</td>\n",
       "      <td>Hybrid (Open Choice)</td>\n",
       "      <td>Journal has changed from fully Open Access to ...</td>\n",
       "    </tr>\n",
       "    <tr>\n",
       "      <th>1</th>\n",
       "      <td>3D Research</td>\n",
       "      <td>3D Research</td>\n",
       "      <td>E C</td>\n",
       "      <td>13319</td>\n",
       "      <td>NaN</td>\n",
       "      <td>2092-6731</td>\n",
       "      <td>3D Research Center, co-published with Springer</td>\n",
       "      <td>English</td>\n",
       "      <td>1.0</td>\n",
       "      <td>9</td>\n",
       "      <td>...</td>\n",
       "      <td>NaN</td>\n",
       "      <td>NaN</td>\n",
       "      <td>NaN</td>\n",
       "      <td>NaN</td>\n",
       "      <td>NaN</td>\n",
       "      <td>NaN</td>\n",
       "      <td>NaN</td>\n",
       "      <td>NaN</td>\n",
       "      <td>Hybrid (Open Choice)</td>\n",
       "      <td>Available in electronic format only.</td>\n",
       "    </tr>\n",
       "  </tbody>\n",
       "</table>\n",
       "<p>2 rows × 30 columns</p>\n",
       "</div>"
      ],
      "text/plain": [
       "  product_title_sort        Title Format  product_id ISSN print  \\\n",
       "0          3 Biotech    3 Biotech    E C       13205        NaN   \n",
       "1        3D Research  3D Research    E C       13319        NaN   \n",
       "\n",
       "  ISSN electronic                                         Imprint  \\\n",
       "0       2190-5738                                        Springer   \n",
       "1       2092-6731  3D Research Center, co-published with Springer   \n",
       "\n",
       "  Primary Language  Vols Qty Scheduled Vol Nos  \\\n",
       "0          English       1.0                 8   \n",
       "1          English       1.0                 9   \n",
       "\n",
       "                         ...                          \\\n",
       "0                        ...                           \n",
       "1                        ...                           \n",
       "\n",
       "   Carriage Charges Germany  Carriage Charges Other Countries (EUR)  \\\n",
       "0                       NaN                                     NaN   \n",
       "1                       NaN                                     NaN   \n",
       "\n",
       "   Institutional Rate print incl. Free Access (USD)  \\\n",
       "0                                               NaN   \n",
       "1                                               NaN   \n",
       "\n",
       "   Institutional Rate print incl. Enhanced Access (USD)  \\\n",
       "0                                                NaN      \n",
       "1                                                NaN      \n",
       "\n",
       "   Carriage Charges Americas  \\\n",
       "0                        NaN   \n",
       "1                        NaN   \n",
       "\n",
       "   Institutional Rate print incl. Free Access (JPY)  \\\n",
       "0                                               NaN   \n",
       "1                                               NaN   \n",
       "\n",
       "   Institutional Rate print incl. Enhanced Access (JPY)  \\\n",
       "0                                                NaN      \n",
       "1                                                NaN      \n",
       "\n",
       "   Carriage Charges Japan    Open Access Option  \\\n",
       "0                     NaN  Hybrid (Open Choice)   \n",
       "1                     NaN  Hybrid (Open Choice)   \n",
       "\n",
       "                                             Comment  \n",
       "0  Journal has changed from fully Open Access to ...  \n",
       "1              Available in electronic format only.   \n",
       "\n",
       "[2 rows x 30 columns]"
      ]
     },
     "execution_count": 5,
     "metadata": {},
     "output_type": "execute_result"
    }
   ],
   "source": [
    "price_df = pandas.read_excel(xlsx_path, skiprows=8)\n",
    "price_df.head(2)"
   ]
  },
  {
   "cell_type": "markdown",
   "metadata": {},
   "source": [
    "## Map to ISSNs"
   ]
  },
  {
   "cell_type": "code",
   "execution_count": 6,
   "metadata": {},
   "outputs": [
    {
     "data": {
      "text/html": [
       "<div>\n",
       "<style>\n",
       "    .dataframe thead tr:only-child th {\n",
       "        text-align: right;\n",
       "    }\n",
       "\n",
       "    .dataframe thead th {\n",
       "        text-align: left;\n",
       "    }\n",
       "\n",
       "    .dataframe tbody tr th {\n",
       "        vertical-align: top;\n",
       "    }\n",
       "</style>\n",
       "<table border=\"1\" class=\"dataframe\">\n",
       "  <thead>\n",
       "    <tr style=\"text-align: right;\">\n",
       "      <th></th>\n",
       "      <th>product_id</th>\n",
       "      <th>issn_type</th>\n",
       "      <th>issn</th>\n",
       "    </tr>\n",
       "  </thead>\n",
       "  <tbody>\n",
       "    <tr>\n",
       "      <th>2</th>\n",
       "      <td>10288</td>\n",
       "      <td>print</td>\n",
       "      <td>1619-4500</td>\n",
       "    </tr>\n",
       "    <tr>\n",
       "      <th>6</th>\n",
       "      <td>12188</td>\n",
       "      <td>print</td>\n",
       "      <td>0025-5858</td>\n",
       "    </tr>\n",
       "  </tbody>\n",
       "</table>\n",
       "</div>"
      ],
      "text/plain": [
       "   product_id issn_type       issn\n",
       "2       10288     print  1619-4500\n",
       "6       12188     print  0025-5858"
      ]
     },
     "execution_count": 6,
     "metadata": {},
     "output_type": "execute_result"
    }
   ],
   "source": [
    "renamer = {\n",
    "    'product_id': 'product_id',\n",
    "    'ISSN print': 'print',\n",
    "    'ISSN electronic': 'electronic',\n",
    "}\n",
    "\n",
    "issn_df = (\n",
    "    price_df\n",
    "    .rename(columns=renamer)\n",
    "    [list(renamer.values())]\n",
    "    .melt('product_id', var_name='issn_type', value_name='issn')\n",
    "    .dropna()\n",
    ")\n",
    "\n",
    "issn_df.head(2)"
   ]
  },
  {
   "cell_type": "code",
   "execution_count": 7,
   "metadata": {},
   "outputs": [
    {
     "data": {
      "text/html": [
       "<div>\n",
       "<style>\n",
       "    .dataframe thead tr:only-child th {\n",
       "        text-align: right;\n",
       "    }\n",
       "\n",
       "    .dataframe thead th {\n",
       "        text-align: left;\n",
       "    }\n",
       "\n",
       "    .dataframe tbody tr th {\n",
       "        vertical-align: top;\n",
       "    }\n",
       "</style>\n",
       "<table border=\"1\" class=\"dataframe\">\n",
       "  <thead>\n",
       "    <tr style=\"text-align: right;\">\n",
       "      <th></th>\n",
       "      <th>scopus_id</th>\n",
       "      <th>product_id</th>\n",
       "    </tr>\n",
       "  </thead>\n",
       "  <tbody>\n",
       "    <tr>\n",
       "      <th>0</th>\n",
       "      <td>12030</td>\n",
       "      <td>13420</td>\n",
       "    </tr>\n",
       "    <tr>\n",
       "      <th>2</th>\n",
       "      <td>12037</td>\n",
       "      <td>40194</td>\n",
       "    </tr>\n",
       "  </tbody>\n",
       "</table>\n",
       "</div>"
      ],
      "text/plain": [
       "   scopus_id  product_id\n",
       "0      12030       13420\n",
       "2      12037       40194"
      ]
     },
     "execution_count": 7,
     "metadata": {},
     "output_type": "execute_result"
    }
   ],
   "source": [
    "url = config['scopus_url'] + 'data/issn.tsv'\n",
    "scopus_map_df = (\n",
    "    pandas.read_table(url)\n",
    "    [['scopus_id', 'issn']]\n",
    "    .merge(issn_df)\n",
    "    [['scopus_id', 'product_id']]\n",
    "    .drop_duplicates()\n",
    ")\n",
    "scopus_map_df.head(2)"
   ]
  },
  {
   "cell_type": "code",
   "execution_count": 8,
   "metadata": {},
   "outputs": [
    {
     "data": {
      "text/html": [
       "<div>\n",
       "<style>\n",
       "    .dataframe thead tr:only-child th {\n",
       "        text-align: right;\n",
       "    }\n",
       "\n",
       "    .dataframe thead th {\n",
       "        text-align: left;\n",
       "    }\n",
       "\n",
       "    .dataframe tbody tr th {\n",
       "        vertical-align: top;\n",
       "    }\n",
       "</style>\n",
       "<table border=\"1\" class=\"dataframe\">\n",
       "  <thead>\n",
       "    <tr style=\"text-align: right;\">\n",
       "      <th></th>\n",
       "      <th>scopus_id</th>\n",
       "      <th>product_id</th>\n",
       "      <th>journal_name</th>\n",
       "      <th>language</th>\n",
       "      <th>price</th>\n",
       "    </tr>\n",
       "  </thead>\n",
       "  <tbody>\n",
       "    <tr>\n",
       "      <th>0</th>\n",
       "      <td>12030</td>\n",
       "      <td>13420</td>\n",
       "      <td>Learning &amp; Behavior</td>\n",
       "      <td>English</td>\n",
       "      <td>394.0</td>\n",
       "    </tr>\n",
       "    <tr>\n",
       "      <th>1</th>\n",
       "      <td>12037</td>\n",
       "      <td>40194</td>\n",
       "      <td>Welding in the World</td>\n",
       "      <td>English</td>\n",
       "      <td>650.0</td>\n",
       "    </tr>\n",
       "    <tr>\n",
       "      <th>2</th>\n",
       "      <td>12041</td>\n",
       "      <td>10484</td>\n",
       "      <td>Applied Psychophysiology and Biofeedback</td>\n",
       "      <td>English</td>\n",
       "      <td>1567.0</td>\n",
       "    </tr>\n",
       "    <tr>\n",
       "      <th>3</th>\n",
       "      <td>12043</td>\n",
       "      <td>10780</td>\n",
       "      <td>Interchange</td>\n",
       "      <td>English</td>\n",
       "      <td>630.0</td>\n",
       "    </tr>\n",
       "    <tr>\n",
       "      <th>4</th>\n",
       "      <td>12061</td>\n",
       "      <td>13421</td>\n",
       "      <td>Memory &amp; Cognition</td>\n",
       "      <td>English</td>\n",
       "      <td>615.0</td>\n",
       "    </tr>\n",
       "  </tbody>\n",
       "</table>\n",
       "</div>"
      ],
      "text/plain": [
       "   scopus_id  product_id                              journal_name language  \\\n",
       "0      12030       13420                       Learning & Behavior  English   \n",
       "1      12037       40194                      Welding in the World  English   \n",
       "2      12041       10484  Applied Psychophysiology and Biofeedback  English   \n",
       "3      12043       10780                               Interchange  English   \n",
       "4      12061       13421                        Memory & Cognition  English   \n",
       "\n",
       "    price  \n",
       "0   394.0  \n",
       "1   650.0  \n",
       "2  1567.0  \n",
       "3   630.0  \n",
       "4   615.0  "
      ]
     },
     "execution_count": 8,
     "metadata": {},
     "output_type": "execute_result"
    }
   ],
   "source": [
    "renamer = {\n",
    "    'product_id': 'product_id',\n",
    "    'Title': 'journal_name',\n",
    "    'Primary Language': 'language',\n",
    "    'Institutional Rate e-only (USD)': 'price',\n",
    "}\n",
    "\n",
    "processed_df = scopus_map_df.merge(\n",
    "    price_df\n",
    "    .rename(columns=renamer)\n",
    "    [list(renamer.values())]\n",
    ")\n",
    "\n",
    "processed_df.head(5)"
   ]
  },
  {
   "cell_type": "code",
   "execution_count": 9,
   "metadata": {},
   "outputs": [
    {
     "data": {
      "text/plain": [
       "149"
      ]
     },
     "execution_count": 9,
     "metadata": {},
     "output_type": "execute_result"
    }
   ],
   "source": [
    "# Journals without electronic subscription price information\n",
    "sum(processed_df.price.isnull())"
   ]
  },
  {
   "cell_type": "code",
   "execution_count": 10,
   "metadata": {
    "collapsed": true
   },
   "outputs": [],
   "source": [
    "processed_df.to_csv('prices.tsv', sep='\\t', index=False)"
   ]
  }
 ],
 "metadata": {
  "kernelspec": {
   "display_name": "Python [conda env:scihub]",
   "language": "python",
   "name": "conda-env-scihub-py"
  },
  "language_info": {
   "codemirror_mode": {
    "name": "ipython",
    "version": 3
   },
   "file_extension": ".py",
   "mimetype": "text/x-python",
   "name": "python",
   "nbconvert_exporter": "python",
   "pygments_lexer": "ipython3",
   "version": "3.6.0"
  }
 },
 "nbformat": 4,
 "nbformat_minor": 2
}
