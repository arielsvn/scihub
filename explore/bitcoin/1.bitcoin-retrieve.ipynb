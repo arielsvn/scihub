{
 "cells": [
  {
   "cell_type": "markdown",
   "metadata": {},
   "source": [
    "# Bitcoin donations to Sci-Hub\n",
    "\n",
    "https://github.com/greenelab/scihub/issues/24#issuecomment-312651086\n",
    "\n",
    "Sci-Hub bitcoin addresses:\n",
    "\n",
    "+ `1EVkHpdQ8VJQRpQ15hSRoohCztTvDMEepm` ([source](http://sci-hub.copiny.com/idea/details/id/64299)). First transaction on 2013-07-10.\n",
    "+ `14ghuGKDAPdEcUQN4zuzGwBUrhQgACwAyA` ([source](https://news.ycombinator.com/item?id=11636982), [other](https://plus.google.com/114607503022643334404/posts/csdBEzURvqg)) First transaction on 2015-06-27.\n",
    "+ `1K4t2vSBSS2xFjZ6PofYnbgZewjeqbG1TM` ([source](http://web.archive.org/web/20150701231944/http://sci-hub.org/)) First transaction on 2015-07-03. \n",
    "\n",
    "\n",
    "Many transactions get spent to [`18XA5NMQxhZD1nrrPpAyHqMH9H2mfKUJCV`](https://blockchain.info/address/18XA5NMQxhZD1nrrPpAyHqMH9H2mfKUJCV)"
   ]
  },
  {
   "cell_type": "code",
   "execution_count": 1,
   "metadata": {
    "collapsed": true
   },
   "outputs": [],
   "source": [
    "import collections\n",
    "import datetime\n",
    "import functools\n",
    "import itertools\n",
    "import time\n",
    "\n",
    "import requests\n",
    "import pandas"
   ]
  },
  {
   "cell_type": "code",
   "execution_count": 2,
   "metadata": {
    "collapsed": true
   },
   "outputs": [],
   "source": [
    "addresses = [\n",
    "    '1EVkHpdQ8VJQRpQ15hSRoohCztTvDMEepm',\n",
    "    '14ghuGKDAPdEcUQN4zuzGwBUrhQgACwAyA',\n",
    "    '1K4t2vSBSS2xFjZ6PofYnbgZewjeqbG1TM',\n",
    "]"
   ]
  },
  {
   "cell_type": "code",
   "execution_count": 3,
   "metadata": {
    "collapsed": true
   },
   "outputs": [],
   "source": [
    "# Sleep after each blockchain.info API call\n",
    "sleep_seconds = 2"
   ]
  },
  {
   "cell_type": "markdown",
   "metadata": {},
   "source": [
    "## Get donation / deposit data for Sci-Hub addresses"
   ]
  },
  {
   "cell_type": "code",
   "execution_count": 4,
   "metadata": {
    "collapsed": true
   },
   "outputs": [],
   "source": [
    "@functools.lru_cache(maxsize=None)\n",
    "def get_dollar_value(satoshis, posix_timestamp):\n",
    "    \"\"\"\n",
    "    Get the value of an amount of satoshis at a past datetime.\n",
    "    \n",
    "    Uses blockchain.info API call described in\n",
    "    https://bitcoin.stackexchange.com/a/41795\n",
    "    \"\"\"\n",
    "    params = {\n",
    "        'value': satoshis,\n",
    "        'currency': 'USD',\n",
    "        'time': posix_timestamp * 1000,\n",
    "    }\n",
    "    url = 'https://blockchain.info/frombtc'\n",
    "    response = requests.get(url, params)\n",
    "    time.sleep(sleep_seconds)\n",
    "    usd = float(response.text.replace(',', ''))\n",
    "    return usd\n",
    "\n",
    "\n",
    "def blockchain_rawaddr_query(address, offset=0, limit=50):\n",
    "    url = f'https://blockchain.info/rawaddr/{address}'\n",
    "    params = {\n",
    "        'limit': limit,\n",
    "        'offset': offset,\n",
    "    }\n",
    "    response = requests.get(url, params)\n",
    "    time.sleep(sleep_seconds)\n",
    "    return response.json()\n",
    "\n",
    "\n",
    "def get_outputs(address):\n",
    "    \"\"\"\n",
    "    Get all deposits to a bitcoin address using the blockchain.info API.\n",
    "    \"\"\"\n",
    "    response = blockchain_rawaddr_query(address)\n",
    "    total_txns = response['n_tx']\n",
    "    txns = response['txs'].copy()\n",
    "    while len(txns) < total_txns:\n",
    "        response = blockchain_rawaddr_query(address, offset=len(txns))\n",
    "        txns.extend(response['txs'])\n",
    "    \n",
    "    rows = list()\n",
    "    for txn in txns:\n",
    "        if 'block_height' not in txn:\n",
    "            print('Skipping unconfirmed transaction', txn['hash'])\n",
    "            continue\n",
    "        base = collections.OrderedDict()\n",
    "        base['transaction_id'] = txn['hash']\n",
    "        base['block_height'] = txn['block_height']\n",
    "        base['block_timestamp'] = datetime.datetime.fromtimestamp(txn['time'])\n",
    "        withdraws = [x['prev_out'] for x in txn['inputs']]\n",
    "        for tx_type, outputs in ('withdraw', withdraws), ('deposit', txn['out']):\n",
    "            for output in outputs:\n",
    "                if output['addr'] != address:\n",
    "                    continue\n",
    "                row = base.copy()\n",
    "                row['tx_type'] = tx_type\n",
    "                row['address'] = address\n",
    "                row['value_btc'] = output['value'] / 1e8\n",
    "                #row['value_usd'] = get_dollar_value(output['value'], txn['time'])\n",
    "                rows.append(row)\n",
    "    deposit_df = pandas.DataFrame(rows)\n",
    "    return deposit_df"
   ]
  },
  {
   "cell_type": "code",
   "execution_count": 5,
   "metadata": {},
   "outputs": [
    {
     "name": "stdout",
     "output_type": "stream",
     "text": [
      "Skipping unconfirmed transaction a0ff222122f6deb064bcbcd288af335dcbba29de1eeaee7605dc80dc85172ddd\n",
      "Skipping unconfirmed transaction 6f9cb5a07d3758ba5393a249b955d026b20e5600a546d5eb115afc7358befe86\n"
     ]
    },
    {
     "data": {
      "text/html": [
       "<div>\n",
       "<style>\n",
       "    .dataframe thead tr:only-child th {\n",
       "        text-align: right;\n",
       "    }\n",
       "\n",
       "    .dataframe thead th {\n",
       "        text-align: left;\n",
       "    }\n",
       "\n",
       "    .dataframe tbody tr th {\n",
       "        vertical-align: top;\n",
       "    }\n",
       "</style>\n",
       "<table border=\"1\" class=\"dataframe\">\n",
       "  <thead>\n",
       "    <tr style=\"text-align: right;\">\n",
       "      <th></th>\n",
       "      <th>transaction_id</th>\n",
       "      <th>block_height</th>\n",
       "      <th>block_timestamp</th>\n",
       "      <th>tx_type</th>\n",
       "      <th>address</th>\n",
       "      <th>value_btc</th>\n",
       "    </tr>\n",
       "  </thead>\n",
       "  <tbody>\n",
       "    <tr>\n",
       "      <th>8</th>\n",
       "      <td>b212be8173592c0168ad7d14a336e2b2810916768c4f78...</td>\n",
       "      <td>245849</td>\n",
       "      <td>2013-07-10 07:50:29</td>\n",
       "      <td>deposit</td>\n",
       "      <td>1EVkHpdQ8VJQRpQ15hSRoohCztTvDMEepm</td>\n",
       "      <td>0.10</td>\n",
       "    </tr>\n",
       "    <tr>\n",
       "      <th>7</th>\n",
       "      <td>21fa802a748a144e3d1326f72e135645324a84c44f2f7d...</td>\n",
       "      <td>245898</td>\n",
       "      <td>2013-07-10 14:49:07</td>\n",
       "      <td>deposit</td>\n",
       "      <td>1EVkHpdQ8VJQRpQ15hSRoohCztTvDMEepm</td>\n",
       "      <td>0.05</td>\n",
       "    </tr>\n",
       "  </tbody>\n",
       "</table>\n",
       "</div>"
      ],
      "text/plain": [
       "                                      transaction_id  block_height  \\\n",
       "8  b212be8173592c0168ad7d14a336e2b2810916768c4f78...        245849   \n",
       "7  21fa802a748a144e3d1326f72e135645324a84c44f2f7d...        245898   \n",
       "\n",
       "      block_timestamp  tx_type                             address  value_btc  \n",
       "8 2013-07-10 07:50:29  deposit  1EVkHpdQ8VJQRpQ15hSRoohCztTvDMEepm       0.10  \n",
       "7 2013-07-10 14:49:07  deposit  1EVkHpdQ8VJQRpQ15hSRoohCztTvDMEepm       0.05  "
      ]
     },
     "execution_count": 5,
     "metadata": {},
     "output_type": "execute_result"
    }
   ],
   "source": [
    "output_df = pandas.concat(get_outputs(address) for address in addresses)\n",
    "output_df = output_df.sort_values(['block_height', 'transaction_id'])\n",
    "output_df.head(2)"
   ]
  },
  {
   "cell_type": "code",
   "execution_count": 6,
   "metadata": {},
   "outputs": [
    {
     "data": {
      "text/html": [
       "<div>\n",
       "<style>\n",
       "    .dataframe thead tr:only-child th {\n",
       "        text-align: right;\n",
       "    }\n",
       "\n",
       "    .dataframe thead th {\n",
       "        text-align: left;\n",
       "    }\n",
       "\n",
       "    .dataframe tbody tr th {\n",
       "        vertical-align: top;\n",
       "    }\n",
       "</style>\n",
       "<table border=\"1\" class=\"dataframe\">\n",
       "  <thead>\n",
       "    <tr style=\"text-align: right;\">\n",
       "      <th>tx_type</th>\n",
       "      <th>address</th>\n",
       "      <th>transaction_id</th>\n",
       "      <th>block_height</th>\n",
       "      <th>block_timestamp</th>\n",
       "      <th>deposit</th>\n",
       "      <th>withdraw</th>\n",
       "    </tr>\n",
       "  </thead>\n",
       "  <tbody>\n",
       "    <tr>\n",
       "      <th>0</th>\n",
       "      <td>14ghuGKDAPdEcUQN4zuzGwBUrhQgACwAyA</td>\n",
       "      <td>0092078c0ed2c96bf0d0abb251511e9d16db8153cee75d...</td>\n",
       "      <td>405887</td>\n",
       "      <td>2016-04-05 13:05:41</td>\n",
       "      <td>0.00</td>\n",
       "      <td>0.02</td>\n",
       "    </tr>\n",
       "    <tr>\n",
       "      <th>1</th>\n",
       "      <td>14ghuGKDAPdEcUQN4zuzGwBUrhQgACwAyA</td>\n",
       "      <td>0266bcf5ffeb1febc7374b5f0919d3ebe6d128ea7e2918...</td>\n",
       "      <td>399580</td>\n",
       "      <td>2016-02-22 08:56:53</td>\n",
       "      <td>0.03</td>\n",
       "      <td>0.00</td>\n",
       "    </tr>\n",
       "  </tbody>\n",
       "</table>\n",
       "</div>"
      ],
      "text/plain": [
       "tx_type                             address  \\\n",
       "0        14ghuGKDAPdEcUQN4zuzGwBUrhQgACwAyA   \n",
       "1        14ghuGKDAPdEcUQN4zuzGwBUrhQgACwAyA   \n",
       "\n",
       "tx_type                                     transaction_id  block_height  \\\n",
       "0        0092078c0ed2c96bf0d0abb251511e9d16db8153cee75d...        405887   \n",
       "1        0266bcf5ffeb1febc7374b5f0919d3ebe6d128ea7e2918...        399580   \n",
       "\n",
       "tx_type     block_timestamp  deposit  withdraw  \n",
       "0       2016-04-05 13:05:41     0.00      0.02  \n",
       "1       2016-02-22 08:56:53     0.03      0.00  "
      ]
     },
     "execution_count": 6,
     "metadata": {},
     "output_type": "execute_result"
    }
   ],
   "source": [
    "# Convert from outputs to transactions that summarize all inputs/outputs\n",
    "transaction_df = output_df.pivot_table(\n",
    "    values='value_btc',\n",
    "    index=['address', 'transaction_id', 'block_height', 'block_timestamp'],\n",
    "    aggfunc=sum, columns='tx_type', fill_value=0\n",
    ").reset_index()\n",
    "transaction_df.head(2)"
   ]
  },
  {
   "cell_type": "code",
   "execution_count": 22,
   "metadata": {},
   "outputs": [
    {
     "data": {
      "text/html": [
       "<div>\n",
       "<style>\n",
       "    .dataframe thead tr:only-child th {\n",
       "        text-align: right;\n",
       "    }\n",
       "\n",
       "    .dataframe thead th {\n",
       "        text-align: left;\n",
       "    }\n",
       "\n",
       "    .dataframe tbody tr th {\n",
       "        vertical-align: top;\n",
       "    }\n",
       "</style>\n",
       "<table border=\"1\" class=\"dataframe\">\n",
       "  <thead>\n",
       "    <tr style=\"text-align: right;\">\n",
       "      <th>tx_type</th>\n",
       "      <th>address</th>\n",
       "      <th>transaction_id</th>\n",
       "      <th>block_height</th>\n",
       "      <th>block_timestamp</th>\n",
       "      <th>deposit</th>\n",
       "      <th>withdraw</th>\n",
       "      <th>btc_usd</th>\n",
       "      <th>net_btc</th>\n",
       "      <th>net_usd</th>\n",
       "    </tr>\n",
       "  </thead>\n",
       "  <tbody>\n",
       "    <tr>\n",
       "      <th>0</th>\n",
       "      <td>14ghuGKDAPdEcUQN4zuzGwBUrhQgACwAyA</td>\n",
       "      <td>0092078c0ed2c96bf0d0abb251511e9d16db8153cee75d...</td>\n",
       "      <td>405887</td>\n",
       "      <td>2016-04-05 13:05:41</td>\n",
       "      <td>0.00</td>\n",
       "      <td>0.02</td>\n",
       "      <td>422.24</td>\n",
       "      <td>-0.02</td>\n",
       "      <td>-8.44</td>\n",
       "    </tr>\n",
       "    <tr>\n",
       "      <th>1</th>\n",
       "      <td>14ghuGKDAPdEcUQN4zuzGwBUrhQgACwAyA</td>\n",
       "      <td>0266bcf5ffeb1febc7374b5f0919d3ebe6d128ea7e2918...</td>\n",
       "      <td>399580</td>\n",
       "      <td>2016-02-22 08:56:53</td>\n",
       "      <td>0.03</td>\n",
       "      <td>0.00</td>\n",
       "      <td>437.76</td>\n",
       "      <td>0.03</td>\n",
       "      <td>13.13</td>\n",
       "    </tr>\n",
       "  </tbody>\n",
       "</table>\n",
       "</div>"
      ],
      "text/plain": [
       "tx_type                             address  \\\n",
       "0        14ghuGKDAPdEcUQN4zuzGwBUrhQgACwAyA   \n",
       "1        14ghuGKDAPdEcUQN4zuzGwBUrhQgACwAyA   \n",
       "\n",
       "tx_type                                     transaction_id  block_height  \\\n",
       "0        0092078c0ed2c96bf0d0abb251511e9d16db8153cee75d...        405887   \n",
       "1        0266bcf5ffeb1febc7374b5f0919d3ebe6d128ea7e2918...        399580   \n",
       "\n",
       "tx_type     block_timestamp  deposit  withdraw  btc_usd  net_btc  net_usd  \n",
       "0       2016-04-05 13:05:41     0.00      0.02   422.24    -0.02    -8.44  \n",
       "1       2016-02-22 08:56:53     0.03      0.00   437.76     0.03    13.13  "
      ]
     },
     "execution_count": 22,
     "metadata": {},
     "output_type": "execute_result"
    }
   ],
   "source": [
    "# Retrieve bitcoin price at time of confirmation\n",
    "get_usd_to_btc = lambda x: get_dollar_value(satoshis=100_000_000, posix_timestamp=int(x.timestamp()))\n",
    "transaction_df['btc_usd'] = transaction_df.block_timestamp.map(get_usd_to_btc)\n",
    "transaction_df.eval(\"net_btc = deposit - withdraw\", inplace=True)\n",
    "transaction_df.eval(\"net_usd = net_btc * btc_usd\", inplace=True)\n",
    "transaction_df.net_usd = transaction_df.net_usd.round(2)\n",
    "transaction_df.head(2)"
   ]
  },
  {
   "cell_type": "code",
   "execution_count": 23,
   "metadata": {
    "collapsed": true
   },
   "outputs": [],
   "source": [
    "# Save as TSV\n",
    "output_df.to_csv('outputs.tsv', index=False, sep='\\t', float_format='%0.8g')\n",
    "transaction_df.to_csv('transactions.tsv', index=False, sep='\\t', float_format='%0.8g')"
   ]
  },
  {
   "cell_type": "code",
   "execution_count": 24,
   "metadata": {},
   "outputs": [
    {
     "data": {
      "text/html": [
       "<div>\n",
       "<style>\n",
       "    .dataframe thead tr:only-child th {\n",
       "        text-align: right;\n",
       "    }\n",
       "\n",
       "    .dataframe thead th {\n",
       "        text-align: left;\n",
       "    }\n",
       "\n",
       "    .dataframe tbody tr th {\n",
       "        vertical-align: top;\n",
       "    }\n",
       "</style>\n",
       "<table border=\"1\" class=\"dataframe\">\n",
       "  <thead>\n",
       "    <tr style=\"text-align: right;\">\n",
       "      <th>tx_type</th>\n",
       "      <th>address</th>\n",
       "      <th>transaction_id</th>\n",
       "      <th>block_height</th>\n",
       "      <th>block_timestamp</th>\n",
       "      <th>deposit</th>\n",
       "      <th>withdraw</th>\n",
       "      <th>btc_usd</th>\n",
       "      <th>net_btc</th>\n",
       "      <th>net_usd</th>\n",
       "    </tr>\n",
       "  </thead>\n",
       "  <tbody>\n",
       "  </tbody>\n",
       "</table>\n",
       "</div>"
      ],
      "text/plain": [
       "Empty DataFrame\n",
       "Columns: [address, transaction_id, block_height, block_timestamp, deposit, withdraw, btc_usd, net_btc, net_usd]\n",
       "Index: []"
      ]
     },
     "execution_count": 24,
     "metadata": {},
     "output_type": "execute_result"
    }
   ],
   "source": [
    "# Transactions that send to self (perhaps as a change address)\n",
    "transaction_df.query(\"deposit > 0 and withdraw > 0\")"
   ]
  },
  {
   "cell_type": "markdown",
   "metadata": {},
   "source": [
    "### Deposit summaries"
   ]
  },
  {
   "cell_type": "code",
   "execution_count": 25,
   "metadata": {},
   "outputs": [
    {
     "name": "stdout",
     "output_type": "stream",
     "text": [
      "1,205 total deposit transactions\n",
      "94.4230 BTC\n",
      "$68,158.94 US (value at time of deposit)\n"
     ]
    }
   ],
   "source": [
    "deposit_df = transaction_df.query(\"net_btc > 0\").copy()\n",
    "print(f'''\\\n",
    "{len(deposit_df):,} total deposit transactions\n",
    "{deposit_df.net_btc.sum():.4f} BTC\n",
    "${deposit_df.net_usd.sum():,.2f} US (value at time of deposit)\\\n",
    "''')"
   ]
  },
  {
   "cell_type": "markdown",
   "metadata": {},
   "source": [
    "### Withdrawal summaries"
   ]
  },
  {
   "cell_type": "code",
   "execution_count": 26,
   "metadata": {},
   "outputs": [
    {
     "name": "stdout",
     "output_type": "stream",
     "text": [
      "160 total withdrawal transactions\n",
      "81.6846 BTC\n",
      "$357,486.58 US (value at time of withdrawal)\n"
     ]
    }
   ],
   "source": [
    "withdraw_df = transaction_df.query(\"net_btc < 0\").copy()\n",
    "print(f'''\\\n",
    "{len(withdraw_df):,} total withdrawal transactions\n",
    "{-withdraw_df.net_btc.sum():.4f} BTC\n",
    "${-withdraw_df.net_usd.sum():,.2f} US (value at time of withdrawal)\\\n",
    "''')"
   ]
  },
  {
   "cell_type": "markdown",
   "metadata": {},
   "source": [
    "## Monthly donation summaries"
   ]
  },
  {
   "cell_type": "code",
   "execution_count": 27,
   "metadata": {},
   "outputs": [
    {
     "data": {
      "text/html": [
       "<div>\n",
       "<style>\n",
       "    .dataframe thead tr:only-child th {\n",
       "        text-align: right;\n",
       "    }\n",
       "\n",
       "    .dataframe thead th {\n",
       "        text-align: left;\n",
       "    }\n",
       "\n",
       "    .dataframe tbody tr th {\n",
       "        vertical-align: top;\n",
       "    }\n",
       "</style>\n",
       "<table border=\"1\" class=\"dataframe\">\n",
       "  <thead>\n",
       "    <tr style=\"text-align: right;\">\n",
       "      <th></th>\n",
       "      <th>period</th>\n",
       "      <th>n_transactions</th>\n",
       "      <th>total_btc</th>\n",
       "      <th>total_usd</th>\n",
       "    </tr>\n",
       "  </thead>\n",
       "  <tbody>\n",
       "    <tr>\n",
       "      <th>0</th>\n",
       "      <td>2013-07</td>\n",
       "      <td>3</td>\n",
       "      <td>0.280000</td>\n",
       "      <td>22.91</td>\n",
       "    </tr>\n",
       "    <tr>\n",
       "      <th>1</th>\n",
       "      <td>2013-08</td>\n",
       "      <td>1</td>\n",
       "      <td>0.200000</td>\n",
       "      <td>20.92</td>\n",
       "    </tr>\n",
       "    <tr>\n",
       "      <th>2</th>\n",
       "      <td>2015-06</td>\n",
       "      <td>1</td>\n",
       "      <td>0.054000</td>\n",
       "      <td>13.43</td>\n",
       "    </tr>\n",
       "    <tr>\n",
       "      <th>3</th>\n",
       "      <td>2015-07</td>\n",
       "      <td>18</td>\n",
       "      <td>1.349027</td>\n",
       "      <td>370.75</td>\n",
       "    </tr>\n",
       "    <tr>\n",
       "      <th>4</th>\n",
       "      <td>2015-08</td>\n",
       "      <td>6</td>\n",
       "      <td>0.132781</td>\n",
       "      <td>33.54</td>\n",
       "    </tr>\n",
       "    <tr>\n",
       "      <th>5</th>\n",
       "      <td>2015-09</td>\n",
       "      <td>11</td>\n",
       "      <td>0.871805</td>\n",
       "      <td>203.20</td>\n",
       "    </tr>\n",
       "    <tr>\n",
       "      <th>6</th>\n",
       "      <td>2015-10</td>\n",
       "      <td>4</td>\n",
       "      <td>0.035607</td>\n",
       "      <td>9.41</td>\n",
       "    </tr>\n",
       "    <tr>\n",
       "      <th>7</th>\n",
       "      <td>2015-11</td>\n",
       "      <td>14</td>\n",
       "      <td>0.341098</td>\n",
       "      <td>122.92</td>\n",
       "    </tr>\n",
       "    <tr>\n",
       "      <th>8</th>\n",
       "      <td>2015-12</td>\n",
       "      <td>9</td>\n",
       "      <td>5.186050</td>\n",
       "      <td>1876.37</td>\n",
       "    </tr>\n",
       "    <tr>\n",
       "      <th>9</th>\n",
       "      <td>2016-01</td>\n",
       "      <td>5</td>\n",
       "      <td>0.604309</td>\n",
       "      <td>253.78</td>\n",
       "    </tr>\n",
       "    <tr>\n",
       "      <th>10</th>\n",
       "      <td>2016-02</td>\n",
       "      <td>167</td>\n",
       "      <td>7.809664</td>\n",
       "      <td>3202.21</td>\n",
       "    </tr>\n",
       "    <tr>\n",
       "      <th>11</th>\n",
       "      <td>2016-03</td>\n",
       "      <td>85</td>\n",
       "      <td>4.175236</td>\n",
       "      <td>1727.96</td>\n",
       "    </tr>\n",
       "    <tr>\n",
       "      <th>12</th>\n",
       "      <td>2016-04</td>\n",
       "      <td>65</td>\n",
       "      <td>4.597449</td>\n",
       "      <td>2009.43</td>\n",
       "    </tr>\n",
       "    <tr>\n",
       "      <th>13</th>\n",
       "      <td>2016-05</td>\n",
       "      <td>78</td>\n",
       "      <td>3.129011</td>\n",
       "      <td>1432.78</td>\n",
       "    </tr>\n",
       "    <tr>\n",
       "      <th>14</th>\n",
       "      <td>2016-06</td>\n",
       "      <td>40</td>\n",
       "      <td>4.770026</td>\n",
       "      <td>2644.34</td>\n",
       "    </tr>\n",
       "    <tr>\n",
       "      <th>15</th>\n",
       "      <td>2016-07</td>\n",
       "      <td>61</td>\n",
       "      <td>5.694547</td>\n",
       "      <td>3805.57</td>\n",
       "    </tr>\n",
       "    <tr>\n",
       "      <th>16</th>\n",
       "      <td>2016-08</td>\n",
       "      <td>51</td>\n",
       "      <td>6.999941</td>\n",
       "      <td>4171.41</td>\n",
       "    </tr>\n",
       "    <tr>\n",
       "      <th>17</th>\n",
       "      <td>2016-09</td>\n",
       "      <td>48</td>\n",
       "      <td>5.489391</td>\n",
       "      <td>3333.39</td>\n",
       "    </tr>\n",
       "    <tr>\n",
       "      <th>18</th>\n",
       "      <td>2016-10</td>\n",
       "      <td>53</td>\n",
       "      <td>21.055852</td>\n",
       "      <td>13195.54</td>\n",
       "    </tr>\n",
       "    <tr>\n",
       "      <th>19</th>\n",
       "      <td>2016-11</td>\n",
       "      <td>40</td>\n",
       "      <td>4.355400</td>\n",
       "      <td>3204.34</td>\n",
       "    </tr>\n",
       "    <tr>\n",
       "      <th>20</th>\n",
       "      <td>2016-12</td>\n",
       "      <td>49</td>\n",
       "      <td>3.773266</td>\n",
       "      <td>3300.31</td>\n",
       "    </tr>\n",
       "    <tr>\n",
       "      <th>21</th>\n",
       "      <td>2017-01</td>\n",
       "      <td>46</td>\n",
       "      <td>4.308362</td>\n",
       "      <td>4007.68</td>\n",
       "    </tr>\n",
       "    <tr>\n",
       "      <th>22</th>\n",
       "      <td>2017-02</td>\n",
       "      <td>36</td>\n",
       "      <td>0.345770</td>\n",
       "      <td>370.37</td>\n",
       "    </tr>\n",
       "    <tr>\n",
       "      <th>23</th>\n",
       "      <td>2017-03</td>\n",
       "      <td>44</td>\n",
       "      <td>3.295970</td>\n",
       "      <td>3968.47</td>\n",
       "    </tr>\n",
       "    <tr>\n",
       "      <th>24</th>\n",
       "      <td>2017-04</td>\n",
       "      <td>33</td>\n",
       "      <td>0.499544</td>\n",
       "      <td>604.91</td>\n",
       "    </tr>\n",
       "    <tr>\n",
       "      <th>25</th>\n",
       "      <td>2017-05</td>\n",
       "      <td>33</td>\n",
       "      <td>2.112295</td>\n",
       "      <td>3341.59</td>\n",
       "    </tr>\n",
       "    <tr>\n",
       "      <th>26</th>\n",
       "      <td>2017-06</td>\n",
       "      <td>33</td>\n",
       "      <td>1.122111</td>\n",
       "      <td>3022.46</td>\n",
       "    </tr>\n",
       "    <tr>\n",
       "      <th>27</th>\n",
       "      <td>2017-07</td>\n",
       "      <td>37</td>\n",
       "      <td>0.798797</td>\n",
       "      <td>2008.25</td>\n",
       "    </tr>\n",
       "    <tr>\n",
       "      <th>28</th>\n",
       "      <td>2017-08</td>\n",
       "      <td>26</td>\n",
       "      <td>0.217794</td>\n",
       "      <td>842.46</td>\n",
       "    </tr>\n",
       "    <tr>\n",
       "      <th>29</th>\n",
       "      <td>2017-09</td>\n",
       "      <td>34</td>\n",
       "      <td>0.337650</td>\n",
       "      <td>1369.78</td>\n",
       "    </tr>\n",
       "    <tr>\n",
       "      <th>30</th>\n",
       "      <td>2017-10</td>\n",
       "      <td>28</td>\n",
       "      <td>0.121494</td>\n",
       "      <td>653.21</td>\n",
       "    </tr>\n",
       "    <tr>\n",
       "      <th>31</th>\n",
       "      <td>2017-11</td>\n",
       "      <td>45</td>\n",
       "      <td>0.355571</td>\n",
       "      <td>2982.22</td>\n",
       "    </tr>\n",
       "    <tr>\n",
       "      <th>32</th>\n",
       "      <td>2017-12</td>\n",
       "      <td>1</td>\n",
       "      <td>0.003200</td>\n",
       "      <td>33.03</td>\n",
       "    </tr>\n",
       "  </tbody>\n",
       "</table>\n",
       "</div>"
      ],
      "text/plain": [
       "    period  n_transactions  total_btc  total_usd\n",
       "0  2013-07               3   0.280000      22.91\n",
       "1  2013-08               1   0.200000      20.92\n",
       "2  2015-06               1   0.054000      13.43\n",
       "3  2015-07              18   1.349027     370.75\n",
       "4  2015-08               6   0.132781      33.54\n",
       "5  2015-09              11   0.871805     203.20\n",
       "6  2015-10               4   0.035607       9.41\n",
       "7  2015-11              14   0.341098     122.92\n",
       "8  2015-12               9   5.186050    1876.37\n",
       "9  2016-01               5   0.604309     253.78\n",
       "10 2016-02             167   7.809664    3202.21\n",
       "11 2016-03              85   4.175236    1727.96\n",
       "12 2016-04              65   4.597449    2009.43\n",
       "13 2016-05              78   3.129011    1432.78\n",
       "14 2016-06              40   4.770026    2644.34\n",
       "15 2016-07              61   5.694547    3805.57\n",
       "16 2016-08              51   6.999941    4171.41\n",
       "17 2016-09              48   5.489391    3333.39\n",
       "18 2016-10              53  21.055852   13195.54\n",
       "19 2016-11              40   4.355400    3204.34\n",
       "20 2016-12              49   3.773266    3300.31\n",
       "21 2017-01              46   4.308362    4007.68\n",
       "22 2017-02              36   0.345770     370.37\n",
       "23 2017-03              44   3.295970    3968.47\n",
       "24 2017-04              33   0.499544     604.91\n",
       "25 2017-05              33   2.112295    3341.59\n",
       "26 2017-06              33   1.122111    3022.46\n",
       "27 2017-07              37   0.798797    2008.25\n",
       "28 2017-08              26   0.217794     842.46\n",
       "29 2017-09              34   0.337650    1369.78\n",
       "30 2017-10              28   0.121494     653.21\n",
       "31 2017-11              45   0.355571    2982.22\n",
       "32 2017-12               1   0.003200      33.03"
      ]
     },
     "execution_count": 27,
     "metadata": {},
     "output_type": "execute_result"
    }
   ],
   "source": [
    "deposit_df['period'] = deposit_df.block_timestamp.dt.to_period(\"M\")\n",
    "\n",
    "def summarize(df):\n",
    "    row = collections.OrderedDict()\n",
    "    row['n_transactions'] = df.transaction_id.nunique()\n",
    "    row['total_btc'] = df.net_btc.sum()\n",
    "    row['total_usd'] = df.net_usd.sum()\n",
    "    return row\n",
    "\n",
    "summary_df = deposit_df.groupby('period').apply(summarize)\n",
    "summary_df = pandas.DataFrame.from_records(summary_df, index=summary_df.index).reset_index()\n",
    "summary_df"
   ]
  },
  {
   "cell_type": "code",
   "execution_count": 28,
   "metadata": {
    "collapsed": true
   },
   "outputs": [],
   "source": [
    "# Save as TSV\n",
    "summary_df.to_csv('monthly-deposit-summaries.tsv', index=False, sep='\\t', float_format='%.5g')"
   ]
  },
  {
   "cell_type": "markdown",
   "metadata": {},
   "source": [
    "## Address summaries\n",
    "\n",
    "Statistics from blockchain.info include unconfirmed transactions. Statistics derived from `transaction_df` do not!"
   ]
  },
  {
   "cell_type": "code",
   "execution_count": 29,
   "metadata": {},
   "outputs": [
    {
     "data": {
      "text/html": [
       "<div>\n",
       "<style>\n",
       "    .dataframe thead tr:only-child th {\n",
       "        text-align: right;\n",
       "    }\n",
       "\n",
       "    .dataframe thead th {\n",
       "        text-align: left;\n",
       "    }\n",
       "\n",
       "    .dataframe tbody tr th {\n",
       "        vertical-align: top;\n",
       "    }\n",
       "</style>\n",
       "<table border=\"1\" class=\"dataframe\">\n",
       "  <thead>\n",
       "    <tr style=\"text-align: right;\">\n",
       "      <th></th>\n",
       "      <th>address</th>\n",
       "      <th>transaction_count</th>\n",
       "      <th>total_received</th>\n",
       "      <th>total_sent</th>\n",
       "      <th>final_balance</th>\n",
       "    </tr>\n",
       "  </thead>\n",
       "  <tbody>\n",
       "    <tr>\n",
       "      <th>0</th>\n",
       "      <td>1EVkHpdQ8VJQRpQ15hSRoohCztTvDMEepm</td>\n",
       "      <td>6</td>\n",
       "      <td>0.482068</td>\n",
       "      <td>0.480000</td>\n",
       "      <td>0.002068</td>\n",
       "    </tr>\n",
       "    <tr>\n",
       "      <th>1</th>\n",
       "      <td>14ghuGKDAPdEcUQN4zuzGwBUrhQgACwAyA</td>\n",
       "      <td>103</td>\n",
       "      <td>3.294233</td>\n",
       "      <td>3.294132</td>\n",
       "      <td>0.000100</td>\n",
       "    </tr>\n",
       "    <tr>\n",
       "      <th>2</th>\n",
       "      <td>1K4t2vSBSS2xFjZ6PofYnbgZewjeqbG1TM</td>\n",
       "      <td>1258</td>\n",
       "      <td>90.648312</td>\n",
       "      <td>77.910426</td>\n",
       "      <td>12.737886</td>\n",
       "    </tr>\n",
       "  </tbody>\n",
       "</table>\n",
       "</div>"
      ],
      "text/plain": [
       "                              address  transaction_count  total_received  \\\n",
       "0  1EVkHpdQ8VJQRpQ15hSRoohCztTvDMEepm                  6        0.482068   \n",
       "1  14ghuGKDAPdEcUQN4zuzGwBUrhQgACwAyA                103        3.294233   \n",
       "2  1K4t2vSBSS2xFjZ6PofYnbgZewjeqbG1TM               1258       90.648312   \n",
       "\n",
       "   total_sent  final_balance  \n",
       "0    0.480000       0.002068  \n",
       "1    3.294132       0.000100  \n",
       "2   77.910426      12.737886  "
      ]
     },
     "execution_count": 29,
     "metadata": {},
     "output_type": "execute_result"
    }
   ],
   "source": [
    "rows = list()\n",
    "for address in addresses:\n",
    "    response = blockchain_rawaddr_query(address)\n",
    "    time.sleep(sleep_seconds)\n",
    "    row = collections.OrderedDict()\n",
    "    row['address'] = address\n",
    "    row['transaction_count'] = response['n_tx']\n",
    "    for key in 'total_received', 'total_sent', 'final_balance':\n",
    "        row[key] = response[key] / 1e8\n",
    "    rows.append(row)\n",
    "\n",
    "address_df = pandas.DataFrame(rows)\n",
    "address_df"
   ]
  },
  {
   "cell_type": "code",
   "execution_count": 30,
   "metadata": {},
   "outputs": [
    {
     "data": {
      "text/plain": [
       "transaction_count    1367.000000\n",
       "total_received         94.424612\n",
       "total_sent             81.684559\n",
       "final_balance          12.740053\n",
       "dtype: float64"
      ]
     },
     "execution_count": 30,
     "metadata": {},
     "output_type": "execute_result"
    }
   ],
   "source": [
    "# Total accross addresses\n",
    "address_df.sum(numeric_only=True)"
   ]
  },
  {
   "cell_type": "code",
   "execution_count": 31,
   "metadata": {},
   "outputs": [
    {
     "data": {
      "text/plain": [
       "94.423017999999999"
      ]
     },
     "execution_count": 31,
     "metadata": {},
     "output_type": "execute_result"
    }
   ],
   "source": [
    "# Total received across addresses\n",
    "deposit_df.net_btc.sum().round(6)"
   ]
  },
  {
   "cell_type": "code",
   "execution_count": 32,
   "metadata": {},
   "outputs": [
    {
     "data": {
      "text/plain": [
       "94.423017999999999"
      ]
     },
     "execution_count": 32,
     "metadata": {},
     "output_type": "execute_result"
    }
   ],
   "source": [
    "# Total send across addresses\n",
    "deposit_df.net_btc.sum().round(6)"
   ]
  },
  {
   "cell_type": "code",
   "execution_count": 33,
   "metadata": {},
   "outputs": [
    {
     "data": {
      "text/plain": [
       "12.73846"
      ]
     },
     "execution_count": 33,
     "metadata": {},
     "output_type": "execute_result"
    }
   ],
   "source": [
    "# Final balance\n",
    "transaction_df.net_btc.sum().round(6)"
   ]
  },
  {
   "cell_type": "code",
   "execution_count": 34,
   "metadata": {},
   "outputs": [
    {
     "data": {
      "text/plain": [
       "1365"
      ]
     },
     "execution_count": 34,
     "metadata": {},
     "output_type": "execute_result"
    }
   ],
   "source": [
    "# Total number of transactions\n",
    "len(transaction_df)"
   ]
  }
 ],
 "metadata": {
  "anaconda-cloud": {},
  "kernelspec": {
   "display_name": "Python [conda env:scihub]",
   "language": "python",
   "name": "conda-env-scihub-py"
  },
  "language_info": {
   "codemirror_mode": {
    "name": "ipython",
    "version": 3
   },
   "file_extension": ".py",
   "mimetype": "text/x-python",
   "name": "python",
   "nbconvert_exporter": "python",
   "pygments_lexer": "ipython3",
   "version": "3.6.0"
  }
 },
 "nbformat": 4,
 "nbformat_minor": 2
}
