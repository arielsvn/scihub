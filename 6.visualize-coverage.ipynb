{
 "cells": [
  {
   "cell_type": "markdown",
   "metadata": {},
   "source": [
    "# Compute and visualize Sci-Hub coverage by category"
   ]
  },
  {
   "cell_type": "code",
   "execution_count": 1,
   "metadata": {
    "collapsed": true
   },
   "outputs": [],
   "source": [
    "# Load magrittr pipe\n",
    "`%>%` = dplyr::`%>%`"
   ]
  },
  {
   "cell_type": "markdown",
   "metadata": {},
   "source": [
    "## Read Sci-Hub coverage data"
   ]
  },
  {
   "cell_type": "code",
   "execution_count": 2,
   "metadata": {},
   "outputs": [
    {
     "data": {
      "text/html": [
       "<table>\n",
       "<thead><tr><th scope=col>scopus_id</th><th scope=col>title_name</th><th scope=col>scihub</th><th scope=col>crossref</th><th scope=col>coverage</th></tr></thead>\n",
       "<tbody>\n",
       "\t<tr><td>12001                                            </td><td>Journal of the Experimental Analysis of Behavior </td><td>2562                                             </td><td>4400                                             </td><td>0.58227                                          </td></tr>\n",
       "\t<tr><td>12002                                            </td><td>Journal of the History of the Behavioral Sciences</td><td>4277                                             </td><td>4623                                             </td><td>0.92516                                          </td></tr>\n",
       "</tbody>\n",
       "</table>\n"
      ],
      "text/latex": [
       "\\begin{tabular}{r|lllll}\n",
       " scopus\\_id & title\\_name & scihub & crossref & coverage\\\\\n",
       "\\hline\n",
       "\t 12001                                             & Journal of the Experimental Analysis of Behavior  & 2562                                              & 4400                                              & 0.58227                                          \\\\\n",
       "\t 12002                                             & Journal of the History of the Behavioral Sciences & 4277                                              & 4623                                              & 0.92516                                          \\\\\n",
       "\\end{tabular}\n"
      ],
      "text/markdown": [
       "\n",
       "scopus_id | title_name | scihub | crossref | coverage | \n",
       "|---|---|\n",
       "| 12001                                             | Journal of the Experimental Analysis of Behavior  | 2562                                              | 4400                                              | 0.58227                                           | \n",
       "| 12002                                             | Journal of the History of the Behavioral Sciences | 4277                                              | 4623                                              | 0.92516                                           | \n",
       "\n",
       "\n"
      ],
      "text/plain": [
       "  scopus_id title_name                                        scihub crossref\n",
       "1 12001     Journal of the Experimental Analysis of Behavior  2562   4400    \n",
       "2 12002     Journal of the History of the Behavioral Sciences 4277   4623    \n",
       "  coverage\n",
       "1 0.58227 \n",
       "2 0.92516 "
      ]
     },
     "metadata": {},
     "output_type": "display_data"
    }
   ],
   "source": [
    "scopus_col_types = list(\n",
    "  scopus_id = readr::col_character()  # R fails with big integers like 2200147401\n",
    ")\n",
    "journal_df = file.path('data', 'journal-coverage.tsv') %>%\n",
    "  readr::read_tsv(col_types = scopus_col_types)\n",
    "\n",
    "head(journal_df, 2)"
   ]
  },
  {
   "cell_type": "markdown",
   "metadata": {},
   "source": [
    "## Read external Scopus data"
   ]
  },
  {
   "cell_type": "code",
   "execution_count": 3,
   "metadata": {
    "collapsed": true
   },
   "outputs": [],
   "source": [
    "config = '0.configuration.json' %>% jsonlite::read_json()"
   ]
  },
  {
   "cell_type": "code",
   "execution_count": 4,
   "metadata": {},
   "outputs": [
    {
     "data": {
      "text/html": [
       "<table>\n",
       "<thead><tr><th scope=col>scopus_id</th><th scope=col>asjc_code</th><th scope=col>asjc_description</th></tr></thead>\n",
       "<tbody>\n",
       "\t<tr><td>12000           </td><td>1700            </td><td>Computer Science</td></tr>\n",
       "\t<tr><td>12000           </td><td>3300            </td><td>Social Sciences </td></tr>\n",
       "</tbody>\n",
       "</table>\n"
      ],
      "text/latex": [
       "\\begin{tabular}{r|lll}\n",
       " scopus\\_id & asjc\\_code & asjc\\_description\\\\\n",
       "\\hline\n",
       "\t 12000            & 1700             & Computer Science\\\\\n",
       "\t 12000            & 3300             & Social Sciences \\\\\n",
       "\\end{tabular}\n"
      ],
      "text/markdown": [
       "\n",
       "scopus_id | asjc_code | asjc_description | \n",
       "|---|---|\n",
       "| 12000            | 1700             | Computer Science | \n",
       "| 12000            | 3300             | Social Sciences  | \n",
       "\n",
       "\n"
      ],
      "text/plain": [
       "  scopus_id asjc_code asjc_description\n",
       "1 12000     1700      Computer Science\n",
       "2 12000     3300      Social Sciences "
      ]
     },
     "metadata": {},
     "output_type": "display_data"
    }
   ],
   "source": [
    "# Read scopus subject areas\n",
    "subject_df = paste0(config$scopus_url, 'data/subject-areas.tsv') %>%\n",
    "  readr::read_tsv(col_types = scopus_col_types)\n",
    "head(subject_df, 2)"
   ]
  },
  {
   "cell_type": "code",
   "execution_count": 5,
   "metadata": {
    "scrolled": true
   },
   "outputs": [
    {
     "data": {
      "text/html": [
       "<table>\n",
       "<thead><tr><th scope=col>scopus_id</th><th scope=col>top_level_subject</th></tr></thead>\n",
       "<tbody>\n",
       "\t<tr><td>12000            </td><td>Physical Sciences</td></tr>\n",
       "\t<tr><td>12000            </td><td>Social Sciences  </td></tr>\n",
       "</tbody>\n",
       "</table>\n"
      ],
      "text/latex": [
       "\\begin{tabular}{r|ll}\n",
       " scopus\\_id & top\\_level\\_subject\\\\\n",
       "\\hline\n",
       "\t 12000             & Physical Sciences\\\\\n",
       "\t 12000             & Social Sciences  \\\\\n",
       "\\end{tabular}\n"
      ],
      "text/markdown": [
       "\n",
       "scopus_id | top_level_subject | \n",
       "|---|---|\n",
       "| 12000             | Physical Sciences | \n",
       "| 12000             | Social Sciences   | \n",
       "\n",
       "\n"
      ],
      "text/plain": [
       "  scopus_id top_level_subject\n",
       "1 12000     Physical Sciences\n",
       "2 12000     Social Sciences  "
      ]
     },
     "metadata": {},
     "output_type": "display_data"
    }
   ],
   "source": [
    "# Read scopus top-level subjects\n",
    "top_df = paste0(config$scopus_url, 'data/title-top-levels.tsv') %>%\n",
    "  readr::read_tsv(col_types = scopus_col_types)\n",
    "head(top_df, 2)"
   ]
  },
  {
   "cell_type": "code",
   "execution_count": 6,
   "metadata": {},
   "outputs": [
    {
     "data": {
      "text/html": [
       "<table>\n",
       "<thead><tr><th scope=col>scopus_id</th><th scope=col>active</th><th scope=col>open_access</th><th scope=col>main_publisher</th><th scope=col>source_type</th><th scope=col>publisher_country</th></tr></thead>\n",
       "<tbody>\n",
       "\t<tr><td>12000                                                  </td><td>0                                                      </td><td>0                                                      </td><td>Columbus State University                              </td><td>Journal                                                </td><td>United States                                          </td></tr>\n",
       "\t<tr><td>12001                                                  </td><td>1                                                      </td><td>0                                                      </td><td>Society for the Experimental Analysis of Behavior, Inc.</td><td>Journal                                                </td><td>United States                                          </td></tr>\n",
       "</tbody>\n",
       "</table>\n"
      ],
      "text/latex": [
       "\\begin{tabular}{r|llllll}\n",
       " scopus\\_id & active & open\\_access & main\\_publisher & source\\_type & publisher\\_country\\\\\n",
       "\\hline\n",
       "\t 12000                                                   & 0                                                       & 0                                                       & Columbus State University                               & Journal                                                 & United States                                          \\\\\n",
       "\t 12001                                                   & 1                                                       & 0                                                       & Society for the Experimental Analysis of Behavior, Inc. & Journal                                                 & United States                                          \\\\\n",
       "\\end{tabular}\n"
      ],
      "text/markdown": [
       "\n",
       "scopus_id | active | open_access | main_publisher | source_type | publisher_country | \n",
       "|---|---|\n",
       "| 12000                                                   | 0                                                       | 0                                                       | Columbus State University                               | Journal                                                 | United States                                           | \n",
       "| 12001                                                   | 1                                                       | 0                                                       | Society for the Experimental Analysis of Behavior, Inc. | Journal                                                 | United States                                           | \n",
       "\n",
       "\n"
      ],
      "text/plain": [
       "  scopus_id active open_access\n",
       "1 12000     0      0          \n",
       "2 12001     1      0          \n",
       "  main_publisher                                          source_type\n",
       "1 Columbus State University                               Journal    \n",
       "2 Society for the Experimental Analysis of Behavior, Inc. Journal    \n",
       "  publisher_country\n",
       "1 United States    \n",
       "2 United States    "
      ]
     },
     "metadata": {},
     "output_type": "display_data"
    }
   ],
   "source": [
    "# Read scopus title attibutes\n",
    "attribute_df = paste0(config$scopus_url, 'data/title-attributes.tsv') %>%\n",
    "  readr::read_tsv(col_types = scopus_col_types)\n",
    "head(attribute_df, 2)"
   ]
  },
  {
   "cell_type": "markdown",
   "metadata": {},
   "source": [
    "## Compute coverage by category"
   ]
  },
  {
   "cell_type": "code",
   "execution_count": 7,
   "metadata": {},
   "outputs": [
    {
     "name": "stderr",
     "output_type": "stream",
     "text": [
      "Joining, by = \"scopus_id\"\n",
      "Joining, by = \"scopus_id\"\n",
      "Joining, by = \"scopus_id\"\n"
     ]
    },
    {
     "data": {
      "text/html": [
       "<table>\n",
       "<thead><tr><th scope=col>facet</th><th scope=col>category</th><th scope=col>titles</th><th scope=col>scihub</th><th scope=col>crossref</th><th scope=col>coverage</th></tr></thead>\n",
       "<tbody>\n",
       "\t<tr><td>Active                 </td><td>Active                 </td><td>17848                  </td><td>42452365               </td><td>50360382               </td><td>0.8429715              </td></tr>\n",
       "\t<tr><td>Active                 </td><td>Inactive               </td><td> 4345                  </td><td> 5166597               </td><td> 6713826               </td><td>0.7695459              </td></tr>\n",
       "\t<tr><td>Open                   </td><td>Closed                 </td><td>19543                  </td><td>46255342               </td><td>54297840               </td><td>0.8518818              </td></tr>\n",
       "\t<tr><td>Open                   </td><td>Open                   </td><td> 2650                  </td><td> 1363620               </td><td> 2776368               </td><td>0.4911525              </td></tr>\n",
       "\t<tr><td>Publisher              </td><td>A and V Publication    </td><td>    1                  </td><td>       0               </td><td>     765               </td><td>0.0000000              </td></tr>\n",
       "\t<tr><td>Publisher              </td><td>A B Academic Publishers</td><td>   10                  </td><td>    6753               </td><td>    7015               </td><td>0.9626515              </td></tr>\n",
       "</tbody>\n",
       "</table>\n"
      ],
      "text/latex": [
       "\\begin{tabular}{r|llllll}\n",
       " facet & category & titles & scihub & crossref & coverage\\\\\n",
       "\\hline\n",
       "\t Active                  & Active                  & 17848                   & 42452365                & 50360382                & 0.8429715              \\\\\n",
       "\t Active                  & Inactive                &  4345                   &  5166597                &  6713826                & 0.7695459              \\\\\n",
       "\t Open                    & Closed                  & 19543                   & 46255342                & 54297840                & 0.8518818              \\\\\n",
       "\t Open                    & Open                    &  2650                   &  1363620                &  2776368                & 0.4911525              \\\\\n",
       "\t Publisher               & A and V Publication     &     1                   &        0                &      765                & 0.0000000              \\\\\n",
       "\t Publisher               & A B Academic Publishers &    10                   &     6753                &     7015                & 0.9626515              \\\\\n",
       "\\end{tabular}\n"
      ],
      "text/markdown": [
       "\n",
       "facet | category | titles | scihub | crossref | coverage | \n",
       "|---|---|---|---|---|---|\n",
       "| Active                  | Active                  | 17848                   | 42452365                | 50360382                | 0.8429715               | \n",
       "| Active                  | Inactive                |  4345                   |  5166597                |  6713826                | 0.7695459               | \n",
       "| Open                    | Closed                  | 19543                   | 46255342                | 54297840                | 0.8518818               | \n",
       "| Open                    | Open                    |  2650                   |  1363620                |  2776368                | 0.4911525               | \n",
       "| Publisher               | A and V Publication     |     1                   |        0                |      765                | 0.0000000               | \n",
       "| Publisher               | A B Academic Publishers |    10                   |     6753                |     7015                | 0.9626515               | \n",
       "\n",
       "\n"
      ],
      "text/plain": [
       "  facet     category                titles scihub   crossref coverage \n",
       "1 Active    Active                  17848  42452365 50360382 0.8429715\n",
       "2 Active    Inactive                 4345   5166597  6713826 0.7695459\n",
       "3 Open      Closed                  19543  46255342 54297840 0.8518818\n",
       "4 Open      Open                     2650   1363620  2776368 0.4911525\n",
       "5 Publisher A and V Publication         1         0      765 0.0000000\n",
       "6 Publisher A B Academic Publishers    10      6753     7015 0.9626515"
      ]
     },
     "metadata": {},
     "output_type": "display_data"
    }
   ],
   "source": [
    "coverage_df = dplyr::bind_rows(\n",
    "  # Top-Level Subjects\n",
    "  journal_df %>%\n",
    "    dplyr::inner_join(top_df) %>%\n",
    "    dplyr::rename(category = top_level_subject) %>%\n",
    "    dplyr::mutate(facet = 'Top-Level'),\n",
    "  # Subject Areas\n",
    "  journal_df %>%\n",
    "    dplyr::inner_join(subject_df) %>%\n",
    "    dplyr::select(-asjc_code) %>%\n",
    "    dplyr::rename(category = asjc_description) %>%\n",
    "    dplyr::mutate(facet = 'Subject Area'),\n",
    "  # Journal Attributes\n",
    "  attribute_df %>%\n",
    "    dplyr::mutate(\n",
    "      open_access = dplyr::recode(open_access, `0`='Closed', `1`='Open'),\n",
    "      active = dplyr::recode(active, `0`='Inactive', `1`='Active')\n",
    "    ) %>%\n",
    "    dplyr::inner_join(journal_df) %>%\n",
    "    tidyr::gather(key = 'facet', value = 'category', active:publisher_country) %>%\n",
    "    dplyr::mutate(facet = dplyr::recode(facet,\n",
    "      active='Active', open_access='Open', source_type='Type',\n",
    "      main_publisher='Publisher', publisher_country='Publisher Country'))\n",
    "  ) %>%\n",
    "  # Summarize coverage across journals\n",
    "  dplyr::filter(!is.na(category)) %>%\n",
    "  dplyr::group_by(facet, category) %>%\n",
    "  dplyr::summarize(\n",
    "    titles = n(),\n",
    "    scihub = sum(scihub),\n",
    "    crossref = sum(crossref),\n",
    "    coverage = scihub / crossref\n",
    "  ) %>%\n",
    "  dplyr::ungroup()\n",
    "\n",
    "head(coverage_df)"
   ]
  },
  {
   "cell_type": "code",
   "execution_count": 8,
   "metadata": {
    "collapsed": true
   },
   "outputs": [],
   "source": [
    "coverage_df %>%\n",
    "  readr::write_tsv(file.path('data', 'coverage-by-category.tsv'))"
   ]
  },
  {
   "cell_type": "markdown",
   "metadata": {},
   "source": [
    "## Journal / Publisher coverage distributions"
   ]
  },
  {
   "cell_type": "code",
   "execution_count": 9,
   "metadata": {
    "collapsed": true
   },
   "outputs": [],
   "source": [
    "# Set figure dimensions\n",
    "width = 4\n",
    "height = 3\n",
    "options(repr.plot.width=width, repr.plot.height=height)\n",
    "\n",
    "gg = coverage_df %>%\n",
    "  dplyr::bind_rows(journal_df %>%\n",
    "    dplyr::transmute(facet='Journal', category=title_name, scihub, crossref, coverage)\n",
    "  ) %>%\n",
    "  dplyr::filter(facet %in% c('Journal', 'Publisher')) %>%\n",
    "  ggplot2::ggplot(ggplot2::aes(x = coverage)) +\n",
    "  ggplot2::facet_grid(facet ~ ., scales='free_y') +\n",
    "  ggplot2::geom_histogram(binwidth = 0.025, fill='#990000', color='white', size=0.4) +\n",
    "  ggplot2::scale_x_continuous(labels = scales::percent, name=NULL, expand = c(0.01, 0)) +\n",
    "  ggplot2::scale_y_continuous(name=NULL, expand = c(0.015, 0)) +\n",
    "  ggplot2::theme_bw() +\n",
    "  ggplot2::theme(strip.background = ggplot2::element_rect(fill = '#FEF2E2'))\n",
    "\n",
    "file.path('figure', 'coverage-distributions.svg') %>%\n",
    "  ggplot2::ggsave(gg, width=width, height=height)"
   ]
  },
  {
   "cell_type": "markdown",
   "metadata": {},
   "source": [
    "## Facet-category plotting functions"
   ]
  },
  {
   "cell_type": "code",
   "execution_count": 10,
   "metadata": {
    "collapsed": true
   },
   "outputs": [],
   "source": [
    "abbreviate_number <- function(x) {\n",
    "  if (nchar(x) <= 3) {return(x)}\n",
    "  if (nchar(x) <= 5) {\n",
    "    return(paste0(signif(x / 1e3, digits = 2), 'K'))\n",
    "  }\n",
    "  if (nchar(x) <= 6) {\n",
    "    return(paste0(round(x / 1e3), 'K'))\n",
    "  }\n",
    "  return(paste0(signif(x / 1e6, digits = 2), 'M'))\n",
    "}\n",
    "\n",
    "abbreviate_number <- Vectorize(abbreviate_number)"
   ]
  },
  {
   "cell_type": "code",
   "execution_count": 11,
   "metadata": {
    "collapsed": true
   },
   "outputs": [],
   "source": [
    "plot_coverage <- function(coverage_df, breaks=seq(0, 1, 0.1), text_size=2) {\n",
    "  # Function to plot Sci-Hub coverage\n",
    "\n",
    "  plot_df = coverage_df %>%\n",
    "    dplyr::arrange(coverage) %>%\n",
    "    dplyr::mutate(category = factor(category, levels=unique(category)))\n",
    "    \n",
    "    if ('titles' %in% colnames(plot_df)) {\n",
    "      plot_df = plot_df %>%\n",
    "        dplyr::mutate(label =\n",
    "        sprintf('%s — %s titles, %s of %s works (%s)',\n",
    "            category,\n",
    "            abbreviate_number(titles),\n",
    "            abbreviate_number(scihub),\n",
    "            abbreviate_number(crossref),\n",
    "            scales::percent(coverage)\n",
    "        ))\n",
    "    } else {\n",
    "      plot_df = plot_df %>%\n",
    "        dplyr::mutate(label =\n",
    "        sprintf('%s — %s of %s works (%s)',\n",
    "            category,\n",
    "            abbreviate_number(scihub),\n",
    "            abbreviate_number(crossref),\n",
    "            scales::percent(coverage)\n",
    "        ))\n",
    "    }\n",
    "\n",
    "    gg = plot_df %>%\n",
    "      ggplot2::ggplot(ggplot2::aes(x = category, y = coverage)) +\n",
    "      ggplot2::geom_col(fill='#efdada') +\n",
    "      ggplot2::facet_grid(facet ~ ., scales='free', space='free_y', shrink = TRUE) +\n",
    "      ggplot2::theme_bw() +\n",
    "      ggplot2::coord_flip() +\n",
    "      ggplot2::expand_limits(y = 1) + \n",
    "      ggplot2::scale_x_discrete(name = NULL, labels=NULL) +\n",
    "      ggplot2::scale_y_continuous(\n",
    "        breaks=breaks, labels=scales::percent,\n",
    "        expand = c(0, 0), name = 'Sci-Hub’s Coverage') +\n",
    "      ggplot2::theme(strip.background = ggplot2::element_rect(fill = '#FEF2E2')) +\n",
    "      ggplot2::theme(axis.ticks.y = ggplot2::element_blank()) +\n",
    "      ggplot2::theme(plot.margin=grid::unit(c(2, 2, 2, 5), 'points')) +\n",
    "      ggplot2::geom_text(ggplot2::aes(label = label), y = 0.01, size=text_size, hjust='inward', color='#000000')\n",
    "\n",
    "    return(gg)\n",
    "}"
   ]
  },
  {
   "cell_type": "markdown",
   "metadata": {},
   "source": [
    "## Plot coverage by journal status and subject areas"
   ]
  },
  {
   "cell_type": "code",
   "execution_count": 12,
   "metadata": {
    "collapsed": true,
    "scrolled": false
   },
   "outputs": [],
   "source": [
    "# Set figure dimensions\n",
    "width = 5\n",
    "height = 7\n",
    "options(repr.plot.width=width, repr.plot.height=height)\n",
    "\n",
    "gg = coverage_df %>%\n",
    "  dplyr::filter(facet %in% c('Active', 'Open', 'Subject Area', 'Top-Level')) %>%\n",
    "  plot_coverage()\n",
    "\n",
    "\n",
    "file.path('figure', 'coverage.svg') %>%\n",
    "  ggplot2::ggsave(gg, width=width, height=height)"
   ]
  },
  {
   "cell_type": "markdown",
   "metadata": {},
   "source": [
    "## Plot coverage by publisher"
   ]
  },
  {
   "cell_type": "code",
   "execution_count": 13,
   "metadata": {
    "collapsed": true,
    "scrolled": false
   },
   "outputs": [],
   "source": [
    "# Set figure dimensions\n",
    "width = 5\n",
    "height = 12\n",
    "options(repr.plot.width=width, repr.plot.height=height)\n",
    "\n",
    "gg = coverage_df %>%\n",
    "  dplyr::filter(facet %in% c('Publisher', 'Publisher Country')) %>%\n",
    "  dplyr::filter(crossref > 100000) %>%\n",
    "  plot_coverage()\n",
    "\n",
    "file.path('figure', 'coverage-by-publisher.svg') %>%\n",
    "  ggplot2::ggsave(gg, width=width, height=height)"
   ]
  },
  {
   "cell_type": "markdown",
   "metadata": {},
   "source": [
    "## Crossref metadata coverage"
   ]
  },
  {
   "cell_type": "markdown",
   "metadata": {},
   "source": [
    "### Coverage by Crossref work type"
   ]
  },
  {
   "cell_type": "code",
   "execution_count": 14,
   "metadata": {},
   "outputs": [
    {
     "name": "stderr",
     "output_type": "stream",
     "text": [
      "Parsed with column specification:\n",
      "cols(\n",
      "  type = col_character(),\n",
      "  scihub = col_integer(),\n",
      "  crossref = col_integer(),\n",
      "  coverage = col_double()\n",
      ")\n"
     ]
    },
    {
     "data": {
      "text/html": [
       "<table>\n",
       "<thead><tr><th scope=col>category</th><th scope=col>scihub</th><th scope=col>crossref</th><th scope=col>coverage</th><th scope=col>facet</th></tr></thead>\n",
       "<tbody>\n",
       "\t<tr><td>Book Chapter </td><td>1450999      </td><td>10250455     </td><td>0.1415500    </td><td>Crossref Type</td></tr>\n",
       "\t<tr><td>Book Part    </td><td>      3      </td><td>    1336     </td><td>0.0022455    </td><td>Crossref Type</td></tr>\n",
       "</tbody>\n",
       "</table>\n"
      ],
      "text/latex": [
       "\\begin{tabular}{r|lllll}\n",
       " category & scihub & crossref & coverage & facet\\\\\n",
       "\\hline\n",
       "\t Book Chapter  & 1450999       & 10250455      & 0.1415500     & Crossref Type\\\\\n",
       "\t Book Part     &       3       &     1336      & 0.0022455     & Crossref Type\\\\\n",
       "\\end{tabular}\n"
      ],
      "text/markdown": [
       "\n",
       "category | scihub | crossref | coverage | facet | \n",
       "|---|---|\n",
       "| Book Chapter  | 1450999       | 10250455      | 0.1415500     | Crossref Type | \n",
       "| Book Part     |       3       |     1336      | 0.0022455     | Crossref Type | \n",
       "\n",
       "\n"
      ],
      "text/plain": [
       "  category     scihub  crossref coverage  facet        \n",
       "1 Book Chapter 1450999 10250455 0.1415500 Crossref Type\n",
       "2 Book Part          3     1336 0.0022455 Crossref Type"
      ]
     },
     "metadata": {},
     "output_type": "display_data"
    }
   ],
   "source": [
    "type_df = file.path('data', 'type-coverage.tsv') %>%\n",
    "  readr::read_tsv() %>%\n",
    "  dplyr::mutate(type = tools::toTitleCase(gsub('-', ' ', type))) %>%\n",
    "  dplyr::rename(category = type) %>%\n",
    "  dplyr::mutate(facet = 'Crossref Type')\n",
    "\n",
    "head(type_df, 2)"
   ]
  },
  {
   "cell_type": "code",
   "execution_count": 15,
   "metadata": {
    "collapsed": true
   },
   "outputs": [],
   "source": [
    "# Set figure dimensions\n",
    "width = 3\n",
    "height = 2\n",
    "options(repr.plot.width=width, repr.plot.height=height)\n",
    "\n",
    "gg = type_df %>%\n",
    "  plot_coverage(breaks=seq(0, 1, 0.2), text_size=2.3)\n",
    "\n",
    "file.path('figure', 'coverage-by-type.svg') %>%\n",
    "  ggplot2::ggsave(gg, width=width, height=height)"
   ]
  },
  {
   "cell_type": "markdown",
   "metadata": {},
   "source": [
    "### Coverage by year issued"
   ]
  },
  {
   "cell_type": "code",
   "execution_count": 16,
   "metadata": {},
   "outputs": [
    {
     "name": "stderr",
     "output_type": "stream",
     "text": [
      "Parsed with column specification:\n",
      "cols(\n",
      "  year = col_integer(),\n",
      "  scihub = col_integer(),\n",
      "  crossref = col_integer(),\n",
      "  coverage = col_double()\n",
      ")\n"
     ]
    },
    {
     "data": {
      "text/html": [
       "<table>\n",
       "<thead><tr><th scope=col>year</th><th scope=col>scihub</th><th scope=col>crossref</th><th scope=col>coverage</th></tr></thead>\n",
       "<tbody>\n",
       "\t<tr><td>1678</td><td>0   </td><td>76  </td><td>0   </td></tr>\n",
       "\t<tr><td>1679</td><td>0   </td><td>26  </td><td>0   </td></tr>\n",
       "</tbody>\n",
       "</table>\n"
      ],
      "text/latex": [
       "\\begin{tabular}{r|llll}\n",
       " year & scihub & crossref & coverage\\\\\n",
       "\\hline\n",
       "\t 1678 & 0    & 76   & 0   \\\\\n",
       "\t 1679 & 0    & 26   & 0   \\\\\n",
       "\\end{tabular}\n"
      ],
      "text/markdown": [
       "\n",
       "year | scihub | crossref | coverage | \n",
       "|---|---|\n",
       "| 1678 | 0    | 76   | 0    | \n",
       "| 1679 | 0    | 26   | 0    | \n",
       "\n",
       "\n"
      ],
      "text/plain": [
       "  year scihub crossref coverage\n",
       "1 1678 0      76       0       \n",
       "2 1679 0      26       0       "
      ]
     },
     "metadata": {},
     "output_type": "display_data"
    }
   ],
   "source": [
    "year_df = file.path('data', 'year-coverage.tsv') %>%\n",
    "  readr::read_tsv()\n",
    "\n",
    "head(year_df, 2)"
   ]
  },
  {
   "cell_type": "code",
   "execution_count": 17,
   "metadata": {
    "collapsed": true
   },
   "outputs": [],
   "source": [
    "width = 6\n",
    "height = 2.5\n",
    "options(repr.plot.width=width, repr.plot.height=height)\n",
    "\n",
    "gg = year_df %>%\n",
    "  dplyr::filter(year >= 1850) %>%\n",
    "  ggplot2::ggplot(ggplot2::aes(x=year, y=coverage)) +\n",
    "  ggplot2::geom_col(fill='#efdada', color='white', size=0.2) +\n",
    "  ggplot2::expand_limits(y = 1) +\n",
    "  ggplot2::scale_x_continuous(breaks=seq(0, 3000, 20), name = NULL, expand = c(0, 0)) +\n",
    "  ggplot2::scale_y_continuous(\n",
    "    breaks=seq(0, 1, 0.2), labels=scales::percent,\n",
    "    expand = c(0, 0), name = 'Sci-Hub’s Coverage') +\n",
    "  ggplot2::theme_bw()\n",
    "\n",
    "file.path('figure', 'coverage-by-year.svg') %>%\n",
    "  ggplot2::ggsave(gg, width=width, height=height)"
   ]
  }
 ],
 "metadata": {
  "kernelspec": {
   "display_name": "R [conda env:scihub]",
   "language": "R",
   "name": "conda-env-scihub-r"
  },
  "language_info": {
   "codemirror_mode": "r",
   "file_extension": ".r",
   "mimetype": "text/x-r-source",
   "name": "R",
   "pygments_lexer": "r",
   "version": "3.3.2"
  }
 },
 "nbformat": 4,
 "nbformat_minor": 1
}
