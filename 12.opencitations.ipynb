{
 "cells": [
  {
   "cell_type": "markdown",
   "metadata": {},
   "source": [
    "# Sci-Hub coverage of referenced (cited) articles\n",
    "\n",
    "Based on [OpenCitations](http://opencitations.net/)."
   ]
  },
  {
   "cell_type": "code",
   "execution_count": 1,
   "metadata": {
    "collapsed": true
   },
   "outputs": [],
   "source": [
    "import json\n",
    "import pathlib\n",
    "\n",
    "import pandas"
   ]
  },
  {
   "cell_type": "code",
   "execution_count": 2,
   "metadata": {
    "collapsed": true
   },
   "outputs": [],
   "source": [
    "with open('00.configuration.json') as read_file:\n",
    "    config = json.load(read_file)"
   ]
  },
  {
   "cell_type": "code",
   "execution_count": 3,
   "metadata": {},
   "outputs": [
    {
     "data": {
      "text/html": [
       "<div>\n",
       "<style>\n",
       "    .dataframe thead tr:only-child th {\n",
       "        text-align: right;\n",
       "    }\n",
       "\n",
       "    .dataframe thead th {\n",
       "        text-align: left;\n",
       "    }\n",
       "\n",
       "    .dataframe tbody tr th {\n",
       "        vertical-align: top;\n",
       "    }\n",
       "</style>\n",
       "<table border=\"1\" class=\"dataframe\">\n",
       "  <thead>\n",
       "    <tr style=\"text-align: right;\">\n",
       "      <th></th>\n",
       "      <th>doi</th>\n",
       "      <th>type</th>\n",
       "      <th>issued</th>\n",
       "      <th>in_scopus</th>\n",
       "      <th>in_scihub_dois</th>\n",
       "      <th>in_scihub_logs</th>\n",
       "      <th>in_libgen</th>\n",
       "    </tr>\n",
       "  </thead>\n",
       "  <tbody>\n",
       "    <tr>\n",
       "      <th>0</th>\n",
       "      <td>10.1001/.387</td>\n",
       "      <td>journal-article</td>\n",
       "      <td>2006-02-27</td>\n",
       "      <td>1</td>\n",
       "      <td>0</td>\n",
       "      <td>0</td>\n",
       "      <td>0</td>\n",
       "    </tr>\n",
       "    <tr>\n",
       "      <th>1</th>\n",
       "      <td>10.1001/.389</td>\n",
       "      <td>journal-article</td>\n",
       "      <td>2006-02-27</td>\n",
       "      <td>1</td>\n",
       "      <td>0</td>\n",
       "      <td>0</td>\n",
       "      <td>0</td>\n",
       "    </tr>\n",
       "  </tbody>\n",
       "</table>\n",
       "</div>"
      ],
      "text/plain": [
       "            doi             type      issued  in_scopus  in_scihub_dois  \\\n",
       "0  10.1001/.387  journal-article  2006-02-27          1               0   \n",
       "1  10.1001/.389  journal-article  2006-02-27          1               0   \n",
       "\n",
       "   in_scihub_logs  in_libgen  \n",
       "0               0          0  \n",
       "1               0          0  "
      ]
     },
     "execution_count": 3,
     "metadata": {},
     "output_type": "execute_result"
    }
   ],
   "source": [
    "path = pathlib.Path('data/doi.tsv.xz')\n",
    "doi_df = pandas.read_table(path, compression='xz')\n",
    "doi_df.head(2)"
   ]
  },
  {
   "cell_type": "code",
   "execution_count": 4,
   "metadata": {},
   "outputs": [
    {
     "data": {
      "text/html": [
       "<div>\n",
       "<style>\n",
       "    .dataframe thead tr:only-child th {\n",
       "        text-align: right;\n",
       "    }\n",
       "\n",
       "    .dataframe thead th {\n",
       "        text-align: left;\n",
       "    }\n",
       "\n",
       "    .dataframe tbody tr th {\n",
       "        vertical-align: top;\n",
       "    }\n",
       "</style>\n",
       "<table border=\"1\" class=\"dataframe\">\n",
       "  <thead>\n",
       "    <tr style=\"text-align: right;\">\n",
       "      <th></th>\n",
       "      <th>source_doi</th>\n",
       "      <th>target_doi</th>\n",
       "    </tr>\n",
       "  </thead>\n",
       "  <tbody>\n",
       "    <tr>\n",
       "      <th>0</th>\n",
       "      <td>10.1002/14651858.cd002244.pub4</td>\n",
       "      <td>10.1001/archneur.1990.00530120057010</td>\n",
       "    </tr>\n",
       "    <tr>\n",
       "      <th>1</th>\n",
       "      <td>10.1002/14651858.cd002244.pub4</td>\n",
       "      <td>10.1002/14651858.cd002244</td>\n",
       "    </tr>\n",
       "  </tbody>\n",
       "</table>\n",
       "</div>"
      ],
      "text/plain": [
       "                       source_doi                            target_doi\n",
       "0  10.1002/14651858.cd002244.pub4  10.1001/archneur.1990.00530120057010\n",
       "1  10.1002/14651858.cd002244.pub4             10.1002/14651858.cd002244"
      ]
     },
     "execution_count": 4,
     "metadata": {},
     "output_type": "execute_result"
    }
   ],
   "source": [
    "url = config['opencitations_url'] + 'data/citations-doi.tsv.xz'\n",
    "citation_df = pandas.read_table(url)\n",
    "# Take only outgoing citations from articles published after 2010\n",
    "valid_source_dois = set(doi_df.query(\"issued >= '2015'\").doi)\n",
    "citation_df = citation_df.query(\"source_doi in @valid_source_dois\")\n",
    "citation_df.head(2)"
   ]
  },
  {
   "cell_type": "code",
   "execution_count": 5,
   "metadata": {},
   "outputs": [
    {
     "name": "stdout",
     "output_type": "stream",
     "text": [
      "The history saving thread hit an unexpected error (OperationalError('database is locked',)).History will not be written to the database.\n"
     ]
    },
    {
     "data": {
      "text/html": [
       "<div>\n",
       "<style>\n",
       "    .dataframe thead tr:only-child th {\n",
       "        text-align: right;\n",
       "    }\n",
       "\n",
       "    .dataframe thead th {\n",
       "        text-align: left;\n",
       "    }\n",
       "\n",
       "    .dataframe tbody tr th {\n",
       "        vertical-align: top;\n",
       "    }\n",
       "</style>\n",
       "<table border=\"1\" class=\"dataframe\">\n",
       "  <thead>\n",
       "    <tr style=\"text-align: right;\">\n",
       "      <th></th>\n",
       "      <th>source_doi</th>\n",
       "      <th>target_doi</th>\n",
       "      <th>type</th>\n",
       "      <th>issued</th>\n",
       "      <th>in_scopus</th>\n",
       "      <th>in_scihub_dois</th>\n",
       "      <th>in_scihub_logs</th>\n",
       "      <th>in_libgen</th>\n",
       "    </tr>\n",
       "  </thead>\n",
       "  <tbody>\n",
       "    <tr>\n",
       "      <th>0</th>\n",
       "      <td>10.1002/14651858.cd002244.pub4</td>\n",
       "      <td>10.1001/archneur.1990.00530120057010</td>\n",
       "      <td>journal-article</td>\n",
       "      <td>1990-12-01</td>\n",
       "      <td>1</td>\n",
       "      <td>1</td>\n",
       "      <td>0</td>\n",
       "      <td>1</td>\n",
       "    </tr>\n",
       "    <tr>\n",
       "      <th>1</th>\n",
       "      <td>10.1002/14651858.cd012091.pub2</td>\n",
       "      <td>10.1001/archneur.1990.00530120057010</td>\n",
       "      <td>journal-article</td>\n",
       "      <td>1990-12-01</td>\n",
       "      <td>1</td>\n",
       "      <td>1</td>\n",
       "      <td>0</td>\n",
       "      <td>1</td>\n",
       "    </tr>\n",
       "  </tbody>\n",
       "</table>\n",
       "</div>"
      ],
      "text/plain": [
       "                       source_doi                            target_doi  \\\n",
       "0  10.1002/14651858.cd002244.pub4  10.1001/archneur.1990.00530120057010   \n",
       "1  10.1002/14651858.cd012091.pub2  10.1001/archneur.1990.00530120057010   \n",
       "\n",
       "              type      issued  in_scopus  in_scihub_dois  in_scihub_logs  \\\n",
       "0  journal-article  1990-12-01          1               1               0   \n",
       "1  journal-article  1990-12-01          1               1               0   \n",
       "\n",
       "   in_libgen  \n",
       "0          1  \n",
       "1          1  "
      ]
     },
     "execution_count": 5,
     "metadata": {},
     "output_type": "execute_result"
    }
   ],
   "source": [
    "merged_df = citation_df.merge(\n",
    "    doi_df.rename(columns={'doi': 'target_doi'})\n",
    ")\n",
    "merged_df.head(2)"
   ]
  },
  {
   "cell_type": "code",
   "execution_count": 6,
   "metadata": {},
   "outputs": [
    {
     "data": {
      "text/plain": [
       "10.1006/meth.2001.1262           2257\n",
       "10.1093/molbev/mst197            1439\n",
       "10.1016/s0022-2836(05)80360-2    1017\n",
       "10.1093/bioinformatics/btp352    1014\n",
       "10.1093/bioinformatics/btp324     913\n",
       "10.1016/j.cell.2011.02.013        904\n",
       "10.1093/molbev/msr121             894\n",
       "10.1006/abio.1976.9999            892\n",
       "10.3322/caac.20107                879\n",
       "10.1038/nprot.2008.211            857\n",
       "Name: target_doi, dtype: int64"
      ]
     },
     "execution_count": 6,
     "metadata": {},
     "output_type": "execute_result"
    }
   ],
   "source": [
    "# Top cited DOIs\n",
    "merged_df.target_doi.value_counts().sort_values(ascending=False).head(10)"
   ]
  },
  {
   "cell_type": "code",
   "execution_count": 7,
   "metadata": {},
   "outputs": [
    {
     "name": "stdout",
     "output_type": "stream",
     "text": [
      "After filtering for valid DOIs (DOIs in the article catalog):\n",
      "7,312,607 total DOI-to-DOI citations\n",
      "200,206 DOIs with outgoing DOI citations\n",
      "3,857,822 DOIs with incoming DOI citations\n"
     ]
    }
   ],
   "source": [
    "len(merged_df)\n",
    "print(f'''\n",
    "After filtering for valid DOIs (DOIs in the article catalog):\n",
    "{len(merged_df):,} total DOI-to-DOI citations\n",
    "{merged_df.source_doi.nunique():,} DOIs with outgoing DOI citations\n",
    "{merged_df.target_doi.nunique():,} DOIs with incoming DOI citations\n",
    "'''.strip())"
   ]
  },
  {
   "cell_type": "code",
   "execution_count": 8,
   "metadata": {},
   "outputs": [
    {
     "data": {
      "text/plain": [
       "in_scopus         7095632\n",
       "in_scihub_dois    6657410\n",
       "in_scihub_logs    3708009\n",
       "in_libgen         6667832\n",
       "dtype: int64"
      ]
     },
     "execution_count": 8,
     "metadata": {},
     "output_type": "execute_result"
    }
   ],
   "source": [
    "# Raw Coverage\n",
    "merged_df.sum(numeric_only=True)"
   ]
  },
  {
   "cell_type": "code",
   "execution_count": 9,
   "metadata": {},
   "outputs": [
    {
     "data": {
      "text/plain": [
       "in_scopus         97.032864\n",
       "in_scihub_dois    91.040172\n",
       "in_scihub_logs    50.707073\n",
       "in_libgen         91.182693\n",
       "dtype: float64"
      ]
     },
     "execution_count": 9,
     "metadata": {},
     "output_type": "execute_result"
    }
   ],
   "source": [
    "# Percent Coverage\n",
    "100 * merged_df.mean(numeric_only=True)"
   ]
  },
  {
   "cell_type": "code",
   "execution_count": 10,
   "metadata": {},
   "outputs": [
    {
     "data": {
      "text/html": [
       "<div>\n",
       "<style>\n",
       "    .dataframe thead tr:only-child th {\n",
       "        text-align: right;\n",
       "    }\n",
       "\n",
       "    .dataframe thead th {\n",
       "        text-align: left;\n",
       "    }\n",
       "\n",
       "    .dataframe tbody tr th {\n",
       "        vertical-align: top;\n",
       "    }\n",
       "</style>\n",
       "<table border=\"1\" class=\"dataframe\">\n",
       "  <thead>\n",
       "    <tr style=\"text-align: right;\">\n",
       "      <th>in_scihub_dois</th>\n",
       "      <th>0</th>\n",
       "      <th>1</th>\n",
       "      <th>All</th>\n",
       "    </tr>\n",
       "    <tr>\n",
       "      <th>type</th>\n",
       "      <th></th>\n",
       "      <th></th>\n",
       "      <th></th>\n",
       "    </tr>\n",
       "  </thead>\n",
       "  <tbody>\n",
       "    <tr>\n",
       "      <th>book-section</th>\n",
       "      <td>7</td>\n",
       "      <td>0</td>\n",
       "      <td>7</td>\n",
       "    </tr>\n",
       "    <tr>\n",
       "      <th>book-part</th>\n",
       "      <td>8</td>\n",
       "      <td>0</td>\n",
       "      <td>8</td>\n",
       "    </tr>\n",
       "    <tr>\n",
       "      <th>standard</th>\n",
       "      <td>552</td>\n",
       "      <td>74</td>\n",
       "      <td>626</td>\n",
       "    </tr>\n",
       "    <tr>\n",
       "      <th>report</th>\n",
       "      <td>1819</td>\n",
       "      <td>15</td>\n",
       "      <td>1834</td>\n",
       "    </tr>\n",
       "    <tr>\n",
       "      <th>reference-entry</th>\n",
       "      <td>2267</td>\n",
       "      <td>13805</td>\n",
       "      <td>16072</td>\n",
       "    </tr>\n",
       "    <tr>\n",
       "      <th>proceedings-article</th>\n",
       "      <td>2299</td>\n",
       "      <td>25409</td>\n",
       "      <td>27708</td>\n",
       "    </tr>\n",
       "    <tr>\n",
       "      <th>book-chapter</th>\n",
       "      <td>30169</td>\n",
       "      <td>51042</td>\n",
       "      <td>81211</td>\n",
       "    </tr>\n",
       "    <tr>\n",
       "      <th>journal-article</th>\n",
       "      <td>618076</td>\n",
       "      <td>6567065</td>\n",
       "      <td>7185141</td>\n",
       "    </tr>\n",
       "    <tr>\n",
       "      <th>All</th>\n",
       "      <td>655197</td>\n",
       "      <td>6657410</td>\n",
       "      <td>7312607</td>\n",
       "    </tr>\n",
       "  </tbody>\n",
       "</table>\n",
       "</div>"
      ],
      "text/plain": [
       "in_scihub_dois            0        1      All\n",
       "type                                         \n",
       "book-section              7        0        7\n",
       "book-part                 8        0        8\n",
       "standard                552       74      626\n",
       "report                 1819       15     1834\n",
       "reference-entry        2267    13805    16072\n",
       "proceedings-article    2299    25409    27708\n",
       "book-chapter          30169    51042    81211\n",
       "journal-article      618076  6567065  7185141\n",
       "All                  655197  6657410  7312607"
      ]
     },
     "execution_count": 10,
     "metadata": {},
     "output_type": "execute_result"
    }
   ],
   "source": [
    "# Hit rate by article type\n",
    "pandas.crosstab(merged_df.type, merged_df.in_scihub_dois, margins=True).sort_values('All')"
   ]
  },
  {
   "cell_type": "code",
   "execution_count": 11,
   "metadata": {},
   "outputs": [
    {
     "data": {
      "text/plain": [
       "type\n",
       "book-chapter           62.851092\n",
       "book-part               0.000000\n",
       "book-section            0.000000\n",
       "journal-article        91.397858\n",
       "proceedings-article    91.702757\n",
       "reference-entry        85.894724\n",
       "report                  0.817884\n",
       "standard               11.821086\n",
       "Name: in_scihub_dois, dtype: float64"
      ]
     },
     "execution_count": 11,
     "metadata": {},
     "output_type": "execute_result"
    }
   ],
   "source": [
    "# Hit rate by article type (as percents)\n",
    "100 * merged_df.groupby('type').in_scihub_dois.mean()"
   ]
  },
  {
   "cell_type": "markdown",
   "metadata": {},
   "source": [
    "## Journals"
   ]
  },
  {
   "cell_type": "code",
   "execution_count": 12,
   "metadata": {},
   "outputs": [
    {
     "data": {
      "text/html": [
       "<div>\n",
       "<style>\n",
       "    .dataframe thead tr:only-child th {\n",
       "        text-align: right;\n",
       "    }\n",
       "\n",
       "    .dataframe thead th {\n",
       "        text-align: left;\n",
       "    }\n",
       "\n",
       "    .dataframe tbody tr th {\n",
       "        vertical-align: top;\n",
       "    }\n",
       "</style>\n",
       "<table border=\"1\" class=\"dataframe\">\n",
       "  <thead>\n",
       "    <tr style=\"text-align: right;\">\n",
       "      <th></th>\n",
       "      <th>scopus_id</th>\n",
       "      <th>target_doi</th>\n",
       "    </tr>\n",
       "  </thead>\n",
       "  <tbody>\n",
       "    <tr>\n",
       "      <th>0</th>\n",
       "      <td>12001</td>\n",
       "      <td>10.1002/jeab.1</td>\n",
       "    </tr>\n",
       "    <tr>\n",
       "      <th>1</th>\n",
       "      <td>12001</td>\n",
       "      <td>10.1002/jeab.10</td>\n",
       "    </tr>\n",
       "  </tbody>\n",
       "</table>\n",
       "</div>"
      ],
      "text/plain": [
       "   scopus_id       target_doi\n",
       "0      12001   10.1002/jeab.1\n",
       "1      12001  10.1002/jeab.10"
      ]
     },
     "execution_count": 12,
     "metadata": {},
     "output_type": "execute_result"
    }
   ],
   "source": [
    "path = pathlib.Path('data/scopus-title-to-doi-map.tsv.xz')\n",
    "title_map_df = pandas.read_table(path, compression='xz')\n",
    "title_map_df = title_map_df.rename(columns={'doi': 'target_doi'})\n",
    "title_map_df.head(2)"
   ]
  },
  {
   "cell_type": "code",
   "execution_count": 13,
   "metadata": {},
   "outputs": [
    {
     "data": {
      "text/html": [
       "<div>\n",
       "<style>\n",
       "    .dataframe thead tr:only-child th {\n",
       "        text-align: right;\n",
       "    }\n",
       "\n",
       "    .dataframe thead th {\n",
       "        text-align: left;\n",
       "    }\n",
       "\n",
       "    .dataframe tbody tr th {\n",
       "        vertical-align: top;\n",
       "    }\n",
       "</style>\n",
       "<table border=\"1\" class=\"dataframe\">\n",
       "  <thead>\n",
       "    <tr style=\"text-align: right;\">\n",
       "      <th></th>\n",
       "      <th>scopus_id</th>\n",
       "      <th>title_name</th>\n",
       "      <th>active</th>\n",
       "      <th>open_access</th>\n",
       "    </tr>\n",
       "  </thead>\n",
       "  <tbody>\n",
       "    <tr>\n",
       "      <th>0</th>\n",
       "      <td>12000</td>\n",
       "      <td>Journal of Technology in Counseling</td>\n",
       "      <td>0</td>\n",
       "      <td>0</td>\n",
       "    </tr>\n",
       "    <tr>\n",
       "      <th>1</th>\n",
       "      <td>12001</td>\n",
       "      <td>Journal of the Experimental Analysis of Behavior</td>\n",
       "      <td>1</td>\n",
       "      <td>0</td>\n",
       "    </tr>\n",
       "  </tbody>\n",
       "</table>\n",
       "</div>"
      ],
      "text/plain": [
       "   scopus_id                                        title_name  active  \\\n",
       "0      12000               Journal of Technology in Counseling       0   \n",
       "1      12001  Journal of the Experimental Analysis of Behavior       1   \n",
       "\n",
       "   open_access  \n",
       "0            0  \n",
       "1            0  "
      ]
     },
     "execution_count": 13,
     "metadata": {},
     "output_type": "execute_result"
    }
   ],
   "source": [
    "url = config['scopus_url'] + 'data/titles.tsv'\n",
    "journal_df = pandas.read_table(url)\n",
    "\n",
    "url = config['scopus_url'] + 'data/title-attributes.tsv'\n",
    "journal_df = (\n",
    "    journal_df\n",
    "    .merge(pandas.read_table(url))\n",
    "    [['scopus_id', 'title_name', 'active', 'open_access']]\n",
    ")\n",
    "\n",
    "journal_df.head(2)"
   ]
  },
  {
   "cell_type": "code",
   "execution_count": 14,
   "metadata": {},
   "outputs": [
    {
     "data": {
      "text/html": [
       "<div>\n",
       "<style>\n",
       "    .dataframe thead tr:only-child th {\n",
       "        text-align: right;\n",
       "    }\n",
       "\n",
       "    .dataframe thead th {\n",
       "        text-align: left;\n",
       "    }\n",
       "\n",
       "    .dataframe tbody tr th {\n",
       "        vertical-align: top;\n",
       "    }\n",
       "</style>\n",
       "<table border=\"1\" class=\"dataframe\">\n",
       "  <thead>\n",
       "    <tr style=\"text-align: right;\">\n",
       "      <th></th>\n",
       "      <th>scopus_id</th>\n",
       "      <th>title_name</th>\n",
       "      <th>active</th>\n",
       "      <th>open_access</th>\n",
       "      <th>articles_cited</th>\n",
       "      <th>incites_scihub</th>\n",
       "      <th>incites_crossref</th>\n",
       "      <th>incite_coverage</th>\n",
       "    </tr>\n",
       "  </thead>\n",
       "  <tbody>\n",
       "    <tr>\n",
       "      <th>13049</th>\n",
       "      <td>10600153309</td>\n",
       "      <td>PLoS ONE</td>\n",
       "      <td>1</td>\n",
       "      <td>1</td>\n",
       "      <td>74726</td>\n",
       "      <td>9089</td>\n",
       "      <td>147231</td>\n",
       "      <td>0.061733</td>\n",
       "    </tr>\n",
       "    <tr>\n",
       "      <th>4461</th>\n",
       "      <td>21121</td>\n",
       "      <td>Proceedings of the National Academy of Science...</td>\n",
       "      <td>1</td>\n",
       "      <td>0</td>\n",
       "      <td>49464</td>\n",
       "      <td>134300</td>\n",
       "      <td>140081</td>\n",
       "      <td>0.958731</td>\n",
       "    </tr>\n",
       "    <tr>\n",
       "      <th>4515</th>\n",
       "      <td>21206</td>\n",
       "      <td>Nature</td>\n",
       "      <td>1</td>\n",
       "      <td>0</td>\n",
       "      <td>23232</td>\n",
       "      <td>124366</td>\n",
       "      <td>125388</td>\n",
       "      <td>0.991849</td>\n",
       "    </tr>\n",
       "  </tbody>\n",
       "</table>\n",
       "</div>"
      ],
      "text/plain": [
       "         scopus_id                                         title_name  active  \\\n",
       "13049  10600153309                                           PLoS ONE       1   \n",
       "4461         21121  Proceedings of the National Academy of Science...       1   \n",
       "4515         21206                                             Nature       1   \n",
       "\n",
       "       open_access  articles_cited  incites_scihub  incites_crossref  \\\n",
       "13049            1           74726            9089            147231   \n",
       "4461             0           49464          134300            140081   \n",
       "4515             0           23232          124366            125388   \n",
       "\n",
       "       incite_coverage  \n",
       "13049         0.061733  \n",
       "4461          0.958731  \n",
       "4515          0.991849  "
      ]
     },
     "execution_count": 14,
     "metadata": {},
     "output_type": "execute_result"
    }
   ],
   "source": [
    "def summarize(df):\n",
    "    row = pandas.Series()\n",
    "    row['articles_cited'] = df.target_doi.nunique()\n",
    "    row['incites_scihub'] = sum(df.in_scihub_dois)\n",
    "    row['incites_crossref'] = len(df)\n",
    "    return row\n",
    "\n",
    "coverage_df = journal_df.merge(\n",
    "    merged_df\n",
    "    .merge(title_map_df)\n",
    "    .groupby('scopus_id')\n",
    "    .apply(summarize)\n",
    "    .reset_index()\n",
    ")\n",
    "coverage_df['incite_coverage'] = coverage_df.incites_scihub / coverage_df.incites_crossref\n",
    "coverage_df.sort_values('incites_crossref', ascending=False).head(3)"
   ]
  },
  {
   "cell_type": "code",
   "execution_count": 15,
   "metadata": {
    "collapsed": true
   },
   "outputs": [],
   "source": [
    "path = pathlib.Path('data/journal-incite-coverage.tsv')\n",
    "with path.open('w') as write_file:\n",
    "    coverage_df.to_csv(write_file, index=False, sep='\\t', float_format='%.5g')"
   ]
  },
  {
   "cell_type": "markdown",
   "metadata": {},
   "source": [
    "## Citations to articles in toll access journals"
   ]
  },
  {
   "cell_type": "code",
   "execution_count": 16,
   "metadata": {},
   "outputs": [
    {
     "name": "stdout",
     "output_type": "stream",
     "text": [
      "6,264,257 incoming citations from articles published since 2015 to articles in toll-access journals.\n",
      "6,025,891 of these cited articles (96.2%) are in Sci-Hub's repository.\n"
     ]
    }
   ],
   "source": [
    "toll_df = coverage_df.query(\"open_access == 0\")\n",
    "scihub = sum(toll_df.incites_scihub)\n",
    "total = sum(toll_df.incites_crossref)\n",
    "# Percent Coverage\n",
    "print(f'''\n",
    "{total:,} incoming citations from articles published since 2015 to articles in toll-access journals.\n",
    "{scihub:,} of these cited articles ({scihub / total:.1%}) are in Sci-Hub's repository.\n",
    "'''.strip())"
   ]
  },
  {
   "cell_type": "markdown",
   "metadata": {},
   "source": [
    "## Citations to articles in open access journals"
   ]
  },
  {
   "cell_type": "code",
   "execution_count": 17,
   "metadata": {},
   "outputs": [
    {
     "name": "stdout",
     "output_type": "stream",
     "text": [
      "866,115 incoming citations from articles published since 2015 to articles in open access journals.\n",
      "539,255 of these cited articles (62.3%) are in Sci-Hub's repository.\n"
     ]
    }
   ],
   "source": [
    "open_df = coverage_df.query(\"open_access == 1\")\n",
    "scihub = sum(open_df.incites_scihub)\n",
    "total = sum(open_df.incites_crossref)\n",
    "# Percent Coverage\n",
    "print(f'''\n",
    "{total:,} incoming citations from articles published since 2015 to articles in open access journals.\n",
    "{scihub:,} of these cited articles ({scihub / total:.1%}) are in Sci-Hub's repository.\n",
    "'''.strip())"
   ]
  }
 ],
 "metadata": {
  "anaconda-cloud": {},
  "kernelspec": {
   "display_name": "Python [conda env:scihub]",
   "language": "python",
   "name": "conda-env-scihub-py"
  },
  "language_info": {
   "codemirror_mode": {
    "name": "ipython",
    "version": 3
   },
   "file_extension": ".py",
   "mimetype": "text/x-python",
   "name": "python",
   "nbconvert_exporter": "python",
   "pygments_lexer": "ipython3",
   "version": "3.6.0"
  }
 },
 "nbformat": 4,
 "nbformat_minor": 2
}
