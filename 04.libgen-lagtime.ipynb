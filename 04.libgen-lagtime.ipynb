{
 "cells": [
  {
   "cell_type": "markdown",
   "metadata": {},
   "source": [
    "# Lag time between work publication and LibGen upload"
   ]
  },
  {
   "cell_type": "code",
   "execution_count": 1,
   "metadata": {
    "collapsed": true
   },
   "outputs": [],
   "source": [
    "import os\n",
    "\n",
    "import numpy\n",
    "import pandas\n",
    "import seaborn\n",
    "\n",
    "%matplotlib inline"
   ]
  },
  {
   "cell_type": "code",
   "execution_count": 2,
   "metadata": {
    "collapsed": true
   },
   "outputs": [],
   "source": [
    "recent = 2010"
   ]
  },
  {
   "cell_type": "code",
   "execution_count": 3,
   "metadata": {},
   "outputs": [
    {
     "data": {
      "text/html": [
       "<div>\n",
       "<table border=\"1\" class=\"dataframe\">\n",
       "  <thead>\n",
       "    <tr style=\"text-align: right;\">\n",
       "      <th></th>\n",
       "      <th>doi</th>\n",
       "      <th>type</th>\n",
       "      <th>issued</th>\n",
       "      <th>in_scopus</th>\n",
       "      <th>in_scihub_dois</th>\n",
       "      <th>in_scihub_logs</th>\n",
       "      <th>in_libgen</th>\n",
       "    </tr>\n",
       "  </thead>\n",
       "  <tbody>\n",
       "    <tr>\n",
       "      <th>0</th>\n",
       "      <td>10.1001/.387</td>\n",
       "      <td>journal-article</td>\n",
       "      <td>2006-02-27</td>\n",
       "      <td>1</td>\n",
       "      <td>0</td>\n",
       "      <td>0</td>\n",
       "      <td>0</td>\n",
       "    </tr>\n",
       "    <tr>\n",
       "      <th>1</th>\n",
       "      <td>10.1001/.389</td>\n",
       "      <td>journal-article</td>\n",
       "      <td>2006-02-27</td>\n",
       "      <td>1</td>\n",
       "      <td>0</td>\n",
       "      <td>0</td>\n",
       "      <td>0</td>\n",
       "    </tr>\n",
       "    <tr>\n",
       "      <th>2</th>\n",
       "      <td>10.1001/.391</td>\n",
       "      <td>journal-article</td>\n",
       "      <td>2006-02-27</td>\n",
       "      <td>1</td>\n",
       "      <td>0</td>\n",
       "      <td>0</td>\n",
       "      <td>0</td>\n",
       "    </tr>\n",
       "  </tbody>\n",
       "</table>\n",
       "</div>"
      ],
      "text/plain": [
       "            doi             type     issued  in_scopus  in_scihub_dois  \\\n",
       "0  10.1001/.387  journal-article 2006-02-27          1               0   \n",
       "1  10.1001/.389  journal-article 2006-02-27          1               0   \n",
       "2  10.1001/.391  journal-article 2006-02-27          1               0   \n",
       "\n",
       "   in_scihub_logs  in_libgen  \n",
       "0               0          0  \n",
       "1               0          0  \n",
       "2               0          0  "
      ]
     },
     "execution_count": 3,
     "metadata": {},
     "output_type": "execute_result"
    }
   ],
   "source": [
    "# Read Crossref DOIs\n",
    "path = os.path.join('data', 'doi.tsv.xz')\n",
    "doi_df = pandas.read_table(path, parse_dates=['issued'])\n",
    "\n",
    "# Remove DOI if issued date is missing\n",
    "doi_df = doi_df.dropna(subset=['issued'])\n",
    "\n",
    "# Remove DOI if issued date exceeds the date the Crossref\n",
    "# API queries were performed, since these works are future dated\n",
    "doi_df[doi_df.issued <= pandas.to_datetime('2017-03-21')]\n",
    "\n",
    "# Remove DOI if issued date is the first of the year as\n",
    "# these dates are likely precise to the year only\n",
    "doi_df = doi_df[doi_df.issued.dt.dayofyear != 1]\n",
    "\n",
    "doi_df.head(3)"
   ]
  },
  {
   "cell_type": "code",
   "execution_count": 4,
   "metadata": {},
   "outputs": [
    {
     "data": {
      "text/plain": [
       "54386121"
      ]
     },
     "execution_count": 4,
     "metadata": {},
     "output_type": "execute_result"
    }
   ],
   "source": [
    "len(doi_df)"
   ]
  },
  {
   "cell_type": "code",
   "execution_count": 5,
   "metadata": {},
   "outputs": [
    {
     "data": {
      "image/png": "[encoded data removed]",
      "text/plain": [
       "<matplotlib.figure.Figure at 0x7f72cb654748>"
      ]
     },
     "metadata": {},
     "output_type": "display_data"
    }
   ],
   "source": [
    "# Plot day of the year issued for Crossref works\n",
    "recent_df = doi_df[doi_df.issued.dt.year >= recent]\n",
    "axes = seaborn.distplot(recent_df.issued.dt.dayofyear, bins=numpy.arange(365) + 1, kde=False)"
   ]
  },
  {
   "cell_type": "code",
   "execution_count": 6,
   "metadata": {},
   "outputs": [
    {
     "data": {
      "text/html": [
       "<div>\n",
       "<table border=\"1\" class=\"dataframe\">\n",
       "  <thead>\n",
       "    <tr style=\"text-align: right;\">\n",
       "      <th></th>\n",
       "      <th>doi</th>\n",
       "      <th>libgen_date</th>\n",
       "    </tr>\n",
       "  </thead>\n",
       "  <tbody>\n",
       "    <tr>\n",
       "      <th>0</th>\n",
       "      <td>10.0000//kronk.spb.ru/library/bolshakov-og-198...</td>\n",
       "      <td>2016-11-09 23:21:27</td>\n",
       "    </tr>\n",
       "    <tr>\n",
       "      <th>1</th>\n",
       "      <td>10.0000/0-hera.ugr.es.adrastea.ugr.es/generic-...</td>\n",
       "      <td>2014-12-21 10:01:09</td>\n",
       "    </tr>\n",
       "  </tbody>\n",
       "</table>\n",
       "</div>"
      ],
      "text/plain": [
       "                                                 doi         libgen_date\n",
       "0  10.0000//kronk.spb.ru/library/bolshakov-og-198... 2016-11-09 23:21:27\n",
       "1  10.0000/0-hera.ugr.es.adrastea.ugr.es/generic-... 2014-12-21 10:01:09"
      ]
     },
     "execution_count": 6,
     "metadata": {},
     "output_type": "execute_result"
    }
   ],
   "source": [
    "# Read LibGen scimag issued dates\n",
    "path = os.path.join('download', 'libgen', 'tsv', 'libgen-scimag-date-added-2017-04-07.tsv.xz')\n",
    "libgen_df = pandas.read_table(path, parse_dates=['libgen_date'])\n",
    "libgen_df.head(2)"
   ]
  },
  {
   "cell_type": "code",
   "execution_count": 7,
   "metadata": {
    "scrolled": true
   },
   "outputs": [
    {
     "data": {
      "text/html": [
       "<div>\n",
       "<table border=\"1\" class=\"dataframe\">\n",
       "  <thead>\n",
       "    <tr style=\"text-align: right;\">\n",
       "      <th></th>\n",
       "      <th>doi</th>\n",
       "      <th>issued</th>\n",
       "      <th>libgen_date</th>\n",
       "    </tr>\n",
       "  </thead>\n",
       "  <tbody>\n",
       "    <tr>\n",
       "      <th>0</th>\n",
       "      <td>10.1001/.387</td>\n",
       "      <td>2006-02-27</td>\n",
       "      <td>NaT</td>\n",
       "    </tr>\n",
       "    <tr>\n",
       "      <th>1</th>\n",
       "      <td>10.1001/.389</td>\n",
       "      <td>2006-02-27</td>\n",
       "      <td>NaT</td>\n",
       "    </tr>\n",
       "    <tr>\n",
       "      <th>2</th>\n",
       "      <td>10.1001/.391</td>\n",
       "      <td>2006-02-27</td>\n",
       "      <td>NaT</td>\n",
       "    </tr>\n",
       "  </tbody>\n",
       "</table>\n",
       "</div>"
      ],
      "text/plain": [
       "            doi     issued libgen_date\n",
       "0  10.1001/.387 2006-02-27         NaT\n",
       "1  10.1001/.389 2006-02-27         NaT\n",
       "2  10.1001/.391 2006-02-27         NaT"
      ]
     },
     "execution_count": 7,
     "metadata": {},
     "output_type": "execute_result"
    }
   ],
   "source": [
    "# Add libgen dates\n",
    "merged_df = doi_df.merge(libgen_df, how='left')\n",
    "\n",
    "# Remove the small number of LibGen records that are missing their date added\n",
    "# Note these records are now omitted upstream, but command kept for safety\n",
    "merged_df = merged_df[(merged_df.in_libgen == 0) | merged_df.libgen_date.notnull()]\n",
    "\n",
    "# Subset columns\n",
    "merged_df = merged_df[['doi', 'issued', 'libgen_date']]\n",
    "\n",
    "merged_df.head(3)"
   ]
  },
  {
   "cell_type": "code",
   "execution_count": 8,
   "metadata": {
    "collapsed": true
   },
   "outputs": [],
   "source": [
    "def months_between_datetimes(date_from, date_to):\n",
    "    \"\"\"\n",
    "    Compute the number of calendar months (rather than 30 day units)\n",
    "    between two dates.\n",
    "    \n",
    "    date_from and date_to are pandas datetime series .dt attributes\n",
    "    \n",
    "    See http://stackoverflow.com/a/4040338/4651668.\n",
    "    \"\"\"\n",
    "    delta_years = 12 * (date_to.year - date_from.year)\n",
    "    delta_months = date_to.month - date_from.month\n",
    "    return delta_years + delta_months"
   ]
  },
  {
   "cell_type": "code",
   "execution_count": 9,
   "metadata": {
    "collapsed": true
   },
   "outputs": [],
   "source": [
    "merged_df['lag_timedelta'] = merged_df.libgen_date - merged_df.issued\n",
    "\n",
    "# Remove any negative lag times which imply inaccurate issued dates\n",
    "# Up to 1 day prior is allowed to account for potential timezone issues\n",
    "merged_df = merged_df[~(merged_df.lag_timedelta < pandas.Timedelta('-1 days'))]\n",
    "\n",
    "# Compute lag in days\n",
    "# merged_df.lag_timedelta.dt.days is redicolously slow, hence use this alternative\n",
    "merged_df['lag_days'] = numpy.trunc(merged_df.lag_timedelta / pandas.Timedelta('1 day'))\n",
    "\n",
    "# Compute lag in calendar months\n",
    "merged_df['lag_months'] = months_between_datetimes(merged_df.issued.dt, merged_df.libgen_date.dt)\n",
    "\n",
    "# Replace negative lags with 0\n",
    "for column in 'lag_days', 'lag_months':\n",
    "    merged_df[column] = merged_df[column].clip_lower(0)"
   ]
  },
  {
   "cell_type": "code",
   "execution_count": 10,
   "metadata": {},
   "outputs": [
    {
     "data": {
      "text/html": [
       "<div>\n",
       "<table border=\"1\" class=\"dataframe\">\n",
       "  <thead>\n",
       "    <tr style=\"text-align: right;\">\n",
       "      <th></th>\n",
       "      <th>doi</th>\n",
       "      <th>issued</th>\n",
       "      <th>libgen_date</th>\n",
       "      <th>lag_timedelta</th>\n",
       "      <th>lag_days</th>\n",
       "      <th>lag_months</th>\n",
       "    </tr>\n",
       "  </thead>\n",
       "  <tbody>\n",
       "    <tr>\n",
       "      <th>4255925</th>\n",
       "      <td>10.1006/expr.1997.4153</td>\n",
       "      <td>1997-05-01</td>\n",
       "      <td>2015-09-24 18:33:31</td>\n",
       "      <td>6720 days 18:33:31</td>\n",
       "      <td>6720.0</td>\n",
       "      <td>220.0</td>\n",
       "    </tr>\n",
       "    <tr>\n",
       "      <th>5784303</th>\n",
       "      <td>10.1007/bf02253725</td>\n",
       "      <td>1990-05-01</td>\n",
       "      <td>2014-10-12 04:23:17</td>\n",
       "      <td>8930 days 04:23:17</td>\n",
       "      <td>8930.0</td>\n",
       "      <td>293.0</td>\n",
       "    </tr>\n",
       "    <tr>\n",
       "      <th>9322990</th>\n",
       "      <td>10.1016/0014-4827(74)90538-2</td>\n",
       "      <td>1974-07-01</td>\n",
       "      <td>2014-08-09 04:56:11</td>\n",
       "      <td>14649 days 04:56:11</td>\n",
       "      <td>14649.0</td>\n",
       "      <td>481.0</td>\n",
       "    </tr>\n",
       "    <tr>\n",
       "      <th>9810734</th>\n",
       "      <td>10.1016/0024-6301(74)90143-5</td>\n",
       "      <td>1974-12-01</td>\n",
       "      <td>2014-08-09 04:56:11</td>\n",
       "      <td>14496 days 04:56:11</td>\n",
       "      <td>14496.0</td>\n",
       "      <td>476.0</td>\n",
       "    </tr>\n",
       "    <tr>\n",
       "      <th>12338833</th>\n",
       "      <td>10.1016/j.cej.2003.04.001</td>\n",
       "      <td>2004-02-01</td>\n",
       "      <td>2014-08-09 04:56:11</td>\n",
       "      <td>3842 days 04:56:11</td>\n",
       "      <td>3842.0</td>\n",
       "      <td>126.0</td>\n",
       "    </tr>\n",
       "    <tr>\n",
       "      <th>17026595</th>\n",
       "      <td>10.1016/s0022-328x(97)00672-4</td>\n",
       "      <td>1998-05-01</td>\n",
       "      <td>2014-08-09 04:56:11</td>\n",
       "      <td>5944 days 04:56:11</td>\n",
       "      <td>5944.0</td>\n",
       "      <td>195.0</td>\n",
       "    </tr>\n",
       "    <tr>\n",
       "      <th>17960478</th>\n",
       "      <td>10.1016/s0140-6736(85)90769-x</td>\n",
       "      <td>1985-11-01</td>\n",
       "      <td>2014-11-02 06:41:24</td>\n",
       "      <td>10593 days 06:41:24</td>\n",
       "      <td>10593.0</td>\n",
       "      <td>348.0</td>\n",
       "    </tr>\n",
       "    <tr>\n",
       "      <th>22492359</th>\n",
       "      <td>10.1037/emo0000278.supp</td>\n",
       "      <td>2017-02-13</td>\n",
       "      <td>NaT</td>\n",
       "      <td>NaT</td>\n",
       "      <td>NaN</td>\n",
       "      <td>NaN</td>\n",
       "    </tr>\n",
       "    <tr>\n",
       "      <th>23872114</th>\n",
       "      <td>10.1046/j.1469-8137.1999.00362-1.x</td>\n",
       "      <td>1999-04-01</td>\n",
       "      <td>2014-08-09 04:56:11</td>\n",
       "      <td>5609 days 04:56:11</td>\n",
       "      <td>5609.0</td>\n",
       "      <td>184.0</td>\n",
       "    </tr>\n",
       "    <tr>\n",
       "      <th>28652197</th>\n",
       "      <td>10.1088/0031-9155/47/10/305</td>\n",
       "      <td>2002-05-02</td>\n",
       "      <td>2014-08-09 04:56:11</td>\n",
       "      <td>4482 days 04:56:11</td>\n",
       "      <td>4482.0</td>\n",
       "      <td>147.0</td>\n",
       "    </tr>\n",
       "    <tr>\n",
       "      <th>33954804</th>\n",
       "      <td>10.1109/icee.2010.1181</td>\n",
       "      <td>2010-05-01</td>\n",
       "      <td>2015-01-18 08:33:32</td>\n",
       "      <td>1723 days 08:33:32</td>\n",
       "      <td>1723.0</td>\n",
       "      <td>56.0</td>\n",
       "    </tr>\n",
       "    <tr>\n",
       "      <th>39629290</th>\n",
       "      <td>10.1136/aim.14.2.71</td>\n",
       "      <td>1996-11-01</td>\n",
       "      <td>2015-06-15 22:37:04</td>\n",
       "      <td>6800 days 22:37:04</td>\n",
       "      <td>6800.0</td>\n",
       "      <td>223.0</td>\n",
       "    </tr>\n",
       "    <tr>\n",
       "      <th>44703813</th>\n",
       "      <td>10.12693/aphyspola.127.210</td>\n",
       "      <td>2015-02-01</td>\n",
       "      <td>2015-06-30 09:49:37</td>\n",
       "      <td>149 days 09:49:37</td>\n",
       "      <td>149.0</td>\n",
       "      <td>4.0</td>\n",
       "    </tr>\n",
       "    <tr>\n",
       "      <th>50318136</th>\n",
       "      <td>10.2466/pr0.1975.37.3.837</td>\n",
       "      <td>1975-12-01</td>\n",
       "      <td>2016-01-16 17:32:02</td>\n",
       "      <td>14656 days 17:32:02</td>\n",
       "      <td>14656.0</td>\n",
       "      <td>481.0</td>\n",
       "    </tr>\n",
       "    <tr>\n",
       "      <th>54255270</th>\n",
       "      <td>10.7748/paed.9.6.5.s6</td>\n",
       "      <td>1997-07-01</td>\n",
       "      <td>NaT</td>\n",
       "      <td>NaT</td>\n",
       "      <td>NaN</td>\n",
       "      <td>NaN</td>\n",
       "    </tr>\n",
       "  </tbody>\n",
       "</table>\n",
       "</div>"
      ],
      "text/plain": [
       "                                         doi     issued         libgen_date  \\\n",
       "4255925               10.1006/expr.1997.4153 1997-05-01 2015-09-24 18:33:31   \n",
       "5784303                   10.1007/bf02253725 1990-05-01 2014-10-12 04:23:17   \n",
       "9322990         10.1016/0014-4827(74)90538-2 1974-07-01 2014-08-09 04:56:11   \n",
       "9810734         10.1016/0024-6301(74)90143-5 1974-12-01 2014-08-09 04:56:11   \n",
       "12338833           10.1016/j.cej.2003.04.001 2004-02-01 2014-08-09 04:56:11   \n",
       "17026595       10.1016/s0022-328x(97)00672-4 1998-05-01 2014-08-09 04:56:11   \n",
       "17960478       10.1016/s0140-6736(85)90769-x 1985-11-01 2014-11-02 06:41:24   \n",
       "22492359             10.1037/emo0000278.supp 2017-02-13                 NaT   \n",
       "23872114  10.1046/j.1469-8137.1999.00362-1.x 1999-04-01 2014-08-09 04:56:11   \n",
       "28652197         10.1088/0031-9155/47/10/305 2002-05-02 2014-08-09 04:56:11   \n",
       "33954804              10.1109/icee.2010.1181 2010-05-01 2015-01-18 08:33:32   \n",
       "39629290                 10.1136/aim.14.2.71 1996-11-01 2015-06-15 22:37:04   \n",
       "44703813          10.12693/aphyspola.127.210 2015-02-01 2015-06-30 09:49:37   \n",
       "50318136           10.2466/pr0.1975.37.3.837 1975-12-01 2016-01-16 17:32:02   \n",
       "54255270               10.7748/paed.9.6.5.s6 1997-07-01                 NaT   \n",
       "\n",
       "               lag_timedelta  lag_days  lag_months  \n",
       "4255925   6720 days 18:33:31    6720.0       220.0  \n",
       "5784303   8930 days 04:23:17    8930.0       293.0  \n",
       "9322990  14649 days 04:56:11   14649.0       481.0  \n",
       "9810734  14496 days 04:56:11   14496.0       476.0  \n",
       "12338833  3842 days 04:56:11    3842.0       126.0  \n",
       "17026595  5944 days 04:56:11    5944.0       195.0  \n",
       "17960478 10593 days 06:41:24   10593.0       348.0  \n",
       "22492359                 NaT       NaN         NaN  \n",
       "23872114  5609 days 04:56:11    5609.0       184.0  \n",
       "28652197  4482 days 04:56:11    4482.0       147.0  \n",
       "33954804  1723 days 08:33:32    1723.0        56.0  \n",
       "39629290  6800 days 22:37:04    6800.0       223.0  \n",
       "44703813   149 days 09:49:37     149.0         4.0  \n",
       "50318136 14656 days 17:32:02   14656.0       481.0  \n",
       "54255270                 NaT       NaN         NaN  "
      ]
     },
     "execution_count": 10,
     "metadata": {},
     "output_type": "execute_result"
    }
   ],
   "source": [
    "# View random rows\n",
    "merged_df.sample(n=15, random_state=0).sort_values('doi')"
   ]
  },
  {
   "cell_type": "code",
   "execution_count": 11,
   "metadata": {},
   "outputs": [
    {
     "data": {
      "image/png": "[encoded data removed]",
      "text/plain": [
       "<matplotlib.figure.Figure at 0x7f72da2e7f98>"
      ]
     },
     "metadata": {},
     "output_type": "display_data"
    }
   ],
   "source": [
    "# Distribution of day of the month\n",
    "recent_df = merged_df[merged_df.issued.dt.year >= recent]\n",
    "axes = seaborn.distplot(recent_df.issued.dt.day, bins=numpy.arange(31) + 1, kde=False)"
   ]
  },
  {
   "cell_type": "code",
   "execution_count": 12,
   "metadata": {},
   "outputs": [
    {
     "data": {
      "image/png": "[encoded data removed]",
      "text/plain": [
       "<matplotlib.figure.Figure at 0x7f72df10bcf8>"
      ]
     },
     "metadata": {},
     "output_type": "display_data"
    }
   ],
   "source": [
    "# Distribution of lag in months\n",
    "axes = seaborn.distplot(recent_df.lag_months.dropna(), kde=False)"
   ]
  },
  {
   "cell_type": "code",
   "execution_count": 13,
   "metadata": {},
   "outputs": [
    {
     "data": {
      "image/png": "[encoded data removed]",
      "text/plain": [
       "<matplotlib.figure.Figure at 0x7f711e4b60b8>"
      ]
     },
     "metadata": {},
     "output_type": "display_data"
    }
   ],
   "source": [
    "# Distribution of lag in days\n",
    "# Removing articles issued on the first of the month\n",
    "axes = seaborn.distplot(recent_df[recent_df.issued.dt.day != 1].lag_days.dropna(), kde=False)"
   ]
  },
  {
   "cell_type": "code",
   "execution_count": 14,
   "metadata": {},
   "outputs": [
    {
     "data": {
      "text/plain": [
       "True     42435969\n",
       "False    11104034\n",
       "Name: lag_days, dtype: int64"
      ]
     },
     "execution_count": 14,
     "metadata": {},
     "output_type": "execute_result"
    }
   ],
   "source": [
    "# Number of works remaining by inclusion status\n",
    "merged_df.lag_days.notnull().value_counts()"
   ]
  },
  {
   "cell_type": "code",
   "execution_count": 15,
   "metadata": {
    "collapsed": true
   },
   "outputs": [],
   "source": [
    "# Export libgen lagtime dataframe to TSV\n",
    "(merged_df\n",
    "    # So pandas writes 2006-02-27 instead of 2006-02-27 00:00:00\n",
    "    .assign(issued=merged_df.issued.values.astype('datetime64[D]').astype(str))\n",
    "    .drop(['lag_timedelta'], axis='columns')\n",
    "    .to_csv(\n",
    "        os.path.join('data', 'libgen-lagtime.tsv.xz'),\n",
    "        sep='\\t', index=False, compression='xz', float_format='%.5g'\n",
    "    )\n",
    ")"
   ]
  }
 ],
 "metadata": {
  "kernelspec": {
   "display_name": "Python [conda env:scihub]",
   "language": "python",
   "name": "conda-env-scihub-py"
  },
  "language_info": {
   "codemirror_mode": {
    "name": "ipython",
    "version": 3
   },
   "file_extension": ".py",
   "mimetype": "text/x-python",
   "name": "python",
   "nbconvert_exporter": "python",
   "pygments_lexer": "ipython3",
   "version": "3.6.0"
  }
 },
 "nbformat": 4,
 "nbformat_minor": 2
}
