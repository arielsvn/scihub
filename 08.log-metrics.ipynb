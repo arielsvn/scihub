{
 "cells": [
  {
   "cell_type": "markdown",
   "metadata": {},
   "source": [
    "# Create Sci-Hub Access Log journal summaries and top articles datasets"
   ]
  },
  {
   "cell_type": "code",
   "execution_count": 1,
   "metadata": {
    "collapsed": true
   },
   "outputs": [],
   "source": [
    "import os\n",
    "import json\n",
    "\n",
    "import pandas\n",
    "import numpy"
   ]
  },
  {
   "cell_type": "markdown",
   "metadata": {},
   "source": [
    "## Read and process input data"
   ]
  },
  {
   "cell_type": "code",
   "execution_count": 2,
   "metadata": {},
   "outputs": [],
   "source": [
    "# Read catalog of Crossref DOIs\n",
    "path = os.path.join('data', 'doi.tsv.xz')\n",
    "doi_df = pandas.read_table(path, parse_dates=['issued'])"
   ]
  },
  {
   "cell_type": "code",
   "execution_count": 3,
   "metadata": {},
   "outputs": [
    {
     "data": {
      "text/html": [
       "<div>\n",
       "<style>\n",
       "    .dataframe thead tr:only-child th {\n",
       "        text-align: right;\n",
       "    }\n",
       "\n",
       "    .dataframe thead th {\n",
       "        text-align: left;\n",
       "    }\n",
       "\n",
       "    .dataframe tbody tr th {\n",
       "        vertical-align: top;\n",
       "    }\n",
       "</style>\n",
       "<table border=\"1\" class=\"dataframe\">\n",
       "  <thead>\n",
       "    <tr style=\"text-align: right;\">\n",
       "      <th></th>\n",
       "      <th>doi</th>\n",
       "      <th>type</th>\n",
       "      <th>issued</th>\n",
       "      <th>in_scopus</th>\n",
       "      <th>in_scihub_dois</th>\n",
       "      <th>in_scihub_logs</th>\n",
       "      <th>in_libgen</th>\n",
       "    </tr>\n",
       "  </thead>\n",
       "  <tbody>\n",
       "    <tr>\n",
       "      <th>464</th>\n",
       "      <td>10.1001/2013.jamasurg.124</td>\n",
       "      <td>journal-article</td>\n",
       "      <td>2014-01-01</td>\n",
       "      <td>1</td>\n",
       "      <td>1</td>\n",
       "      <td>0</td>\n",
       "      <td>1</td>\n",
       "    </tr>\n",
       "    <tr>\n",
       "      <th>474</th>\n",
       "      <td>10.1001/2013.jamasurg.273</td>\n",
       "      <td>journal-article</td>\n",
       "      <td>2014-02-01</td>\n",
       "      <td>1</td>\n",
       "      <td>1</td>\n",
       "      <td>0</td>\n",
       "      <td>1</td>\n",
       "    </tr>\n",
       "    <tr>\n",
       "      <th>483</th>\n",
       "      <td>10.1001/2013.jamasurg.351</td>\n",
       "      <td>journal-article</td>\n",
       "      <td>2014-03-01</td>\n",
       "      <td>1</td>\n",
       "      <td>1</td>\n",
       "      <td>0</td>\n",
       "      <td>1</td>\n",
       "    </tr>\n",
       "  </tbody>\n",
       "</table>\n",
       "</div>"
      ],
      "text/plain": [
       "                           doi             type     issued  in_scopus  \\\n",
       "464  10.1001/2013.jamasurg.124  journal-article 2014-01-01          1   \n",
       "474  10.1001/2013.jamasurg.273  journal-article 2014-02-01          1   \n",
       "483  10.1001/2013.jamasurg.351  journal-article 2014-03-01          1   \n",
       "\n",
       "     in_scihub_dois  in_scihub_logs  in_libgen  \n",
       "464               1               0          1  \n",
       "474               1               0          1  \n",
       "483               1               0          1  "
      ]
     },
     "execution_count": 3,
     "metadata": {},
     "output_type": "execute_result"
    }
   ],
   "source": [
    "# Define issued timeperiod to consider articles for journal metrics\n",
    "start = pandas.to_datetime('2014-01-01')\n",
    "stop = pandas.to_datetime('2015-09-01')\n",
    "doi_df = doi_df.query(\"@start <= issued < @stop\")\n",
    "doi_df.head(3)"
   ]
  },
  {
   "cell_type": "code",
   "execution_count": 4,
   "metadata": {},
   "outputs": [
    {
     "data": {
      "text/html": [
       "<div>\n",
       "<style>\n",
       "    .dataframe thead tr:only-child th {\n",
       "        text-align: right;\n",
       "    }\n",
       "\n",
       "    .dataframe thead th {\n",
       "        text-align: left;\n",
       "    }\n",
       "\n",
       "    .dataframe tbody tr th {\n",
       "        vertical-align: top;\n",
       "    }\n",
       "</style>\n",
       "<table border=\"1\" class=\"dataframe\">\n",
       "  <thead>\n",
       "    <tr style=\"text-align: right;\">\n",
       "      <th></th>\n",
       "      <th>scopus_id</th>\n",
       "      <th>doi</th>\n",
       "    </tr>\n",
       "  </thead>\n",
       "  <tbody>\n",
       "    <tr>\n",
       "      <th>2</th>\n",
       "      <td>12001</td>\n",
       "      <td>10.1002/jeab.100</td>\n",
       "    </tr>\n",
       "    <tr>\n",
       "      <th>3</th>\n",
       "      <td>12001</td>\n",
       "      <td>10.1002/jeab.101</td>\n",
       "    </tr>\n",
       "  </tbody>\n",
       "</table>\n",
       "</div>"
      ],
      "text/plain": [
       "   scopus_id               doi\n",
       "2      12001  10.1002/jeab.100\n",
       "3      12001  10.1002/jeab.101"
      ]
     },
     "execution_count": 4,
     "metadata": {},
     "output_type": "execute_result"
    }
   ],
   "source": [
    "path = os.path.join('data', 'scopus-title-to-doi-map.tsv.xz')\n",
    "title_map_df = pandas.read_table(path)\n",
    "title_map_df = title_map_df.query(\"doi in @doi_df.doi\")\n",
    "title_map_df.head(2)"
   ]
  },
  {
   "cell_type": "code",
   "execution_count": 5,
   "metadata": {},
   "outputs": [
    {
     "data": {
      "text/html": [
       "<div>\n",
       "<style>\n",
       "    .dataframe thead tr:only-child th {\n",
       "        text-align: right;\n",
       "    }\n",
       "\n",
       "    .dataframe thead th {\n",
       "        text-align: left;\n",
       "    }\n",
       "\n",
       "    .dataframe tbody tr th {\n",
       "        vertical-align: top;\n",
       "    }\n",
       "</style>\n",
       "<table border=\"1\" class=\"dataframe\">\n",
       "  <thead>\n",
       "    <tr style=\"text-align: right;\">\n",
       "      <th></th>\n",
       "      <th>scopus_id</th>\n",
       "      <th>doi</th>\n",
       "      <th>downloads</th>\n",
       "      <th>visitors</th>\n",
       "      <th>countries</th>\n",
       "      <th>days</th>\n",
       "      <th>months</th>\n",
       "    </tr>\n",
       "  </thead>\n",
       "  <tbody>\n",
       "    <tr>\n",
       "      <th>0</th>\n",
       "      <td>12001</td>\n",
       "      <td>10.1002/jeab.100</td>\n",
       "      <td>1</td>\n",
       "      <td>1</td>\n",
       "      <td>1</td>\n",
       "      <td>1</td>\n",
       "      <td>1</td>\n",
       "    </tr>\n",
       "    <tr>\n",
       "      <th>1</th>\n",
       "      <td>12001</td>\n",
       "      <td>10.1002/jeab.101</td>\n",
       "      <td>0</td>\n",
       "      <td>0</td>\n",
       "      <td>0</td>\n",
       "      <td>0</td>\n",
       "      <td>0</td>\n",
       "    </tr>\n",
       "    <tr>\n",
       "      <th>2</th>\n",
       "      <td>12001</td>\n",
       "      <td>10.1002/jeab.102</td>\n",
       "      <td>0</td>\n",
       "      <td>0</td>\n",
       "      <td>0</td>\n",
       "      <td>0</td>\n",
       "      <td>0</td>\n",
       "    </tr>\n",
       "  </tbody>\n",
       "</table>\n",
       "</div>"
      ],
      "text/plain": [
       "   scopus_id               doi  downloads  visitors  countries  days  months\n",
       "0      12001  10.1002/jeab.100          1         1          1     1       1\n",
       "1      12001  10.1002/jeab.101          0         0          0     0       0\n",
       "2      12001  10.1002/jeab.102          0         0          0     0       0"
      ]
     },
     "execution_count": 5,
     "metadata": {},
     "output_type": "execute_result"
    }
   ],
   "source": [
    "# Read Sci-Hub logs summary\n",
    "path = os.path.join('download', 'scihub-logs', 'scihub-logs-summary_2015-09_2016-02.tsv.xz')\n",
    "logs_df = pandas.read_table(path)\n",
    "logs_df = title_map_df.merge(logs_df, how='left').fillna(0)\n",
    "columns = ['downloads', 'visitors', 'countries', 'days', 'months']\n",
    "logs_df[columns] = logs_df[columns].astype(int)\n",
    "logs_df.head(3)"
   ]
  },
  {
   "cell_type": "markdown",
   "metadata": {},
   "source": [
    "## Top 100 papers per journal"
   ]
  },
  {
   "cell_type": "code",
   "execution_count": 6,
   "metadata": {},
   "outputs": [
    {
     "data": {
      "text/html": [
       "<div>\n",
       "<style>\n",
       "    .dataframe thead tr:only-child th {\n",
       "        text-align: right;\n",
       "    }\n",
       "\n",
       "    .dataframe thead th {\n",
       "        text-align: left;\n",
       "    }\n",
       "\n",
       "    .dataframe tbody tr th {\n",
       "        vertical-align: top;\n",
       "    }\n",
       "</style>\n",
       "<table border=\"1\" class=\"dataframe\">\n",
       "  <thead>\n",
       "    <tr style=\"text-align: right;\">\n",
       "      <th></th>\n",
       "      <th>scopus_id</th>\n",
       "      <th>doi</th>\n",
       "      <th>downloads</th>\n",
       "      <th>visitors</th>\n",
       "      <th>countries</th>\n",
       "      <th>days</th>\n",
       "      <th>months</th>\n",
       "    </tr>\n",
       "  </thead>\n",
       "  <tbody>\n",
       "    <tr>\n",
       "      <th>0</th>\n",
       "      <td>12001</td>\n",
       "      <td>10.1002/jeab.145</td>\n",
       "      <td>0</td>\n",
       "      <td>0</td>\n",
       "      <td>0</td>\n",
       "      <td>0</td>\n",
       "      <td>0</td>\n",
       "    </tr>\n",
       "    <tr>\n",
       "      <th>1</th>\n",
       "      <td>12001</td>\n",
       "      <td>10.1002/jeab.117</td>\n",
       "      <td>0</td>\n",
       "      <td>0</td>\n",
       "      <td>0</td>\n",
       "      <td>0</td>\n",
       "      <td>0</td>\n",
       "    </tr>\n",
       "  </tbody>\n",
       "</table>\n",
       "</div>"
      ],
      "text/plain": [
       "   scopus_id               doi  downloads  visitors  countries  days  months\n",
       "0      12001  10.1002/jeab.145          0         0          0     0       0\n",
       "1      12001  10.1002/jeab.117          0         0          0     0       0"
      ]
     },
     "execution_count": 6,
     "metadata": {},
     "output_type": "execute_result"
    }
   ],
   "source": [
    "top_paper_df = (\n",
    "    logs_df\n",
    "    .sort_values('visitors', ascending=False)\n",
    "    .groupby('scopus_id')\n",
    "    .head(100)\n",
    "    .sort_values('scopus_id')\n",
    "    .reset_index(drop=True)\n",
    ")\n",
    "top_paper_df.head(2)"
   ]
  },
  {
   "cell_type": "code",
   "execution_count": 7,
   "metadata": {},
   "outputs": [
    {
     "data": {
      "text/html": [
       "<div>\n",
       "<style>\n",
       "    .dataframe thead tr:only-child th {\n",
       "        text-align: right;\n",
       "    }\n",
       "\n",
       "    .dataframe thead th {\n",
       "        text-align: left;\n",
       "    }\n",
       "\n",
       "    .dataframe tbody tr th {\n",
       "        vertical-align: top;\n",
       "    }\n",
       "</style>\n",
       "<table border=\"1\" class=\"dataframe\">\n",
       "  <thead>\n",
       "    <tr style=\"text-align: right;\">\n",
       "      <th></th>\n",
       "      <th>scopus_id</th>\n",
       "      <th>doi</th>\n",
       "      <th>downloads</th>\n",
       "      <th>visitors</th>\n",
       "      <th>countries</th>\n",
       "      <th>days</th>\n",
       "      <th>months</th>\n",
       "      <th>issued</th>\n",
       "      <th>authors</th>\n",
       "      <th>title</th>\n",
       "    </tr>\n",
       "  </thead>\n",
       "  <tbody>\n",
       "    <tr>\n",
       "      <th>0</th>\n",
       "      <td>12001</td>\n",
       "      <td>10.1002/jeab.133</td>\n",
       "      <td>2</td>\n",
       "      <td>2</td>\n",
       "      <td>2</td>\n",
       "      <td>2</td>\n",
       "      <td>2</td>\n",
       "      <td>2015-01</td>\n",
       "      <td>Warren K. Bickel, James MacKillop, Gregory J. ...</td>\n",
       "      <td>Experimental manipulations of delay discountin...</td>\n",
       "    </tr>\n",
       "    <tr>\n",
       "      <th>1</th>\n",
       "      <td>12001</td>\n",
       "      <td>10.1002/jeab.139</td>\n",
       "      <td>2</td>\n",
       "      <td>2</td>\n",
       "      <td>2</td>\n",
       "      <td>2</td>\n",
       "      <td>2</td>\n",
       "      <td>2015-03</td>\n",
       "      <td>Tal Shavit, Mosi Rosenboim</td>\n",
       "      <td>Is there time discounting for risk premium?</td>\n",
       "    </tr>\n",
       "  </tbody>\n",
       "</table>\n",
       "</div>"
      ],
      "text/plain": [
       "   scopus_id               doi  downloads  visitors  countries  days  months  \\\n",
       "0      12001  10.1002/jeab.133          2         2          2     2       2   \n",
       "1      12001  10.1002/jeab.139          2         2          2     2       2   \n",
       "\n",
       "    issued                                            authors  \\\n",
       "0  2015-01  Warren K. Bickel, James MacKillop, Gregory J. ...   \n",
       "1  2015-03                         Tal Shavit, Mosi Rosenboim   \n",
       "\n",
       "                                               title  \n",
       "0  Experimental manipulations of delay discountin...  \n",
       "1        Is there time discounting for risk premium?  "
      ]
     },
     "execution_count": 7,
     "metadata": {},
     "output_type": "execute_result"
    }
   ],
   "source": [
    "path = os.path.join('download', 'scihub-logs', 'crossref-metadata.tsv.xz')\n",
    "crossref_df = (\n",
    "    pandas.read_table(path)\n",
    "    .query(\"doi in @top_paper_df.doi\")\n",
    "    [['doi', 'issued', 'authors', 'title']]\n",
    ")\n",
    "top_paper_df = top_paper_df.merge(crossref_df)\n",
    "top_paper_df.head(2)"
   ]
  },
  {
   "cell_type": "code",
   "execution_count": 8,
   "metadata": {},
   "outputs": [
    {
     "data": {
      "text/plain": [
       "14131"
      ]
     },
     "execution_count": 8,
     "metadata": {},
     "output_type": "execute_result"
    }
   ],
   "source": [
    "top_paper_df.scopus_id.nunique()"
   ]
  },
  {
   "cell_type": "code",
   "execution_count": 9,
   "metadata": {
    "collapsed": true
   },
   "outputs": [],
   "source": [
    "path = os.path.join('data', 'scihub-log-journal-top-articles.tsv.xz')\n",
    "top_paper_df.to_csv(path, sep='\\t', index=False, compression='xz')"
   ]
  },
  {
   "cell_type": "markdown",
   "metadata": {},
   "source": [
    "## Quantiles per Journal"
   ]
  },
  {
   "cell_type": "code",
   "execution_count": 10,
   "metadata": {},
   "outputs": [
    {
     "data": {
      "text/html": [
       "<div>\n",
       "<style>\n",
       "    .dataframe thead tr:only-child th {\n",
       "        text-align: right;\n",
       "    }\n",
       "\n",
       "    .dataframe thead th {\n",
       "        text-align: left;\n",
       "    }\n",
       "\n",
       "    .dataframe tbody tr th {\n",
       "        vertical-align: top;\n",
       "    }\n",
       "</style>\n",
       "<table border=\"1\" class=\"dataframe\">\n",
       "  <thead>\n",
       "    <tr style=\"text-align: right;\">\n",
       "      <th></th>\n",
       "      <th>scopus_id</th>\n",
       "      <th>quantile</th>\n",
       "      <th>downloads</th>\n",
       "      <th>visitors</th>\n",
       "      <th>countries</th>\n",
       "      <th>days</th>\n",
       "      <th>months</th>\n",
       "    </tr>\n",
       "  </thead>\n",
       "  <tbody>\n",
       "    <tr>\n",
       "      <th>0</th>\n",
       "      <td>12001</td>\n",
       "      <td>0.00</td>\n",
       "      <td>0.0</td>\n",
       "      <td>0.0</td>\n",
       "      <td>0.0</td>\n",
       "      <td>0.0</td>\n",
       "      <td>0.0</td>\n",
       "    </tr>\n",
       "    <tr>\n",
       "      <th>1</th>\n",
       "      <td>12001</td>\n",
       "      <td>0.01</td>\n",
       "      <td>0.0</td>\n",
       "      <td>0.0</td>\n",
       "      <td>0.0</td>\n",
       "      <td>0.0</td>\n",
       "      <td>0.0</td>\n",
       "    </tr>\n",
       "  </tbody>\n",
       "</table>\n",
       "</div>"
      ],
      "text/plain": [
       "   scopus_id  quantile  downloads  visitors  countries  days  months\n",
       "0      12001      0.00        0.0       0.0        0.0   0.0     0.0\n",
       "1      12001      0.01        0.0       0.0        0.0   0.0     0.0"
      ]
     },
     "execution_count": 10,
     "metadata": {},
     "output_type": "execute_result"
    }
   ],
   "source": [
    "columns = ['downloads', 'visitors', 'countries', 'days', 'months']\n",
    "\n",
    "def get_quantiles(df):\n",
    "    q = numpy.linspace(0, 1, 101)\n",
    "    quantile_df = df[columns].quantile(q)\n",
    "    quantile_df.index.rename('quantile', inplace=True)\n",
    "    quantile_df = quantile_df.reset_index()\n",
    "    return quantile_df\n",
    "\n",
    "quantile_df = logs_df.groupby('scopus_id').apply(get_quantiles).reset_index(level='scopus_id')\n",
    "quantile_df.head(2)"
   ]
  },
  {
   "cell_type": "code",
   "execution_count": 11,
   "metadata": {
    "collapsed": true
   },
   "outputs": [],
   "source": [
    "path = os.path.join('data', 'scihub-log-journal-quantiles.tsv.xz')\n",
    "quantile_df.to_csv(path, sep='\\t', index=False, float_format='%.5g', compression='xz')"
   ]
  },
  {
   "cell_type": "markdown",
   "metadata": {},
   "source": [
    "## Journal metadata from Scopus"
   ]
  },
  {
   "cell_type": "code",
   "execution_count": 12,
   "metadata": {},
   "outputs": [
    {
     "data": {
      "text/html": [
       "<div>\n",
       "<style>\n",
       "    .dataframe thead tr:only-child th {\n",
       "        text-align: right;\n",
       "    }\n",
       "\n",
       "    .dataframe thead th {\n",
       "        text-align: left;\n",
       "    }\n",
       "\n",
       "    .dataframe tbody tr th {\n",
       "        vertical-align: top;\n",
       "    }\n",
       "</style>\n",
       "<table border=\"1\" class=\"dataframe\">\n",
       "  <thead>\n",
       "    <tr style=\"text-align: right;\">\n",
       "      <th></th>\n",
       "      <th>scopus_id</th>\n",
       "      <th>title_name</th>\n",
       "      <th>active</th>\n",
       "      <th>open_access</th>\n",
       "    </tr>\n",
       "  </thead>\n",
       "  <tbody>\n",
       "    <tr>\n",
       "      <th>0</th>\n",
       "      <td>12000</td>\n",
       "      <td>Journal of Technology in Counseling</td>\n",
       "      <td>0</td>\n",
       "      <td>0</td>\n",
       "    </tr>\n",
       "    <tr>\n",
       "      <th>1</th>\n",
       "      <td>12001</td>\n",
       "      <td>Journal of the Experimental Analysis of Behavior</td>\n",
       "      <td>1</td>\n",
       "      <td>0</td>\n",
       "    </tr>\n",
       "  </tbody>\n",
       "</table>\n",
       "</div>"
      ],
      "text/plain": [
       "   scopus_id                                        title_name  active  \\\n",
       "0      12000               Journal of Technology in Counseling       0   \n",
       "1      12001  Journal of the Experimental Analysis of Behavior       1   \n",
       "\n",
       "   open_access  \n",
       "0            0  \n",
       "1            0  "
      ]
     },
     "execution_count": 12,
     "metadata": {},
     "output_type": "execute_result"
    }
   ],
   "source": [
    "with open('00.configuration.json') as read_file:\n",
    "    config = json.load(read_file)\n",
    "\n",
    "# Read Scopus title names and attributes\n",
    "url = config['scopus_url'] + 'data/titles.tsv'\n",
    "journal_df = pandas.read_table(url)\n",
    "\n",
    "url = config['scopus_url'] + 'data/title-attributes.tsv'\n",
    "journal_df = (\n",
    "    journal_df\n",
    "    .merge(pandas.read_table(url))\n",
    "    [['scopus_id', 'title_name', 'active', 'open_access']]\n",
    ")\n",
    "journal_df.head(2)"
   ]
  },
  {
   "cell_type": "markdown",
   "metadata": {},
   "source": [
    "## Journal mean summaries"
   ]
  },
  {
   "cell_type": "code",
   "execution_count": 13,
   "metadata": {},
   "outputs": [
    {
     "data": {
      "text/html": [
       "<div>\n",
       "<style>\n",
       "    .dataframe thead tr:only-child th {\n",
       "        text-align: right;\n",
       "    }\n",
       "\n",
       "    .dataframe thead th {\n",
       "        text-align: left;\n",
       "    }\n",
       "\n",
       "    .dataframe tbody tr th {\n",
       "        vertical-align: top;\n",
       "    }\n",
       "</style>\n",
       "<table border=\"1\" class=\"dataframe\">\n",
       "  <thead>\n",
       "    <tr style=\"text-align: right;\">\n",
       "      <th></th>\n",
       "      <th>scopus_id</th>\n",
       "      <th>title_name</th>\n",
       "      <th>active</th>\n",
       "      <th>open_access</th>\n",
       "      <th>downloads</th>\n",
       "      <th>visitors</th>\n",
       "      <th>countries</th>\n",
       "      <th>days</th>\n",
       "      <th>months</th>\n",
       "      <th>n_articles_requested</th>\n",
       "      <th>n_articles</th>\n",
       "    </tr>\n",
       "  </thead>\n",
       "  <tbody>\n",
       "    <tr>\n",
       "      <th>0</th>\n",
       "      <td>12001</td>\n",
       "      <td>Journal of the Experimental Analysis of Behavior</td>\n",
       "      <td>1</td>\n",
       "      <td>0</td>\n",
       "      <td>0.597826</td>\n",
       "      <td>0.554348</td>\n",
       "      <td>0.445652</td>\n",
       "      <td>0.576087</td>\n",
       "      <td>0.434783</td>\n",
       "      <td>26</td>\n",
       "      <td>92</td>\n",
       "    </tr>\n",
       "    <tr>\n",
       "      <th>1</th>\n",
       "      <td>12002</td>\n",
       "      <td>Journal of the History of the Behavioral Sciences</td>\n",
       "      <td>1</td>\n",
       "      <td>0</td>\n",
       "      <td>0.163462</td>\n",
       "      <td>0.163462</td>\n",
       "      <td>0.144231</td>\n",
       "      <td>0.144231</td>\n",
       "      <td>0.134615</td>\n",
       "      <td>13</td>\n",
       "      <td>104</td>\n",
       "    </tr>\n",
       "  </tbody>\n",
       "</table>\n",
       "</div>"
      ],
      "text/plain": [
       "   scopus_id                                         title_name  active  \\\n",
       "0      12001   Journal of the Experimental Analysis of Behavior       1   \n",
       "1      12002  Journal of the History of the Behavioral Sciences       1   \n",
       "\n",
       "   open_access  downloads  visitors  countries      days    months  \\\n",
       "0            0   0.597826  0.554348   0.445652  0.576087  0.434783   \n",
       "1            0   0.163462  0.163462   0.144231  0.144231  0.134615   \n",
       "\n",
       "   n_articles_requested  n_articles  \n",
       "0                    26          92  \n",
       "1                    13         104  "
      ]
     },
     "execution_count": 13,
     "metadata": {},
     "output_type": "execute_result"
    }
   ],
   "source": [
    "columns = ['downloads', 'visitors', 'countries', 'days', 'months']\n",
    "\n",
    "def summarize(df):\n",
    "    series = df[columns].mean()\n",
    "    series['n_articles_requested'] = sum(df.downloads > 0)\n",
    "    series['n_articles'] = len(df)\n",
    "    return series\n",
    "\n",
    "mean_df = logs_df.groupby('scopus_id').apply(summarize).reset_index()\n",
    "mean_df = journal_df.merge(mean_df)\n",
    "for column in 'n_articles_requested', 'n_articles':\n",
    "    mean_df[column] = mean_df[column].astype(int)\n",
    "mean_df.head(2)"
   ]
  },
  {
   "cell_type": "code",
   "execution_count": 14,
   "metadata": {},
   "outputs": [
    {
     "data": {
      "text/html": [
       "<div>\n",
       "<style>\n",
       "    .dataframe thead tr:only-child th {\n",
       "        text-align: right;\n",
       "    }\n",
       "\n",
       "    .dataframe thead th {\n",
       "        text-align: left;\n",
       "    }\n",
       "\n",
       "    .dataframe tbody tr th {\n",
       "        vertical-align: top;\n",
       "    }\n",
       "</style>\n",
       "<table border=\"1\" class=\"dataframe\">\n",
       "  <thead>\n",
       "    <tr style=\"text-align: right;\">\n",
       "      <th></th>\n",
       "      <th>scopus_id</th>\n",
       "      <th>title_name</th>\n",
       "      <th>active</th>\n",
       "      <th>open_access</th>\n",
       "      <th>downloads</th>\n",
       "      <th>visitors</th>\n",
       "      <th>countries</th>\n",
       "      <th>days</th>\n",
       "      <th>months</th>\n",
       "      <th>n_articles_requested</th>\n",
       "      <th>n_articles</th>\n",
       "    </tr>\n",
       "  </thead>\n",
       "  <tbody>\n",
       "    <tr>\n",
       "      <th>15476</th>\n",
       "      <td>21100213100</td>\n",
       "      <td>Medicine</td>\n",
       "      <td>1</td>\n",
       "      <td>0</td>\n",
       "      <td>36.457055</td>\n",
       "      <td>33.371166</td>\n",
       "      <td>6.435583</td>\n",
       "      <td>26.739264</td>\n",
       "      <td>5.634969</td>\n",
       "      <td>326</td>\n",
       "      <td>326</td>\n",
       "    </tr>\n",
       "    <tr>\n",
       "      <th>4008</th>\n",
       "      <td>20651</td>\n",
       "      <td>Annual Review of Immunology</td>\n",
       "      <td>1</td>\n",
       "      <td>0</td>\n",
       "      <td>28.220000</td>\n",
       "      <td>25.740000</td>\n",
       "      <td>13.560000</td>\n",
       "      <td>22.460000</td>\n",
       "      <td>5.020000</td>\n",
       "      <td>48</td>\n",
       "      <td>50</td>\n",
       "    </tr>\n",
       "    <tr>\n",
       "      <th>5244</th>\n",
       "      <td>23340</td>\n",
       "      <td>Chemical Reviews</td>\n",
       "      <td>1</td>\n",
       "      <td>0</td>\n",
       "      <td>31.500000</td>\n",
       "      <td>25.106250</td>\n",
       "      <td>9.633333</td>\n",
       "      <td>20.839583</td>\n",
       "      <td>4.741667</td>\n",
       "      <td>476</td>\n",
       "      <td>480</td>\n",
       "    </tr>\n",
       "    <tr>\n",
       "      <th>2746</th>\n",
       "      <td>17899</td>\n",
       "      <td>Progress in Materials Science</td>\n",
       "      <td>1</td>\n",
       "      <td>0</td>\n",
       "      <td>27.159091</td>\n",
       "      <td>22.340909</td>\n",
       "      <td>8.886364</td>\n",
       "      <td>18.659091</td>\n",
       "      <td>4.613636</td>\n",
       "      <td>44</td>\n",
       "      <td>44</td>\n",
       "    </tr>\n",
       "    <tr>\n",
       "      <th>8257</th>\n",
       "      <td>29884</td>\n",
       "      <td>Journal of International Accounting, Auditing ...</td>\n",
       "      <td>1</td>\n",
       "      <td>0</td>\n",
       "      <td>24.400000</td>\n",
       "      <td>21.160000</td>\n",
       "      <td>6.000000</td>\n",
       "      <td>17.360000</td>\n",
       "      <td>4.320000</td>\n",
       "      <td>21</td>\n",
       "      <td>25</td>\n",
       "    </tr>\n",
       "  </tbody>\n",
       "</table>\n",
       "</div>"
      ],
      "text/plain": [
       "         scopus_id                                         title_name  active  \\\n",
       "15476  21100213100                                           Medicine       1   \n",
       "4008         20651                        Annual Review of Immunology       1   \n",
       "5244         23340                                   Chemical Reviews       1   \n",
       "2746         17899                      Progress in Materials Science       1   \n",
       "8257         29884  Journal of International Accounting, Auditing ...       1   \n",
       "\n",
       "       open_access  downloads   visitors  countries       days    months  \\\n",
       "15476            0  36.457055  33.371166   6.435583  26.739264  5.634969   \n",
       "4008             0  28.220000  25.740000  13.560000  22.460000  5.020000   \n",
       "5244             0  31.500000  25.106250   9.633333  20.839583  4.741667   \n",
       "2746             0  27.159091  22.340909   8.886364  18.659091  4.613636   \n",
       "8257             0  24.400000  21.160000   6.000000  17.360000  4.320000   \n",
       "\n",
       "       n_articles_requested  n_articles  \n",
       "15476                   326         326  \n",
       "4008                     48          50  \n",
       "5244                    476         480  \n",
       "2746                     44          44  \n",
       "8257                     21          25  "
      ]
     },
     "execution_count": 14,
     "metadata": {},
     "output_type": "execute_result"
    }
   ],
   "source": [
    "mean_df.sort_values('visitors', ascending=False).head()"
   ]
  },
  {
   "cell_type": "code",
   "execution_count": 15,
   "metadata": {
    "collapsed": true
   },
   "outputs": [],
   "source": [
    "path = os.path.join('data', 'scihub-log-journal-averages.tsv.xz')\n",
    "mean_df.to_csv(path, sep='\\t', index=False, float_format='%.5g', compression='xz')"
   ]
  }
 ],
 "metadata": {
  "anaconda-cloud": {},
  "kernelspec": {
   "display_name": "Python [conda env:scihub]",
   "language": "python",
   "name": "conda-env-scihub-py"
  },
  "language_info": {
   "codemirror_mode": {
    "name": "ipython",
    "version": 3
   },
   "file_extension": ".py",
   "mimetype": "text/x-python",
   "name": "python",
   "nbconvert_exporter": "python",
   "pygments_lexer": "ipython3",
   "version": "3.6.0"
  }
 },
 "nbformat": 4,
 "nbformat_minor": 2
}
