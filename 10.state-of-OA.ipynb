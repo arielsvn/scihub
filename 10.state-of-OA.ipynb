{
 "cells": [
  {
   "cell_type": "markdown",
   "metadata": {},
   "source": [
    "# Sci-Hub's coverage on the \"State of OA\" 2017 DOI Catalogs\n",
    "\n",
    "Calculate Sci-Hub's coverage on the DOI catalogs from\n",
    "\n",
    "> Piwowar, Priem, Larivière, Alperin, Matthias, Norlander, Farley, West, Haustein. (2017-08-02) [**The State of OA: A large-scale analysis of the prevalence and impact of Open Access articles**](https://doi.org/10.7287/peerj.preprints.3119v1). _PeerJ Preprints_\n",
    "\n",
    "Supplemenental data for this study is [available on Zenodo](https://doi.org/10.5281/zenodo.837902). From the [`README.txt`](https://zenodo.org/record/837902/files/README.txt):\n",
    "\n",
    "> Columns for raw data files:\n",
    "+ doi: the DOI, from crossref\n",
    "+ evidence: the response from oaDOI\n",
    "+ oa_color_long: the OA \"color\" of the open copy we found.  See paper for details.\n",
    "+ best_open_url: the url of the open copy we found\n",
    "+ year: the year of the article, from crossref\n",
    "+ found_green: true if we found a green copy, even if we also found a hybrid, gold, or bronze copy.  See paper for details.\n",
    "+ journal: the journal of the article, from crossref\n",
    "+ publisher: the publisher of the article, from crossref\n",
    "+ license: the license of the paper, when we found one\n",
    "+ random: a random number\n",
    "\n",
    "See [this GitHub issue](https://github.com/greenelab/scihub-manuscript/issues/18) for more discussion of this analysis."
   ]
  },
  {
   "cell_type": "code",
   "execution_count": 1,
   "metadata": {
    "collapsed": true
   },
   "outputs": [],
   "source": [
    "import collections\n",
    "import itertools\n",
    "import json\n",
    "import pathlib\n",
    "\n",
    "import pandas"
   ]
  },
  {
   "cell_type": "markdown",
   "metadata": {},
   "source": [
    "## Read State of OA datasets"
   ]
  },
  {
   "cell_type": "code",
   "execution_count": 2,
   "metadata": {
    "collapsed": true
   },
   "outputs": [],
   "source": [
    "def read_zenodo_csv(name):\n",
    "    \"\"\"\n",
    "    Read CSV from https://doi.org/10.5281/zenodo.837902\n",
    "    \"\"\"\n",
    "    url = f'https://zenodo.org/record/837902/files/{name}'\n",
    "    df = (\n",
    "        pandas.read_csv(url, encoding='latin_1')\n",
    "        .rename(columns={'oa_color_long': 'oadoi_color'})\n",
    "    )\n",
    "    # gray is closed, see https://github.com/Impactstory/oadoi-paper1/issues/1\n",
    "    if 'oadoi_color' in df.columns:\n",
    "        df.oadoi_color.replace({'gray': 'closed'}, inplace=True)\n",
    "    return df"
   ]
  },
  {
   "cell_type": "code",
   "execution_count": 3,
   "metadata": {},
   "outputs": [
    {
     "data": {
      "text/html": [
       "<div>\n",
       "<style>\n",
       "    .dataframe thead tr:only-child th {\n",
       "        text-align: right;\n",
       "    }\n",
       "\n",
       "    .dataframe thead th {\n",
       "        text-align: left;\n",
       "    }\n",
       "\n",
       "    .dataframe tbody tr th {\n",
       "        vertical-align: top;\n",
       "    }\n",
       "</style>\n",
       "<table border=\"1\" class=\"dataframe\">\n",
       "  <thead>\n",
       "    <tr style=\"text-align: right;\">\n",
       "      <th></th>\n",
       "      <th>doi</th>\n",
       "      <th>evidence</th>\n",
       "      <th>oadoi_color</th>\n",
       "      <th>best_open_url</th>\n",
       "      <th>year</th>\n",
       "      <th>found_green</th>\n",
       "      <th>journal</th>\n",
       "      <th>publisher</th>\n",
       "      <th>license</th>\n",
       "      <th>random</th>\n",
       "      <th>collection</th>\n",
       "    </tr>\n",
       "  </thead>\n",
       "  <tbody>\n",
       "    <tr>\n",
       "      <th>0</th>\n",
       "      <td>10.1016/j.jvoice.2006.09.005</td>\n",
       "      <td>closed</td>\n",
       "      <td>closed</td>\n",
       "      <td>NaN</td>\n",
       "      <td>2008.0</td>\n",
       "      <td>False</td>\n",
       "      <td>Journal of Voice</td>\n",
       "      <td>Elsevier BV</td>\n",
       "      <td>NaN</td>\n",
       "      <td>0.0</td>\n",
       "      <td>Unpaywall</td>\n",
       "    </tr>\n",
       "    <tr>\n",
       "      <th>1</th>\n",
       "      <td>10.1038/nrm2838</td>\n",
       "      <td>oa repository (via pmcid lookup)</td>\n",
       "      <td>green</td>\n",
       "      <td>http://www.ncbi.nlm.nih.gov/pmc/articles/PMC44...</td>\n",
       "      <td>2010.0</td>\n",
       "      <td>True</td>\n",
       "      <td>Nat Rev Mol Cell Biol</td>\n",
       "      <td>Nature Publishing Group</td>\n",
       "      <td>NaN</td>\n",
       "      <td>0.0</td>\n",
       "      <td>Unpaywall</td>\n",
       "    </tr>\n",
       "  </tbody>\n",
       "</table>\n",
       "</div>"
      ],
      "text/plain": [
       "                            doi                          evidence oadoi_color  \\\n",
       "0  10.1016/j.jvoice.2006.09.005                            closed      closed   \n",
       "1               10.1038/nrm2838  oa repository (via pmcid lookup)       green   \n",
       "\n",
       "                                       best_open_url    year found_green  \\\n",
       "0                                                NaN  2008.0       False   \n",
       "1  http://www.ncbi.nlm.nih.gov/pmc/articles/PMC44...  2010.0        True   \n",
       "\n",
       "                 journal                publisher license  random collection  \n",
       "0       Journal of Voice              Elsevier BV     NaN     0.0  Unpaywall  \n",
       "1  Nat Rev Mol Cell Biol  Nature Publishing Group     NaN     0.0  Unpaywall  "
      ]
     },
     "execution_count": 3,
     "metadata": {},
     "output_type": "execute_result"
    }
   ],
   "source": [
    "unpaywall_df = read_zenodo_csv('unpaywall_100k.csv.gz')\n",
    "unpaywall_df['collection'] = 'Unpaywall'\n",
    "unpaywall_df.head(2)"
   ]
  },
  {
   "cell_type": "code",
   "execution_count": 4,
   "metadata": {},
   "outputs": [
    {
     "data": {
      "text/html": [
       "<div>\n",
       "<style>\n",
       "    .dataframe thead tr:only-child th {\n",
       "        text-align: right;\n",
       "    }\n",
       "\n",
       "    .dataframe thead th {\n",
       "        text-align: left;\n",
       "    }\n",
       "\n",
       "    .dataframe tbody tr th {\n",
       "        vertical-align: top;\n",
       "    }\n",
       "</style>\n",
       "<table border=\"1\" class=\"dataframe\">\n",
       "  <thead>\n",
       "    <tr style=\"text-align: right;\">\n",
       "      <th></th>\n",
       "      <th>doi</th>\n",
       "      <th>evidence</th>\n",
       "      <th>oadoi_color</th>\n",
       "      <th>best_open_url</th>\n",
       "      <th>year</th>\n",
       "      <th>found_green</th>\n",
       "      <th>journal</th>\n",
       "      <th>publisher</th>\n",
       "      <th>license</th>\n",
       "      <th>random</th>\n",
       "      <th>collection</th>\n",
       "    </tr>\n",
       "  </thead>\n",
       "  <tbody>\n",
       "    <tr>\n",
       "      <th>0</th>\n",
       "      <td>10.1063/1.4898570</td>\n",
       "      <td>oa repository (via BASE title and first author...</td>\n",
       "      <td>green</td>\n",
       "      <td>http://arxiv.org/pdf/1412.5861</td>\n",
       "      <td>2014.0</td>\n",
       "      <td>True</td>\n",
       "      <td>Journal of Applied Physics</td>\n",
       "      <td>AIP Publishing</td>\n",
       "      <td>NaN</td>\n",
       "      <td>0.0</td>\n",
       "      <td>Web of Science</td>\n",
       "    </tr>\n",
       "    <tr>\n",
       "      <th>1</th>\n",
       "      <td>10.1103/physrevlett.104.215902</td>\n",
       "      <td>closed</td>\n",
       "      <td>closed</td>\n",
       "      <td>NaN</td>\n",
       "      <td>2010.0</td>\n",
       "      <td>False</td>\n",
       "      <td>Physical Review Letters</td>\n",
       "      <td>American Physical Society (APS)</td>\n",
       "      <td>NaN</td>\n",
       "      <td>0.0</td>\n",
       "      <td>Web of Science</td>\n",
       "    </tr>\n",
       "  </tbody>\n",
       "</table>\n",
       "</div>"
      ],
      "text/plain": [
       "                              doi  \\\n",
       "0               10.1063/1.4898570   \n",
       "1  10.1103/physrevlett.104.215902   \n",
       "\n",
       "                                            evidence oadoi_color  \\\n",
       "0  oa repository (via BASE title and first author...       green   \n",
       "1                                             closed      closed   \n",
       "\n",
       "                    best_open_url    year found_green  \\\n",
       "0  http://arxiv.org/pdf/1412.5861  2014.0        True   \n",
       "1                             NaN  2010.0       False   \n",
       "\n",
       "                      journal                        publisher license  \\\n",
       "0  Journal of Applied Physics                   AIP Publishing     NaN   \n",
       "1     Physical Review Letters  American Physical Society (APS)     NaN   \n",
       "\n",
       "   random      collection  \n",
       "0     0.0  Web of Science  \n",
       "1     0.0  Web of Science  "
      ]
     },
     "execution_count": 4,
     "metadata": {},
     "output_type": "execute_result"
    }
   ],
   "source": [
    "wos_df = read_zenodo_csv('wos_100k.csv.gz')\n",
    "wos_df['collection'] = 'Web of Science'\n",
    "wos_df.head(2)"
   ]
  },
  {
   "cell_type": "code",
   "execution_count": 5,
   "metadata": {},
   "outputs": [
    {
     "data": {
      "text/html": [
       "<div>\n",
       "<style>\n",
       "    .dataframe thead tr:only-child th {\n",
       "        text-align: right;\n",
       "    }\n",
       "\n",
       "    .dataframe thead th {\n",
       "        text-align: left;\n",
       "    }\n",
       "\n",
       "    .dataframe tbody tr th {\n",
       "        vertical-align: top;\n",
       "    }\n",
       "</style>\n",
       "<table border=\"1\" class=\"dataframe\">\n",
       "  <thead>\n",
       "    <tr style=\"text-align: right;\">\n",
       "      <th></th>\n",
       "      <th>doi</th>\n",
       "      <th>evidence</th>\n",
       "      <th>oadoi_color</th>\n",
       "      <th>best_open_url</th>\n",
       "      <th>year</th>\n",
       "      <th>found_green</th>\n",
       "      <th>journal</th>\n",
       "      <th>publisher</th>\n",
       "      <th>license</th>\n",
       "      <th>random</th>\n",
       "      <th>collection</th>\n",
       "    </tr>\n",
       "  </thead>\n",
       "  <tbody>\n",
       "    <tr>\n",
       "      <th>0</th>\n",
       "      <td>10.1121/1.4806593</td>\n",
       "      <td>oa repository (via BASE title and first author...</td>\n",
       "      <td>green</td>\n",
       "      <td>https://eprints.soton.ac.uk/353400/1/ICA_2013_...</td>\n",
       "      <td>2013.0</td>\n",
       "      <td>True</td>\n",
       "      <td>J. Acoust. Soc. Am.</td>\n",
       "      <td>Acoustical Society of America (ASA)</td>\n",
       "      <td>NaN</td>\n",
       "      <td>0.0</td>\n",
       "      <td>Crossref</td>\n",
       "    </tr>\n",
       "    <tr>\n",
       "      <th>1</th>\n",
       "      <td>10.1121/1.1318900</td>\n",
       "      <td>oa repository (via BASE doi match)</td>\n",
       "      <td>green</td>\n",
       "      <td>http://orbit.dtu.dk/files/5417578/Tarnow.pdf</td>\n",
       "      <td>2000.0</td>\n",
       "      <td>True</td>\n",
       "      <td>J. Acoust. Soc. Am.</td>\n",
       "      <td>Acoustical Society of America (ASA)</td>\n",
       "      <td>NaN</td>\n",
       "      <td>0.0</td>\n",
       "      <td>Crossref</td>\n",
       "    </tr>\n",
       "  </tbody>\n",
       "</table>\n",
       "</div>"
      ],
      "text/plain": [
       "                 doi                                           evidence  \\\n",
       "0  10.1121/1.4806593  oa repository (via BASE title and first author...   \n",
       "1  10.1121/1.1318900                 oa repository (via BASE doi match)   \n",
       "\n",
       "  oadoi_color                                      best_open_url    year  \\\n",
       "0       green  https://eprints.soton.ac.uk/353400/1/ICA_2013_...  2013.0   \n",
       "1       green       http://orbit.dtu.dk/files/5417578/Tarnow.pdf  2000.0   \n",
       "\n",
       "  found_green              journal                            publisher  \\\n",
       "0        True  J. Acoust. Soc. Am.  Acoustical Society of America (ASA)   \n",
       "1        True  J. Acoust. Soc. Am.  Acoustical Society of America (ASA)   \n",
       "\n",
       "  license  random collection  \n",
       "0     NaN     0.0   Crossref  \n",
       "1     NaN     0.0   Crossref  "
      ]
     },
     "execution_count": 5,
     "metadata": {},
     "output_type": "execute_result"
    }
   ],
   "source": [
    "crossref_df = read_zenodo_csv('crossref_100k.csv.gz')\n",
    "crossref_df['collection'] = 'Crossref'\n",
    "crossref_df.head(2)"
   ]
  },
  {
   "cell_type": "code",
   "execution_count": 6,
   "metadata": {
    "scrolled": true
   },
   "outputs": [
    {
     "data": {
      "text/html": [
       "<div>\n",
       "<style>\n",
       "    .dataframe thead tr:only-child th {\n",
       "        text-align: right;\n",
       "    }\n",
       "\n",
       "    .dataframe thead th {\n",
       "        text-align: left;\n",
       "    }\n",
       "\n",
       "    .dataframe tbody tr th {\n",
       "        vertical-align: top;\n",
       "    }\n",
       "</style>\n",
       "<table border=\"1\" class=\"dataframe\">\n",
       "  <thead>\n",
       "    <tr style=\"text-align: right;\">\n",
       "      <th></th>\n",
       "      <th>collection</th>\n",
       "      <th>doi</th>\n",
       "      <th>oadoi_color</th>\n",
       "    </tr>\n",
       "  </thead>\n",
       "  <tbody>\n",
       "    <tr>\n",
       "      <th>269</th>\n",
       "      <td>Crossref</td>\n",
       "      <td>10.5121/ijnlc.2016.5202</td>\n",
       "      <td>bronze</td>\n",
       "    </tr>\n",
       "    <tr>\n",
       "      <th>270</th>\n",
       "      <td>Crossref</td>\n",
       "      <td>10.18553/jmcp.2014.20.5.477</td>\n",
       "      <td>bronze</td>\n",
       "    </tr>\n",
       "  </tbody>\n",
       "</table>\n",
       "</div>"
      ],
      "text/plain": [
       "    collection                          doi oadoi_color\n",
       "269   Crossref      10.5121/ijnlc.2016.5202      bronze\n",
       "270   Crossref  10.18553/jmcp.2014.20.5.477      bronze"
      ]
     },
     "execution_count": 6,
     "metadata": {},
     "output_type": "execute_result"
    }
   ],
   "source": [
    "oadoi_df = (\n",
    "    pandas.concat([unpaywall_df, wos_df, crossref_df])\n",
    "    [['collection', 'doi', 'oadoi_color']]\n",
    "    .sort_values(['collection', 'oadoi_color'])\n",
    ")\n",
    "\n",
    "oadoi_df.head(2)"
   ]
  },
  {
   "cell_type": "code",
   "execution_count": 7,
   "metadata": {},
   "outputs": [
    {
     "data": {
      "text/html": [
       "<div>\n",
       "<style>\n",
       "    .dataframe thead tr:only-child th {\n",
       "        text-align: right;\n",
       "    }\n",
       "\n",
       "    .dataframe thead th {\n",
       "        text-align: left;\n",
       "    }\n",
       "\n",
       "    .dataframe tbody tr th {\n",
       "        vertical-align: top;\n",
       "    }\n",
       "</style>\n",
       "<table border=\"1\" class=\"dataframe\">\n",
       "  <thead>\n",
       "    <tr style=\"text-align: right;\">\n",
       "      <th></th>\n",
       "      <th>collection</th>\n",
       "      <th>doi</th>\n",
       "      <th>oadoi_color</th>\n",
       "    </tr>\n",
       "  </thead>\n",
       "  <tbody>\n",
       "    <tr>\n",
       "      <th>7769</th>\n",
       "      <td>Crossref</td>\n",
       "      <td>10.1093/ndt/gfs278</td>\n",
       "      <td>closed</td>\n",
       "    </tr>\n",
       "    <tr>\n",
       "      <th>38432</th>\n",
       "      <td>Crossref</td>\n",
       "      <td>10.1109/tsp.2015.2413384</td>\n",
       "      <td>closed</td>\n",
       "    </tr>\n",
       "    <tr>\n",
       "      <th>17143</th>\n",
       "      <td>Unpaywall</td>\n",
       "      <td>10.1093/beheco/arp142</td>\n",
       "      <td>bronze</td>\n",
       "    </tr>\n",
       "    <tr>\n",
       "      <th>15</th>\n",
       "      <td>Web of Science</td>\n",
       "      <td>10.1093/ndt/gfs278</td>\n",
       "      <td>bronze</td>\n",
       "    </tr>\n",
       "    <tr>\n",
       "      <th>70</th>\n",
       "      <td>Web of Science</td>\n",
       "      <td>10.1109/tsp.2015.2413384</td>\n",
       "      <td>green</td>\n",
       "    </tr>\n",
       "    <tr>\n",
       "      <th>22935</th>\n",
       "      <td>Web of Science</td>\n",
       "      <td>10.1093/beheco/arp142</td>\n",
       "      <td>green</td>\n",
       "    </tr>\n",
       "  </tbody>\n",
       "</table>\n",
       "</div>"
      ],
      "text/plain": [
       "           collection                       doi oadoi_color\n",
       "7769         Crossref        10.1093/ndt/gfs278      closed\n",
       "38432        Crossref  10.1109/tsp.2015.2413384      closed\n",
       "17143       Unpaywall     10.1093/beheco/arp142      bronze\n",
       "15     Web of Science        10.1093/ndt/gfs278      bronze\n",
       "70     Web of Science  10.1109/tsp.2015.2413384       green\n",
       "22935  Web of Science     10.1093/beheco/arp142       green"
      ]
     },
     "execution_count": 7,
     "metadata": {},
     "output_type": "execute_result"
    }
   ],
   "source": [
    "# DOIs with inconsistent colors between collections\n",
    "inconsistencies = list()\n",
    "for doi, df in oadoi_df.groupby('doi'):\n",
    "    if len(set(df.oadoi_color)) > 1:\n",
    "        inconsistencies.append(doi)\n",
    "oadoi_df.query(\"doi in @inconsistencies\")"
   ]
  },
  {
   "cell_type": "markdown",
   "metadata": {},
   "source": [
    "## Read Penn library access"
   ]
  },
  {
   "cell_type": "code",
   "execution_count": 8,
   "metadata": {},
   "outputs": [
    {
     "data": {
      "text/html": [
       "<div>\n",
       "<style>\n",
       "    .dataframe thead tr:only-child th {\n",
       "        text-align: right;\n",
       "    }\n",
       "\n",
       "    .dataframe thead th {\n",
       "        text-align: left;\n",
       "    }\n",
       "\n",
       "    .dataframe tbody tr th {\n",
       "        vertical-align: top;\n",
       "    }\n",
       "</style>\n",
       "<table border=\"1\" class=\"dataframe\">\n",
       "  <thead>\n",
       "    <tr style=\"text-align: right;\">\n",
       "      <th></th>\n",
       "      <th>doi</th>\n",
       "      <th>penn</th>\n",
       "    </tr>\n",
       "  </thead>\n",
       "  <tbody>\n",
       "    <tr>\n",
       "      <th>0</th>\n",
       "      <td>10.1001/2012.jama.10139</td>\n",
       "      <td>1</td>\n",
       "    </tr>\n",
       "    <tr>\n",
       "      <th>1</th>\n",
       "      <td>10.1001/2012.jama.10159</td>\n",
       "      <td>1</td>\n",
       "    </tr>\n",
       "  </tbody>\n",
       "</table>\n",
       "</div>"
      ],
      "text/plain": [
       "                       doi  penn\n",
       "0  10.1001/2012.jama.10139     1\n",
       "1  10.1001/2012.jama.10159     1"
      ]
     },
     "execution_count": 8,
     "metadata": {},
     "output_type": "execute_result"
    }
   ],
   "source": [
    "with pathlib.Path('00.configuration.json').open() as read_file:\n",
    "    config = json.load(read_file)\n",
    "url = config['library_access_url'] + 'data/library_coverage_xml_and_fulltext_indicators.tsv.xz'\n",
    "penn_df = (\n",
    "    pandas.read_table(url)\n",
    "    .rename(columns={'full_text_indicator': 'penn'})\n",
    ")\n",
    "penn_df.head(2)"
   ]
  },
  {
   "cell_type": "markdown",
   "metadata": {},
   "source": [
    "## Read literature catalog"
   ]
  },
  {
   "cell_type": "code",
   "execution_count": 9,
   "metadata": {},
   "outputs": [
    {
     "data": {
      "text/html": [
       "<div>\n",
       "<style>\n",
       "    .dataframe thead tr:only-child th {\n",
       "        text-align: right;\n",
       "    }\n",
       "\n",
       "    .dataframe thead th {\n",
       "        text-align: left;\n",
       "    }\n",
       "\n",
       "    .dataframe tbody tr th {\n",
       "        vertical-align: top;\n",
       "    }\n",
       "</style>\n",
       "<table border=\"1\" class=\"dataframe\">\n",
       "  <thead>\n",
       "    <tr style=\"text-align: right;\">\n",
       "      <th></th>\n",
       "      <th>doi</th>\n",
       "      <th>type</th>\n",
       "      <th>issued</th>\n",
       "      <th>in_scopus</th>\n",
       "      <th>in_scihub_dois</th>\n",
       "      <th>in_scihub_logs</th>\n",
       "      <th>in_libgen</th>\n",
       "    </tr>\n",
       "  </thead>\n",
       "  <tbody>\n",
       "    <tr>\n",
       "      <th>0</th>\n",
       "      <td>10.1001/.387</td>\n",
       "      <td>journal-article</td>\n",
       "      <td>2006-02-27</td>\n",
       "      <td>1</td>\n",
       "      <td>0</td>\n",
       "      <td>0</td>\n",
       "      <td>0</td>\n",
       "    </tr>\n",
       "    <tr>\n",
       "      <th>1</th>\n",
       "      <td>10.1001/.389</td>\n",
       "      <td>journal-article</td>\n",
       "      <td>2006-02-27</td>\n",
       "      <td>1</td>\n",
       "      <td>0</td>\n",
       "      <td>0</td>\n",
       "      <td>0</td>\n",
       "    </tr>\n",
       "  </tbody>\n",
       "</table>\n",
       "</div>"
      ],
      "text/plain": [
       "            doi             type      issued  in_scopus  in_scihub_dois  \\\n",
       "0  10.1001/.387  journal-article  2006-02-27          1               0   \n",
       "1  10.1001/.389  journal-article  2006-02-27          1               0   \n",
       "\n",
       "   in_scihub_logs  in_libgen  \n",
       "0               0          0  \n",
       "1               0          0  "
      ]
     },
     "execution_count": 9,
     "metadata": {},
     "output_type": "execute_result"
    }
   ],
   "source": [
    "path = pathlib.Path('data/doi.tsv.xz')\n",
    "article_df = pandas.read_table(path, compression='xz')\n",
    "article_df.head(2)"
   ]
  },
  {
   "cell_type": "markdown",
   "metadata": {},
   "source": [
    "## Integrate datasets"
   ]
  },
  {
   "cell_type": "code",
   "execution_count": 10,
   "metadata": {},
   "outputs": [
    {
     "data": {
      "text/html": [
       "<div>\n",
       "<style>\n",
       "    .dataframe thead tr:only-child th {\n",
       "        text-align: right;\n",
       "    }\n",
       "\n",
       "    .dataframe thead th {\n",
       "        text-align: left;\n",
       "    }\n",
       "\n",
       "    .dataframe tbody tr th {\n",
       "        vertical-align: top;\n",
       "    }\n",
       "</style>\n",
       "<table border=\"1\" class=\"dataframe\">\n",
       "  <thead>\n",
       "    <tr style=\"text-align: right;\">\n",
       "      <th></th>\n",
       "      <th>collection</th>\n",
       "      <th>doi</th>\n",
       "      <th>oadoi_color</th>\n",
       "      <th>scihub</th>\n",
       "      <th>penn</th>\n",
       "      <th>oadoi</th>\n",
       "    </tr>\n",
       "  </thead>\n",
       "  <tbody>\n",
       "    <tr>\n",
       "      <th>0</th>\n",
       "      <td>Crossref</td>\n",
       "      <td>10.5121/ijnlc.2016.5202</td>\n",
       "      <td>bronze</td>\n",
       "      <td>0</td>\n",
       "      <td>0</td>\n",
       "      <td>1</td>\n",
       "    </tr>\n",
       "    <tr>\n",
       "      <th>1</th>\n",
       "      <td>Crossref</td>\n",
       "      <td>10.18553/jmcp.2014.20.5.477</td>\n",
       "      <td>bronze</td>\n",
       "      <td>0</td>\n",
       "      <td>0</td>\n",
       "      <td>1</td>\n",
       "    </tr>\n",
       "  </tbody>\n",
       "</table>\n",
       "</div>"
      ],
      "text/plain": [
       "  collection                          doi oadoi_color  scihub  penn  oadoi\n",
       "0   Crossref      10.5121/ijnlc.2016.5202      bronze       0     0      1\n",
       "1   Crossref  10.18553/jmcp.2014.20.5.477      bronze       0     0      1"
      ]
     },
     "execution_count": 10,
     "metadata": {},
     "output_type": "execute_result"
    }
   ],
   "source": [
    "access_df = (\n",
    "    oadoi_df\n",
    "    .merge(article_df[['doi', 'in_scihub_dois']])\n",
    "    .merge(penn_df)\n",
    "    .rename(columns={'in_scihub_dois': 'scihub'})\n",
    ")\n",
    "\n",
    "# oaDOI provides access to all colors besides closed\n",
    "access_df['oadoi'] = (access_df.oadoi_color != 'closed').astype(int)\n",
    "\n",
    "access_df.head(2)"
   ]
  },
  {
   "cell_type": "code",
   "execution_count": 11,
   "metadata": {},
   "outputs": [
    {
     "data": {
      "text/html": [
       "<div>\n",
       "<style>\n",
       "    .dataframe thead tr:only-child th {\n",
       "        text-align: right;\n",
       "    }\n",
       "\n",
       "    .dataframe thead th {\n",
       "        text-align: left;\n",
       "    }\n",
       "\n",
       "    .dataframe tbody tr th {\n",
       "        vertical-align: top;\n",
       "    }\n",
       "</style>\n",
       "<table border=\"1\" class=\"dataframe\">\n",
       "  <thead>\n",
       "    <tr style=\"text-align: right;\">\n",
       "      <th></th>\n",
       "      <th>collection</th>\n",
       "      <th>doi</th>\n",
       "      <th>oadoi_color</th>\n",
       "      <th>scihub</th>\n",
       "      <th>penn</th>\n",
       "      <th>oadoi</th>\n",
       "    </tr>\n",
       "  </thead>\n",
       "  <tbody>\n",
       "    <tr>\n",
       "      <th>0</th>\n",
       "      <td>Crossref</td>\n",
       "      <td>10.5121/ijnlc.2016.5202</td>\n",
       "      <td>bronze</td>\n",
       "      <td>0</td>\n",
       "      <td>0</td>\n",
       "      <td>1</td>\n",
       "    </tr>\n",
       "    <tr>\n",
       "      <th>1</th>\n",
       "      <td>Crossref</td>\n",
       "      <td>10.18553/jmcp.2014.20.5.477</td>\n",
       "      <td>bronze</td>\n",
       "      <td>0</td>\n",
       "      <td>0</td>\n",
       "      <td>1</td>\n",
       "    </tr>\n",
       "    <tr>\n",
       "      <th>2</th>\n",
       "      <td>Crossref</td>\n",
       "      <td>10.2300/acari.11.105</td>\n",
       "      <td>bronze</td>\n",
       "      <td>0</td>\n",
       "      <td>1</td>\n",
       "      <td>1</td>\n",
       "    </tr>\n",
       "    <tr>\n",
       "      <th>3</th>\n",
       "      <td>Crossref</td>\n",
       "      <td>10.1121/1.1943062</td>\n",
       "      <td>bronze</td>\n",
       "      <td>0</td>\n",
       "      <td>1</td>\n",
       "      <td>1</td>\n",
       "    </tr>\n",
       "    <tr>\n",
       "      <th>4</th>\n",
       "      <td>Crossref</td>\n",
       "      <td>10.1121/1.1919551</td>\n",
       "      <td>bronze</td>\n",
       "      <td>0</td>\n",
       "      <td>1</td>\n",
       "      <td>1</td>\n",
       "    </tr>\n",
       "  </tbody>\n",
       "</table>\n",
       "</div>"
      ],
      "text/plain": [
       "  collection                          doi oadoi_color  scihub  penn  oadoi\n",
       "0   Crossref      10.5121/ijnlc.2016.5202      bronze       0     0      1\n",
       "1   Crossref  10.18553/jmcp.2014.20.5.477      bronze       0     0      1\n",
       "2   Crossref         10.2300/acari.11.105      bronze       0     1      1\n",
       "3   Crossref            10.1121/1.1943062      bronze       0     1      1\n",
       "4   Crossref            10.1121/1.1919551      bronze       0     1      1"
      ]
     },
     "execution_count": 11,
     "metadata": {},
     "output_type": "execute_result"
    }
   ],
   "source": [
    "# Create a dataset that combines the three State of OA collections\n",
    "combined_df = (\n",
    "    access_df\n",
    "    .sort_values(['doi', 'collection'])\n",
    "    .drop_duplicates('doi')\n",
    "    .assign(collection='Combined')\n",
    ")\n",
    "combined_df = pandas.concat([access_df, combined_df])\n",
    "combined_df.head()"
   ]
  },
  {
   "cell_type": "code",
   "execution_count": 12,
   "metadata": {},
   "outputs": [
    {
     "data": {
      "text/plain": [
       "Combined          290120\n",
       "Web of Science    103491\n",
       "Crossref           99952\n",
       "Unpaywall          87322\n",
       "Name: collection, dtype: int64"
      ]
     },
     "execution_count": 12,
     "metadata": {},
     "output_type": "execute_result"
    }
   ],
   "source": [
    "combined_df.collection.value_counts()"
   ]
  },
  {
   "cell_type": "markdown",
   "metadata": {},
   "source": [
    "## Compute coverage"
   ]
  },
  {
   "cell_type": "code",
   "execution_count": 13,
   "metadata": {},
   "outputs": [
    {
     "data": {
      "text/plain": [
       "OrderedDict([('oadoi', 'oaDOI'), ('penn', 'Penn'), ('scihub', 'Sci-Hub')])"
      ]
     },
     "execution_count": 13,
     "metadata": {},
     "output_type": "execute_result"
    }
   ],
   "source": [
    "renamer = collections.OrderedDict()\n",
    "renamer['oadoi'] = 'oaDOI'\n",
    "renamer['penn'] = 'Penn'\n",
    "renamer['scihub'] = 'Sci-Hub'\n",
    "renamer"
   ]
  },
  {
   "cell_type": "code",
   "execution_count": 14,
   "metadata": {},
   "outputs": [
    {
     "data": {
      "text/plain": [
       "[['oadoi'],\n",
       " ['penn'],\n",
       " ['scihub'],\n",
       " ['oadoi', 'penn'],\n",
       " ['oadoi', 'scihub'],\n",
       " ['penn', 'scihub'],\n",
       " ['oadoi', 'penn', 'scihub']]"
      ]
     },
     "execution_count": 14,
     "metadata": {},
     "output_type": "execute_result"
    }
   ],
   "source": [
    "# Find all possible repository combinations\n",
    "repositories = list(renamer)\n",
    "combinations = list()\n",
    "for i in range(len(repositories)):\n",
    "    combinations.extend(itertools.combinations(repositories, i + 1))\n",
    "combinations = list(map(list, combinations))\n",
    "combinations"
   ]
  },
  {
   "cell_type": "code",
   "execution_count": 15,
   "metadata": {},
   "outputs": [],
   "source": [
    "def summarize(df):\n",
    "    \"\"\"\n",
    "    Compute coverage for all repo combinations\n",
    "    \"\"\"\n",
    "    rows = list()\n",
    "    for repos in combinations:\n",
    "        row = collections.OrderedDict()\n",
    "        row['venn'] = ''.join('1' if repo in repos else '0' for repo in repositories)\n",
    "        row['repos'] = ', '.join(renamer[repo] for repo in repos)\n",
    "        row['n_repos'] = len(repos)\n",
    "        access = df[repos].max(axis='columns')\n",
    "        row['available'] = sum(access)\n",
    "        row['articles'] = len(access)\n",
    "        row['coverage'] = access.mean()\n",
    "        rows.append(row)\n",
    "    return pandas.DataFrame(rows)"
   ]
  },
  {
   "cell_type": "code",
   "execution_count": 16,
   "metadata": {},
   "outputs": [
    {
     "data": {
      "text/html": [
       "<div>\n",
       "<style>\n",
       "    .dataframe thead tr:only-child th {\n",
       "        text-align: right;\n",
       "    }\n",
       "\n",
       "    .dataframe thead th {\n",
       "        text-align: left;\n",
       "    }\n",
       "\n",
       "    .dataframe tbody tr th {\n",
       "        vertical-align: top;\n",
       "    }\n",
       "</style>\n",
       "<table border=\"1\" class=\"dataframe\">\n",
       "  <thead>\n",
       "    <tr style=\"text-align: right;\">\n",
       "      <th></th>\n",
       "      <th>collection</th>\n",
       "      <th>oadoi_color</th>\n",
       "      <th>venn</th>\n",
       "      <th>repos</th>\n",
       "      <th>n_repos</th>\n",
       "      <th>available</th>\n",
       "      <th>articles</th>\n",
       "      <th>coverage</th>\n",
       "    </tr>\n",
       "  </thead>\n",
       "  <tbody>\n",
       "    <tr>\n",
       "      <th>0</th>\n",
       "      <td>Combined</td>\n",
       "      <td>all</td>\n",
       "      <td>100</td>\n",
       "      <td>oaDOI</td>\n",
       "      <td>1</td>\n",
       "      <td>107315</td>\n",
       "      <td>290120</td>\n",
       "      <td>0.369899</td>\n",
       "    </tr>\n",
       "    <tr>\n",
       "      <th>1</th>\n",
       "      <td>Combined</td>\n",
       "      <td>all</td>\n",
       "      <td>010</td>\n",
       "      <td>Penn</td>\n",
       "      <td>1</td>\n",
       "      <td>244867</td>\n",
       "      <td>290120</td>\n",
       "      <td>0.844020</td>\n",
       "    </tr>\n",
       "  </tbody>\n",
       "</table>\n",
       "</div>"
      ],
      "text/plain": [
       "  collection oadoi_color venn  repos  n_repos  available  articles  coverage\n",
       "0   Combined         all  100  oaDOI        1     107315    290120  0.369899\n",
       "1   Combined         all  010   Penn        1     244867    290120  0.844020"
      ]
     },
     "execution_count": 16,
     "metadata": {},
     "output_type": "execute_result"
    }
   ],
   "source": [
    "coverage_df = (\n",
    "    pandas.concat([\n",
    "        combined_df,  # Coverage by color\n",
    "        combined_df.query(\"oadoi_color in ['green', 'closed']\").assign(oadoi_color='closed + green'),  # Total coverage (grouping all colors)\n",
    "        combined_df.assign(oadoi_color='all'),  # Total coverage (grouping all colors)\n",
    "    ])\n",
    "    .groupby(['collection', 'oadoi_color'])\n",
    "    .apply(summarize)\n",
    "    .reset_index(level=['collection', 'oadoi_color'])\n",
    ")\n",
    "coverage_df.head(2)"
   ]
  },
  {
   "cell_type": "code",
   "execution_count": 17,
   "metadata": {
    "collapsed": true
   },
   "outputs": [],
   "source": [
    "path = pathlib.Path('data/state-of-oa-coverage.tsv')\n",
    "coverage_df.to_csv(str(path), sep='\\t', index=False, float_format='%.5g')"
   ]
  },
  {
   "cell_type": "markdown",
   "metadata": {},
   "source": [
    "## Venn diagrams"
   ]
  },
  {
   "cell_type": "code",
   "execution_count": 18,
   "metadata": {
    "collapsed": true
   },
   "outputs": [],
   "source": [
    "import matplotlib\n",
    "import matplotlib_venn\n",
    "%matplotlib inline"
   ]
  },
  {
   "cell_type": "code",
   "execution_count": 19,
   "metadata": {},
   "outputs": [
    {
     "data": {
      "text/html": [
       "<div>\n",
       "<style>\n",
       "    .dataframe thead tr:only-child th {\n",
       "        text-align: right;\n",
       "    }\n",
       "\n",
       "    .dataframe thead th {\n",
       "        text-align: left;\n",
       "    }\n",
       "\n",
       "    .dataframe tbody tr th {\n",
       "        vertical-align: top;\n",
       "    }\n",
       "</style>\n",
       "<table border=\"1\" class=\"dataframe\">\n",
       "  <thead>\n",
       "    <tr style=\"text-align: right;\">\n",
       "      <th></th>\n",
       "      <th>collection</th>\n",
       "      <th>oadoi_color</th>\n",
       "      <th>venn</th>\n",
       "      <th>repos</th>\n",
       "      <th>n_repos</th>\n",
       "      <th>available</th>\n",
       "      <th>articles</th>\n",
       "      <th>coverage</th>\n",
       "    </tr>\n",
       "  </thead>\n",
       "  <tbody>\n",
       "    <tr>\n",
       "      <th>0</th>\n",
       "      <td>Combined</td>\n",
       "      <td>closed + green</td>\n",
       "      <td>100</td>\n",
       "      <td>oaDOI</td>\n",
       "      <td>1</td>\n",
       "      <td>25981</td>\n",
       "      <td>208786</td>\n",
       "      <td>0.124438</td>\n",
       "    </tr>\n",
       "    <tr>\n",
       "      <th>1</th>\n",
       "      <td>Combined</td>\n",
       "      <td>closed + green</td>\n",
       "      <td>010</td>\n",
       "      <td>Penn</td>\n",
       "      <td>1</td>\n",
       "      <td>174375</td>\n",
       "      <td>208786</td>\n",
       "      <td>0.835185</td>\n",
       "    </tr>\n",
       "    <tr>\n",
       "      <th>2</th>\n",
       "      <td>Combined</td>\n",
       "      <td>closed + green</td>\n",
       "      <td>001</td>\n",
       "      <td>Sci-Hub</td>\n",
       "      <td>1</td>\n",
       "      <td>189269</td>\n",
       "      <td>208786</td>\n",
       "      <td>0.906522</td>\n",
       "    </tr>\n",
       "    <tr>\n",
       "      <th>3</th>\n",
       "      <td>Combined</td>\n",
       "      <td>closed + green</td>\n",
       "      <td>110</td>\n",
       "      <td>oaDOI, Penn</td>\n",
       "      <td>2</td>\n",
       "      <td>176915</td>\n",
       "      <td>208786</td>\n",
       "      <td>0.847351</td>\n",
       "    </tr>\n",
       "    <tr>\n",
       "      <th>4</th>\n",
       "      <td>Combined</td>\n",
       "      <td>closed + green</td>\n",
       "      <td>101</td>\n",
       "      <td>oaDOI, Sci-Hub</td>\n",
       "      <td>2</td>\n",
       "      <td>191321</td>\n",
       "      <td>208786</td>\n",
       "      <td>0.916350</td>\n",
       "    </tr>\n",
       "    <tr>\n",
       "      <th>5</th>\n",
       "      <td>Combined</td>\n",
       "      <td>closed + green</td>\n",
       "      <td>011</td>\n",
       "      <td>Penn, Sci-Hub</td>\n",
       "      <td>2</td>\n",
       "      <td>200496</td>\n",
       "      <td>208786</td>\n",
       "      <td>0.960294</td>\n",
       "    </tr>\n",
       "    <tr>\n",
       "      <th>6</th>\n",
       "      <td>Combined</td>\n",
       "      <td>closed + green</td>\n",
       "      <td>111</td>\n",
       "      <td>oaDOI, Penn, Sci-Hub</td>\n",
       "      <td>3</td>\n",
       "      <td>201259</td>\n",
       "      <td>208786</td>\n",
       "      <td>0.963949</td>\n",
       "    </tr>\n",
       "  </tbody>\n",
       "</table>\n",
       "</div>"
      ],
      "text/plain": [
       "  collection     oadoi_color venn                 repos  n_repos  available  \\\n",
       "0   Combined  closed + green  100                 oaDOI        1      25981   \n",
       "1   Combined  closed + green  010                  Penn        1     174375   \n",
       "2   Combined  closed + green  001               Sci-Hub        1     189269   \n",
       "3   Combined  closed + green  110           oaDOI, Penn        2     176915   \n",
       "4   Combined  closed + green  101        oaDOI, Sci-Hub        2     191321   \n",
       "5   Combined  closed + green  011         Penn, Sci-Hub        2     200496   \n",
       "6   Combined  closed + green  111  oaDOI, Penn, Sci-Hub        3     201259   \n",
       "\n",
       "   articles  coverage  \n",
       "0    208786  0.124438  \n",
       "1    208786  0.835185  \n",
       "2    208786  0.906522  \n",
       "3    208786  0.847351  \n",
       "4    208786  0.916350  \n",
       "5    208786  0.960294  \n",
       "6    208786  0.963949  "
      ]
     },
     "execution_count": 19,
     "metadata": {},
     "output_type": "execute_result"
    }
   ],
   "source": [
    "# Coverage of articles that are paywalled by their publisher\n",
    "venn_df = coverage_df.query(\"oadoi_color == 'closed + green' and collection == 'Combined'\")\n",
    "venn_df"
   ]
  },
  {
   "cell_type": "code",
   "execution_count": 20,
   "metadata": {},
   "outputs": [],
   "source": [
    "# http://jonathansoma.com/lede/data-studio/matplotlib/list-all-fonts-available-in-matplotlib-plus-samples/\n",
    "matplotlib.rcParams['font.sans-serif'] = \"Liberation Sans\"\n",
    "matplotlib.rcParams['font.family'] = \"sans-serif\"\n",
    "matplotlib.rcParams['figure.figsize'] = 2.5, 2.5"
   ]
  },
  {
   "cell_type": "code",
   "execution_count": 21,
   "metadata": {},
   "outputs": [
    {
     "data": {
      "image/png": "[encoded data removed]",
      "text/plain": [
       "<matplotlib.figure.Figure at 0x7faf4f3c6e10>"
      ]
     },
     "metadata": {},
     "output_type": "display_data"
    }
   ],
   "source": [
    "venn = matplotlib_venn.venn3_unweighted(\n",
    "    subsets=7 * [1],\n",
    "    set_labels=renamer.values(),\n",
    "    alpha=1,\n",
    ")\n",
    "circles = matplotlib_venn.venn3_circles(\n",
    "    subsets=7 * [1],\n",
    "    linestyle='dotted',\n",
    "    linewidth=1.5,\n",
    "    color='#ffffff',\n",
    ")\n",
    "\n",
    "# cmap = matplotlib.colors.LinearSegmentedColormap.from_list(\n",
    "#     name='coverage_cmap', colors=['#ffffff', '#000000'])\n",
    "cmap = matplotlib.cm.get_cmap('viridis')\n",
    "for row in venn_df.itertuples():\n",
    "    label = venn.get_label_by_id(row.venn)\n",
    "    label.set_text(f'{100 * row.coverage:.1f}')\n",
    "    label.set_color('#000000' if row.coverage > 0.5 else '#ffffff')\n",
    "    patch = venn.get_patch_by_id(row.venn)\n",
    "    patch.set_color(cmap(row.coverage))"
   ]
  },
  {
   "cell_type": "markdown",
   "metadata": {},
   "source": [
    "## State of OA accuracy analysis\n",
    "\n",
    "Currently, reads data, but does no analysis."
   ]
  },
  {
   "cell_type": "code",
   "execution_count": 22,
   "metadata": {
    "scrolled": true
   },
   "outputs": [
    {
     "data": {
      "text/plain": [
       "closed                  576\n",
       "open, publisher site    253\n",
       "open, repo              104\n",
       "closed, RG/Aca only      66\n",
       "Name: manual oa_color, dtype: int64"
      ]
     },
     "execution_count": 22,
     "metadata": {},
     "output_type": "execute_result"
    }
   ],
   "source": [
    "# Manually classified accuracy analysis\n",
    "acc_df = pandas.read_excel('https://zenodo.org/record/837902/files/accuracy_analysis.xlsx')\n",
    "acc_df['manual oa_color'].value_counts()"
   ]
  }
 ],
 "metadata": {
  "anaconda-cloud": {},
  "kernelspec": {
   "display_name": "Python [conda env:scihub]",
   "language": "python",
   "name": "conda-env-scihub-py"
  },
  "language_info": {
   "codemirror_mode": {
    "name": "ipython",
    "version": 3
   },
   "file_extension": ".py",
   "mimetype": "text/x-python",
   "name": "python",
   "nbconvert_exporter": "python",
   "pygments_lexer": "ipython3",
   "version": "3.6.0"
  }
 },
 "nbformat": 4,
 "nbformat_minor": 2
}
