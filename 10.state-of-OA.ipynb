{
 "cells": [
  {
   "cell_type": "markdown",
   "metadata": {},
   "source": [
    "# Sci-Hub's coverage on the \"State of OA\" 2017 DOI Catalogs\n",
    "\n",
    "Calculate Sci-Hub's coverage on the DOI catalogs from\n",
    "\n",
    "> Piwowar, Priem, Larivière, Alperin, Matthias, Norlander, Farley, West, Haustein. (2017-08-02) [**The State of OA: A large-scale analysis of the prevalence and impact of Open Access articles**](https://doi.org/10.7287/peerj.preprints.3119v1). _PeerJ Preprints_\n",
    "\n",
    "Supplemenental data for this study is [available on Zenodo](https://doi.org/10.5281/zenodo.837902). From the [`README.txt`](https://zenodo.org/record/837902/files/README.txt):\n",
    "\n",
    "> Columns for raw data files:\n",
    "+ doi: the DOI, from crossref\n",
    "+ evidence: the response from oaDOI\n",
    "+ oa_color_long: the OA \"color\" of the open copy we found.  See paper for details.\n",
    "+ best_open_url: the url of the open copy we found\n",
    "+ year: the year of the article, from crossref\n",
    "+ found_green: true if we found a green copy, even if we also found a hybrid, gold, or bronze copy.  See paper for details.\n",
    "+ journal: the journal of the article, from crossref\n",
    "+ publisher: the publisher of the article, from crossref\n",
    "+ license: the license of the paper, when we found one\n",
    "+ random: a random number\n",
    "\n",
    "See [this GitHub issue](https://github.com/greenelab/scihub-manuscript/issues/18) for more discussion of this analysis."
   ]
  },
  {
   "cell_type": "code",
   "execution_count": 1,
   "metadata": {
    "collapsed": true
   },
   "outputs": [],
   "source": [
    "import collections\n",
    "import pathlib\n",
    "\n",
    "import pandas"
   ]
  },
  {
   "cell_type": "code",
   "execution_count": 2,
   "metadata": {},
   "outputs": [
    {
     "data": {
      "text/html": [
       "<div>\n",
       "<style>\n",
       "    .dataframe thead tr:only-child th {\n",
       "        text-align: right;\n",
       "    }\n",
       "\n",
       "    .dataframe thead th {\n",
       "        text-align: left;\n",
       "    }\n",
       "\n",
       "    .dataframe tbody tr th {\n",
       "        vertical-align: top;\n",
       "    }\n",
       "</style>\n",
       "<table border=\"1\" class=\"dataframe\">\n",
       "  <thead>\n",
       "    <tr style=\"text-align: right;\">\n",
       "      <th></th>\n",
       "      <th>doi</th>\n",
       "      <th>type</th>\n",
       "      <th>issued</th>\n",
       "      <th>in_scopus</th>\n",
       "      <th>in_scihub_dois</th>\n",
       "      <th>in_scihub_logs</th>\n",
       "      <th>in_libgen</th>\n",
       "    </tr>\n",
       "  </thead>\n",
       "  <tbody>\n",
       "    <tr>\n",
       "      <th>0</th>\n",
       "      <td>10.1001/.387</td>\n",
       "      <td>journal-article</td>\n",
       "      <td>2006-02-27</td>\n",
       "      <td>1</td>\n",
       "      <td>0</td>\n",
       "      <td>0</td>\n",
       "      <td>0</td>\n",
       "    </tr>\n",
       "    <tr>\n",
       "      <th>1</th>\n",
       "      <td>10.1001/.389</td>\n",
       "      <td>journal-article</td>\n",
       "      <td>2006-02-27</td>\n",
       "      <td>1</td>\n",
       "      <td>0</td>\n",
       "      <td>0</td>\n",
       "      <td>0</td>\n",
       "    </tr>\n",
       "  </tbody>\n",
       "</table>\n",
       "</div>"
      ],
      "text/plain": [
       "            doi             type      issued  in_scopus  in_scihub_dois  \\\n",
       "0  10.1001/.387  journal-article  2006-02-27          1               0   \n",
       "1  10.1001/.389  journal-article  2006-02-27          1               0   \n",
       "\n",
       "   in_scihub_logs  in_libgen  \n",
       "0               0          0  \n",
       "1               0          0  "
      ]
     },
     "execution_count": 2,
     "metadata": {},
     "output_type": "execute_result"
    }
   ],
   "source": [
    "path = pathlib.Path('data/doi.tsv.xz')\n",
    "article_df = pandas.read_table(path, compression='xz')\n",
    "article_df.head(2)"
   ]
  },
  {
   "cell_type": "code",
   "execution_count": 3,
   "metadata": {
    "collapsed": true
   },
   "outputs": [],
   "source": [
    "def summarize(df):\n",
    "    row = collections.OrderedDict()\n",
    "    row['articles'] = len(df)\n",
    "    row['scihub'] = sum(df.in_scihub_dois)\n",
    "    row['oadoi'] = sum(df.best_open_url.notnull())\n",
    "    row['combined'] = sum(df.in_scihub_dois | df.best_open_url.notnull())\n",
    "    return pandas.Series(row)\n",
    "\n",
    "def compute_coverage(df):\n",
    "    \"\"\"\n",
    "    Compute Sci-Hub and oaDOI / Unpaywall's coverage.\n",
    "    \"\"\"\n",
    "    coverage_df = df.groupby('oa_color_long').apply(summarize).reset_index()\n",
    "    total = coverage_df.sum(numeric_only=True).set_value('oa_color_long', 'total')\n",
    "    coverage_df = coverage_df.append(total, ignore_index=True)\n",
    "    coverage_df['scihub_coverage'] = coverage_df['scihub'] / coverage_df['articles']\n",
    "    coverage_df['oadoi_coverage'] = coverage_df['oadoi'] / coverage_df['articles']\n",
    "    coverage_df['combined_coverage'] = coverage_df['combined'] / coverage_df['articles']\n",
    "    return coverage_df"
   ]
  },
  {
   "cell_type": "code",
   "execution_count": 4,
   "metadata": {
    "collapsed": true
   },
   "outputs": [],
   "source": [
    "def read_zenodo_csv(name):\n",
    "    \"\"\"\n",
    "    Read CSV from https://doi.org/10.5281/zenodo.837902\n",
    "    \"\"\"\n",
    "    url = f'https://zenodo.org/record/837902/files/{name}'\n",
    "    df = pandas.read_csv(url, encoding='latin_1')\n",
    "    # gray is closed, see https://github.com/Impactstory/oadoi-paper1/issues/1\n",
    "    if 'oa_color_long' in df.columns:\n",
    "        df.oa_color_long.replace({'gray': 'closed'}, inplace=True)\n",
    "    return df"
   ]
  },
  {
   "cell_type": "markdown",
   "metadata": {},
   "source": [
    "## Unpaywall"
   ]
  },
  {
   "cell_type": "code",
   "execution_count": 5,
   "metadata": {},
   "outputs": [
    {
     "data": {
      "text/html": [
       "<div>\n",
       "<style>\n",
       "    .dataframe thead tr:only-child th {\n",
       "        text-align: right;\n",
       "    }\n",
       "\n",
       "    .dataframe thead th {\n",
       "        text-align: left;\n",
       "    }\n",
       "\n",
       "    .dataframe tbody tr th {\n",
       "        vertical-align: top;\n",
       "    }\n",
       "</style>\n",
       "<table border=\"1\" class=\"dataframe\">\n",
       "  <thead>\n",
       "    <tr style=\"text-align: right;\">\n",
       "      <th></th>\n",
       "      <th>doi</th>\n",
       "      <th>evidence</th>\n",
       "      <th>oa_color_long</th>\n",
       "      <th>best_open_url</th>\n",
       "      <th>year</th>\n",
       "      <th>found_green</th>\n",
       "      <th>journal</th>\n",
       "      <th>publisher</th>\n",
       "      <th>license</th>\n",
       "      <th>random</th>\n",
       "    </tr>\n",
       "  </thead>\n",
       "  <tbody>\n",
       "    <tr>\n",
       "      <th>0</th>\n",
       "      <td>10.1016/j.jvoice.2006.09.005</td>\n",
       "      <td>closed</td>\n",
       "      <td>closed</td>\n",
       "      <td>NaN</td>\n",
       "      <td>2008.0</td>\n",
       "      <td>False</td>\n",
       "      <td>Journal of Voice</td>\n",
       "      <td>Elsevier BV</td>\n",
       "      <td>NaN</td>\n",
       "      <td>0.0</td>\n",
       "    </tr>\n",
       "    <tr>\n",
       "      <th>1</th>\n",
       "      <td>10.1038/nrm2838</td>\n",
       "      <td>oa repository (via pmcid lookup)</td>\n",
       "      <td>green</td>\n",
       "      <td>http://www.ncbi.nlm.nih.gov/pmc/articles/PMC44...</td>\n",
       "      <td>2010.0</td>\n",
       "      <td>True</td>\n",
       "      <td>Nat Rev Mol Cell Biol</td>\n",
       "      <td>Nature Publishing Group</td>\n",
       "      <td>NaN</td>\n",
       "      <td>0.0</td>\n",
       "    </tr>\n",
       "  </tbody>\n",
       "</table>\n",
       "</div>"
      ],
      "text/plain": [
       "                            doi                          evidence  \\\n",
       "0  10.1016/j.jvoice.2006.09.005                            closed   \n",
       "1               10.1038/nrm2838  oa repository (via pmcid lookup)   \n",
       "\n",
       "  oa_color_long                                      best_open_url    year  \\\n",
       "0        closed                                                NaN  2008.0   \n",
       "1         green  http://www.ncbi.nlm.nih.gov/pmc/articles/PMC44...  2010.0   \n",
       "\n",
       "  found_green                journal                publisher license  random  \n",
       "0       False       Journal of Voice              Elsevier BV     NaN     0.0  \n",
       "1        True  Nat Rev Mol Cell Biol  Nature Publishing Group     NaN     0.0  "
      ]
     },
     "execution_count": 5,
     "metadata": {},
     "output_type": "execute_result"
    }
   ],
   "source": [
    "unpaywall_df = read_zenodo_csv('unpaywall_100k.csv.gz')\n",
    "unpaywall_df.head(2)"
   ]
  },
  {
   "cell_type": "code",
   "execution_count": 6,
   "metadata": {},
   "outputs": [
    {
     "data": {
      "text/plain": [
       "(105647, 105647)"
      ]
     },
     "execution_count": 6,
     "metadata": {},
     "output_type": "execute_result"
    }
   ],
   "source": [
    "# Check that all DOIs are lowercase\n",
    "assert (unpaywall_df.doi == unpaywall_df.doi.str.lower()).all()\n",
    "\n",
    "# Assert no shortDOIs\n",
    "assert unpaywall_df.doi.str.startswith('10.').all()\n",
    "\n",
    "# See number of DOIs and unique DOIs\n",
    "# Note that this number is slightly different than 100,000\n",
    "# https://github.com/Impactstory/oadoi-paper1/issues/2\n",
    "len(unpaywall_df), len(set(unpaywall_df.doi))"
   ]
  },
  {
   "cell_type": "code",
   "execution_count": 7,
   "metadata": {},
   "outputs": [
    {
     "data": {
      "text/plain": [
       "87322"
      ]
     },
     "execution_count": 7,
     "metadata": {},
     "output_type": "execute_result"
    }
   ],
   "source": [
    "unpaywall_subset_df = article_df.merge(unpaywall_df)\n",
    "len(unpaywall_subset_df)"
   ]
  },
  {
   "cell_type": "code",
   "execution_count": 8,
   "metadata": {},
   "outputs": [
    {
     "data": {
      "text/html": [
       "<div>\n",
       "<style>\n",
       "    .dataframe thead tr:only-child th {\n",
       "        text-align: right;\n",
       "    }\n",
       "\n",
       "    .dataframe thead th {\n",
       "        text-align: left;\n",
       "    }\n",
       "\n",
       "    .dataframe tbody tr th {\n",
       "        vertical-align: top;\n",
       "    }\n",
       "</style>\n",
       "<table border=\"1\" class=\"dataframe\">\n",
       "  <thead>\n",
       "    <tr style=\"text-align: right;\">\n",
       "      <th></th>\n",
       "      <th>oa_color_long</th>\n",
       "      <th>articles</th>\n",
       "      <th>scihub</th>\n",
       "      <th>oadoi</th>\n",
       "      <th>combined</th>\n",
       "      <th>scihub_coverage</th>\n",
       "      <th>oadoi_coverage</th>\n",
       "      <th>combined_coverage</th>\n",
       "    </tr>\n",
       "  </thead>\n",
       "  <tbody>\n",
       "    <tr>\n",
       "      <th>0</th>\n",
       "      <td>bronze</td>\n",
       "      <td>14412</td>\n",
       "      <td>12286</td>\n",
       "      <td>14412</td>\n",
       "      <td>14412</td>\n",
       "      <td>0.852484</td>\n",
       "      <td>1.000000</td>\n",
       "      <td>1.000000</td>\n",
       "    </tr>\n",
       "    <tr>\n",
       "      <th>1</th>\n",
       "      <td>closed</td>\n",
       "      <td>44721</td>\n",
       "      <td>39611</td>\n",
       "      <td>0</td>\n",
       "      <td>39611</td>\n",
       "      <td>0.885736</td>\n",
       "      <td>0.000000</td>\n",
       "      <td>0.885736</td>\n",
       "    </tr>\n",
       "    <tr>\n",
       "      <th>2</th>\n",
       "      <td>gold</td>\n",
       "      <td>12025</td>\n",
       "      <td>5749</td>\n",
       "      <td>12025</td>\n",
       "      <td>12025</td>\n",
       "      <td>0.478087</td>\n",
       "      <td>1.000000</td>\n",
       "      <td>1.000000</td>\n",
       "    </tr>\n",
       "    <tr>\n",
       "      <th>3</th>\n",
       "      <td>green</td>\n",
       "      <td>9436</td>\n",
       "      <td>8690</td>\n",
       "      <td>9436</td>\n",
       "      <td>9436</td>\n",
       "      <td>0.920941</td>\n",
       "      <td>1.000000</td>\n",
       "      <td>1.000000</td>\n",
       "    </tr>\n",
       "    <tr>\n",
       "      <th>4</th>\n",
       "      <td>hybrid</td>\n",
       "      <td>6728</td>\n",
       "      <td>4868</td>\n",
       "      <td>6728</td>\n",
       "      <td>6728</td>\n",
       "      <td>0.723543</td>\n",
       "      <td>1.000000</td>\n",
       "      <td>1.000000</td>\n",
       "    </tr>\n",
       "    <tr>\n",
       "      <th>5</th>\n",
       "      <td>total</td>\n",
       "      <td>87322</td>\n",
       "      <td>71204</td>\n",
       "      <td>42601</td>\n",
       "      <td>82212</td>\n",
       "      <td>0.815419</td>\n",
       "      <td>0.487861</td>\n",
       "      <td>0.941481</td>\n",
       "    </tr>\n",
       "  </tbody>\n",
       "</table>\n",
       "</div>"
      ],
      "text/plain": [
       "  oa_color_long  articles  scihub  oadoi  combined  scihub_coverage  \\\n",
       "0        bronze     14412   12286  14412     14412         0.852484   \n",
       "1        closed     44721   39611      0     39611         0.885736   \n",
       "2          gold     12025    5749  12025     12025         0.478087   \n",
       "3         green      9436    8690   9436      9436         0.920941   \n",
       "4        hybrid      6728    4868   6728      6728         0.723543   \n",
       "5         total     87322   71204  42601     82212         0.815419   \n",
       "\n",
       "   oadoi_coverage  combined_coverage  \n",
       "0        1.000000           1.000000  \n",
       "1        0.000000           0.885736  \n",
       "2        1.000000           1.000000  \n",
       "3        1.000000           1.000000  \n",
       "4        1.000000           1.000000  \n",
       "5        0.487861           0.941481  "
      ]
     },
     "execution_count": 8,
     "metadata": {},
     "output_type": "execute_result"
    }
   ],
   "source": [
    "unpaywall_coverage_df = compute_coverage(unpaywall_subset_df)\n",
    "unpaywall_coverage_df"
   ]
  },
  {
   "cell_type": "markdown",
   "metadata": {},
   "source": [
    "## Web of Science"
   ]
  },
  {
   "cell_type": "code",
   "execution_count": 9,
   "metadata": {},
   "outputs": [
    {
     "data": {
      "text/html": [
       "<div>\n",
       "<style>\n",
       "    .dataframe thead tr:only-child th {\n",
       "        text-align: right;\n",
       "    }\n",
       "\n",
       "    .dataframe thead th {\n",
       "        text-align: left;\n",
       "    }\n",
       "\n",
       "    .dataframe tbody tr th {\n",
       "        vertical-align: top;\n",
       "    }\n",
       "</style>\n",
       "<table border=\"1\" class=\"dataframe\">\n",
       "  <thead>\n",
       "    <tr style=\"text-align: right;\">\n",
       "      <th></th>\n",
       "      <th>doi</th>\n",
       "      <th>evidence</th>\n",
       "      <th>oa_color_long</th>\n",
       "      <th>best_open_url</th>\n",
       "      <th>year</th>\n",
       "      <th>found_green</th>\n",
       "      <th>journal</th>\n",
       "      <th>publisher</th>\n",
       "      <th>license</th>\n",
       "      <th>random</th>\n",
       "    </tr>\n",
       "  </thead>\n",
       "  <tbody>\n",
       "    <tr>\n",
       "      <th>0</th>\n",
       "      <td>10.1063/1.4898570</td>\n",
       "      <td>oa repository (via BASE title and first author...</td>\n",
       "      <td>green</td>\n",
       "      <td>http://arxiv.org/pdf/1412.5861</td>\n",
       "      <td>2014.0</td>\n",
       "      <td>True</td>\n",
       "      <td>Journal of Applied Physics</td>\n",
       "      <td>AIP Publishing</td>\n",
       "      <td>NaN</td>\n",
       "      <td>0.0</td>\n",
       "    </tr>\n",
       "    <tr>\n",
       "      <th>1</th>\n",
       "      <td>10.1103/physrevlett.104.215902</td>\n",
       "      <td>closed</td>\n",
       "      <td>closed</td>\n",
       "      <td>NaN</td>\n",
       "      <td>2010.0</td>\n",
       "      <td>False</td>\n",
       "      <td>Physical Review Letters</td>\n",
       "      <td>American Physical Society (APS)</td>\n",
       "      <td>NaN</td>\n",
       "      <td>0.0</td>\n",
       "    </tr>\n",
       "  </tbody>\n",
       "</table>\n",
       "</div>"
      ],
      "text/plain": [
       "                              doi  \\\n",
       "0               10.1063/1.4898570   \n",
       "1  10.1103/physrevlett.104.215902   \n",
       "\n",
       "                                            evidence oa_color_long  \\\n",
       "0  oa repository (via BASE title and first author...         green   \n",
       "1                                             closed        closed   \n",
       "\n",
       "                    best_open_url    year found_green  \\\n",
       "0  http://arxiv.org/pdf/1412.5861  2014.0        True   \n",
       "1                             NaN  2010.0       False   \n",
       "\n",
       "                      journal                        publisher license  random  \n",
       "0  Journal of Applied Physics                   AIP Publishing     NaN     0.0  \n",
       "1     Physical Review Letters  American Physical Society (APS)     NaN     0.0  "
      ]
     },
     "execution_count": 9,
     "metadata": {},
     "output_type": "execute_result"
    }
   ],
   "source": [
    "wos_df = read_zenodo_csv('wos_100k.csv.gz')\n",
    "wos_df.head(2)"
   ]
  },
  {
   "cell_type": "code",
   "execution_count": 10,
   "metadata": {},
   "outputs": [
    {
     "data": {
      "text/plain": [
       "(103539, 103539)"
      ]
     },
     "execution_count": 10,
     "metadata": {},
     "output_type": "execute_result"
    }
   ],
   "source": [
    "# Check that all DOIs are lowercase\n",
    "assert (wos_df.doi == wos_df.doi.str.lower()).all()\n",
    "\n",
    "# See number of DOIs and unique DOIs\n",
    "len(wos_df), len(set(wos_df.doi))"
   ]
  },
  {
   "cell_type": "code",
   "execution_count": 11,
   "metadata": {},
   "outputs": [
    {
     "data": {
      "text/plain": [
       "103491"
      ]
     },
     "execution_count": 11,
     "metadata": {},
     "output_type": "execute_result"
    }
   ],
   "source": [
    "wos_subset_df = article_df.merge(wos_df)\n",
    "len(wos_subset_df)"
   ]
  },
  {
   "cell_type": "code",
   "execution_count": 12,
   "metadata": {},
   "outputs": [
    {
     "data": {
      "text/html": [
       "<div>\n",
       "<style>\n",
       "    .dataframe thead tr:only-child th {\n",
       "        text-align: right;\n",
       "    }\n",
       "\n",
       "    .dataframe thead th {\n",
       "        text-align: left;\n",
       "    }\n",
       "\n",
       "    .dataframe tbody tr th {\n",
       "        vertical-align: top;\n",
       "    }\n",
       "</style>\n",
       "<table border=\"1\" class=\"dataframe\">\n",
       "  <thead>\n",
       "    <tr style=\"text-align: right;\">\n",
       "      <th></th>\n",
       "      <th>oa_color_long</th>\n",
       "      <th>articles</th>\n",
       "      <th>scihub</th>\n",
       "      <th>oadoi</th>\n",
       "      <th>combined</th>\n",
       "      <th>scihub_coverage</th>\n",
       "      <th>oadoi_coverage</th>\n",
       "      <th>combined_coverage</th>\n",
       "    </tr>\n",
       "  </thead>\n",
       "  <tbody>\n",
       "    <tr>\n",
       "      <th>0</th>\n",
       "      <td>bronze</td>\n",
       "      <td>13395</td>\n",
       "      <td>11842</td>\n",
       "      <td>13395</td>\n",
       "      <td>13395</td>\n",
       "      <td>0.884061</td>\n",
       "      <td>1.00000</td>\n",
       "      <td>1.000000</td>\n",
       "    </tr>\n",
       "    <tr>\n",
       "      <th>1</th>\n",
       "      <td>closed</td>\n",
       "      <td>66196</td>\n",
       "      <td>64719</td>\n",
       "      <td>0</td>\n",
       "      <td>64719</td>\n",
       "      <td>0.977687</td>\n",
       "      <td>0.00000</td>\n",
       "      <td>0.977687</td>\n",
       "    </tr>\n",
       "    <tr>\n",
       "      <th>2</th>\n",
       "      <td>gold</td>\n",
       "      <td>7632</td>\n",
       "      <td>4285</td>\n",
       "      <td>7632</td>\n",
       "      <td>7632</td>\n",
       "      <td>0.561452</td>\n",
       "      <td>1.00000</td>\n",
       "      <td>1.000000</td>\n",
       "    </tr>\n",
       "    <tr>\n",
       "      <th>3</th>\n",
       "      <td>green</td>\n",
       "      <td>11842</td>\n",
       "      <td>11484</td>\n",
       "      <td>11842</td>\n",
       "      <td>11842</td>\n",
       "      <td>0.969769</td>\n",
       "      <td>1.00000</td>\n",
       "      <td>1.000000</td>\n",
       "    </tr>\n",
       "    <tr>\n",
       "      <th>4</th>\n",
       "      <td>hybrid</td>\n",
       "      <td>4426</td>\n",
       "      <td>3812</td>\n",
       "      <td>4426</td>\n",
       "      <td>4426</td>\n",
       "      <td>0.861274</td>\n",
       "      <td>1.00000</td>\n",
       "      <td>1.000000</td>\n",
       "    </tr>\n",
       "    <tr>\n",
       "      <th>5</th>\n",
       "      <td>total</td>\n",
       "      <td>103491</td>\n",
       "      <td>96142</td>\n",
       "      <td>37295</td>\n",
       "      <td>102014</td>\n",
       "      <td>0.928989</td>\n",
       "      <td>0.36037</td>\n",
       "      <td>0.985728</td>\n",
       "    </tr>\n",
       "  </tbody>\n",
       "</table>\n",
       "</div>"
      ],
      "text/plain": [
       "  oa_color_long  articles  scihub  oadoi  combined  scihub_coverage  \\\n",
       "0        bronze     13395   11842  13395     13395         0.884061   \n",
       "1        closed     66196   64719      0     64719         0.977687   \n",
       "2          gold      7632    4285   7632      7632         0.561452   \n",
       "3         green     11842   11484  11842     11842         0.969769   \n",
       "4        hybrid      4426    3812   4426      4426         0.861274   \n",
       "5         total    103491   96142  37295    102014         0.928989   \n",
       "\n",
       "   oadoi_coverage  combined_coverage  \n",
       "0         1.00000           1.000000  \n",
       "1         0.00000           0.977687  \n",
       "2         1.00000           1.000000  \n",
       "3         1.00000           1.000000  \n",
       "4         1.00000           1.000000  \n",
       "5         0.36037           0.985728  "
      ]
     },
     "execution_count": 12,
     "metadata": {},
     "output_type": "execute_result"
    }
   ],
   "source": [
    "wos_coverage_df = compute_coverage(wos_subset_df)\n",
    "wos_coverage_df"
   ]
  },
  {
   "cell_type": "markdown",
   "metadata": {},
   "source": [
    "## Crossref"
   ]
  },
  {
   "cell_type": "code",
   "execution_count": 13,
   "metadata": {},
   "outputs": [
    {
     "data": {
      "text/html": [
       "<div>\n",
       "<style>\n",
       "    .dataframe thead tr:only-child th {\n",
       "        text-align: right;\n",
       "    }\n",
       "\n",
       "    .dataframe thead th {\n",
       "        text-align: left;\n",
       "    }\n",
       "\n",
       "    .dataframe tbody tr th {\n",
       "        vertical-align: top;\n",
       "    }\n",
       "</style>\n",
       "<table border=\"1\" class=\"dataframe\">\n",
       "  <thead>\n",
       "    <tr style=\"text-align: right;\">\n",
       "      <th></th>\n",
       "      <th>doi</th>\n",
       "      <th>evidence</th>\n",
       "      <th>oa_color_long</th>\n",
       "      <th>best_open_url</th>\n",
       "      <th>year</th>\n",
       "      <th>found_green</th>\n",
       "      <th>journal</th>\n",
       "      <th>publisher</th>\n",
       "      <th>license</th>\n",
       "      <th>random</th>\n",
       "    </tr>\n",
       "  </thead>\n",
       "  <tbody>\n",
       "    <tr>\n",
       "      <th>0</th>\n",
       "      <td>10.1121/1.4806593</td>\n",
       "      <td>oa repository (via BASE title and first author...</td>\n",
       "      <td>green</td>\n",
       "      <td>https://eprints.soton.ac.uk/353400/1/ICA_2013_...</td>\n",
       "      <td>2013.0</td>\n",
       "      <td>True</td>\n",
       "      <td>J. Acoust. Soc. Am.</td>\n",
       "      <td>Acoustical Society of America (ASA)</td>\n",
       "      <td>NaN</td>\n",
       "      <td>0.0</td>\n",
       "    </tr>\n",
       "    <tr>\n",
       "      <th>1</th>\n",
       "      <td>10.1121/1.1318900</td>\n",
       "      <td>oa repository (via BASE doi match)</td>\n",
       "      <td>green</td>\n",
       "      <td>http://orbit.dtu.dk/files/5417578/Tarnow.pdf</td>\n",
       "      <td>2000.0</td>\n",
       "      <td>True</td>\n",
       "      <td>J. Acoust. Soc. Am.</td>\n",
       "      <td>Acoustical Society of America (ASA)</td>\n",
       "      <td>NaN</td>\n",
       "      <td>0.0</td>\n",
       "    </tr>\n",
       "  </tbody>\n",
       "</table>\n",
       "</div>"
      ],
      "text/plain": [
       "                 doi                                           evidence  \\\n",
       "0  10.1121/1.4806593  oa repository (via BASE title and first author...   \n",
       "1  10.1121/1.1318900                 oa repository (via BASE doi match)   \n",
       "\n",
       "  oa_color_long                                      best_open_url    year  \\\n",
       "0         green  https://eprints.soton.ac.uk/353400/1/ICA_2013_...  2013.0   \n",
       "1         green       http://orbit.dtu.dk/files/5417578/Tarnow.pdf  2000.0   \n",
       "\n",
       "  found_green              journal                            publisher  \\\n",
       "0        True  J. Acoust. Soc. Am.  Acoustical Society of America (ASA)   \n",
       "1        True  J. Acoust. Soc. Am.  Acoustical Society of America (ASA)   \n",
       "\n",
       "  license  random  \n",
       "0     NaN     0.0  \n",
       "1     NaN     0.0  "
      ]
     },
     "execution_count": 13,
     "metadata": {},
     "output_type": "execute_result"
    }
   ],
   "source": [
    "crossref_df = read_zenodo_csv('crossref_100k.csv.gz')\n",
    "crossref_df.head(2)"
   ]
  },
  {
   "cell_type": "code",
   "execution_count": 14,
   "metadata": {},
   "outputs": [
    {
     "data": {
      "text/plain": [
       "(100000, 100000)"
      ]
     },
     "execution_count": 14,
     "metadata": {},
     "output_type": "execute_result"
    }
   ],
   "source": [
    "# Check that all DOIs are lowercase\n",
    "assert (crossref_df.doi == crossref_df.doi.str.lower()).all()\n",
    "\n",
    "# See number of DOIs and unique DOIs\n",
    "len(crossref_df), len(set(crossref_df.doi))"
   ]
  },
  {
   "cell_type": "code",
   "execution_count": 15,
   "metadata": {},
   "outputs": [
    {
     "data": {
      "text/plain": [
       "99952"
      ]
     },
     "execution_count": 15,
     "metadata": {},
     "output_type": "execute_result"
    }
   ],
   "source": [
    "crossref_subset_df = article_df.merge(crossref_df)\n",
    "len(crossref_subset_df)"
   ]
  },
  {
   "cell_type": "code",
   "execution_count": 16,
   "metadata": {},
   "outputs": [
    {
     "data": {
      "text/html": [
       "<div>\n",
       "<style>\n",
       "    .dataframe thead tr:only-child th {\n",
       "        text-align: right;\n",
       "    }\n",
       "\n",
       "    .dataframe thead th {\n",
       "        text-align: left;\n",
       "    }\n",
       "\n",
       "    .dataframe tbody tr th {\n",
       "        vertical-align: top;\n",
       "    }\n",
       "</style>\n",
       "<table border=\"1\" class=\"dataframe\">\n",
       "  <thead>\n",
       "    <tr style=\"text-align: right;\">\n",
       "      <th></th>\n",
       "      <th>oa_color_long</th>\n",
       "      <th>articles</th>\n",
       "      <th>scihub</th>\n",
       "      <th>oadoi</th>\n",
       "      <th>combined</th>\n",
       "      <th>scihub_coverage</th>\n",
       "      <th>oadoi_coverage</th>\n",
       "      <th>combined_coverage</th>\n",
       "    </tr>\n",
       "  </thead>\n",
       "  <tbody>\n",
       "    <tr>\n",
       "      <th>0</th>\n",
       "      <td>bronze</td>\n",
       "      <td>16195</td>\n",
       "      <td>10895</td>\n",
       "      <td>16195</td>\n",
       "      <td>16195</td>\n",
       "      <td>0.672738</td>\n",
       "      <td>1.000000</td>\n",
       "      <td>1.000000</td>\n",
       "    </tr>\n",
       "    <tr>\n",
       "      <th>1</th>\n",
       "      <td>closed</td>\n",
       "      <td>72183</td>\n",
       "      <td>61296</td>\n",
       "      <td>0</td>\n",
       "      <td>61296</td>\n",
       "      <td>0.849175</td>\n",
       "      <td>0.000000</td>\n",
       "      <td>0.849175</td>\n",
       "    </tr>\n",
       "    <tr>\n",
       "      <th>2</th>\n",
       "      <td>gold</td>\n",
       "      <td>3212</td>\n",
       "      <td>1224</td>\n",
       "      <td>3212</td>\n",
       "      <td>3212</td>\n",
       "      <td>0.381071</td>\n",
       "      <td>1.000000</td>\n",
       "      <td>1.000000</td>\n",
       "    </tr>\n",
       "    <tr>\n",
       "      <th>3</th>\n",
       "      <td>green</td>\n",
       "      <td>4814</td>\n",
       "      <td>3866</td>\n",
       "      <td>4814</td>\n",
       "      <td>4814</td>\n",
       "      <td>0.803074</td>\n",
       "      <td>1.000000</td>\n",
       "      <td>1.000000</td>\n",
       "    </tr>\n",
       "    <tr>\n",
       "      <th>4</th>\n",
       "      <td>hybrid</td>\n",
       "      <td>3548</td>\n",
       "      <td>2003</td>\n",
       "      <td>3548</td>\n",
       "      <td>3548</td>\n",
       "      <td>0.564543</td>\n",
       "      <td>1.000000</td>\n",
       "      <td>1.000000</td>\n",
       "    </tr>\n",
       "    <tr>\n",
       "      <th>5</th>\n",
       "      <td>total</td>\n",
       "      <td>99952</td>\n",
       "      <td>79284</td>\n",
       "      <td>27769</td>\n",
       "      <td>89065</td>\n",
       "      <td>0.793221</td>\n",
       "      <td>0.277823</td>\n",
       "      <td>0.891078</td>\n",
       "    </tr>\n",
       "  </tbody>\n",
       "</table>\n",
       "</div>"
      ],
      "text/plain": [
       "  oa_color_long  articles  scihub  oadoi  combined  scihub_coverage  \\\n",
       "0        bronze     16195   10895  16195     16195         0.672738   \n",
       "1        closed     72183   61296      0     61296         0.849175   \n",
       "2          gold      3212    1224   3212      3212         0.381071   \n",
       "3         green      4814    3866   4814      4814         0.803074   \n",
       "4        hybrid      3548    2003   3548      3548         0.564543   \n",
       "5         total     99952   79284  27769     89065         0.793221   \n",
       "\n",
       "   oadoi_coverage  combined_coverage  \n",
       "0        1.000000           1.000000  \n",
       "1        0.000000           0.849175  \n",
       "2        1.000000           1.000000  \n",
       "3        1.000000           1.000000  \n",
       "4        1.000000           1.000000  \n",
       "5        0.277823           0.891078  "
      ]
     },
     "execution_count": 16,
     "metadata": {},
     "output_type": "execute_result"
    }
   ],
   "source": [
    "crossref_coverage_df = compute_coverage(crossref_subset_df)\n",
    "crossref_coverage_df"
   ]
  },
  {
   "cell_type": "markdown",
   "metadata": {},
   "source": [
    "## Concatenated"
   ]
  },
  {
   "cell_type": "code",
   "execution_count": 17,
   "metadata": {},
   "outputs": [
    {
     "data": {
      "text/html": [
       "<div>\n",
       "<style>\n",
       "    .dataframe thead tr:only-child th {\n",
       "        text-align: right;\n",
       "    }\n",
       "\n",
       "    .dataframe thead th {\n",
       "        text-align: left;\n",
       "    }\n",
       "\n",
       "    .dataframe tbody tr th {\n",
       "        vertical-align: top;\n",
       "    }\n",
       "</style>\n",
       "<table border=\"1\" class=\"dataframe\">\n",
       "  <thead>\n",
       "    <tr style=\"text-align: right;\">\n",
       "      <th></th>\n",
       "      <th>catalog</th>\n",
       "      <th>oa_color</th>\n",
       "      <th>articles</th>\n",
       "      <th>repository</th>\n",
       "      <th>coverage</th>\n",
       "    </tr>\n",
       "  </thead>\n",
       "  <tbody>\n",
       "    <tr>\n",
       "      <th>0</th>\n",
       "      <td>Unpaywall</td>\n",
       "      <td>bronze</td>\n",
       "      <td>14412</td>\n",
       "      <td>Sci-Hub</td>\n",
       "      <td>0.852484</td>\n",
       "    </tr>\n",
       "    <tr>\n",
       "      <th>1</th>\n",
       "      <td>Unpaywall</td>\n",
       "      <td>closed</td>\n",
       "      <td>44721</td>\n",
       "      <td>Sci-Hub</td>\n",
       "      <td>0.885736</td>\n",
       "    </tr>\n",
       "  </tbody>\n",
       "</table>\n",
       "</div>"
      ],
      "text/plain": [
       "     catalog oa_color  articles repository  coverage\n",
       "0  Unpaywall   bronze     14412    Sci-Hub  0.852484\n",
       "1  Unpaywall   closed     44721    Sci-Hub  0.885736"
      ]
     },
     "execution_count": 17,
     "metadata": {},
     "output_type": "execute_result"
    }
   ],
   "source": [
    "coverage_df = pandas.concat([\n",
    "    unpaywall_coverage_df.assign(catalog='Unpaywall'),\n",
    "    wos_coverage_df.assign(catalog='Web of Science'),\n",
    "    crossref_coverage_df.assign(catalog='Crossref'),\n",
    "]).rename(columns={'oa_color_long': 'oa_color'})\n",
    "\n",
    "coverage_df = pandas.melt(coverage_df,\n",
    "    id_vars = ['catalog', 'oa_color', 'articles'],\n",
    "    value_vars=['scihub_coverage', 'oadoi_coverage', 'combined_coverage'],\n",
    "    var_name='repository', value_name='coverage')\n",
    "\n",
    "coverage_df.repository = coverage_df.repository.replace({\n",
    "    'scihub_coverage': 'Sci-Hub',\n",
    "    'oadoi_coverage': 'oaDOI',\n",
    "    'combined_coverage': 'Combined',\n",
    "})\n",
    "\n",
    "\n",
    "path = pathlib.Path('data/state-of-oa-coverage.tsv')\n",
    "coverage_df.to_csv(path.__fspath__(), sep='\\t', index=False, float_format='%.5g')\n",
    "\n",
    "coverage_df.head(2)"
   ]
  },
  {
   "cell_type": "markdown",
   "metadata": {},
   "source": [
    "### All State of OA DOIs"
   ]
  },
  {
   "cell_type": "code",
   "execution_count": 18,
   "metadata": {
    "scrolled": true
   },
   "outputs": [
    {
     "data": {
      "text/html": [
       "<div>\n",
       "<style>\n",
       "    .dataframe thead tr:only-child th {\n",
       "        text-align: right;\n",
       "    }\n",
       "\n",
       "    .dataframe thead th {\n",
       "        text-align: left;\n",
       "    }\n",
       "\n",
       "    .dataframe tbody tr th {\n",
       "        vertical-align: top;\n",
       "    }\n",
       "</style>\n",
       "<table border=\"1\" class=\"dataframe\">\n",
       "  <thead>\n",
       "    <tr style=\"text-align: right;\">\n",
       "      <th></th>\n",
       "      <th>doi</th>\n",
       "      <th>oadoi_color</th>\n",
       "    </tr>\n",
       "  </thead>\n",
       "  <tbody>\n",
       "    <tr>\n",
       "      <th>0</th>\n",
       "      <td>10.1001/2012.jama.10139</td>\n",
       "      <td>bronze</td>\n",
       "    </tr>\n",
       "    <tr>\n",
       "      <th>1</th>\n",
       "      <td>10.1001/2012.jama.10159</td>\n",
       "      <td>bronze</td>\n",
       "    </tr>\n",
       "  </tbody>\n",
       "</table>\n",
       "</div>"
      ],
      "text/plain": [
       "                       doi oadoi_color\n",
       "0  10.1001/2012.jama.10139      bronze\n",
       "1  10.1001/2012.jama.10159      bronze"
      ]
     },
     "execution_count": 18,
     "metadata": {},
     "output_type": "execute_result"
    }
   ],
   "source": [
    "all_dois_df = (\n",
    "    pandas.concat([unpaywall_subset_df, wos_subset_df, crossref_subset_df])\n",
    "    .rename(columns={'oa_color_long': 'oadoi_color'})\n",
    "    [['doi', 'oadoi_color']]\n",
    "    .sort_values(['doi', 'oadoi_color'])\n",
    "    .drop_duplicates('doi')\n",
    ")\n",
    "\n",
    "all_dois_df.head(2)"
   ]
  },
  {
   "cell_type": "code",
   "execution_count": 19,
   "metadata": {},
   "outputs": [
    {
     "name": "stdout",
     "output_type": "stream",
     "text": [
      "290,120 total State of OA DOIs\n"
     ]
    },
    {
     "data": {
      "text/plain": [
       "closed    0.630098\n",
       "bronze    0.151268\n",
       "green     0.089553\n",
       "gold      0.078540\n",
       "hybrid    0.050541\n",
       "Name: oadoi_color, dtype: float64"
      ]
     },
     "execution_count": 19,
     "metadata": {},
     "output_type": "execute_result"
    }
   ],
   "source": [
    "print(f'{len(all_dois_df):,} total State of OA DOIs')\n",
    "all_dois_df.oadoi_color.value_counts(normalize=True)"
   ]
  },
  {
   "cell_type": "code",
   "execution_count": 20,
   "metadata": {
    "collapsed": true
   },
   "outputs": [],
   "source": [
    "path = pathlib.Path('data/state-of-oa-dois.tsv.xz')\n",
    "all_dois_df.to_csv(path.__fspath__(), sep='\\t', index=False, compression='xz', float_format='%.5g')"
   ]
  },
  {
   "cell_type": "markdown",
   "metadata": {},
   "source": [
    "## Visualize data using plotnine"
   ]
  },
  {
   "cell_type": "code",
   "execution_count": 21,
   "metadata": {},
   "outputs": [
    {
     "name": "stderr",
     "output_type": "stream",
     "text": [
      "/home/dhimmel/anaconda3/envs/scihub/lib/python3.6/site-packages/statsmodels/compat/pandas.py:56: FutureWarning: The pandas.core.datetools module is deprecated and will be removed in a future version. Please use the pandas.tseries module instead.\n",
      "  from pandas.core import datetools\n"
     ]
    }
   ],
   "source": [
    "import plotnine as plot"
   ]
  },
  {
   "cell_type": "code",
   "execution_count": 22,
   "metadata": {},
   "outputs": [
    {
     "data": {
      "image/png": "[encoded data removed]",
      "text/plain": [
       "<matplotlib.figure.Figure at 0x7f3481b2f8d0>"
      ]
     },
     "metadata": {},
     "output_type": "display_data"
    },
    {
     "data": {
      "text/plain": [
       "<ggplot: (8741468197482)>"
      ]
     },
     "execution_count": 22,
     "metadata": {},
     "output_type": "execute_result"
    }
   ],
   "source": [
    "gg = (plot.ggplot(coverage_df.query(\"oa_color != 'gray'\"), plot.aes(x = 'oa_color', y = 'coverage', fill='catalog')) +\n",
    "    plot.geom_bar(stat='identity', position='dodge') +\n",
    "    plot.facet_grid('. ~ repository') +\n",
    "    plot.coord_flip() +\n",
    "    plot.theme_bw()\n",
    ")\n",
    "gg"
   ]
  },
  {
   "cell_type": "code",
   "execution_count": 23,
   "metadata": {},
   "outputs": [
    {
     "data": {
      "image/png": "[encoded data removed]",
      "text/plain": [
       "<matplotlib.figure.Figure at 0x7f347e5b0828>"
      ]
     },
     "metadata": {},
     "output_type": "display_data"
    },
    {
     "data": {
      "text/plain": [
       "<ggplot: (8741464743793)>"
      ]
     },
     "execution_count": 23,
     "metadata": {},
     "output_type": "execute_result"
    }
   ],
   "source": [
    "# OA Colors from https://github.com/Impactstory/oadoi-paper1/blob/5edd7e837883c1ccb81d8b86ad4b1a44101064a1/oa_analysis.Rmd\n",
    "oa_colors = {\n",
    "    \"closed\": \"#bbbbbb\",\n",
    "    \"bronze\": \"#cd7f32\",\n",
    "    \"green\": \"#4CAF50\",\n",
    "    \"hybrid\": \"#ffa500\",\n",
    "    \"gold\": \"#ffe135\",\n",
    "}\n",
    "\n",
    "plot_df = coverage_df.query(\"oa_color in @oa_colors and repository == 'Sci-Hub'\")\n",
    "\n",
    "gg = (plot.ggplot(plot_df, plot.aes(x = 'catalog', y = 'coverage', fill='oa_color')) +\n",
    "    plot.geom_bar(stat='identity', position='dodge') +\n",
    "    plot.coord_flip() +\n",
    "    plot.theme_bw() +\n",
    "    plot.scale_fill_manual(values = list(oa_colors.values()), limits = list(oa_colors))\n",
    ")\n",
    "gg"
   ]
  }
 ],
 "metadata": {
  "anaconda-cloud": {},
  "kernelspec": {
   "display_name": "Python [conda env:scihub]",
   "language": "python",
   "name": "conda-env-scihub-py"
  },
  "language_info": {
   "codemirror_mode": {
    "name": "ipython",
    "version": 3
   },
   "file_extension": ".py",
   "mimetype": "text/x-python",
   "name": "python",
   "nbconvert_exporter": "python",
   "pygments_lexer": "ipython3",
   "version": "3.6.0"
  }
 },
 "nbformat": 4,
 "nbformat_minor": 2
}
