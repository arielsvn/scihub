{
 "cells": [
  {
   "cell_type": "markdown",
   "metadata": {},
   "source": [
    "# Create a catalog of DOIs"
   ]
  },
  {
   "cell_type": "code",
   "execution_count": 1,
   "metadata": {
    "collapsed": true
   },
   "outputs": [],
   "source": [
    "import csv\n",
    "import collections\n",
    "import json\n",
    "import io\n",
    "import itertools\n",
    "import lzma\n",
    "import os\n",
    "\n",
    "import pandas\n",
    "import requests"
   ]
  },
  {
   "cell_type": "code",
   "execution_count": 2,
   "metadata": {},
   "outputs": [
    {
     "data": {
      "text/plain": [
       "{'crossref_url': 'https://github.com/greenelab/crossref/raw/59b7db69534d82452883092852382f6374247fa2/',\n",
       " 'scopus_url': 'https://github.com/dhimmel/journalmetrics/raw/39c0732afb57d10219b7c0d9f680f6792f5aa672/'}"
      ]
     },
     "execution_count": 2,
     "metadata": {},
     "output_type": "execute_result"
    }
   ],
   "source": [
    "with open('0.configuration.json') as read_file:\n",
    "    config = json.load(read_file)\n",
    "\n",
    "config"
   ]
  },
  {
   "cell_type": "markdown",
   "metadata": {},
   "source": [
    "## Create DOI Catalog"
   ]
  },
  {
   "cell_type": "code",
   "execution_count": 3,
   "metadata": {},
   "outputs": [
    {
     "data": {
      "text/plain": [
       "{'book-chapter',\n",
       " 'book-part',\n",
       " 'book-section',\n",
       " 'journal-article',\n",
       " 'proceedings-article',\n",
       " 'reference-entry',\n",
       " 'report',\n",
       " 'standard'}"
      ]
     },
     "execution_count": 3,
     "metadata": {},
     "output_type": "execute_result"
    }
   ],
   "source": [
    "# Read Crossref work types to include\n",
    "path = os.path.join('data', 'crossref-types.tsv')\n",
    "type_df = pandas.read_table(path)\n",
    "type_df = type_df.query(\"include == 1\")\n",
    "keep_types = set(type_df.type_id)\n",
    "keep_types"
   ]
  },
  {
   "cell_type": "code",
   "execution_count": 4,
   "metadata": {},
   "outputs": [
    {
     "data": {
      "text/plain": [
       "81609016"
      ]
     },
     "execution_count": 4,
     "metadata": {},
     "output_type": "execute_result"
    }
   ],
   "source": [
    "# Read Crossref DOI catalog\n",
    "url = config['crossref_url'] + 'data/doi.tsv.xz'\n",
    "doi_df = (\n",
    "    pandas.read_table(url, dtype={'issued': str})\n",
    "    .query(\"type in @keep_types\")\n",
    ")\n",
    "len(doi_df)"
   ]
  },
  {
   "cell_type": "code",
   "execution_count": 5,
   "metadata": {
    "collapsed": true
   },
   "outputs": [],
   "source": [
    "# Convert issued column to datetimes\n",
    "# 2008-12-01 gets converted to 2008-12-01\n",
    "# 1981 gets converted to 1981-01-01\n",
    "# 1991-07 gets converted to 1991-07-01\n",
    "# nan gets converted to NaT\n",
    "# ValueErrors (e.g. if day is out of range for month) return NaT\n",
    "doi_df.issued = pandas.to_datetime(doi_df.issued, errors='coerce')"
   ]
  },
  {
   "cell_type": "code",
   "execution_count": 6,
   "metadata": {},
   "outputs": [
    {
     "data": {
      "text/html": [
       "<div>\n",
       "<style>\n",
       "    .dataframe thead tr:only-child th {\n",
       "        text-align: right;\n",
       "    }\n",
       "\n",
       "    .dataframe thead th {\n",
       "        text-align: left;\n",
       "    }\n",
       "\n",
       "    .dataframe tbody tr th {\n",
       "        vertical-align: top;\n",
       "    }\n",
       "</style>\n",
       "<table border=\"1\" class=\"dataframe\">\n",
       "  <thead>\n",
       "    <tr style=\"text-align: right;\">\n",
       "      <th></th>\n",
       "      <th>doi</th>\n",
       "      <th>type</th>\n",
       "      <th>issued</th>\n",
       "    </tr>\n",
       "  </thead>\n",
       "  <tbody>\n",
       "    <tr>\n",
       "      <th>0</th>\n",
       "      <td>10.1001/.387</td>\n",
       "      <td>journal-article</td>\n",
       "      <td>2006-02-27</td>\n",
       "    </tr>\n",
       "    <tr>\n",
       "      <th>1</th>\n",
       "      <td>10.1001/.389</td>\n",
       "      <td>journal-article</td>\n",
       "      <td>2006-02-27</td>\n",
       "    </tr>\n",
       "    <tr>\n",
       "      <th>2</th>\n",
       "      <td>10.1001/.391</td>\n",
       "      <td>journal-article</td>\n",
       "      <td>2006-02-27</td>\n",
       "    </tr>\n",
       "  </tbody>\n",
       "</table>\n",
       "</div>"
      ],
      "text/plain": [
       "            doi             type     issued\n",
       "0  10.1001/.387  journal-article 2006-02-27\n",
       "1  10.1001/.389  journal-article 2006-02-27\n",
       "2  10.1001/.391  journal-article 2006-02-27"
      ]
     },
     "execution_count": 6,
     "metadata": {},
     "output_type": "execute_result"
    }
   ],
   "source": [
    "doi_df.head(3)"
   ]
  },
  {
   "cell_type": "markdown",
   "metadata": {},
   "source": [
    "## Create Scopus title to DOI mapping"
   ]
  },
  {
   "cell_type": "code",
   "execution_count": 7,
   "metadata": {},
   "outputs": [
    {
     "data": {
      "text/html": [
       "<div>\n",
       "<style>\n",
       "    .dataframe thead tr:only-child th {\n",
       "        text-align: right;\n",
       "    }\n",
       "\n",
       "    .dataframe thead th {\n",
       "        text-align: left;\n",
       "    }\n",
       "\n",
       "    .dataframe tbody tr th {\n",
       "        vertical-align: top;\n",
       "    }\n",
       "</style>\n",
       "<table border=\"1\" class=\"dataframe\">\n",
       "  <thead>\n",
       "    <tr style=\"text-align: right;\">\n",
       "      <th></th>\n",
       "      <th>scopus_id</th>\n",
       "      <th>doi</th>\n",
       "    </tr>\n",
       "  </thead>\n",
       "  <tbody>\n",
       "    <tr>\n",
       "      <th>0</th>\n",
       "      <td>12001</td>\n",
       "      <td>10.1002/jeab.1</td>\n",
       "    </tr>\n",
       "    <tr>\n",
       "      <th>1</th>\n",
       "      <td>12001</td>\n",
       "      <td>10.1002/jeab.10</td>\n",
       "    </tr>\n",
       "  </tbody>\n",
       "</table>\n",
       "</div>"
      ],
      "text/plain": [
       "   scopus_id              doi\n",
       "0      12001   10.1002/jeab.1\n",
       "1      12001  10.1002/jeab.10"
      ]
     },
     "execution_count": 7,
     "metadata": {},
     "output_type": "execute_result"
    }
   ],
   "source": [
    "# Crossref \n",
    "crossref_dois = set(doi_df.doi)\n",
    "\n",
    "# Read ISSN to DOI mapping\n",
    "url = config['crossref_url'] + '/data/doi-to-issn.tsv.xz'\n",
    "issn_to_doi_df = (\n",
    "    pandas.read_table(url, dtype={'issued': str})\n",
    "    # Filter DOIs for included types\n",
    "    .query(\"doi in @doi_df.doi\")\n",
    ")\n",
    "\n",
    "# Read ISSN to Scopus mapping\n",
    "url = config['scopus_url'] + 'data/issn.tsv'\n",
    "issn_to_scopus_df = pandas.read_table(url)\n",
    "\n",
    "# Create a DOI to ISSN mapping\n",
    "scopus_to_doi_df = (\n",
    "    issn_to_scopus_df\n",
    "    .merge(issn_to_doi_df)\n",
    "    [['scopus_id', 'doi']]\n",
    "    .drop_duplicates()\n",
    ")\n",
    "\n",
    "# Remove large files from memory\n",
    "del issn_to_doi_df\n",
    "del issn_to_scopus_df\n",
    "\n",
    "scopus_to_doi_df.head(2)"
   ]
  },
  {
   "cell_type": "code",
   "execution_count": 8,
   "metadata": {
    "collapsed": true
   },
   "outputs": [],
   "source": [
    "path = os.path.join('data', 'scopus-title-to-doi-map.tsv.xz')\n",
    "scopus_to_doi_df.to_csv(path, sep='\\t', index=False, compression='xz')"
   ]
  },
  {
   "cell_type": "markdown",
   "metadata": {},
   "source": [
    "## Add binary columns for whether a DOI is in a given corpus"
   ]
  },
  {
   "cell_type": "code",
   "execution_count": 9,
   "metadata": {
    "collapsed": true
   },
   "outputs": [],
   "source": [
    "# DOIs which map to a Scopus title\n",
    "doi_df['in_scopus'] = doi_df.doi.isin(scopus_to_doi_df.doi).astype(int)\n",
    "del scopus_to_doi_df"
   ]
  },
  {
   "cell_type": "code",
   "execution_count": 10,
   "metadata": {
    "collapsed": true
   },
   "outputs": [],
   "source": [
    "# Read Sci-Hub DOIs from Tweet\n",
    "path = os.path.join('download', 'scihub-dois', 'scihub-dois.tsv.xz')\n",
    "with lzma.open(path, 'rt') as read_file:\n",
    "    next(read_file)  # Skip header\n",
    "    scihub_dois = {line.strip() for line in read_file}\n",
    "doi_df['in_scihub_dois'] = doi_df.doi.isin(scihub_dois).astype(int)\n",
    "del scihub_dois"
   ]
  },
  {
   "cell_type": "code",
   "execution_count": 11,
   "metadata": {
    "collapsed": true
   },
   "outputs": [],
   "source": [
    "# Read DOIs from Sci-Hub logs from 2015-09 to 2016-02\n",
    "path = os.path.join('download', 'scihub-logs', 'scihub-logs-summary_2015-09_2016-02.tsv.xz')\n",
    "with lzma.open(path, 'rt') as read_file:\n",
    "    reader = csv.DictReader(read_file, delimiter='\\t')\n",
    "    scihub_logs = {row['doi'] for row in reader}\n",
    "doi_df['in_scihub_logs'] = doi_df.doi.isin(scihub_logs).astype(int)\n",
    "del scihub_logs"
   ]
  },
  {
   "cell_type": "code",
   "execution_count": 12,
   "metadata": {
    "collapsed": true
   },
   "outputs": [],
   "source": [
    "# Read DOIs from LibGen scimag\n",
    "path = os.path.join('download', 'libgen', 'tsv', 'libgen-scimag-date-added-2017-04-07.tsv.xz')\n",
    "with lzma.open(path, 'rt') as read_file:\n",
    "    reader = csv.DictReader(read_file, delimiter='\\t')\n",
    "    libgen = {row['doi'] for row in reader}\n",
    "doi_df['in_libgen'] = doi_df.doi.isin(libgen).astype(int)\n",
    "del libgen"
   ]
  },
  {
   "cell_type": "code",
   "execution_count": 13,
   "metadata": {},
   "outputs": [
    {
     "data": {
      "text/html": [
       "<div>\n",
       "<style>\n",
       "    .dataframe thead tr:only-child th {\n",
       "        text-align: right;\n",
       "    }\n",
       "\n",
       "    .dataframe thead th {\n",
       "        text-align: left;\n",
       "    }\n",
       "\n",
       "    .dataframe tbody tr th {\n",
       "        vertical-align: top;\n",
       "    }\n",
       "</style>\n",
       "<table border=\"1\" class=\"dataframe\">\n",
       "  <thead>\n",
       "    <tr style=\"text-align: right;\">\n",
       "      <th></th>\n",
       "      <th>doi</th>\n",
       "      <th>type</th>\n",
       "      <th>issued</th>\n",
       "      <th>in_scopus</th>\n",
       "      <th>in_scihub_dois</th>\n",
       "      <th>in_scihub_logs</th>\n",
       "      <th>in_libgen</th>\n",
       "    </tr>\n",
       "  </thead>\n",
       "  <tbody>\n",
       "    <tr>\n",
       "      <th>0</th>\n",
       "      <td>10.1001/.387</td>\n",
       "      <td>journal-article</td>\n",
       "      <td>2006-02-27</td>\n",
       "      <td>1</td>\n",
       "      <td>0</td>\n",
       "      <td>0</td>\n",
       "      <td>0</td>\n",
       "    </tr>\n",
       "    <tr>\n",
       "      <th>1</th>\n",
       "      <td>10.1001/.389</td>\n",
       "      <td>journal-article</td>\n",
       "      <td>2006-02-27</td>\n",
       "      <td>1</td>\n",
       "      <td>0</td>\n",
       "      <td>0</td>\n",
       "      <td>0</td>\n",
       "    </tr>\n",
       "    <tr>\n",
       "      <th>2</th>\n",
       "      <td>10.1001/.391</td>\n",
       "      <td>journal-article</td>\n",
       "      <td>2006-02-27</td>\n",
       "      <td>1</td>\n",
       "      <td>0</td>\n",
       "      <td>0</td>\n",
       "      <td>0</td>\n",
       "    </tr>\n",
       "  </tbody>\n",
       "</table>\n",
       "</div>"
      ],
      "text/plain": [
       "            doi             type     issued  in_scopus  in_scihub_dois  \\\n",
       "0  10.1001/.387  journal-article 2006-02-27          1               0   \n",
       "1  10.1001/.389  journal-article 2006-02-27          1               0   \n",
       "2  10.1001/.391  journal-article 2006-02-27          1               0   \n",
       "\n",
       "   in_scihub_logs  in_libgen  \n",
       "0               0          0  \n",
       "1               0          0  \n",
       "2               0          0  "
      ]
     },
     "execution_count": 13,
     "metadata": {},
     "output_type": "execute_result"
    }
   ],
   "source": [
    "doi_df.head(3)"
   ]
  },
  {
   "cell_type": "code",
   "execution_count": 14,
   "metadata": {
    "collapsed": true
   },
   "outputs": [],
   "source": [
    "path = os.path.join('data', 'doi.tsv.xz')\n",
    "(doi_df\n",
    "    .assign(issued=doi_df.issued.values.astype('datetime64[D]').astype(str))\n",
    "    .to_csv(path, sep='\\t', index=False, compression='xz')\n",
    ")"
   ]
  },
  {
   "cell_type": "code",
   "execution_count": 15,
   "metadata": {},
   "outputs": [
    {
     "data": {
      "text/plain": [
       "doi               0.000000\n",
       "type              0.000000\n",
       "issued            0.053992\n",
       "in_scopus         0.000000\n",
       "in_scihub_dois    0.000000\n",
       "in_scihub_logs    0.000000\n",
       "in_libgen         0.000000\n",
       "dtype: float64"
      ]
     },
     "execution_count": 15,
     "metadata": {},
     "output_type": "execute_result"
    }
   ],
   "source": [
    "# Percent of each column that is missing\n",
    "doi_df.isnull().mean(axis='rows')"
   ]
  },
  {
   "cell_type": "markdown",
   "metadata": {},
   "source": [
    "### Compute coverage of each DOI corpus"
   ]
  },
  {
   "cell_type": "code",
   "execution_count": 16,
   "metadata": {
    "collapsed": true
   },
   "outputs": [],
   "source": [
    "corpus_columns = [x for x in doi_df.columns if x.startswith('in_')]"
   ]
  },
  {
   "cell_type": "code",
   "execution_count": 17,
   "metadata": {},
   "outputs": [
    {
     "data": {
      "text/plain": [
       "in_scopus         56442085\n",
       "in_scihub_dois    56246220\n",
       "in_scihub_logs    10293836\n",
       "in_libgen         56205763\n",
       "dtype: int64"
      ]
     },
     "execution_count": 17,
     "metadata": {},
     "output_type": "execute_result"
    }
   ],
   "source": [
    "# Number of Crossref DOIs in corpus\n",
    "doi_df[corpus_columns].sum(axis='rows')"
   ]
  },
  {
   "cell_type": "code",
   "execution_count": 18,
   "metadata": {},
   "outputs": [
    {
     "data": {
      "text/plain": [
       "in_scopus         0.691616\n",
       "in_scihub_dois    0.689216\n",
       "in_scihub_logs    0.126136\n",
       "in_libgen         0.688720\n",
       "dtype: float64"
      ]
     },
     "execution_count": 18,
     "metadata": {},
     "output_type": "execute_result"
    }
   ],
   "source": [
    "# Percent of Crossref DOIs covered by corpus\n",
    "doi_df[corpus_columns].mean(axis='rows')"
   ]
  },
  {
   "cell_type": "markdown",
   "metadata": {},
   "source": [
    "### Compute pairwise overlap of DOI corpuses"
   ]
  },
  {
   "cell_type": "code",
   "execution_count": 19,
   "metadata": {},
   "outputs": [
    {
     "data": {
      "text/html": [
       "<div>\n",
       "<style>\n",
       "    .dataframe thead tr:only-child th {\n",
       "        text-align: right;\n",
       "    }\n",
       "\n",
       "    .dataframe thead th {\n",
       "        text-align: left;\n",
       "    }\n",
       "\n",
       "    .dataframe tbody tr th {\n",
       "        vertical-align: top;\n",
       "    }\n",
       "</style>\n",
       "<table border=\"1\" class=\"dataframe\">\n",
       "  <thead>\n",
       "    <tr style=\"text-align: right;\">\n",
       "      <th></th>\n",
       "      <th>corpus_a</th>\n",
       "      <th>corpus_b</th>\n",
       "      <th>a_size</th>\n",
       "      <th>b_size</th>\n",
       "      <th>a_and_b</th>\n",
       "      <th>a_or_b</th>\n",
       "      <th>a_not_b</th>\n",
       "      <th>b_not_a</th>\n",
       "      <th>proportion_a_in_b</th>\n",
       "      <th>proportion_b_in_a</th>\n",
       "    </tr>\n",
       "  </thead>\n",
       "  <tbody>\n",
       "    <tr>\n",
       "      <th>0</th>\n",
       "      <td>in_scopus</td>\n",
       "      <td>in_scihub_dois</td>\n",
       "      <td>56442085</td>\n",
       "      <td>56246220</td>\n",
       "      <td>46985888</td>\n",
       "      <td>65702417</td>\n",
       "      <td>9456197</td>\n",
       "      <td>9260332</td>\n",
       "      <td>0.832462</td>\n",
       "      <td>0.835361</td>\n",
       "    </tr>\n",
       "    <tr>\n",
       "      <th>1</th>\n",
       "      <td>in_scopus</td>\n",
       "      <td>in_scihub_logs</td>\n",
       "      <td>56442085</td>\n",
       "      <td>10293836</td>\n",
       "      <td>8873260</td>\n",
       "      <td>57862661</td>\n",
       "      <td>47568825</td>\n",
       "      <td>1420576</td>\n",
       "      <td>0.157210</td>\n",
       "      <td>0.861997</td>\n",
       "    </tr>\n",
       "    <tr>\n",
       "      <th>2</th>\n",
       "      <td>in_scopus</td>\n",
       "      <td>in_libgen</td>\n",
       "      <td>56442085</td>\n",
       "      <td>56205763</td>\n",
       "      <td>47070407</td>\n",
       "      <td>65577441</td>\n",
       "      <td>9371678</td>\n",
       "      <td>9135356</td>\n",
       "      <td>0.833959</td>\n",
       "      <td>0.837466</td>\n",
       "    </tr>\n",
       "    <tr>\n",
       "      <th>3</th>\n",
       "      <td>in_scihub_dois</td>\n",
       "      <td>in_scihub_logs</td>\n",
       "      <td>56246220</td>\n",
       "      <td>10293836</td>\n",
       "      <td>10145017</td>\n",
       "      <td>56395039</td>\n",
       "      <td>46101203</td>\n",
       "      <td>148819</td>\n",
       "      <td>0.180368</td>\n",
       "      <td>0.985543</td>\n",
       "    </tr>\n",
       "    <tr>\n",
       "      <th>4</th>\n",
       "      <td>in_scihub_dois</td>\n",
       "      <td>in_libgen</td>\n",
       "      <td>56246220</td>\n",
       "      <td>56205763</td>\n",
       "      <td>55954205</td>\n",
       "      <td>56497778</td>\n",
       "      <td>292015</td>\n",
       "      <td>251558</td>\n",
       "      <td>0.994808</td>\n",
       "      <td>0.995524</td>\n",
       "    </tr>\n",
       "    <tr>\n",
       "      <th>5</th>\n",
       "      <td>in_scihub_logs</td>\n",
       "      <td>in_libgen</td>\n",
       "      <td>10293836</td>\n",
       "      <td>56205763</td>\n",
       "      <td>10046445</td>\n",
       "      <td>56453154</td>\n",
       "      <td>247391</td>\n",
       "      <td>46159318</td>\n",
       "      <td>0.975967</td>\n",
       "      <td>0.178744</td>\n",
       "    </tr>\n",
       "  </tbody>\n",
       "</table>\n",
       "</div>"
      ],
      "text/plain": [
       "         corpus_a        corpus_b    a_size    b_size   a_and_b    a_or_b  \\\n",
       "0       in_scopus  in_scihub_dois  56442085  56246220  46985888  65702417   \n",
       "1       in_scopus  in_scihub_logs  56442085  10293836   8873260  57862661   \n",
       "2       in_scopus       in_libgen  56442085  56205763  47070407  65577441   \n",
       "3  in_scihub_dois  in_scihub_logs  56246220  10293836  10145017  56395039   \n",
       "4  in_scihub_dois       in_libgen  56246220  56205763  55954205  56497778   \n",
       "5  in_scihub_logs       in_libgen  10293836  56205763  10046445  56453154   \n",
       "\n",
       "    a_not_b   b_not_a  proportion_a_in_b  proportion_b_in_a  \n",
       "0   9456197   9260332           0.832462           0.835361  \n",
       "1  47568825   1420576           0.157210           0.861997  \n",
       "2   9371678   9135356           0.833959           0.837466  \n",
       "3  46101203    148819           0.180368           0.985543  \n",
       "4    292015    251558           0.994808           0.995524  \n",
       "5    247391  46159318           0.975967           0.178744  "
      ]
     },
     "execution_count": 19,
     "metadata": {},
     "output_type": "execute_result"
    }
   ],
   "source": [
    "rows = list()\n",
    "for corpus_a, corpus_b in itertools.combinations(corpus_columns, 2):\n",
    "    row = collections.OrderedDict()\n",
    "    row['corpus_a'] = corpus_a\n",
    "    row['corpus_b'] = corpus_b\n",
    "    series_a = doi_df[corpus_a]\n",
    "    series_b = doi_df[corpus_b]\n",
    "    row['a_size'] = sum(series_a)\n",
    "    row['b_size'] = sum(series_b)\n",
    "    row['a_and_b'] = sum(series_a & series_b)\n",
    "    row['a_or_b'] = sum(series_a | series_b)\n",
    "    row['a_not_b'] = sum((series_a == 1) & (series_b == 0))\n",
    "    row['b_not_a'] = sum((series_a == 0) & (series_b == 1))\n",
    "    row['proportion_a_in_b'] = row['a_and_b'] / row['a_size']\n",
    "    row['proportion_b_in_a'] = row['a_and_b'] / row['b_size']\n",
    "    rows.append(row)\n",
    "\n",
    "pair_df = pandas.DataFrame(rows)\n",
    "pair_df"
   ]
  }
 ],
 "metadata": {
  "kernelspec": {
   "display_name": "Python [conda env:scihub]",
   "language": "python",
   "name": "conda-env-scihub-py"
  },
  "language_info": {
   "codemirror_mode": {
    "name": "ipython",
    "version": 3
   },
   "file_extension": ".py",
   "mimetype": "text/x-python",
   "name": "python",
   "nbconvert_exporter": "python",
   "pygments_lexer": "ipython3",
   "version": "3.6.0"
  }
 },
 "nbformat": 4,
 "nbformat_minor": 2
}
